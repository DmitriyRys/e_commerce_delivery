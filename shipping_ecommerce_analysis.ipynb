{
 "cells": [
  {
   "cell_type": "markdown",
   "id": "d1d6a382",
   "metadata": {},
   "source": [
    "# Описание данных.\n",
    "Международная e-commerce компания занимается продажей электроники. \n",
    "\n",
    "Колонки:\n",
    "- Customer_care_calls - кол-во контактов клиента со службой поддержки;\n",
    "- Customer_rating - рейтинг удовлетворенности клиента покупкой;\n",
    "- Prior_purchases - кол-во предыдущих покупок на сайте;\n",
    "- Discount_offered - предложенная скидка, в %;\n",
    "- Weight_in_gms - вес покупки в граммах;\n",
    "- Warehouse_block - склад;\n",
    "- Mode_of_Shipment - способ доставки;\n",
    "- Product_importance - приоритет по доставке (скорость и условия);\n",
    "- Gender - пол клиента;\n",
    "- Class - доставлен ли заказ вовремя."
   ]
  },
  {
   "cell_type": "markdown",
   "id": "b9e08b36",
   "metadata": {},
   "source": [
    "# Цели исследования.\n",
    "- Посмотреть распределения и выбрать меры центральной тенденции для различных показателей, чтобы иметь представление о текущей ситуации;\n",
    "- Сравнить разные группы клиентов, заказов, типы доставки и т.п. между собой, чтобы детализировать общую картину;\n",
    "- Найти взаимосвязи различных показателей между собой, чтобы понять, как и на какие метрики можно влиять.\n",
    "\n",
    "Как итог, мы получим текущую картину и ряд гипотез, которые необходимо будет проверить (чем мы займемся в отдельном статистическом блоке (в отдельном файле репозитория)), чтобы сделать предложения по улучшению работы компании."
   ]
  },
  {
   "cell_type": "markdown",
   "id": "c1d8223a",
   "metadata": {},
   "source": [
    "# Знакомство с данными.\n",
    "Для начала посмотрим на данные, их типы, наличие пропусков, при необходимости скорректируем, приведем в более комфортный вид/формат. "
   ]
  },
  {
   "cell_type": "code",
   "execution_count": 1,
   "id": "c68bbfe2",
   "metadata": {},
   "outputs": [],
   "source": [
    "# импортируем необходимые для работы библиотеки\n",
    "\n",
    "import pandas as pd\n",
    "import numpy as np\n",
    "import seaborn as sns\n",
    "import matplotlib.pyplot as plt"
   ]
  },
  {
   "cell_type": "code",
   "execution_count": 2,
   "id": "0a700855",
   "metadata": {},
   "outputs": [],
   "source": [
    "# выггрузим данные из датасета в датафрейм\n",
    "\n",
    "df = pd.read_csv('shipping_ecommerce.csv')"
   ]
  },
  {
   "cell_type": "code",
   "execution_count": 3,
   "id": "0002a8b5",
   "metadata": {},
   "outputs": [
    {
     "data": {
      "text/html": [
       "<div>\n",
       "<style scoped>\n",
       "    .dataframe tbody tr th:only-of-type {\n",
       "        vertical-align: middle;\n",
       "    }\n",
       "\n",
       "    .dataframe tbody tr th {\n",
       "        vertical-align: top;\n",
       "    }\n",
       "\n",
       "    .dataframe thead th {\n",
       "        text-align: right;\n",
       "    }\n",
       "</style>\n",
       "<table border=\"1\" class=\"dataframe\">\n",
       "  <thead>\n",
       "    <tr style=\"text-align: right;\">\n",
       "      <th></th>\n",
       "      <th>Customer_care_calls</th>\n",
       "      <th>Customer_rating</th>\n",
       "      <th>Prior_purchases</th>\n",
       "      <th>Discount_offered</th>\n",
       "      <th>Weight_in_gms</th>\n",
       "      <th>Warehouse_block</th>\n",
       "      <th>Mode_of_Shipment</th>\n",
       "      <th>Product_importance</th>\n",
       "      <th>Gender</th>\n",
       "      <th>Class</th>\n",
       "    </tr>\n",
       "  </thead>\n",
       "  <tbody>\n",
       "    <tr>\n",
       "      <th>0</th>\n",
       "      <td>5</td>\n",
       "      <td>4</td>\n",
       "      <td>2</td>\n",
       "      <td>10</td>\n",
       "      <td>5395</td>\n",
       "      <td>A</td>\n",
       "      <td>Ship</td>\n",
       "      <td>medium</td>\n",
       "      <td>M</td>\n",
       "      <td>1</td>\n",
       "    </tr>\n",
       "    <tr>\n",
       "      <th>1</th>\n",
       "      <td>4</td>\n",
       "      <td>3</td>\n",
       "      <td>2</td>\n",
       "      <td>6</td>\n",
       "      <td>5867</td>\n",
       "      <td>F</td>\n",
       "      <td>Ship</td>\n",
       "      <td>medium</td>\n",
       "      <td>F</td>\n",
       "      <td>0</td>\n",
       "    </tr>\n",
       "    <tr>\n",
       "      <th>2</th>\n",
       "      <td>3</td>\n",
       "      <td>4</td>\n",
       "      <td>2</td>\n",
       "      <td>2</td>\n",
       "      <td>5957</td>\n",
       "      <td>D</td>\n",
       "      <td>Ship</td>\n",
       "      <td>medium</td>\n",
       "      <td>M</td>\n",
       "      <td>0</td>\n",
       "    </tr>\n",
       "    <tr>\n",
       "      <th>3</th>\n",
       "      <td>3</td>\n",
       "      <td>1</td>\n",
       "      <td>2</td>\n",
       "      <td>27</td>\n",
       "      <td>2551</td>\n",
       "      <td>D</td>\n",
       "      <td>Ship</td>\n",
       "      <td>medium</td>\n",
       "      <td>M</td>\n",
       "      <td>1</td>\n",
       "    </tr>\n",
       "    <tr>\n",
       "      <th>4</th>\n",
       "      <td>7</td>\n",
       "      <td>5</td>\n",
       "      <td>4</td>\n",
       "      <td>9</td>\n",
       "      <td>1329</td>\n",
       "      <td>B</td>\n",
       "      <td>Ship</td>\n",
       "      <td>medium</td>\n",
       "      <td>M</td>\n",
       "      <td>1</td>\n",
       "    </tr>\n",
       "  </tbody>\n",
       "</table>\n",
       "</div>"
      ],
      "text/plain": [
       "   Customer_care_calls  Customer_rating  Prior_purchases  Discount_offered  \\\n",
       "0                    5                4                2                10   \n",
       "1                    4                3                2                 6   \n",
       "2                    3                4                2                 2   \n",
       "3                    3                1                2                27   \n",
       "4                    7                5                4                 9   \n",
       "\n",
       "   Weight_in_gms Warehouse_block Mode_of_Shipment Product_importance Gender  \\\n",
       "0           5395               A             Ship             medium      M   \n",
       "1           5867               F             Ship             medium      F   \n",
       "2           5957               D             Ship             medium      M   \n",
       "3           2551               D             Ship             medium      M   \n",
       "4           1329               B             Ship             medium      M   \n",
       "\n",
       "   Class  \n",
       "0      1  \n",
       "1      0  \n",
       "2      0  \n",
       "3      1  \n",
       "4      1  "
      ]
     },
     "execution_count": 3,
     "metadata": {},
     "output_type": "execute_result"
    }
   ],
   "source": [
    "# посмотрим на датафрейм\n",
    "\n",
    "df.head()"
   ]
  },
  {
   "cell_type": "code",
   "execution_count": 4,
   "id": "cbdc0072",
   "metadata": {},
   "outputs": [],
   "source": [
    "# для более комфортной и быстрой работы приведем названия колонок к snake_case\n",
    "\n",
    "df.columns = df.columns.str.lower()"
   ]
  },
  {
   "cell_type": "code",
   "execution_count": 5,
   "id": "7477a651",
   "metadata": {},
   "outputs": [
    {
     "name": "stdout",
     "output_type": "stream",
     "text": [
      "<class 'pandas.core.frame.DataFrame'>\n",
      "RangeIndex: 10998 entries, 0 to 10997\n",
      "Data columns (total 10 columns):\n",
      " #   Column               Non-Null Count  Dtype \n",
      "---  ------               --------------  ----- \n",
      " 0   customer_care_calls  10998 non-null  int64 \n",
      " 1   customer_rating      10998 non-null  int64 \n",
      " 2   prior_purchases      10998 non-null  int64 \n",
      " 3   discount_offered     10998 non-null  int64 \n",
      " 4   weight_in_gms        10998 non-null  int64 \n",
      " 5   warehouse_block      10998 non-null  object\n",
      " 6   mode_of_shipment     10998 non-null  object\n",
      " 7   product_importance   10998 non-null  object\n",
      " 8   gender               10998 non-null  object\n",
      " 9   class                10998 non-null  int64 \n",
      "dtypes: int64(6), object(4)\n",
      "memory usage: 859.3+ KB\n"
     ]
    }
   ],
   "source": [
    "# посмотрим на типы, кол-во данных, наличие пропусков\n",
    "\n",
    "df.info()"
   ]
  },
  {
   "cell_type": "markdown",
   "id": "c855341d",
   "metadata": {},
   "source": [
    "Пропущенных значений в датасете нет."
   ]
  },
  {
   "cell_type": "code",
   "execution_count": 6,
   "id": "81111289",
   "metadata": {},
   "outputs": [
    {
     "data": {
      "text/html": [
       "<div>\n",
       "<style scoped>\n",
       "    .dataframe tbody tr th:only-of-type {\n",
       "        vertical-align: middle;\n",
       "    }\n",
       "\n",
       "    .dataframe tbody tr th {\n",
       "        vertical-align: top;\n",
       "    }\n",
       "\n",
       "    .dataframe thead th {\n",
       "        text-align: right;\n",
       "    }\n",
       "</style>\n",
       "<table border=\"1\" class=\"dataframe\">\n",
       "  <thead>\n",
       "    <tr style=\"text-align: right;\">\n",
       "      <th></th>\n",
       "      <th>warehouse_block</th>\n",
       "      <th>mode_of_shipment</th>\n",
       "      <th>product_importance</th>\n",
       "      <th>gender</th>\n",
       "    </tr>\n",
       "  </thead>\n",
       "  <tbody>\n",
       "    <tr>\n",
       "      <th>0</th>\n",
       "      <td>A</td>\n",
       "      <td>Ship</td>\n",
       "      <td>medium</td>\n",
       "      <td>M</td>\n",
       "    </tr>\n",
       "    <tr>\n",
       "      <th>1</th>\n",
       "      <td>F</td>\n",
       "      <td>Ship</td>\n",
       "      <td>medium</td>\n",
       "      <td>F</td>\n",
       "    </tr>\n",
       "    <tr>\n",
       "      <th>2</th>\n",
       "      <td>D</td>\n",
       "      <td>Ship</td>\n",
       "      <td>medium</td>\n",
       "      <td>M</td>\n",
       "    </tr>\n",
       "    <tr>\n",
       "      <th>3</th>\n",
       "      <td>D</td>\n",
       "      <td>Ship</td>\n",
       "      <td>medium</td>\n",
       "      <td>M</td>\n",
       "    </tr>\n",
       "    <tr>\n",
       "      <th>4</th>\n",
       "      <td>B</td>\n",
       "      <td>Ship</td>\n",
       "      <td>medium</td>\n",
       "      <td>M</td>\n",
       "    </tr>\n",
       "    <tr>\n",
       "      <th>...</th>\n",
       "      <td>...</td>\n",
       "      <td>...</td>\n",
       "      <td>...</td>\n",
       "      <td>...</td>\n",
       "    </tr>\n",
       "    <tr>\n",
       "      <th>10993</th>\n",
       "      <td>F</td>\n",
       "      <td>Road</td>\n",
       "      <td>medium</td>\n",
       "      <td>M</td>\n",
       "    </tr>\n",
       "    <tr>\n",
       "      <th>10994</th>\n",
       "      <td>D</td>\n",
       "      <td>Flight</td>\n",
       "      <td>low</td>\n",
       "      <td>M</td>\n",
       "    </tr>\n",
       "    <tr>\n",
       "      <th>10995</th>\n",
       "      <td>F</td>\n",
       "      <td>Ship</td>\n",
       "      <td>medium</td>\n",
       "      <td>M</td>\n",
       "    </tr>\n",
       "    <tr>\n",
       "      <th>10996</th>\n",
       "      <td>F</td>\n",
       "      <td>Flight</td>\n",
       "      <td>medium</td>\n",
       "      <td>M</td>\n",
       "    </tr>\n",
       "    <tr>\n",
       "      <th>10997</th>\n",
       "      <td>B</td>\n",
       "      <td>Ship</td>\n",
       "      <td>medium</td>\n",
       "      <td>M</td>\n",
       "    </tr>\n",
       "  </tbody>\n",
       "</table>\n",
       "<p>10998 rows × 4 columns</p>\n",
       "</div>"
      ],
      "text/plain": [
       "      warehouse_block mode_of_shipment product_importance gender\n",
       "0                   A             Ship             medium      M\n",
       "1                   F             Ship             medium      F\n",
       "2                   D             Ship             medium      M\n",
       "3                   D             Ship             medium      M\n",
       "4                   B             Ship             medium      M\n",
       "...               ...              ...                ...    ...\n",
       "10993               F             Road             medium      M\n",
       "10994               D           Flight                low      M\n",
       "10995               F             Ship             medium      M\n",
       "10996               F           Flight             medium      M\n",
       "10997               B             Ship             medium      M\n",
       "\n",
       "[10998 rows x 4 columns]"
      ]
     },
     "execution_count": 6,
     "metadata": {},
     "output_type": "execute_result"
    }
   ],
   "source": [
    "# посмотрим на колонки со строковыми значениями\n",
    "\n",
    "df[['warehouse_block', \n",
    "    'mode_of_shipment', \n",
    "    'product_importance', \n",
    "    'gender']]"
   ]
  },
  {
   "cell_type": "code",
   "execution_count": 7,
   "id": "11e60c3c",
   "metadata": {},
   "outputs": [],
   "source": [
    "# для удобства приведем значения этих колонок к нижнему регистру\n",
    "\n",
    "for i in df[['warehouse_block',\n",
    "             'mode_of_shipment',\n",
    "             'gender']]:\n",
    "    df[i] = df[i].str.lower()"
   ]
  },
  {
   "cell_type": "code",
   "execution_count": 8,
   "id": "23cc3d90",
   "metadata": {
    "scrolled": true
   },
   "outputs": [
    {
     "data": {
      "text/html": [
       "<div>\n",
       "<style scoped>\n",
       "    .dataframe tbody tr th:only-of-type {\n",
       "        vertical-align: middle;\n",
       "    }\n",
       "\n",
       "    .dataframe tbody tr th {\n",
       "        vertical-align: top;\n",
       "    }\n",
       "\n",
       "    .dataframe thead th {\n",
       "        text-align: right;\n",
       "    }\n",
       "</style>\n",
       "<table border=\"1\" class=\"dataframe\">\n",
       "  <thead>\n",
       "    <tr style=\"text-align: right;\">\n",
       "      <th></th>\n",
       "      <th>customer_care_calls</th>\n",
       "      <th>customer_rating</th>\n",
       "      <th>prior_purchases</th>\n",
       "      <th>discount_offered</th>\n",
       "      <th>weight_in_gms</th>\n",
       "      <th>warehouse_block</th>\n",
       "      <th>mode_of_shipment</th>\n",
       "      <th>product_importance</th>\n",
       "      <th>gender</th>\n",
       "      <th>class</th>\n",
       "    </tr>\n",
       "  </thead>\n",
       "  <tbody>\n",
       "    <tr>\n",
       "      <th>0</th>\n",
       "      <td>5</td>\n",
       "      <td>4</td>\n",
       "      <td>2</td>\n",
       "      <td>10</td>\n",
       "      <td>5395</td>\n",
       "      <td>a</td>\n",
       "      <td>ship</td>\n",
       "      <td>medium</td>\n",
       "      <td>m</td>\n",
       "      <td>1</td>\n",
       "    </tr>\n",
       "    <tr>\n",
       "      <th>1</th>\n",
       "      <td>4</td>\n",
       "      <td>3</td>\n",
       "      <td>2</td>\n",
       "      <td>6</td>\n",
       "      <td>5867</td>\n",
       "      <td>f</td>\n",
       "      <td>ship</td>\n",
       "      <td>medium</td>\n",
       "      <td>f</td>\n",
       "      <td>0</td>\n",
       "    </tr>\n",
       "    <tr>\n",
       "      <th>2</th>\n",
       "      <td>3</td>\n",
       "      <td>4</td>\n",
       "      <td>2</td>\n",
       "      <td>2</td>\n",
       "      <td>5957</td>\n",
       "      <td>d</td>\n",
       "      <td>ship</td>\n",
       "      <td>medium</td>\n",
       "      <td>m</td>\n",
       "      <td>0</td>\n",
       "    </tr>\n",
       "    <tr>\n",
       "      <th>3</th>\n",
       "      <td>3</td>\n",
       "      <td>1</td>\n",
       "      <td>2</td>\n",
       "      <td>27</td>\n",
       "      <td>2551</td>\n",
       "      <td>d</td>\n",
       "      <td>ship</td>\n",
       "      <td>medium</td>\n",
       "      <td>m</td>\n",
       "      <td>1</td>\n",
       "    </tr>\n",
       "    <tr>\n",
       "      <th>4</th>\n",
       "      <td>7</td>\n",
       "      <td>5</td>\n",
       "      <td>4</td>\n",
       "      <td>9</td>\n",
       "      <td>1329</td>\n",
       "      <td>b</td>\n",
       "      <td>ship</td>\n",
       "      <td>medium</td>\n",
       "      <td>m</td>\n",
       "      <td>1</td>\n",
       "    </tr>\n",
       "  </tbody>\n",
       "</table>\n",
       "</div>"
      ],
      "text/plain": [
       "   customer_care_calls  customer_rating  prior_purchases  discount_offered  \\\n",
       "0                    5                4                2                10   \n",
       "1                    4                3                2                 6   \n",
       "2                    3                4                2                 2   \n",
       "3                    3                1                2                27   \n",
       "4                    7                5                4                 9   \n",
       "\n",
       "   weight_in_gms warehouse_block mode_of_shipment product_importance gender  \\\n",
       "0           5395               a             ship             medium      m   \n",
       "1           5867               f             ship             medium      f   \n",
       "2           5957               d             ship             medium      m   \n",
       "3           2551               d             ship             medium      m   \n",
       "4           1329               b             ship             medium      m   \n",
       "\n",
       "   class  \n",
       "0      1  \n",
       "1      0  \n",
       "2      0  \n",
       "3      1  \n",
       "4      1  "
      ]
     },
     "execution_count": 8,
     "metadata": {},
     "output_type": "execute_result"
    }
   ],
   "source": [
    "df.head()"
   ]
  },
  {
   "cell_type": "markdown",
   "id": "a10d57df",
   "metadata": {},
   "source": [
    "# Распределения и меры центральной тенденции.\n",
    "Посмотрим на описательные характеристики данных, в т.ч. на разбросы значений, на распределения, определимся с наиболее подходящими мерами центральной тенденции, чтобы грубо описать текущую картину."
   ]
  },
  {
   "cell_type": "code",
   "execution_count": 10,
   "id": "6bc62739",
   "metadata": {},
   "outputs": [
    {
     "data": {
      "text/html": [
       "<div>\n",
       "<style scoped>\n",
       "    .dataframe tbody tr th:only-of-type {\n",
       "        vertical-align: middle;\n",
       "    }\n",
       "\n",
       "    .dataframe tbody tr th {\n",
       "        vertical-align: top;\n",
       "    }\n",
       "\n",
       "    .dataframe thead th {\n",
       "        text-align: right;\n",
       "    }\n",
       "</style>\n",
       "<table border=\"1\" class=\"dataframe\">\n",
       "  <thead>\n",
       "    <tr style=\"text-align: right;\">\n",
       "      <th></th>\n",
       "      <th>customer_care_calls</th>\n",
       "      <th>customer_rating</th>\n",
       "      <th>prior_purchases</th>\n",
       "      <th>discount_offered</th>\n",
       "      <th>weight_in_gms</th>\n",
       "      <th>class</th>\n",
       "    </tr>\n",
       "  </thead>\n",
       "  <tbody>\n",
       "    <tr>\n",
       "      <th>count</th>\n",
       "      <td>10998.000000</td>\n",
       "      <td>10998.000000</td>\n",
       "      <td>10998.000000</td>\n",
       "      <td>10998.000000</td>\n",
       "      <td>10998.000000</td>\n",
       "      <td>10998.000000</td>\n",
       "    </tr>\n",
       "    <tr>\n",
       "      <th>mean</th>\n",
       "      <td>4.054555</td>\n",
       "      <td>2.990453</td>\n",
       "      <td>3.567558</td>\n",
       "      <td>13.373704</td>\n",
       "      <td>3633.873522</td>\n",
       "      <td>0.596745</td>\n",
       "    </tr>\n",
       "    <tr>\n",
       "      <th>std</th>\n",
       "      <td>1.141497</td>\n",
       "      <td>1.413635</td>\n",
       "      <td>1.522924</td>\n",
       "      <td>16.206183</td>\n",
       "      <td>1635.382636</td>\n",
       "      <td>0.490573</td>\n",
       "    </tr>\n",
       "    <tr>\n",
       "      <th>min</th>\n",
       "      <td>2.000000</td>\n",
       "      <td>1.000000</td>\n",
       "      <td>2.000000</td>\n",
       "      <td>1.000000</td>\n",
       "      <td>1001.000000</td>\n",
       "      <td>0.000000</td>\n",
       "    </tr>\n",
       "    <tr>\n",
       "      <th>25%</th>\n",
       "      <td>3.000000</td>\n",
       "      <td>2.000000</td>\n",
       "      <td>3.000000</td>\n",
       "      <td>4.000000</td>\n",
       "      <td>1839.250000</td>\n",
       "      <td>0.000000</td>\n",
       "    </tr>\n",
       "    <tr>\n",
       "      <th>50%</th>\n",
       "      <td>4.000000</td>\n",
       "      <td>3.000000</td>\n",
       "      <td>3.000000</td>\n",
       "      <td>7.000000</td>\n",
       "      <td>4149.000000</td>\n",
       "      <td>1.000000</td>\n",
       "    </tr>\n",
       "    <tr>\n",
       "      <th>75%</th>\n",
       "      <td>5.000000</td>\n",
       "      <td>4.000000</td>\n",
       "      <td>4.000000</td>\n",
       "      <td>10.000000</td>\n",
       "      <td>5049.750000</td>\n",
       "      <td>1.000000</td>\n",
       "    </tr>\n",
       "    <tr>\n",
       "      <th>max</th>\n",
       "      <td>7.000000</td>\n",
       "      <td>5.000000</td>\n",
       "      <td>10.000000</td>\n",
       "      <td>65.000000</td>\n",
       "      <td>7846.000000</td>\n",
       "      <td>1.000000</td>\n",
       "    </tr>\n",
       "  </tbody>\n",
       "</table>\n",
       "</div>"
      ],
      "text/plain": [
       "       customer_care_calls  customer_rating  prior_purchases  \\\n",
       "count         10998.000000     10998.000000     10998.000000   \n",
       "mean              4.054555         2.990453         3.567558   \n",
       "std               1.141497         1.413635         1.522924   \n",
       "min               2.000000         1.000000         2.000000   \n",
       "25%               3.000000         2.000000         3.000000   \n",
       "50%               4.000000         3.000000         3.000000   \n",
       "75%               5.000000         4.000000         4.000000   \n",
       "max               7.000000         5.000000        10.000000   \n",
       "\n",
       "       discount_offered  weight_in_gms         class  \n",
       "count      10998.000000   10998.000000  10998.000000  \n",
       "mean          13.373704    3633.873522      0.596745  \n",
       "std           16.206183    1635.382636      0.490573  \n",
       "min            1.000000    1001.000000      0.000000  \n",
       "25%            4.000000    1839.250000      0.000000  \n",
       "50%            7.000000    4149.000000      1.000000  \n",
       "75%           10.000000    5049.750000      1.000000  \n",
       "max           65.000000    7846.000000      1.000000  "
      ]
     },
     "execution_count": 10,
     "metadata": {},
     "output_type": "execute_result"
    }
   ],
   "source": [
    "# посмотрим на описательные характеристики числовых значений\n",
    "\n",
    "df.describe()"
   ]
  },
  {
   "cell_type": "code",
   "execution_count": 49,
   "id": "43e0b948",
   "metadata": {},
   "outputs": [
    {
     "data": {
      "text/plain": [
       "[Text(0.5, 0, 'Customer Care Calls'), Text(0, 0.5, 'Number of Orders')]"
      ]
     },
     "execution_count": 49,
     "metadata": {},
     "output_type": "execute_result"
    },
    {
     "data": {
      "image/png": "[encoded data removed]",
      "text/plain": [
       "<Figure size 640x480 with 1 Axes>"
      ]
     },
     "metadata": {},
     "output_type": "display_data"
    }
   ],
   "source": [
    "# посмотрим на их распределения\n",
    "# Customer Care Calls\n",
    "\n",
    "customer_care_calls_hist = sns.histplot(df.customer_care_calls, \n",
    "                                        color='green', \n",
    "                                        alpha=0.7, \n",
    "                                        binwidth=1,\n",
    "                                        discrete=True)\n",
    "customer_care_calls_hist.set(xlabel='Customer Care Calls', \n",
    "                             ylabel='Number of Orders')"
   ]
  },
  {
   "cell_type": "markdown",
   "id": "a274c55c",
   "metadata": {},
   "source": [
    "Распределение похоже на логнормальное, поэтому, выбирая меру центральной тенденции, остановимся на среднем или медиане, при этом у него нет длинных хвостов, выбросов, поэтому они примерно равны.\n",
    "Будем считать, что в среднем один заказ сопровождается 4мя контактами со службой поддержки."
   ]
  },
  {
   "cell_type": "code",
   "execution_count": 51,
   "id": "b8ef8d6b",
   "metadata": {},
   "outputs": [
    {
     "data": {
      "text/plain": [
       "[Text(0.5, 0, 'Customer Rating'), Text(0, 0.5, 'Number of Orders')]"
      ]
     },
     "execution_count": 51,
     "metadata": {},
     "output_type": "execute_result"
    },
    {
     "data": {
      "image/png": "[encoded data removed]",
      "text/plain": [
       "<Figure size 640x480 with 1 Axes>"
      ]
     },
     "metadata": {},
     "output_type": "display_data"
    }
   ],
   "source": [
    "# Customer Rating\n",
    "\n",
    "customer_rating_hist = sns.histplot(df.customer_rating, \n",
    "                                    color='green', \n",
    "                                    alpha=0.7, \n",
    "                                    binwidth=1,\n",
    "                                    discrete=True)\n",
    "customer_rating_hist.set(xlabel='Customer Rating', \n",
    "                         ylabel='Number of Orders')"
   ]
  },
  {
   "cell_type": "markdown",
   "id": "161eab94",
   "metadata": {},
   "source": [
    "Распределение похоже на равномерное, поэтому логично, что среднее и медиана примерно равны. Средний рейтинг удовлетворенности заказом среди наших клиентов - 3 балла из 5 возможных."
   ]
  },
  {
   "cell_type": "code",
   "execution_count": 52,
   "id": "62ef8893",
   "metadata": {},
   "outputs": [
    {
     "data": {
      "text/plain": [
       "[Text(0.5, 0, 'Prior Purchases'), Text(0, 0.5, 'Number of Orders')]"
      ]
     },
     "execution_count": 52,
     "metadata": {},
     "output_type": "execute_result"
    },
    {
     "data": {
      "image/png": "[encoded data removed]",
      "text/plain": [
       "<Figure size 640x480 with 1 Axes>"
      ]
     },
     "metadata": {},
     "output_type": "display_data"
    }
   ],
   "source": [
    "# Prior Purchases\n",
    "\n",
    "prior_purchases_hist = sns.histplot(df.prior_purchases, \n",
    "                                    color='green', \n",
    "                                    alpha=0.7, \n",
    "                                    binwidth=1,\n",
    "                                    discrete=True)\n",
    "prior_purchases_hist.set(xlabel='Prior Purchases', \n",
    "                         ylabel='Number of Orders')"
   ]
  },
  {
   "cell_type": "markdown",
   "id": "9577675b",
   "metadata": {},
   "source": [
    "Распределение похоже на логнормальное, справа есть длинный хвост, выбросы, поэтому оптимальной мерой центральной тенденции в данном случае будет медиана, т.е. ориентируемся на то, что на момент заказа у половины наших клиентов сделано ранее более 3,5 заказов, для другой половины - менее, для простоты интерпретации можно взять среднее, которое в данном случае сильно не отличается и равняется 3м заказам."
   ]
  },
  {
   "cell_type": "code",
   "execution_count": 57,
   "id": "84fb4edc",
   "metadata": {},
   "outputs": [
    {
     "data": {
      "text/plain": [
       "[Text(0.5, 0, 'Discount Offered'), Text(0, 0.5, 'Number of Orders')]"
      ]
     },
     "execution_count": 57,
     "metadata": {},
     "output_type": "execute_result"
    },
    {
     "data": {
      "image/png": "[encoded data removed]",
      "text/plain": [
       "<Figure size 640x480 with 1 Axes>"
      ]
     },
     "metadata": {},
     "output_type": "display_data"
    }
   ],
   "source": [
    "# Discount Offered\n",
    "\n",
    "discount_offered_hist = sns.histplot(df.discount_offered, \n",
    "                                     color='green', \n",
    "                                     alpha=0.7, \n",
    "                                     binwidth=1,\n",
    "                                     discrete=True)\n",
    "discount_offered_hist.set(xlabel='Discount Offered', \n",
    "                          ylabel='Number of Orders')"
   ]
  },
  {
   "cell_type": "markdown",
   "id": "0d32b7ac",
   "metadata": {},
   "source": [
    "Это распределение похоже на составное из 2х равномерных. Из-за длины хвоста среднее здесь будет наименее информативно. Можно ориентироваться на медиану равную скидке в размере 7%. Но, на мой взгляд, гораздо интереснее будет выделить два диапазона - 1-10% и 10%+ и посмотреть какую доли имеют эти диапазоны в общем количестве заказов."
   ]
  },
  {
   "cell_type": "code",
   "execution_count": null,
   "id": "d5198bcb",
   "metadata": {},
   "outputs": [],
   "source": []
  },
  {
   "cell_type": "code",
   "execution_count": null,
   "id": "1c58bde1",
   "metadata": {},
   "outputs": [],
   "source": [
    "# посмотрим на все возможные значения номинативных переменных\n",
    "# склады\n",
    "\n",
    "print(df.warehouse_block.unique())"
   ]
  },
  {
   "cell_type": "code",
   "execution_count": 18,
   "id": "99ec9ecb",
   "metadata": {},
   "outputs": [
    {
     "name": "stdout",
     "output_type": "stream",
     "text": [
      "['ship' 'road' 'flight']\n"
     ]
    }
   ],
   "source": [
    "# типы доставки\n",
    "\n",
    "print(df.mode_of_shipment.unique())"
   ]
  },
  {
   "cell_type": "code",
   "execution_count": 19,
   "id": "247e13d7",
   "metadata": {},
   "outputs": [
    {
     "name": "stdout",
     "output_type": "stream",
     "text": [
      "['medium' 'low' 'high']\n"
     ]
    }
   ],
   "source": [
    "# приоритеты по доставке\n",
    "\n",
    "print(df.product_importance.unique())"
   ]
  },
  {
   "cell_type": "code",
   "execution_count": 21,
   "id": "6ea302b8",
   "metadata": {},
   "outputs": [
    {
     "name": "stdout",
     "output_type": "stream",
     "text": [
      "['m' 'f']\n"
     ]
    }
   ],
   "source": [
    "# пол клиентов\n",
    "\n",
    "print(df.gender.unique())"
   ]
  },
  {
   "cell_type": "markdown",
   "id": "79a609e7",
   "metadata": {},
   "source": [
    "Исходя из примерного равенства средних и медиан (моды на данном этапе для простоты рассматривать не будем) большинства количественных переменных можно сделать поверхностные выводы, что в среднем:\n",
    "- один заказ сопровождается 4 контактами со службой поддержки;\n",
    "- оценка удовлетворенности равна 3 из 5;\n",
    "- на момент покупки у клиента есть 3 завершенных ранее заказа;\n",
    "- вес заказа - около 4 кг.\n",
    "\n",
    "Кроме того - около 60% заказов доставляется вовремя.\n",
    "\n",
    "Далее посмотрим на распределение и выберем меру центральной тенденции для размера скидки"
   ]
  },
  {
   "cell_type": "code",
   "execution_count": 22,
   "id": "8237cef5",
   "metadata": {},
   "outputs": [
    {
     "data": {
      "text/plain": [
       "<seaborn.axisgrid.FacetGrid at 0x1cf19a33b80>"
      ]
     },
     "execution_count": 22,
     "metadata": {},
     "output_type": "execute_result"
    },
    {
     "data": {
      "image/png": "[encoded data removed]",
      "text/plain": [
       "<Figure size 500x500 with 1 Axes>"
      ]
     },
     "metadata": {},
     "output_type": "display_data"
    }
   ],
   "source": [
    "# посмотрим на распределение кол-ва контактов со службой поддержки\n",
    "\n",
    "sns.displot(df.customer_care_calls)"
   ]
  },
  {
   "cell_type": "code",
   "execution_count": null,
   "id": "e7541248",
   "metadata": {},
   "outputs": [],
   "source": []
  }
 ],
 "metadata": {
  "kernelspec": {
   "display_name": "Python 3 (ipykernel)",
   "language": "python",
   "name": "python3"
  },
  "language_info": {
   "codemirror_mode": {
    "name": "ipython",
    "version": 3
   },
   "file_extension": ".py",
   "mimetype": "text/x-python",
   "name": "python",
   "nbconvert_exporter": "python",
   "pygments_lexer": "ipython3",
   "version": "3.9.13"
  }
 },
 "nbformat": 4,
 "nbformat_minor": 5
}
