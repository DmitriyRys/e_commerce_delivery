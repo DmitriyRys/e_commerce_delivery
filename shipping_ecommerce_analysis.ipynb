{
 "cells": [
  {
   "cell_type": "markdown",
   "id": "d1d6a382",
   "metadata": {},
   "source": [
    "# 1. Описание данных.\n",
    "Международная e-commerce компания занимается продажей электроники. \n",
    "\n",
    "Колонки:\n",
    "- Customer_care_calls - кол-во контактов клиента со службой поддержки;\n",
    "- Customer_rating - рейтинг удовлетворенности клиента покупкой;\n",
    "- Prior_purchases - кол-во предыдущих покупок на сайте;\n",
    "- Discount_offered - предложенная скидка в %;\n",
    "- Weight_in_gms - вес покупки в граммах;\n",
    "- Warehouse_block - склад;\n",
    "- Mode_of_Shipment - способ доставки;\n",
    "- Product_importance - приоритет по доставке (скорость и условия);\n",
    "- Gender - пол клиента;\n",
    "- Class - доставлен ли заказ вовремя."
   ]
  },
  {
   "cell_type": "markdown",
   "id": "b9e08b36",
   "metadata": {},
   "source": [
    "# 2. Цели исследования.\n",
    "- Посмотреть на распределения и выбрать меры центральной тенденции для различных показателей, чтобы иметь представление о текущем положении в цифрах.\n",
    "- Найти взаимосвязи различных показателей между собой, чтобы понять, как и на какие метрики можно влиять.\n",
    "- Проверить гипотезы с помощью статистических тестов."
   ]
  },
  {
   "cell_type": "markdown",
   "id": "c1d8223a",
   "metadata": {},
   "source": [
    "# 3. Знакомство с данными.\n",
    "Для начала посмотрим на данные, их типы, наличие пропусков, при необходимости скорректируем, приведем в более комфортный вид/формат. "
   ]
  },
  {
   "cell_type": "code",
   "execution_count": 1,
   "id": "c68bbfe2",
   "metadata": {},
   "outputs": [],
   "source": [
    "# Импортируем библиотеки\n",
    "\n",
    "import pandas as pd\n",
    "import numpy as np\n",
    "import seaborn as sns\n",
    "import matplotlib.pyplot as plt\n",
    "import scipy.stats as ss\n",
    "import pingouin as pg\n",
    "from tqdm import tqdm"
   ]
  },
  {
   "cell_type": "code",
   "execution_count": 2,
   "id": "0a700855",
   "metadata": {},
   "outputs": [],
   "source": [
    "# Выгрузим данные в датафрейм\n",
    "\n",
    "path_to_file = 'https://getfile.dokpub.com/yandex/get/https://disk.yandex.ru/d/hXdLQLV7ffRw4Q'\n",
    "\n",
    "df = pd.read_csv(path_to_file)"
   ]
  },
  {
   "cell_type": "code",
   "execution_count": 3,
   "id": "0002a8b5",
   "metadata": {},
   "outputs": [
    {
     "data": {
      "text/html": [
       "<div>\n",
       "<style scoped>\n",
       "    .dataframe tbody tr th:only-of-type {\n",
       "        vertical-align: middle;\n",
       "    }\n",
       "\n",
       "    .dataframe tbody tr th {\n",
       "        vertical-align: top;\n",
       "    }\n",
       "\n",
       "    .dataframe thead th {\n",
       "        text-align: right;\n",
       "    }\n",
       "</style>\n",
       "<table border=\"1\" class=\"dataframe\">\n",
       "  <thead>\n",
       "    <tr style=\"text-align: right;\">\n",
       "      <th></th>\n",
       "      <th>Customer_care_calls</th>\n",
       "      <th>Customer_rating</th>\n",
       "      <th>Prior_purchases</th>\n",
       "      <th>Discount_offered</th>\n",
       "      <th>Weight_in_gms</th>\n",
       "      <th>Warehouse_block</th>\n",
       "      <th>Mode_of_Shipment</th>\n",
       "      <th>Product_importance</th>\n",
       "      <th>Gender</th>\n",
       "      <th>Class</th>\n",
       "    </tr>\n",
       "  </thead>\n",
       "  <tbody>\n",
       "    <tr>\n",
       "      <th>0</th>\n",
       "      <td>5</td>\n",
       "      <td>4</td>\n",
       "      <td>2</td>\n",
       "      <td>10</td>\n",
       "      <td>5395</td>\n",
       "      <td>A</td>\n",
       "      <td>Ship</td>\n",
       "      <td>medium</td>\n",
       "      <td>M</td>\n",
       "      <td>1</td>\n",
       "    </tr>\n",
       "    <tr>\n",
       "      <th>1</th>\n",
       "      <td>4</td>\n",
       "      <td>3</td>\n",
       "      <td>2</td>\n",
       "      <td>6</td>\n",
       "      <td>5867</td>\n",
       "      <td>F</td>\n",
       "      <td>Ship</td>\n",
       "      <td>medium</td>\n",
       "      <td>F</td>\n",
       "      <td>0</td>\n",
       "    </tr>\n",
       "    <tr>\n",
       "      <th>2</th>\n",
       "      <td>3</td>\n",
       "      <td>4</td>\n",
       "      <td>2</td>\n",
       "      <td>2</td>\n",
       "      <td>5957</td>\n",
       "      <td>D</td>\n",
       "      <td>Ship</td>\n",
       "      <td>medium</td>\n",
       "      <td>M</td>\n",
       "      <td>0</td>\n",
       "    </tr>\n",
       "    <tr>\n",
       "      <th>3</th>\n",
       "      <td>3</td>\n",
       "      <td>1</td>\n",
       "      <td>2</td>\n",
       "      <td>27</td>\n",
       "      <td>2551</td>\n",
       "      <td>D</td>\n",
       "      <td>Ship</td>\n",
       "      <td>medium</td>\n",
       "      <td>M</td>\n",
       "      <td>1</td>\n",
       "    </tr>\n",
       "    <tr>\n",
       "      <th>4</th>\n",
       "      <td>7</td>\n",
       "      <td>5</td>\n",
       "      <td>4</td>\n",
       "      <td>9</td>\n",
       "      <td>1329</td>\n",
       "      <td>B</td>\n",
       "      <td>Ship</td>\n",
       "      <td>medium</td>\n",
       "      <td>M</td>\n",
       "      <td>1</td>\n",
       "    </tr>\n",
       "  </tbody>\n",
       "</table>\n",
       "</div>"
      ],
      "text/plain": [
       "   Customer_care_calls  Customer_rating  Prior_purchases  Discount_offered  \\\n",
       "0                    5                4                2                10   \n",
       "1                    4                3                2                 6   \n",
       "2                    3                4                2                 2   \n",
       "3                    3                1                2                27   \n",
       "4                    7                5                4                 9   \n",
       "\n",
       "   Weight_in_gms Warehouse_block Mode_of_Shipment Product_importance Gender  \\\n",
       "0           5395               A             Ship             medium      M   \n",
       "1           5867               F             Ship             medium      F   \n",
       "2           5957               D             Ship             medium      M   \n",
       "3           2551               D             Ship             medium      M   \n",
       "4           1329               B             Ship             medium      M   \n",
       "\n",
       "   Class  \n",
       "0      1  \n",
       "1      0  \n",
       "2      0  \n",
       "3      1  \n",
       "4      1  "
      ]
     },
     "execution_count": 3,
     "metadata": {},
     "output_type": "execute_result"
    }
   ],
   "source": [
    "df.head()"
   ]
  },
  {
   "cell_type": "code",
   "execution_count": 4,
   "id": "cbdc0072",
   "metadata": {},
   "outputs": [],
   "source": [
    "# Приведем названия колонок к snake_case\n",
    "\n",
    "df.columns = df.columns.str.lower()"
   ]
  },
  {
   "cell_type": "code",
   "execution_count": 5,
   "id": "7477a651",
   "metadata": {},
   "outputs": [
    {
     "name": "stdout",
     "output_type": "stream",
     "text": [
      "<class 'pandas.core.frame.DataFrame'>\n",
      "RangeIndex: 10998 entries, 0 to 10997\n",
      "Data columns (total 10 columns):\n",
      " #   Column               Non-Null Count  Dtype \n",
      "---  ------               --------------  ----- \n",
      " 0   customer_care_calls  10998 non-null  int64 \n",
      " 1   customer_rating      10998 non-null  int64 \n",
      " 2   prior_purchases      10998 non-null  int64 \n",
      " 3   discount_offered     10998 non-null  int64 \n",
      " 4   weight_in_gms        10998 non-null  int64 \n",
      " 5   warehouse_block      10998 non-null  object\n",
      " 6   mode_of_shipment     10998 non-null  object\n",
      " 7   product_importance   10998 non-null  object\n",
      " 8   gender               10998 non-null  object\n",
      " 9   class                10998 non-null  int64 \n",
      "dtypes: int64(6), object(4)\n",
      "memory usage: 859.3+ KB\n"
     ]
    }
   ],
   "source": [
    "# Посмотрим на типы, кол-во данных, наличие пропусков\n",
    "\n",
    "df.info()"
   ]
  },
  {
   "cell_type": "markdown",
   "id": "c855341d",
   "metadata": {},
   "source": [
    "Пропущенных значений в датасете нет."
   ]
  },
  {
   "cell_type": "code",
   "execution_count": 6,
   "id": "81111289",
   "metadata": {},
   "outputs": [
    {
     "data": {
      "text/html": [
       "<div>\n",
       "<style scoped>\n",
       "    .dataframe tbody tr th:only-of-type {\n",
       "        vertical-align: middle;\n",
       "    }\n",
       "\n",
       "    .dataframe tbody tr th {\n",
       "        vertical-align: top;\n",
       "    }\n",
       "\n",
       "    .dataframe thead th {\n",
       "        text-align: right;\n",
       "    }\n",
       "</style>\n",
       "<table border=\"1\" class=\"dataframe\">\n",
       "  <thead>\n",
       "    <tr style=\"text-align: right;\">\n",
       "      <th></th>\n",
       "      <th>warehouse_block</th>\n",
       "      <th>mode_of_shipment</th>\n",
       "      <th>product_importance</th>\n",
       "      <th>gender</th>\n",
       "    </tr>\n",
       "  </thead>\n",
       "  <tbody>\n",
       "    <tr>\n",
       "      <th>0</th>\n",
       "      <td>A</td>\n",
       "      <td>Ship</td>\n",
       "      <td>medium</td>\n",
       "      <td>M</td>\n",
       "    </tr>\n",
       "    <tr>\n",
       "      <th>1</th>\n",
       "      <td>F</td>\n",
       "      <td>Ship</td>\n",
       "      <td>medium</td>\n",
       "      <td>F</td>\n",
       "    </tr>\n",
       "    <tr>\n",
       "      <th>2</th>\n",
       "      <td>D</td>\n",
       "      <td>Ship</td>\n",
       "      <td>medium</td>\n",
       "      <td>M</td>\n",
       "    </tr>\n",
       "    <tr>\n",
       "      <th>3</th>\n",
       "      <td>D</td>\n",
       "      <td>Ship</td>\n",
       "      <td>medium</td>\n",
       "      <td>M</td>\n",
       "    </tr>\n",
       "    <tr>\n",
       "      <th>4</th>\n",
       "      <td>B</td>\n",
       "      <td>Ship</td>\n",
       "      <td>medium</td>\n",
       "      <td>M</td>\n",
       "    </tr>\n",
       "  </tbody>\n",
       "</table>\n",
       "</div>"
      ],
      "text/plain": [
       "  warehouse_block mode_of_shipment product_importance gender\n",
       "0               A             Ship             medium      M\n",
       "1               F             Ship             medium      F\n",
       "2               D             Ship             medium      M\n",
       "3               D             Ship             medium      M\n",
       "4               B             Ship             medium      M"
      ]
     },
     "execution_count": 6,
     "metadata": {},
     "output_type": "execute_result"
    }
   ],
   "source": [
    "# Посмотрим на колонки со строковыми значениями\n",
    "\n",
    "df[['warehouse_block', \n",
    "    'mode_of_shipment', \n",
    "    'product_importance', \n",
    "    'gender']].head()"
   ]
  },
  {
   "cell_type": "code",
   "execution_count": 7,
   "id": "11e60c3c",
   "metadata": {},
   "outputs": [],
   "source": [
    "# Приведем значения колонок к нижнему регистру\n",
    "\n",
    "for i in df[['warehouse_block',\n",
    "             'mode_of_shipment',\n",
    "             'gender']]:\n",
    "    df[i] = df[i].str.lower()"
   ]
  },
  {
   "cell_type": "code",
   "execution_count": 8,
   "id": "23cc3d90",
   "metadata": {
    "scrolled": true
   },
   "outputs": [
    {
     "data": {
      "text/html": [
       "<div>\n",
       "<style scoped>\n",
       "    .dataframe tbody tr th:only-of-type {\n",
       "        vertical-align: middle;\n",
       "    }\n",
       "\n",
       "    .dataframe tbody tr th {\n",
       "        vertical-align: top;\n",
       "    }\n",
       "\n",
       "    .dataframe thead th {\n",
       "        text-align: right;\n",
       "    }\n",
       "</style>\n",
       "<table border=\"1\" class=\"dataframe\">\n",
       "  <thead>\n",
       "    <tr style=\"text-align: right;\">\n",
       "      <th></th>\n",
       "      <th>customer_care_calls</th>\n",
       "      <th>customer_rating</th>\n",
       "      <th>prior_purchases</th>\n",
       "      <th>discount_offered</th>\n",
       "      <th>weight_in_gms</th>\n",
       "      <th>warehouse_block</th>\n",
       "      <th>mode_of_shipment</th>\n",
       "      <th>product_importance</th>\n",
       "      <th>gender</th>\n",
       "      <th>class</th>\n",
       "    </tr>\n",
       "  </thead>\n",
       "  <tbody>\n",
       "    <tr>\n",
       "      <th>0</th>\n",
       "      <td>5</td>\n",
       "      <td>4</td>\n",
       "      <td>2</td>\n",
       "      <td>10</td>\n",
       "      <td>5395</td>\n",
       "      <td>a</td>\n",
       "      <td>ship</td>\n",
       "      <td>medium</td>\n",
       "      <td>m</td>\n",
       "      <td>1</td>\n",
       "    </tr>\n",
       "    <tr>\n",
       "      <th>1</th>\n",
       "      <td>4</td>\n",
       "      <td>3</td>\n",
       "      <td>2</td>\n",
       "      <td>6</td>\n",
       "      <td>5867</td>\n",
       "      <td>f</td>\n",
       "      <td>ship</td>\n",
       "      <td>medium</td>\n",
       "      <td>f</td>\n",
       "      <td>0</td>\n",
       "    </tr>\n",
       "    <tr>\n",
       "      <th>2</th>\n",
       "      <td>3</td>\n",
       "      <td>4</td>\n",
       "      <td>2</td>\n",
       "      <td>2</td>\n",
       "      <td>5957</td>\n",
       "      <td>d</td>\n",
       "      <td>ship</td>\n",
       "      <td>medium</td>\n",
       "      <td>m</td>\n",
       "      <td>0</td>\n",
       "    </tr>\n",
       "    <tr>\n",
       "      <th>3</th>\n",
       "      <td>3</td>\n",
       "      <td>1</td>\n",
       "      <td>2</td>\n",
       "      <td>27</td>\n",
       "      <td>2551</td>\n",
       "      <td>d</td>\n",
       "      <td>ship</td>\n",
       "      <td>medium</td>\n",
       "      <td>m</td>\n",
       "      <td>1</td>\n",
       "    </tr>\n",
       "    <tr>\n",
       "      <th>4</th>\n",
       "      <td>7</td>\n",
       "      <td>5</td>\n",
       "      <td>4</td>\n",
       "      <td>9</td>\n",
       "      <td>1329</td>\n",
       "      <td>b</td>\n",
       "      <td>ship</td>\n",
       "      <td>medium</td>\n",
       "      <td>m</td>\n",
       "      <td>1</td>\n",
       "    </tr>\n",
       "  </tbody>\n",
       "</table>\n",
       "</div>"
      ],
      "text/plain": [
       "   customer_care_calls  customer_rating  prior_purchases  discount_offered  \\\n",
       "0                    5                4                2                10   \n",
       "1                    4                3                2                 6   \n",
       "2                    3                4                2                 2   \n",
       "3                    3                1                2                27   \n",
       "4                    7                5                4                 9   \n",
       "\n",
       "   weight_in_gms warehouse_block mode_of_shipment product_importance gender  \\\n",
       "0           5395               a             ship             medium      m   \n",
       "1           5867               f             ship             medium      f   \n",
       "2           5957               d             ship             medium      m   \n",
       "3           2551               d             ship             medium      m   \n",
       "4           1329               b             ship             medium      m   \n",
       "\n",
       "   class  \n",
       "0      1  \n",
       "1      0  \n",
       "2      0  \n",
       "3      1  \n",
       "4      1  "
      ]
     },
     "execution_count": 8,
     "metadata": {},
     "output_type": "execute_result"
    }
   ],
   "source": [
    "df.head()"
   ]
  },
  {
   "cell_type": "markdown",
   "id": "a10d57df",
   "metadata": {},
   "source": [
    "# 4.1. Распределения и меры центральной тенденции.\n",
    "Посмотрим на описательные характеристики данных, в т.ч. на разбросы значений, распределения, определимся с наиболее подходящими мерами центральной тенденции, чтобы примерно описать текущую картину."
   ]
  },
  {
   "cell_type": "code",
   "execution_count": 9,
   "id": "6bc62739",
   "metadata": {},
   "outputs": [
    {
     "data": {
      "text/html": [
       "<div>\n",
       "<style scoped>\n",
       "    .dataframe tbody tr th:only-of-type {\n",
       "        vertical-align: middle;\n",
       "    }\n",
       "\n",
       "    .dataframe tbody tr th {\n",
       "        vertical-align: top;\n",
       "    }\n",
       "\n",
       "    .dataframe thead th {\n",
       "        text-align: right;\n",
       "    }\n",
       "</style>\n",
       "<table border=\"1\" class=\"dataframe\">\n",
       "  <thead>\n",
       "    <tr style=\"text-align: right;\">\n",
       "      <th></th>\n",
       "      <th>customer_care_calls</th>\n",
       "      <th>customer_rating</th>\n",
       "      <th>prior_purchases</th>\n",
       "      <th>discount_offered</th>\n",
       "      <th>weight_in_gms</th>\n",
       "      <th>class</th>\n",
       "    </tr>\n",
       "  </thead>\n",
       "  <tbody>\n",
       "    <tr>\n",
       "      <th>count</th>\n",
       "      <td>10998.000000</td>\n",
       "      <td>10998.000000</td>\n",
       "      <td>10998.000000</td>\n",
       "      <td>10998.000000</td>\n",
       "      <td>10998.000000</td>\n",
       "      <td>10998.000000</td>\n",
       "    </tr>\n",
       "    <tr>\n",
       "      <th>mean</th>\n",
       "      <td>4.054555</td>\n",
       "      <td>2.990453</td>\n",
       "      <td>3.567558</td>\n",
       "      <td>13.373704</td>\n",
       "      <td>3633.873522</td>\n",
       "      <td>0.596745</td>\n",
       "    </tr>\n",
       "    <tr>\n",
       "      <th>std</th>\n",
       "      <td>1.141497</td>\n",
       "      <td>1.413635</td>\n",
       "      <td>1.522924</td>\n",
       "      <td>16.206183</td>\n",
       "      <td>1635.382636</td>\n",
       "      <td>0.490573</td>\n",
       "    </tr>\n",
       "    <tr>\n",
       "      <th>min</th>\n",
       "      <td>2.000000</td>\n",
       "      <td>1.000000</td>\n",
       "      <td>2.000000</td>\n",
       "      <td>1.000000</td>\n",
       "      <td>1001.000000</td>\n",
       "      <td>0.000000</td>\n",
       "    </tr>\n",
       "    <tr>\n",
       "      <th>25%</th>\n",
       "      <td>3.000000</td>\n",
       "      <td>2.000000</td>\n",
       "      <td>3.000000</td>\n",
       "      <td>4.000000</td>\n",
       "      <td>1839.250000</td>\n",
       "      <td>0.000000</td>\n",
       "    </tr>\n",
       "    <tr>\n",
       "      <th>50%</th>\n",
       "      <td>4.000000</td>\n",
       "      <td>3.000000</td>\n",
       "      <td>3.000000</td>\n",
       "      <td>7.000000</td>\n",
       "      <td>4149.000000</td>\n",
       "      <td>1.000000</td>\n",
       "    </tr>\n",
       "    <tr>\n",
       "      <th>75%</th>\n",
       "      <td>5.000000</td>\n",
       "      <td>4.000000</td>\n",
       "      <td>4.000000</td>\n",
       "      <td>10.000000</td>\n",
       "      <td>5049.750000</td>\n",
       "      <td>1.000000</td>\n",
       "    </tr>\n",
       "    <tr>\n",
       "      <th>max</th>\n",
       "      <td>7.000000</td>\n",
       "      <td>5.000000</td>\n",
       "      <td>10.000000</td>\n",
       "      <td>65.000000</td>\n",
       "      <td>7846.000000</td>\n",
       "      <td>1.000000</td>\n",
       "    </tr>\n",
       "  </tbody>\n",
       "</table>\n",
       "</div>"
      ],
      "text/plain": [
       "       customer_care_calls  customer_rating  prior_purchases  \\\n",
       "count         10998.000000     10998.000000     10998.000000   \n",
       "mean              4.054555         2.990453         3.567558   \n",
       "std               1.141497         1.413635         1.522924   \n",
       "min               2.000000         1.000000         2.000000   \n",
       "25%               3.000000         2.000000         3.000000   \n",
       "50%               4.000000         3.000000         3.000000   \n",
       "75%               5.000000         4.000000         4.000000   \n",
       "max               7.000000         5.000000        10.000000   \n",
       "\n",
       "       discount_offered  weight_in_gms         class  \n",
       "count      10998.000000   10998.000000  10998.000000  \n",
       "mean          13.373704    3633.873522      0.596745  \n",
       "std           16.206183    1635.382636      0.490573  \n",
       "min            1.000000    1001.000000      0.000000  \n",
       "25%            4.000000    1839.250000      0.000000  \n",
       "50%            7.000000    4149.000000      1.000000  \n",
       "75%           10.000000    5049.750000      1.000000  \n",
       "max           65.000000    7846.000000      1.000000  "
      ]
     },
     "execution_count": 9,
     "metadata": {},
     "output_type": "execute_result"
    }
   ],
   "source": [
    "# Посмотрим на описательные характеристики\n",
    "\n",
    "df.describe()"
   ]
  },
  {
   "cell_type": "code",
   "execution_count": 10,
   "id": "43e0b948",
   "metadata": {
    "scrolled": true
   },
   "outputs": [],
   "source": [
    "# Посмотрим на их распределения\n",
    "# Создадим функцию, которая возвращает таблицу с процентами\n",
    "\n",
    "def create_hist(column):\n",
    "    '''Принимает колонку column вида 'df.column', \n",
    "    возвращает ее гистограмму.\n",
    "    '''\n",
    "    return sns.histplot(column, \n",
    "                        color='green', \n",
    "                        alpha=0.7, \n",
    "                        binwidth=1,\n",
    "                        discrete=True)"
   ]
  },
  {
   "cell_type": "code",
   "execution_count": 11,
   "id": "14edfe35",
   "metadata": {},
   "outputs": [
    {
     "data": {
      "text/plain": [
       "[Text(0.5, 0, 'Контакты со Службой Поддержки'), Text(0, 0.5, 'Заказы')]"
      ]
     },
     "execution_count": 11,
     "metadata": {},
     "output_type": "execute_result"
    },
    {
     "data": {
      "image/png": "[encoded data removed]",
      "text/plain": [
       "<Figure size 640x480 with 1 Axes>"
      ]
     },
     "metadata": {},
     "output_type": "display_data"
    }
   ],
   "source": [
    "# Customer Care Calls - кол-во контактов со службой поддержки\n",
    "\n",
    "# Создадим график\n",
    "customer_care_calls_hist = create_hist(df.customer_care_calls)\n",
    "\n",
    "# Подпишем оси\n",
    "customer_care_calls_hist.set(xlabel='Контакты со Службой Поддержки', \n",
    "                             ylabel='Заказы')"
   ]
  },
  {
   "cell_type": "code",
   "execution_count": 12,
   "id": "c02bdb2f",
   "metadata": {},
   "outputs": [],
   "source": [
    "# Создадим функцию, которая возвращает таблицу с процентами\n",
    "\n",
    "def perc_table(column):\n",
    "    '''\n",
    "Принимает колонку column вида 'df.column', \n",
    "возвращает таблицу с долями ее значений в процентах.\n",
    "'''\n",
    "    \n",
    "    return column.value_counts(normalize=True) \\\n",
    "                 .mul(100) \\\n",
    "                 .round(1) \\\n",
    "                 .reset_index() \\\n",
    "                 .rename(columns={'index': column.name, \n",
    "                                  column.name: 'percentage'})"
   ]
  },
  {
   "cell_type": "code",
   "execution_count": 13,
   "id": "38ab4211",
   "metadata": {},
   "outputs": [
    {
     "data": {
      "text/html": [
       "<div>\n",
       "<style scoped>\n",
       "    .dataframe tbody tr th:only-of-type {\n",
       "        vertical-align: middle;\n",
       "    }\n",
       "\n",
       "    .dataframe tbody tr th {\n",
       "        vertical-align: top;\n",
       "    }\n",
       "\n",
       "    .dataframe thead th {\n",
       "        text-align: right;\n",
       "    }\n",
       "</style>\n",
       "<table border=\"1\" class=\"dataframe\">\n",
       "  <thead>\n",
       "    <tr style=\"text-align: right;\">\n",
       "      <th></th>\n",
       "      <th>customer_care_calls</th>\n",
       "      <th>percentage</th>\n",
       "    </tr>\n",
       "  </thead>\n",
       "  <tbody>\n",
       "    <tr>\n",
       "      <th>0</th>\n",
       "      <td>4</td>\n",
       "      <td>32.3</td>\n",
       "    </tr>\n",
       "    <tr>\n",
       "      <th>1</th>\n",
       "      <td>3</td>\n",
       "      <td>29.2</td>\n",
       "    </tr>\n",
       "    <tr>\n",
       "      <th>2</th>\n",
       "      <td>5</td>\n",
       "      <td>21.2</td>\n",
       "    </tr>\n",
       "    <tr>\n",
       "      <th>3</th>\n",
       "      <td>6</td>\n",
       "      <td>9.2</td>\n",
       "    </tr>\n",
       "    <tr>\n",
       "      <th>4</th>\n",
       "      <td>2</td>\n",
       "      <td>5.8</td>\n",
       "    </tr>\n",
       "    <tr>\n",
       "      <th>5</th>\n",
       "      <td>7</td>\n",
       "      <td>2.2</td>\n",
       "    </tr>\n",
       "  </tbody>\n",
       "</table>\n",
       "</div>"
      ],
      "text/plain": [
       "   customer_care_calls  percentage\n",
       "0                    4        32.3\n",
       "1                    3        29.2\n",
       "2                    5        21.2\n",
       "3                    6         9.2\n",
       "4                    2         5.8\n",
       "5                    7         2.2"
      ]
     },
     "execution_count": 13,
     "metadata": {},
     "output_type": "execute_result"
    }
   ],
   "source": [
    "perc_table(df.customer_care_calls)"
   ]
  },
  {
   "cell_type": "markdown",
   "id": "a274c55c",
   "metadata": {},
   "source": [
    "Распределение похоже на логнормальное, поэтому, выбирая меру центральной тенденции, остановимся на среднем или медиане, при этом у него нет длинных хвостов, выбросов, поэтому они примерно равны.\n",
    "Будем считать, что в среднем один заказ сопровождается 4мя контактами со службой поддержки. Более 80% заказов - от 4 до 6 контактов.\n",
    "\n",
    "Мы можем использовать эту информацию, например, при планировании загрузки службы поддержки."
   ]
  },
  {
   "cell_type": "code",
   "execution_count": 14,
   "id": "b8ef8d6b",
   "metadata": {},
   "outputs": [
    {
     "data": {
      "text/plain": [
       "[Text(0.5, 0, 'Рейтинг удовлетворенности'), Text(0, 0.5, 'Заказы')]"
      ]
     },
     "execution_count": 14,
     "metadata": {},
     "output_type": "execute_result"
    },
    {
     "data": {
      "image/png": "[encoded data removed]",
      "text/plain": [
       "<Figure size 640x480 with 1 Axes>"
      ]
     },
     "metadata": {},
     "output_type": "display_data"
    }
   ],
   "source": [
    "# Customer Rating - рейтинг удовлетворенности заказом\n",
    "\n",
    "# Построим график\n",
    "customer_rating_hist = create_hist(df.customer_rating)\n",
    "\n",
    "# Подпишем оси\n",
    "customer_rating_hist.set(xlabel='Рейтинг удовлетворенности', \n",
    "                         ylabel='Заказы')"
   ]
  },
  {
   "cell_type": "code",
   "execution_count": 15,
   "id": "4faf166e",
   "metadata": {},
   "outputs": [
    {
     "data": {
      "text/html": [
       "<div>\n",
       "<style scoped>\n",
       "    .dataframe tbody tr th:only-of-type {\n",
       "        vertical-align: middle;\n",
       "    }\n",
       "\n",
       "    .dataframe tbody tr th {\n",
       "        vertical-align: top;\n",
       "    }\n",
       "\n",
       "    .dataframe thead th {\n",
       "        text-align: right;\n",
       "    }\n",
       "</style>\n",
       "<table border=\"1\" class=\"dataframe\">\n",
       "  <thead>\n",
       "    <tr style=\"text-align: right;\">\n",
       "      <th></th>\n",
       "      <th>customer_rating</th>\n",
       "      <th>percentage</th>\n",
       "    </tr>\n",
       "  </thead>\n",
       "  <tbody>\n",
       "    <tr>\n",
       "      <th>0</th>\n",
       "      <td>3</td>\n",
       "      <td>20.4</td>\n",
       "    </tr>\n",
       "    <tr>\n",
       "      <th>1</th>\n",
       "      <td>1</td>\n",
       "      <td>20.3</td>\n",
       "    </tr>\n",
       "    <tr>\n",
       "      <th>2</th>\n",
       "      <td>4</td>\n",
       "      <td>19.9</td>\n",
       "    </tr>\n",
       "    <tr>\n",
       "      <th>3</th>\n",
       "      <td>5</td>\n",
       "      <td>19.7</td>\n",
       "    </tr>\n",
       "    <tr>\n",
       "      <th>4</th>\n",
       "      <td>2</td>\n",
       "      <td>19.7</td>\n",
       "    </tr>\n",
       "  </tbody>\n",
       "</table>\n",
       "</div>"
      ],
      "text/plain": [
       "   customer_rating  percentage\n",
       "0                3        20.4\n",
       "1                1        20.3\n",
       "2                4        19.9\n",
       "3                5        19.7\n",
       "4                2        19.7"
      ]
     },
     "execution_count": 15,
     "metadata": {},
     "output_type": "execute_result"
    }
   ],
   "source": [
    "perc_table(df.customer_rating)"
   ]
  },
  {
   "cell_type": "markdown",
   "id": "161eab94",
   "metadata": {},
   "source": [
    "Распределение похоже на равномерное, поэтому логично, что среднее и медиана примерно равны. Средний рейтинг удовлетворенности заказом среди наших клиентов - 3 балла из 5 возможных.\n",
    "\n",
    "Очевидно, что данное распределение - это не очень хорошо для нас, нам бы хотелось роста в правой части и низких показателей в левой, а по факту у нас средняя оценка - 'удовлетворительно', но что самое важное - примерно 2/5 наших заказов клиенты не довольны, что может привести к повышению Churn Rate и ухудшению других метрик."
   ]
  },
  {
   "cell_type": "code",
   "execution_count": 16,
   "id": "62ef8893",
   "metadata": {},
   "outputs": [
    {
     "data": {
      "text/plain": [
       "[Text(0.5, 0, 'Предыдущие заказы'), Text(0, 0.5, 'Заказы')]"
      ]
     },
     "execution_count": 16,
     "metadata": {},
     "output_type": "execute_result"
    },
    {
     "data": {
      "image/png": "[encoded data removed]",
      "text/plain": [
       "<Figure size 640x480 with 1 Axes>"
      ]
     },
     "metadata": {},
     "output_type": "display_data"
    }
   ],
   "source": [
    "# Prior Purchases - кол-во предыдущих заказов\n",
    "\n",
    "# Построим график\n",
    "prior_purchases_hist = create_hist(df.prior_purchases)\n",
    "\n",
    "# Подпишем оси\n",
    "prior_purchases_hist.set(xlabel='Предыдущие заказы', \n",
    "                         ylabel='Заказы')"
   ]
  },
  {
   "cell_type": "code",
   "execution_count": 17,
   "id": "1a9188c5",
   "metadata": {},
   "outputs": [
    {
     "data": {
      "text/html": [
       "<div>\n",
       "<style scoped>\n",
       "    .dataframe tbody tr th:only-of-type {\n",
       "        vertical-align: middle;\n",
       "    }\n",
       "\n",
       "    .dataframe tbody tr th {\n",
       "        vertical-align: top;\n",
       "    }\n",
       "\n",
       "    .dataframe thead th {\n",
       "        text-align: right;\n",
       "    }\n",
       "</style>\n",
       "<table border=\"1\" class=\"dataframe\">\n",
       "  <thead>\n",
       "    <tr style=\"text-align: right;\">\n",
       "      <th></th>\n",
       "      <th>prior_purchases</th>\n",
       "      <th>percentage</th>\n",
       "    </tr>\n",
       "  </thead>\n",
       "  <tbody>\n",
       "    <tr>\n",
       "      <th>0</th>\n",
       "      <td>3</td>\n",
       "      <td>36.0</td>\n",
       "    </tr>\n",
       "    <tr>\n",
       "      <th>1</th>\n",
       "      <td>2</td>\n",
       "      <td>23.6</td>\n",
       "    </tr>\n",
       "    <tr>\n",
       "      <th>2</th>\n",
       "      <td>4</td>\n",
       "      <td>19.6</td>\n",
       "    </tr>\n",
       "    <tr>\n",
       "      <th>3</th>\n",
       "      <td>5</td>\n",
       "      <td>11.7</td>\n",
       "    </tr>\n",
       "    <tr>\n",
       "      <th>4</th>\n",
       "      <td>6</td>\n",
       "      <td>5.1</td>\n",
       "    </tr>\n",
       "    <tr>\n",
       "      <th>5</th>\n",
       "      <td>10</td>\n",
       "      <td>1.6</td>\n",
       "    </tr>\n",
       "    <tr>\n",
       "      <th>6</th>\n",
       "      <td>7</td>\n",
       "      <td>1.2</td>\n",
       "    </tr>\n",
       "    <tr>\n",
       "      <th>7</th>\n",
       "      <td>8</td>\n",
       "      <td>1.2</td>\n",
       "    </tr>\n",
       "  </tbody>\n",
       "</table>\n",
       "</div>"
      ],
      "text/plain": [
       "   prior_purchases  percentage\n",
       "0                3        36.0\n",
       "1                2        23.6\n",
       "2                4        19.6\n",
       "3                5        11.7\n",
       "4                6         5.1\n",
       "5               10         1.6\n",
       "6                7         1.2\n",
       "7                8         1.2"
      ]
     },
     "execution_count": 17,
     "metadata": {},
     "output_type": "execute_result"
    }
   ],
   "source": [
    "perc_table(df.prior_purchases)"
   ]
  },
  {
   "cell_type": "markdown",
   "id": "9577675b",
   "metadata": {},
   "source": [
    "Распределение похоже на логнормальное, справа есть длинный хвост, выбросы, поэтому оптимальной мерой центральной тенденции в данном случае будет медиана, т.е. ориентируемся на то, что на момент заказа у половины наших клиентов сделано ранее более 3,5 заказов, для другой половины - менее, для простоты интерпретации можно взять среднее, которое в данном случае сильно не отличается и равняется 3м заказам. Около 80% заказов являются повторными после 2-4 предыдущих.\n",
    "\n",
    "В наших данных нет клиентов без предыдущих заказов, все они делают по несколько покупок. Исходя из этого, LTV этих клиентов находится на более высоком уровне, чем в модели, где есть много случайных и новых клиентов, поэтому показатель удовлетворенности, который находится в плачевном состоянии, для нас вдвойне важен, потеря одного клиента обходится нам очень дорого."
   ]
  },
  {
   "cell_type": "code",
   "execution_count": 18,
   "id": "84fb4edc",
   "metadata": {},
   "outputs": [
    {
     "data": {
      "text/plain": [
       "[Text(0.5, 0, 'Предложенная скидка'), Text(0, 0.5, 'Заказы')]"
      ]
     },
     "execution_count": 18,
     "metadata": {},
     "output_type": "execute_result"
    },
    {
     "data": {
      "image/png": "[encoded data removed]",
      "text/plain": [
       "<Figure size 640x480 with 1 Axes>"
      ]
     },
     "metadata": {},
     "output_type": "display_data"
    }
   ],
   "source": [
    "# Discount Offered - предложенная скидка\n",
    "\n",
    "# Построим график\n",
    "discount_offered_hist = create_hist(df.discount_offered)\n",
    "\n",
    "# Подпишем оси\n",
    "discount_offered_hist.set(xlabel='Предложенная скидка', \n",
    "                          ylabel='Заказы')"
   ]
  },
  {
   "cell_type": "markdown",
   "id": "0d32b7ac",
   "metadata": {},
   "source": [
    "Это распределение похоже на составное из 2х равномерных. Из-за длины хвоста среднее здесь будет наименее информативно. Можно ориентироваться на медиану равную скидке в размере 7%. Но, на мой взгляд, гораздо интереснее будет выделить два диапазона - 1-10% и 10%+ и посмотреть какие доли имеют эти диапазоны в общем количестве заказов."
   ]
  },
  {
   "cell_type": "code",
   "execution_count": 19,
   "id": "d5198bcb",
   "metadata": {},
   "outputs": [
    {
     "data": {
      "text/plain": [
       "75.9"
      ]
     },
     "execution_count": 19,
     "metadata": {},
     "output_type": "execute_result"
    }
   ],
   "source": [
    "round((df[df.discount_offered <= 10].shape[0] / len(df)) * 100, 1)"
   ]
  },
  {
   "cell_type": "markdown",
   "id": "f99d234d",
   "metadata": {},
   "source": [
    "По скидкам можно сказать, что на 76% заказов была предложена скидка до 10%, на остальные 24% - от 11% до 65%.\n",
    "\n",
    "В отрыве от остальной информации это особой пользы не несет, но позже может пригодиться."
   ]
  },
  {
   "cell_type": "code",
   "execution_count": 20,
   "id": "6cd2cef8",
   "metadata": {},
   "outputs": [
    {
     "data": {
      "text/plain": [
       "[Text(0.5, 0, 'Вес в граммах'), Text(0, 0.5, 'Заказы')]"
      ]
     },
     "execution_count": 20,
     "metadata": {},
     "output_type": "execute_result"
    },
    {
     "data": {
      "image/png": "[encoded data removed]",
      "text/plain": [
       "<Figure size 640x480 with 1 Axes>"
      ]
     },
     "metadata": {},
     "output_type": "display_data"
    }
   ],
   "source": [
    "# Weight in Grams - вес в граммах\n",
    "\n",
    "# Построим график\n",
    "weight_in_gms_hist = sns.histplot(df.weight_in_gms, \n",
    "                                  color='green', \n",
    "                                  alpha=0.7)\n",
    "\n",
    "# Подпишем оси\n",
    "weight_in_gms_hist.set(xlabel='Вес в граммах', \n",
    "                       ylabel='Заказы')"
   ]
  },
  {
   "cell_type": "markdown",
   "id": "f27e661f",
   "metadata": {},
   "source": [
    "Распределение похоже на бимодальное, здесь среднее или медиана не дадут абсолютно ничего, поэтому выделим 4 диапазона и посчитаем для них доли:\n",
    "1. До 2 кг;\n",
    "2. 2-4 кг;\n",
    "3. 4-6 кг;\n",
    "4. Более 6 кг."
   ]
  },
  {
   "cell_type": "code",
   "execution_count": 21,
   "id": "fb97a0f0",
   "metadata": {},
   "outputs": [],
   "source": [
    "# создадим отдельную колонку с этими группами\n",
    "\n",
    "df['weight_groups'] = pd.cut(df.weight_in_gms, [0, 2000, 4000, 6000, float('inf')])"
   ]
  },
  {
   "cell_type": "code",
   "execution_count": 22,
   "id": "57fad5f5",
   "metadata": {},
   "outputs": [
    {
     "data": {
      "text/plain": [
       "(4000.0, 6000.0]    54.2\n",
       "(0.0, 2000.0]       29.5\n",
       "(2000.0, 4000.0]    16.3\n",
       "(6000.0, inf]        0.1\n",
       "Name: weight_groups, dtype: float64"
      ]
     },
     "execution_count": 22,
     "metadata": {},
     "output_type": "execute_result"
    }
   ],
   "source": [
    "df.weight_groups.value_counts(normalize=True) \\\n",
    "                .mul(100) \\\n",
    "                .round(1)"
   ]
  },
  {
   "cell_type": "markdown",
   "id": "aa65fc5a",
   "metadata": {},
   "source": [
    "В итоге получаем то, что более половины заказов находится в диапазоне 4-6 кг, около трети до 2 кг, около 15% 2-4 кг и менее 1% более 6 кг.\n",
    "\n",
    "Мы можем учитывать эту информацию для определения кол-ва сотрудников и техники на складах, а также требований к ним."
   ]
  },
  {
   "cell_type": "markdown",
   "id": "46cf9f2f",
   "metadata": {},
   "source": [
    "Поскольку переменная Class, несмотря на числовые значения, по смыслу является номинативной, на данном этапе нет смысла что-либо рассчитывать за рамками известных уже нам значений: около 60% заказов доставляются вовремя."
   ]
  },
  {
   "cell_type": "code",
   "execution_count": 23,
   "id": "1c58bde1",
   "metadata": {},
   "outputs": [
    {
     "name": "stdout",
     "output_type": "stream",
     "text": [
      "['a' 'f' 'd' 'b' 'c']\n"
     ]
    }
   ],
   "source": [
    "# Посмотрим на другие номинативные переменные\n",
    "# Warehouse Block - склад\n",
    "\n",
    "print(df.warehouse_block.unique())"
   ]
  },
  {
   "cell_type": "code",
   "execution_count": 24,
   "id": "bab0427d",
   "metadata": {},
   "outputs": [],
   "source": [
    "# Создадим функцию для создания countplot\n",
    "\n",
    "def create_cp(column):\n",
    "    '''\n",
    "Принимает колонку column вида 'df.column', \n",
    "возвращает ее countplot.\n",
    "'''\n",
    "    \n",
    "    return sns.countplot(y=column,\n",
    "                         color='green', \n",
    "                         alpha=0.7,\n",
    "                         order=column.value_counts().index)"
   ]
  },
  {
   "cell_type": "code",
   "execution_count": 25,
   "id": "ddf3bfeb",
   "metadata": {},
   "outputs": [
    {
     "data": {
      "text/plain": [
       "[Text(0.5, 0, 'Заказы'), Text(0, 0.5, 'Склад')]"
      ]
     },
     "execution_count": 25,
     "metadata": {},
     "output_type": "execute_result"
    },
    {
     "data": {
      "image/png": "[encoded data removed]",
      "text/plain": [
       "<Figure size 640x480 with 1 Axes>"
      ]
     },
     "metadata": {},
     "output_type": "display_data"
    }
   ],
   "source": [
    "# Построим график\n",
    "warehouse_block_cp = create_cp(df.warehouse_block)\n",
    "\n",
    "# Подпишем оси\n",
    "warehouse_block_cp.set(xlabel='Заказы', \n",
    "                       ylabel='Склад')"
   ]
  },
  {
   "cell_type": "code",
   "execution_count": 26,
   "id": "db54205b",
   "metadata": {},
   "outputs": [
    {
     "data": {
      "text/html": [
       "<div>\n",
       "<style scoped>\n",
       "    .dataframe tbody tr th:only-of-type {\n",
       "        vertical-align: middle;\n",
       "    }\n",
       "\n",
       "    .dataframe tbody tr th {\n",
       "        vertical-align: top;\n",
       "    }\n",
       "\n",
       "    .dataframe thead th {\n",
       "        text-align: right;\n",
       "    }\n",
       "</style>\n",
       "<table border=\"1\" class=\"dataframe\">\n",
       "  <thead>\n",
       "    <tr style=\"text-align: right;\">\n",
       "      <th></th>\n",
       "      <th>warehouse_block</th>\n",
       "      <th>percentage</th>\n",
       "    </tr>\n",
       "  </thead>\n",
       "  <tbody>\n",
       "    <tr>\n",
       "      <th>0</th>\n",
       "      <td>f</td>\n",
       "      <td>33.3</td>\n",
       "    </tr>\n",
       "    <tr>\n",
       "      <th>1</th>\n",
       "      <td>d</td>\n",
       "      <td>16.7</td>\n",
       "    </tr>\n",
       "    <tr>\n",
       "      <th>2</th>\n",
       "      <td>b</td>\n",
       "      <td>16.7</td>\n",
       "    </tr>\n",
       "    <tr>\n",
       "      <th>3</th>\n",
       "      <td>c</td>\n",
       "      <td>16.7</td>\n",
       "    </tr>\n",
       "    <tr>\n",
       "      <th>4</th>\n",
       "      <td>a</td>\n",
       "      <td>16.7</td>\n",
       "    </tr>\n",
       "  </tbody>\n",
       "</table>\n",
       "</div>"
      ],
      "text/plain": [
       "  warehouse_block  percentage\n",
       "0               f        33.3\n",
       "1               d        16.7\n",
       "2               b        16.7\n",
       "3               c        16.7\n",
       "4               a        16.7"
      ]
     },
     "execution_count": 26,
     "metadata": {},
     "output_type": "execute_result"
    }
   ],
   "source": [
    "perc_table(df.warehouse_block)"
   ]
  },
  {
   "cell_type": "markdown",
   "id": "5eadc546",
   "metadata": {},
   "source": [
    "Со склада F отправляется примерно в 2 раза больше заказов, чем с любого другого. Все остальные распределены равномерно.\n",
    "\n",
    "Мы можем учитывать это при оптимизации логистических процессов."
   ]
  },
  {
   "cell_type": "code",
   "execution_count": 27,
   "id": "99ec9ecb",
   "metadata": {},
   "outputs": [
    {
     "name": "stdout",
     "output_type": "stream",
     "text": [
      "['ship' 'road' 'flight']\n"
     ]
    }
   ],
   "source": [
    "# Тип доставки\n",
    "\n",
    "print(df.mode_of_shipment.unique())"
   ]
  },
  {
   "cell_type": "code",
   "execution_count": 28,
   "id": "45075bcf",
   "metadata": {},
   "outputs": [
    {
     "data": {
      "text/plain": [
       "[Text(0.5, 0, 'Заказы'), Text(0, 0.5, 'Тип доставки')]"
      ]
     },
     "execution_count": 28,
     "metadata": {},
     "output_type": "execute_result"
    },
    {
     "data": {
      "image/png": "[encoded data removed]",
      "text/plain": [
       "<Figure size 640x480 with 1 Axes>"
      ]
     },
     "metadata": {},
     "output_type": "display_data"
    }
   ],
   "source": [
    "# Построим график\n",
    "mode_of_shipment_cp = create_cp(df.mode_of_shipment)\n",
    "\n",
    "# Подпишем оси\n",
    "mode_of_shipment_cp.set(xlabel='Заказы', \n",
    "                        ylabel='Тип доставки')"
   ]
  },
  {
   "cell_type": "code",
   "execution_count": 29,
   "id": "e8db3361",
   "metadata": {},
   "outputs": [
    {
     "data": {
      "text/html": [
       "<div>\n",
       "<style scoped>\n",
       "    .dataframe tbody tr th:only-of-type {\n",
       "        vertical-align: middle;\n",
       "    }\n",
       "\n",
       "    .dataframe tbody tr th {\n",
       "        vertical-align: top;\n",
       "    }\n",
       "\n",
       "    .dataframe thead th {\n",
       "        text-align: right;\n",
       "    }\n",
       "</style>\n",
       "<table border=\"1\" class=\"dataframe\">\n",
       "  <thead>\n",
       "    <tr style=\"text-align: right;\">\n",
       "      <th></th>\n",
       "      <th>mode_of_shipment</th>\n",
       "      <th>percentage</th>\n",
       "    </tr>\n",
       "  </thead>\n",
       "  <tbody>\n",
       "    <tr>\n",
       "      <th>0</th>\n",
       "      <td>ship</td>\n",
       "      <td>67.8</td>\n",
       "    </tr>\n",
       "    <tr>\n",
       "      <th>1</th>\n",
       "      <td>flight</td>\n",
       "      <td>16.2</td>\n",
       "    </tr>\n",
       "    <tr>\n",
       "      <th>2</th>\n",
       "      <td>road</td>\n",
       "      <td>16.0</td>\n",
       "    </tr>\n",
       "  </tbody>\n",
       "</table>\n",
       "</div>"
      ],
      "text/plain": [
       "  mode_of_shipment  percentage\n",
       "0             ship        67.8\n",
       "1           flight        16.2\n",
       "2             road        16.0"
      ]
     },
     "execution_count": 29,
     "metadata": {},
     "output_type": "execute_result"
    }
   ],
   "source": [
    "perc_table(df.mode_of_shipment)"
   ]
  },
  {
   "cell_type": "markdown",
   "id": "e0098d6e",
   "metadata": {},
   "source": [
    "Около 2/3 доставок происходят по морю. Возможно, это одна из причин того, что мы не доставляем заказы в срок, т.к. из 3х представленных вариантов этот кажется наиболее долгим и наименее точным по времени."
   ]
  },
  {
   "cell_type": "code",
   "execution_count": 30,
   "id": "247e13d7",
   "metadata": {},
   "outputs": [
    {
     "name": "stdout",
     "output_type": "stream",
     "text": [
      "['medium' 'low' 'high']\n"
     ]
    }
   ],
   "source": [
    "# Приоритеты по доставке\n",
    "\n",
    "print(df.product_importance.unique())"
   ]
  },
  {
   "cell_type": "code",
   "execution_count": 31,
   "id": "70568b3d",
   "metadata": {},
   "outputs": [
    {
     "data": {
      "text/plain": [
       "[Text(0.5, 0, 'Заказы'), Text(0, 0.5, 'Приоритет по доставке')]"
      ]
     },
     "execution_count": 31,
     "metadata": {},
     "output_type": "execute_result"
    },
    {
     "data": {
      "image/png": "[encoded data removed]",
      "text/plain": [
       "<Figure size 640x480 with 1 Axes>"
      ]
     },
     "metadata": {},
     "output_type": "display_data"
    }
   ],
   "source": [
    "# Построим график\n",
    "product_importance_cp = create_cp(df.product_importance)\n",
    "\n",
    "# Подпишем оси\n",
    "product_importance_cp.set(xlabel='Заказы', \n",
    "                          ylabel='Приоритет по доставке')"
   ]
  },
  {
   "cell_type": "code",
   "execution_count": 32,
   "id": "20665029",
   "metadata": {},
   "outputs": [
    {
     "data": {
      "text/html": [
       "<div>\n",
       "<style scoped>\n",
       "    .dataframe tbody tr th:only-of-type {\n",
       "        vertical-align: middle;\n",
       "    }\n",
       "\n",
       "    .dataframe tbody tr th {\n",
       "        vertical-align: top;\n",
       "    }\n",
       "\n",
       "    .dataframe thead th {\n",
       "        text-align: right;\n",
       "    }\n",
       "</style>\n",
       "<table border=\"1\" class=\"dataframe\">\n",
       "  <thead>\n",
       "    <tr style=\"text-align: right;\">\n",
       "      <th></th>\n",
       "      <th>product_importance</th>\n",
       "      <th>percentage</th>\n",
       "    </tr>\n",
       "  </thead>\n",
       "  <tbody>\n",
       "    <tr>\n",
       "      <th>0</th>\n",
       "      <td>low</td>\n",
       "      <td>48.2</td>\n",
       "    </tr>\n",
       "    <tr>\n",
       "      <th>1</th>\n",
       "      <td>medium</td>\n",
       "      <td>43.2</td>\n",
       "    </tr>\n",
       "    <tr>\n",
       "      <th>2</th>\n",
       "      <td>high</td>\n",
       "      <td>8.6</td>\n",
       "    </tr>\n",
       "  </tbody>\n",
       "</table>\n",
       "</div>"
      ],
      "text/plain": [
       "  product_importance  percentage\n",
       "0                low        48.2\n",
       "1             medium        43.2\n",
       "2               high         8.6"
      ]
     },
     "execution_count": 32,
     "metadata": {},
     "output_type": "execute_result"
    }
   ],
   "source": [
    "perc_table(df.product_importance)"
   ]
  },
  {
   "cell_type": "markdown",
   "id": "b8931a26",
   "metadata": {},
   "source": [
    "Более 90% заказов имеет низкий и средний приоритеты по доставке. Возможно, это одна из причин задержек."
   ]
  },
  {
   "cell_type": "code",
   "execution_count": 33,
   "id": "6ea302b8",
   "metadata": {},
   "outputs": [
    {
     "name": "stdout",
     "output_type": "stream",
     "text": [
      "['m' 'f']\n"
     ]
    }
   ],
   "source": [
    "# пол клиентов\n",
    "\n",
    "print(df.gender.unique())"
   ]
  },
  {
   "cell_type": "code",
   "execution_count": 34,
   "id": "4623e9ce",
   "metadata": {},
   "outputs": [
    {
     "data": {
      "text/html": [
       "<div>\n",
       "<style scoped>\n",
       "    .dataframe tbody tr th:only-of-type {\n",
       "        vertical-align: middle;\n",
       "    }\n",
       "\n",
       "    .dataframe tbody tr th {\n",
       "        vertical-align: top;\n",
       "    }\n",
       "\n",
       "    .dataframe thead th {\n",
       "        text-align: right;\n",
       "    }\n",
       "</style>\n",
       "<table border=\"1\" class=\"dataframe\">\n",
       "  <thead>\n",
       "    <tr style=\"text-align: right;\">\n",
       "      <th></th>\n",
       "      <th>gender</th>\n",
       "      <th>percentage</th>\n",
       "    </tr>\n",
       "  </thead>\n",
       "  <tbody>\n",
       "    <tr>\n",
       "      <th>0</th>\n",
       "      <td>f</td>\n",
       "      <td>50.4</td>\n",
       "    </tr>\n",
       "    <tr>\n",
       "      <th>1</th>\n",
       "      <td>m</td>\n",
       "      <td>49.6</td>\n",
       "    </tr>\n",
       "  </tbody>\n",
       "</table>\n",
       "</div>"
      ],
      "text/plain": [
       "  gender  percentage\n",
       "0      f        50.4\n",
       "1      m        49.6"
      ]
     },
     "execution_count": 34,
     "metadata": {},
     "output_type": "execute_result"
    }
   ],
   "source": [
    "perc_table(df.gender)"
   ]
  },
  {
   "cell_type": "markdown",
   "id": "878e6d4e",
   "metadata": {},
   "source": [
    "Кол-во заказов от мужчин и от женщин примерно равны."
   ]
  },
  {
   "cell_type": "markdown",
   "id": "79a609e7",
   "metadata": {},
   "source": [
    "# Распределения и меры центральной тенденции. Резюме.\n",
    "\n",
    "- в среднем один заказ сопровождается 4мя контактами со службой поддержки. Более 80% заказов - от 4 до 6 контактов.\n",
    "- средний рейтинг удовлетворенности заказом среди наших клиентов - 3 балла из 5 возможных.\n",
    "- около 80% заказов являются повторными после 2-4 предыдущих.\n",
    "- на 76% заказов была предложена скидка до 10%, на остальные 24% - от 11% до 65%.\n",
    "- более половины заказов находится в диапазоне 4-6 кг, около трети до 2 кг, около 15% 2-4 кг и менее 1% более 6 кг.\n",
    "- около 60% заказов доставляются вовремя.\n",
    "- со склада F отправляется примерно в 2 раза больше заказов, чем с любого другого. Все остальные распределены равномерно.\n",
    "- около 2/3 доставок происходят по морю.\n",
    "- более 90% заказов имеет низкий и средний приоритеты по доставке.\n",
    "- кол-во заказов от мужчин и от женщин примерно равны."
   ]
  },
  {
   "cell_type": "markdown",
   "id": "109e270c",
   "metadata": {},
   "source": [
    "# 4.3. Поиск взаимосвязей.\n",
    "Выдвинем ряд идей о возможных взаимосвязях, посмотрим на цифры и графики, при необходимости проверим различия статистически."
   ]
  },
  {
   "cell_type": "markdown",
   "id": "97e0321a",
   "metadata": {},
   "source": [
    "# 4.3.1. Рейтинг удовлетворенности.\n",
    "Посмотрим на влияние различных признаков на рейтинг."
   ]
  },
  {
   "cell_type": "markdown",
   "id": "d5055732",
   "metadata": {},
   "source": [
    "Кол-во контактов со службой поддержки может влиять положительно на удовлетворенность, т.к. служба оказывает помощь, решает проблемы, иногда успокаивает, дарит подарки и т.п., но в то же время может быть и обратный эффект - люди в основном обращаются за помощью, когда у них возникают проблемы, а это уже негативный оттенок. \n",
    "\n",
    "Если бы у нас была информация о входящих/исходящих звонках, о времени относительно выполнения заказа - можно было бы сделать более точное предположение."
   ]
  },
  {
   "cell_type": "code",
   "execution_count": 35,
   "id": "632762ce",
   "metadata": {},
   "outputs": [],
   "source": [
    "# Создадим функцию, которая группирует значения\n",
    "# и выводит средний рейтинг\n",
    "\n",
    "def avg_rating(column):\n",
    "    '''\n",
    "Принимает колонку column вида 'df.column', \n",
    "возвращает таблицу со средним рейтингом.\n",
    "'''\n",
    "    return df.groupby(column, as_index=False) \\\n",
    "             .customer_rating.mean() \\\n",
    "             .round(2)"
   ]
  },
  {
   "cell_type": "code",
   "execution_count": 36,
   "id": "d05adfff",
   "metadata": {},
   "outputs": [],
   "source": [
    "# Создадим функцию, которая будет возвращать барплот\n",
    "\n",
    "def create_bp(data):\n",
    "    '''Принимает датафрейм data, возвращает барчарт'''\n",
    "    return sns.barplot(x=data[data.columns[0]], \n",
    "                       y=data[data.columns[1]],\n",
    "                       color='green', \n",
    "                       alpha=0.7)"
   ]
  },
  {
   "cell_type": "code",
   "execution_count": 37,
   "id": "4d22e111",
   "metadata": {},
   "outputs": [],
   "source": [
    "# Посмотрим на средние значения рейтинга \n",
    "# для разного количества звонков\n",
    "\n",
    "calls_rating = avg_rating(df.customer_care_calls)"
   ]
  },
  {
   "cell_type": "code",
   "execution_count": 38,
   "id": "95dbb838",
   "metadata": {},
   "outputs": [
    {
     "data": {
      "text/html": [
       "<div>\n",
       "<style scoped>\n",
       "    .dataframe tbody tr th:only-of-type {\n",
       "        vertical-align: middle;\n",
       "    }\n",
       "\n",
       "    .dataframe tbody tr th {\n",
       "        vertical-align: top;\n",
       "    }\n",
       "\n",
       "    .dataframe thead th {\n",
       "        text-align: right;\n",
       "    }\n",
       "</style>\n",
       "<table border=\"1\" class=\"dataframe\">\n",
       "  <thead>\n",
       "    <tr style=\"text-align: right;\">\n",
       "      <th></th>\n",
       "      <th>customer_care_calls</th>\n",
       "      <th>customer_rating</th>\n",
       "    </tr>\n",
       "  </thead>\n",
       "  <tbody>\n",
       "    <tr>\n",
       "      <th>0</th>\n",
       "      <td>2</td>\n",
       "      <td>3.02</td>\n",
       "    </tr>\n",
       "    <tr>\n",
       "      <th>1</th>\n",
       "      <td>3</td>\n",
       "      <td>2.96</td>\n",
       "    </tr>\n",
       "    <tr>\n",
       "      <th>2</th>\n",
       "      <td>4</td>\n",
       "      <td>3.00</td>\n",
       "    </tr>\n",
       "    <tr>\n",
       "      <th>3</th>\n",
       "      <td>5</td>\n",
       "      <td>2.97</td>\n",
       "    </tr>\n",
       "    <tr>\n",
       "      <th>4</th>\n",
       "      <td>6</td>\n",
       "      <td>3.08</td>\n",
       "    </tr>\n",
       "    <tr>\n",
       "      <th>5</th>\n",
       "      <td>7</td>\n",
       "      <td>3.00</td>\n",
       "    </tr>\n",
       "  </tbody>\n",
       "</table>\n",
       "</div>"
      ],
      "text/plain": [
       "   customer_care_calls  customer_rating\n",
       "0                    2             3.02\n",
       "1                    3             2.96\n",
       "2                    4             3.00\n",
       "3                    5             2.97\n",
       "4                    6             3.08\n",
       "5                    7             3.00"
      ]
     },
     "execution_count": 38,
     "metadata": {},
     "output_type": "execute_result"
    }
   ],
   "source": [
    "calls_rating"
   ]
  },
  {
   "cell_type": "code",
   "execution_count": 39,
   "id": "165af6d0",
   "metadata": {},
   "outputs": [
    {
     "data": {
      "text/plain": [
       "[Text(0.5, 0, 'Контакты со Службой Поддержки'),\n",
       " Text(0, 0.5, 'Средний рейтинг заказа')]"
      ]
     },
     "execution_count": 39,
     "metadata": {},
     "output_type": "execute_result"
    },
    {
     "data": {
      "image/png": "[encoded data removed]",
      "text/plain": [
       "<Figure size 640x480 with 1 Axes>"
      ]
     },
     "metadata": {},
     "output_type": "display_data"
    }
   ],
   "source": [
    "# Построим график\n",
    "calls_rating_bp = create_bp(calls_rating)\n",
    "\n",
    "# Подпишем оси\n",
    "calls_rating_bp.set(xlabel='Контакты со Службой Поддержки',\n",
    "                    ylabel='Средний рейтинг заказа')"
   ]
  },
  {
   "cell_type": "markdown",
   "id": "50cad7b1",
   "metadata": {},
   "source": [
    "Различия между группами минимальны, при этом какой-то направленности не наблюдается."
   ]
  },
  {
   "cell_type": "markdown",
   "id": "ecdb8aad",
   "metadata": {},
   "source": [
    "Кол-во предыдущих покупок может положительно влиять на рейтинг, т.к. кажется, что чем больше покупок совершил клиент, тем больше вероятность, что в целом он доволен нашим сервисом, хорошо с ним знаком и его все устраивает."
   ]
  },
  {
   "cell_type": "code",
   "execution_count": 40,
   "id": "f19afec9",
   "metadata": {},
   "outputs": [],
   "source": [
    "# Посмотрим на средние значения рейтинга \n",
    "# для разного количества предыдущих покупок\n",
    "\n",
    "purchases_rating = avg_rating(df.prior_purchases)"
   ]
  },
  {
   "cell_type": "code",
   "execution_count": 41,
   "id": "85dc2469",
   "metadata": {},
   "outputs": [
    {
     "data": {
      "text/html": [
       "<div>\n",
       "<style scoped>\n",
       "    .dataframe tbody tr th:only-of-type {\n",
       "        vertical-align: middle;\n",
       "    }\n",
       "\n",
       "    .dataframe tbody tr th {\n",
       "        vertical-align: top;\n",
       "    }\n",
       "\n",
       "    .dataframe thead th {\n",
       "        text-align: right;\n",
       "    }\n",
       "</style>\n",
       "<table border=\"1\" class=\"dataframe\">\n",
       "  <thead>\n",
       "    <tr style=\"text-align: right;\">\n",
       "      <th></th>\n",
       "      <th>prior_purchases</th>\n",
       "      <th>customer_rating</th>\n",
       "    </tr>\n",
       "  </thead>\n",
       "  <tbody>\n",
       "    <tr>\n",
       "      <th>0</th>\n",
       "      <td>2</td>\n",
       "      <td>2.96</td>\n",
       "    </tr>\n",
       "    <tr>\n",
       "      <th>1</th>\n",
       "      <td>3</td>\n",
       "      <td>3.00</td>\n",
       "    </tr>\n",
       "    <tr>\n",
       "      <th>2</th>\n",
       "      <td>4</td>\n",
       "      <td>3.03</td>\n",
       "    </tr>\n",
       "    <tr>\n",
       "      <th>3</th>\n",
       "      <td>5</td>\n",
       "      <td>2.94</td>\n",
       "    </tr>\n",
       "    <tr>\n",
       "      <th>4</th>\n",
       "      <td>6</td>\n",
       "      <td>3.02</td>\n",
       "    </tr>\n",
       "    <tr>\n",
       "      <th>5</th>\n",
       "      <td>7</td>\n",
       "      <td>2.87</td>\n",
       "    </tr>\n",
       "    <tr>\n",
       "      <th>6</th>\n",
       "      <td>8</td>\n",
       "      <td>3.04</td>\n",
       "    </tr>\n",
       "    <tr>\n",
       "      <th>7</th>\n",
       "      <td>10</td>\n",
       "      <td>3.20</td>\n",
       "    </tr>\n",
       "  </tbody>\n",
       "</table>\n",
       "</div>"
      ],
      "text/plain": [
       "   prior_purchases  customer_rating\n",
       "0                2             2.96\n",
       "1                3             3.00\n",
       "2                4             3.03\n",
       "3                5             2.94\n",
       "4                6             3.02\n",
       "5                7             2.87\n",
       "6                8             3.04\n",
       "7               10             3.20"
      ]
     },
     "execution_count": 41,
     "metadata": {},
     "output_type": "execute_result"
    }
   ],
   "source": [
    "purchases_rating"
   ]
  },
  {
   "cell_type": "code",
   "execution_count": 42,
   "id": "a38c3f68",
   "metadata": {},
   "outputs": [
    {
     "data": {
      "text/plain": [
       "[Text(0.5, 0, 'Предыдущие покупки'), Text(0, 0.5, 'Средний рейтинг заказа')]"
      ]
     },
     "execution_count": 42,
     "metadata": {},
     "output_type": "execute_result"
    },
    {
     "data": {
      "image/png": "[encoded data removed]",
      "text/plain": [
       "<Figure size 640x480 with 1 Axes>"
      ]
     },
     "metadata": {},
     "output_type": "display_data"
    }
   ],
   "source": [
    "# Построим график\n",
    "purchases_rating_bp = create_bp(purchases_rating)\n",
    "\n",
    "# Подпишем оси\n",
    "purchases_rating_bp.set(xlabel='Предыдущие покупки',\n",
    "                        ylabel='Средний рейтинг заказа')"
   ]
  },
  {
   "cell_type": "markdown",
   "id": "a81ebbe1",
   "metadata": {},
   "source": [
    "Какого-то устойчивого тренда не наблюдается. У 10 покупок средний рейтинг самый высокий, но выборка относительно других значений минимальна, различия небольшие, а для всех остальных значений распределение похоже на равномерное."
   ]
  },
  {
   "cell_type": "markdown",
   "id": "8643a746",
   "metadata": {},
   "source": [
    "Проведем тесты, чтобы проверить, насколько отличия рейтинга между группой с 10ю покупками и всеми остальными группами статистически значимы."
   ]
  },
  {
   "cell_type": "markdown",
   "id": "17409920",
   "metadata": {},
   "source": [
    "Нам необходимо сравнить средние 2х выборок. В классической теории первое, что для этого отлично подходит - T-тест или его непараметрический аналог - U-тест Манна-Уитни, который сранивает средние ранги 2х групп, кроме того - Bootstrap.\n",
    "\n",
    "До сих пор не утихают споры относительно требований к Т-тесту, поэтому мы сначала проверим соответствие этим требованием, затем при необходимости проведем симуляции.\n",
    "\n",
    "Требования для проведения Т-теста:\n",
    "1. Равенство выборок. Мы знаем, что они неравны, поэтому будем использовать T-тест Уэлча.\n",
    "2. Гомоскедастичность. Можно было бы провести тест Левена, но для T-теста Уэлча отсутствие гомоскедастичности - не проблема.\n",
    "2. Нормальность. Проведем тесты Д'Агустино-Пирсона (т.к. Шапиро-Уилк плохо работает для выборок более 5000 строк), построим qqplot'ы."
   ]
  },
  {
   "cell_type": "code",
   "execution_count": 43,
   "id": "13ec0cc9",
   "metadata": {},
   "outputs": [],
   "source": [
    "# Выделим 2 группы значений\n",
    "\n",
    "purchases_descent = df[df.prior_purchases < 10].customer_rating\n",
    "purchases_top = df[df.prior_purchases == 10].customer_rating"
   ]
  },
  {
   "cell_type": "code",
   "execution_count": 44,
   "id": "774e2420",
   "metadata": {},
   "outputs": [
    {
     "data": {
      "text/plain": [
       "[Text(0.5, 0, 'Рейтинг заказа'), Text(0, 0.5, 'Кол-во оценок')]"
      ]
     },
     "execution_count": 44,
     "metadata": {},
     "output_type": "execute_result"
    },
    {
     "data": {
      "image/png": "[encoded data removed]",
      "text/plain": [
       "<Figure size 640x480 with 1 Axes>"
      ]
     },
     "metadata": {},
     "output_type": "display_data"
    }
   ],
   "source": [
    "# Посмотрим на распределения выборок\n",
    "\n",
    "# Построим график\n",
    "purchases_descent_hist = create_hist(purchases_descent)\n",
    "\n",
    "# Подпишем оси\n",
    "purchases_descent_hist.set(xlabel='Рейтинг заказа',\n",
    "                           ylabel='Кол-во оценок')"
   ]
  },
  {
   "cell_type": "code",
   "execution_count": 45,
   "id": "b8cadb8e",
   "metadata": {},
   "outputs": [
    {
     "data": {
      "text/plain": [
       "[Text(0.5, 0, 'Рейтинг заказа'), Text(0, 0.5, 'Кол-во оценок')]"
      ]
     },
     "execution_count": 45,
     "metadata": {},
     "output_type": "execute_result"
    },
    {
     "data": {
      "image/png": "[encoded data removed]",
      "text/plain": [
       "<Figure size 640x480 with 1 Axes>"
      ]
     },
     "metadata": {},
     "output_type": "display_data"
    }
   ],
   "source": [
    "# Построим график\n",
    "purchases_top_hist = create_hist(purchases_top)\n",
    "\n",
    "# Подпишем оси\n",
    "purchases_top_hist.set(xlabel='Рейтинг заказа',\n",
    "                       ylabel='Кол-во оценок')"
   ]
  },
  {
   "cell_type": "markdown",
   "id": "53ffb6a2",
   "metadata": {},
   "source": [
    "Визуально распределения не похожи на нормальные. но все же проведем все запланированные проверки."
   ]
  },
  {
   "cell_type": "markdown",
   "id": "2eadb561",
   "metadata": {},
   "source": [
    "Проведем тест Д'Агустино-Пирсона, где Н0 говорит о том, что выборка взята из нормального распределения, Н1 - что выборка взята не из нормального распределения."
   ]
  },
  {
   "cell_type": "code",
   "execution_count": 46,
   "id": "bf0d8d18",
   "metadata": {},
   "outputs": [
    {
     "data": {
      "text/plain": [
       "NormaltestResult(statistic=34226.370351165686, pvalue=0.0)"
      ]
     },
     "execution_count": 46,
     "metadata": {},
     "output_type": "execute_result"
    }
   ],
   "source": [
    "# Тест Д'Агустино-Пирсона\n",
    "\n",
    "ss.normaltest(purchases_descent)"
   ]
  },
  {
   "cell_type": "code",
   "execution_count": 47,
   "id": "2b888e3c",
   "metadata": {},
   "outputs": [
    {
     "data": {
      "text/plain": [
       "NormaltestResult(statistic=132.033935665514, pvalue=2.134003651684199e-29)"
      ]
     },
     "execution_count": 47,
     "metadata": {},
     "output_type": "execute_result"
    }
   ],
   "source": [
    "ss.normaltest(purchases_top)"
   ]
  },
  {
   "cell_type": "markdown",
   "id": "baa24aef",
   "metadata": {},
   "source": [
    "При p-value < 0.05 мы отклоняем нулевую гипотезу, о том, что данные выборки взяты из нормальных распределений."
   ]
  },
  {
   "cell_type": "markdown",
   "id": "94dbfa7b",
   "metadata": {},
   "source": [
    "Иногда тесты на нормальность ошибочно не признают выборки нормальными, поэтому лучше дополнительно смотреть qqplot и уровень корреляции на нем."
   ]
  },
  {
   "cell_type": "code",
   "execution_count": 48,
   "id": "831efc3b",
   "metadata": {},
   "outputs": [
    {
     "data": {
      "text/plain": [
       "<AxesSubplot:xlabel='Theoretical quantiles', ylabel='Ordered quantiles'>"
      ]
     },
     "execution_count": 48,
     "metadata": {},
     "output_type": "execute_result"
    },
    {
     "data": {
      "image/png": "[encoded data removed]",
      "text/plain": [
       "<Figure size 640x480 with 1 Axes>"
      ]
     },
     "metadata": {},
     "output_type": "display_data"
    }
   ],
   "source": [
    "# Построим qqplot (более информативно в pingouin)\n",
    "\n",
    "pg.qqplot(purchases_descent)"
   ]
  },
  {
   "cell_type": "code",
   "execution_count": 49,
   "id": "782620ec",
   "metadata": {},
   "outputs": [
    {
     "data": {
      "text/plain": [
       "<AxesSubplot:xlabel='Theoretical quantiles', ylabel='Ordered quantiles'>"
      ]
     },
     "execution_count": 49,
     "metadata": {},
     "output_type": "execute_result"
    },
    {
     "data": {
      "image/png": "[encoded data removed]",
      "text/plain": [
       "<Figure size 640x480 with 1 Axes>"
      ]
     },
     "metadata": {},
     "output_type": "display_data"
    }
   ],
   "source": [
    "pg.qqplot(purchases_top)"
   ]
  },
  {
   "cell_type": "code",
   "execution_count": 50,
   "id": "e172a4c4",
   "metadata": {},
   "outputs": [
    {
     "data": {
      "text/plain": [
       "0.9428679653058534"
      ]
     },
     "execution_count": 50,
     "metadata": {},
     "output_type": "execute_result"
    }
   ],
   "source": [
    "np.sqrt(0.889)"
   ]
  },
  {
   "cell_type": "code",
   "execution_count": 51,
   "id": "8ca90c43",
   "metadata": {},
   "outputs": [
    {
     "data": {
      "text/plain": [
       "0.9407443861113389"
      ]
     },
     "execution_count": 51,
     "metadata": {},
     "output_type": "execute_result"
    }
   ],
   "source": [
    "np.sqrt(0.885)"
   ]
  },
  {
   "cell_type": "markdown",
   "id": "51a626eb",
   "metadata": {},
   "source": [
    "Кроме визуального расхождения, значения коффициента детерминации слишком низкие, коэффициенты корреляции около 0.94, что ниже допустимого значения 0.95."
   ]
  },
  {
   "cell_type": "markdown",
   "id": "aa953334",
   "metadata": {},
   "source": [
    "Как итог, мы не можем утверждать, что данные распределения нормальные, поэтому проводить T-тест, исходя из классической теории здесь будет неправильно, но есть и другая позиция, говорящая нам о том, что для больших выборок нормальность не является обязательным требоваванием, поэтому просимулируем методом Монте-Карло оба варианта, а также Bootstrap, чтобы определить, какой же все таки тест здесь будет смотреться лучше."
   ]
  },
  {
   "cell_type": "code",
   "execution_count": 52,
   "id": "52b5d933",
   "metadata": {},
   "outputs": [],
   "source": [
    "# Создадим генераторы наших распределений\n",
    "\n",
    "def top_dist(size):\n",
    "    '''\n",
    "Принимает размер необходимой выборки, возвращает выборку соответствующего \n",
    "размера, сгенерированную из распределения, аналогичного распределению заказов \n",
    "с 10 предыдущими покупками.\n",
    "'''\n",
    "    \n",
    "    # Создадим Series с оценками, \n",
    "    # соберем для Scipy значения и их частоту    \n",
    "    purchases_top_dist = purchases_top.value_counts(normalize=True) \\\n",
    "                                      .reset_index()\n",
    "    xk_top = purchases_top_dist['index'].to_list()\n",
    "    pk_top = purchases_top_dist.customer_rating.to_list() \n",
    "    \n",
    "    # Создадим распределение    \n",
    "    top = ss.rv_discrete(name='top', values=(xk_top, pk_top))\n",
    "    \n",
    "    # Вернем сгенерированное заданного размера    \n",
    "    return top.rvs(size=size)"
   ]
  },
  {
   "cell_type": "code",
   "execution_count": 53,
   "id": "5eab39a3",
   "metadata": {},
   "outputs": [],
   "source": [
    "def descent_dist(size):\n",
    "    '''\n",
    "Принимает размер необходимой выборки, возвращает выборку соответствующего \n",
    "размера, сгенерированную из распределения, аналогичного распределению заказов \n",
    "менее, чем с 10 предыдущими покупками.\n",
    "'''\n",
    "    \n",
    "    # Создадим Series с оценками, \n",
    "    # соберем для Scipy значения и их частоту\n",
    "    purchases_descent_dist = purchases_descent.value_counts(normalize=True) \\\n",
    "                                              .reset_index()\n",
    "    xk_descent = purchases_descent_dist['index'].to_list()\n",
    "    pk_descent = purchases_descent_dist.customer_rating.to_list()\n",
    "    \n",
    "    # Создадим распределение\n",
    "    descent = ss.rv_discrete(name='descent', values=(xk_descent, pk_descent))\n",
    "    \n",
    "    # Вернем сгенерированное заданного размера \n",
    "    return descent.rvs(size=size)"
   ]
  },
  {
   "cell_type": "code",
   "execution_count": 54,
   "id": "c8f58bd8",
   "metadata": {},
   "outputs": [],
   "source": [
    "# Создадим генератор распределения с 10 покупками, \n",
    "# сместив его среднее на уровень остальных, чтобы проверить ошибки 1го рода\n",
    "\n",
    "mean_diff = purchases_top.mean() - purchases_descent.mean()\n",
    "\n",
    "def top_dist_equal(size):\n",
    "    '''\n",
    "Принимает размер необходимой выборки, возвращает выборку соответствующего \n",
    "размера, сгенерированную из распределения, аналогичного распределению заказов \n",
    "с 10 предыдущими покупками, со смещенным средним, равным среднему заказов\n",
    "с менее, чем 10 предыдущими покупками.\n",
    "'''\n",
    "    \n",
    "    # Создадим Series с оценками\n",
    "    purchases_top_dist = purchases_top.value_counts(normalize=True) \\\n",
    "                                      .reset_index()\n",
    "    \n",
    "    # Соберем для Scipy значения и их частоту,\n",
    "    # смещаем все значения Series на разницу между средними    \n",
    "    xk_top = (purchases_top_dist['index'] - mean_diff).to_list()\n",
    "    pk_top = purchases_top_dist.customer_rating.to_list() \n",
    "    \n",
    "    # Создадим распределение\n",
    "    top = ss.rv_discrete(name='top', values=(xk_top, pk_top))\n",
    "    \n",
    "    # Вернем сгенерированное заданного размера\n",
    "    return top.rvs(size=size)"
   ]
  },
  {
   "cell_type": "markdown",
   "id": "235e6835",
   "metadata": {},
   "source": [
    "Начнем с Т-теста Уэлча, где Н0 говорит об отсутствии отличий между средними, а Н1 о наличии статистически значимых отличий."
   ]
  },
  {
   "cell_type": "code",
   "execution_count": 55,
   "id": "309d8625",
   "metadata": {},
   "outputs": [
    {
     "data": {
      "text/plain": [
       "Ttest_indResult(statistic=-1.9340192107935696, pvalue=0.05465589316707659)"
      ]
     },
     "execution_count": 55,
     "metadata": {},
     "output_type": "execute_result"
    }
   ],
   "source": [
    "ss.ttest_ind(purchases_descent, purchases_top, equal_var=False)"
   ]
  },
  {
   "cell_type": "code",
   "execution_count": 56,
   "id": "d8544227",
   "metadata": {},
   "outputs": [],
   "source": [
    "# Мощность можно проверить с помощью специального теста, \n",
    "# предварительно рассчитав d Коэна\n",
    "\n",
    "d = (purchases_top.mean() - purchases_descent.mean()) \\\n",
    "     / np.sqrt((np.std(purchases_top)**2 \n",
    "                + np.std(purchases_descent)**2) / 2)"
   ]
  },
  {
   "cell_type": "code",
   "execution_count": 57,
   "id": "46be6c6a",
   "metadata": {},
   "outputs": [
    {
     "data": {
      "text/plain": [
       "0.4962870013469116"
      ]
     },
     "execution_count": 57,
     "metadata": {},
     "output_type": "execute_result"
    }
   ],
   "source": [
    "pg.power_ttest2n(len(purchases_descent), \n",
    "                 len(purchases_top), \n",
    "                 d=d, \n",
    "                 alpha=0.05)"
   ]
  },
  {
   "cell_type": "markdown",
   "id": "fa793559",
   "metadata": {},
   "source": [
    "При p-value > 0.05 у нас нет оснований для того, чтобы отвергнуть нулевую гипотезу, но мощность (т.е. кол-во ошибок второго рода) находится на низком уровне - в районе 50% при стандартном допустимом значении в 80%, т.е. в нашей ситуации вероятность того, что на самом деле различия есть - около 50%. На результаты такого качества полагаться мы не можем."
   ]
  },
  {
   "cell_type": "markdown",
   "id": "57a9180b",
   "metadata": {},
   "source": [
    "Проведем U-тест Манна-Уитни, который сравнивает средние ранги 2х выборок, где Н0 говорит об отсутствии статистически значимых различий между ними, а Н1 - о наличии."
   ]
  },
  {
   "cell_type": "code",
   "execution_count": 58,
   "id": "2bc00bbd",
   "metadata": {},
   "outputs": [
    {
     "data": {
      "text/html": [
       "<div>\n",
       "<style scoped>\n",
       "    .dataframe tbody tr th:only-of-type {\n",
       "        vertical-align: middle;\n",
       "    }\n",
       "\n",
       "    .dataframe tbody tr th {\n",
       "        vertical-align: top;\n",
       "    }\n",
       "\n",
       "    .dataframe thead th {\n",
       "        text-align: right;\n",
       "    }\n",
       "</style>\n",
       "<table border=\"1\" class=\"dataframe\">\n",
       "  <thead>\n",
       "    <tr style=\"text-align: right;\">\n",
       "      <th></th>\n",
       "      <th>U-val</th>\n",
       "      <th>alternative</th>\n",
       "      <th>p-val</th>\n",
       "      <th>RBC</th>\n",
       "      <th>CLES</th>\n",
       "    </tr>\n",
       "  </thead>\n",
       "  <tbody>\n",
       "    <tr>\n",
       "      <th>MWU</th>\n",
       "      <td>882187.0</td>\n",
       "      <td>two-sided</td>\n",
       "      <td>0.049693</td>\n",
       "      <td>0.083899</td>\n",
       "      <td>0.458051</td>\n",
       "    </tr>\n",
       "  </tbody>\n",
       "</table>\n",
       "</div>"
      ],
      "text/plain": [
       "        U-val alternative     p-val       RBC      CLES\n",
       "MWU  882187.0   two-sided  0.049693  0.083899  0.458051"
      ]
     },
     "execution_count": 58,
     "metadata": {},
     "output_type": "execute_result"
    }
   ],
   "source": [
    "# Проведем U-тест Манна-Уитни в Pingouin, \n",
    "# тк там есть CLES\n",
    "\n",
    "pg.mwu(purchases_descent, purchases_top)"
   ]
  },
  {
   "cell_type": "code",
   "execution_count": 59,
   "id": "591741be",
   "metadata": {},
   "outputs": [
    {
     "name": "stderr",
     "output_type": "stream",
     "text": [
      "100%|████████████████████████████████████████████████████████████████████████████████████| 1000/1000 [00:19<00:00, 51.77it/s]"
     ]
    },
    {
     "name": "stdout",
     "output_type": "stream",
     "text": [
      "0.757\n"
     ]
    },
    {
     "name": "stderr",
     "output_type": "stream",
     "text": [
      "\n"
     ]
    }
   ],
   "source": [
    "# Проверим кол-во ошибок в тесте, \n",
    "# используем Scipy, тк он работает быстрее\n",
    "\n",
    "# Создадим список для результатов тестов\n",
    "mw_total_1 = []\n",
    "\n",
    "# Зададим кол-во итераций\n",
    "mw_n_1 = 1000\n",
    "\n",
    "# Сохраним длины для генерации распределений\n",
    "top_len = len(purchases_top)\n",
    "descent_len = len(purchases_descent)\n",
    "\n",
    "for _ in tqdm(range(mw_n_1)):\n",
    "    \n",
    "    # Сгенерируем распределения\n",
    "    top_d = top_dist_equal(top_len)\n",
    "    descent_d = descent_dist(descent_len)  \n",
    "    \n",
    "    # Проведем тест\n",
    "    result = ss.mannwhitneyu(top_d, descent_d)[1] < 0.05\n",
    "    \n",
    "    # Вносим результат в общий список\n",
    "    mw_total_1.append(result)\n",
    "\n",
    "# Считаем долю ошибок\n",
    "print(sum(mw_total_1) / mw_n_1)"
   ]
  },
  {
   "cell_type": "markdown",
   "id": "fd633c84",
   "metadata": {},
   "source": [
    "Поскольку p-value < 0.05 на несколько десятитысячных, а common language effect size не так далеко от 50%, здесь ситуация пограничная, но тенденция к ошибкам 1го рода находятся на неприемлемых уровнях, поэтому полагаться на эти данные мы не можем."
   ]
  },
  {
   "cell_type": "markdown",
   "id": "1ae6b223",
   "metadata": {},
   "source": [
    "Посмотрим на Bootstrap, где Н0 - статистически значимых различий между средними нет, Н1 - есть."
   ]
  },
  {
   "cell_type": "code",
   "execution_count": 60,
   "id": "81a37fb4",
   "metadata": {},
   "outputs": [
    {
     "data": {
      "text/plain": [
       "array([-0.  ,  0.42])"
      ]
     },
     "execution_count": 60,
     "metadata": {},
     "output_type": "execute_result"
    }
   ],
   "source": [
    "# Bootstrap\n",
    "\n",
    "pg.compute_bootci(purchases_top, \n",
    "                  purchases_descent, \n",
    "                  n_boot=10000, \n",
    "                  func=lambda x, y: np.mean(x) - np.mean(y))"
   ]
  },
  {
   "cell_type": "code",
   "execution_count": 61,
   "id": "134afc61",
   "metadata": {
    "scrolled": true
   },
   "outputs": [
    {
     "name": "stderr",
     "output_type": "stream",
     "text": [
      "100%|██████████████████████████████████████████████████████████████████████████████████████| 100/100 [08:50<00:00,  5.31s/it]"
     ]
    },
    {
     "name": "stdout",
     "output_type": "stream",
     "text": [
      "0.56\n"
     ]
    },
    {
     "name": "stderr",
     "output_type": "stream",
     "text": [
      "\n"
     ]
    }
   ],
   "source": [
    "# Мощность\n",
    "\n",
    "# Создадим список для результатов тестов\n",
    "bs_total_1 = []\n",
    "\n",
    "# Зададим кол-во итераций\n",
    "bs_n_1 = 100\n",
    "\n",
    "for _ in tqdm(range(bs_n_1)):\n",
    "    \n",
    "    # Cгенерируем распределения\n",
    "    top_d = top_dist(top_len)\n",
    "    descent_d = descent_dist(descent_len) \n",
    "    \n",
    "    # Проведем тест\n",
    "    bs = pg.compute_bootci(top_d, descent_d, \n",
    "                           n_boot=10000, \n",
    "                           func=lambda x, y: np.mean(x) - np.mean(y))\n",
    "    \n",
    "    # Сохраняем результат\n",
    "    result = np.sign(bs[0]) == np.sign(bs[1])\n",
    "    \n",
    "    # Вносим результат в общий список\n",
    "    bs_total_1.append(result)\n",
    "\n",
    "# Считаем мощность\n",
    "print(sum(bs_total_1) / bs_n_1)"
   ]
  },
  {
   "cell_type": "markdown",
   "id": "993b8726",
   "metadata": {},
   "source": [
    "У Bootstrap мощность не дотягивает до минимального значения в 80%.\n",
    "\n",
    "\\**Для всех симуляций необходимо проводить не менее 1000 итераций, а лучше 10000+, чтобы получать качественные результаты. В данном проекте в связи с ограниченностью ресурсов это кол-во несколько понижено.*\n",
    "\n",
    "Поскольку на MDE мы в данном случае повлиять не можем, он такой, какой есть, то чтобы получить более качественные тесты нужно подождать, пока соберется достаточная выборка в группе с заказами с 10 предыдущими покупками, туда же можно будет добавить и большее кол-во покупок.\n",
    "\n",
    "Рассчитаем необходимое минимальное количество, чтобы получить тесты с качественными результатами."
   ]
  },
  {
   "cell_type": "code",
   "execution_count": 62,
   "id": "9f8cb260",
   "metadata": {},
   "outputs": [
    {
     "name": "stderr",
     "output_type": "stream",
     "text": [
      "100%|██████████████████████████████████████████████████████████████████████████████████████████| 7/7 [03:46<00:00, 32.39s/it]\n"
     ]
    }
   ],
   "source": [
    "# Создадим листы для сбора результатов\n",
    "n_list = []\n",
    "tt1 = []\n",
    "tt2 = []\n",
    "mw1 = []\n",
    "mw2 = []\n",
    "\n",
    "# Зададим кол-во итераций\n",
    "mwt_n = 1000\n",
    "\n",
    "for i in tqdm([top_len, 250, 300, 350, 400, 450, 500]):\n",
    "    \n",
    "    # Создадим аналогичные локальные листы    \n",
    "    tt_total_1 = []\n",
    "    tt_total_2 = []\n",
    "    mw_total_1 = []\n",
    "    mw_total_2 = []\n",
    "    \n",
    "    for _ in range(mwt_n):\n",
    "        \n",
    "        # Сгенерируем выборки заданного размера\n",
    "        top_d = top_dist(i)\n",
    "        top_d_equal = top_dist_equal(i)\n",
    "        descent_d = descent_dist(descent_len)\n",
    "        \n",
    "        # Сохраним результаты тестов для выборок\n",
    "        t_result_1 = ss.ttest_ind(top_d, descent_d, equal_var=False)[1] < 0.05\n",
    "        t_result_2 = ss.ttest_ind(top_d_equal, descent_d, equal_var=False)[1] < 0.05\n",
    "        mw_result_1 = ss.mannwhitneyu(top_d, descent_d)[1] < 0.05\n",
    "        mw_result_2 = ss.mannwhitneyu(top_d_equal, descent_d)[1] < 0.05\n",
    "        \n",
    "        # Запишем результаты в листы\n",
    "        tt_total_1.append(t_result_1)\n",
    "        tt_total_2.append(t_result_2)\n",
    "        mw_total_1.append(mw_result_1)\n",
    "        mw_total_2.append(mw_result_2)\n",
    "    \n",
    "    # Посчитаем долю, т.е. мощность и тенденцию к ошибкам\n",
    "    n_list.append(i)\n",
    "    tt1.append(sum(tt_total_1) / mwt_n)\n",
    "    tt2.append(sum(tt_total_2) / mwt_n)\n",
    "    mw1.append(sum(mw_total_1) / mwt_n)\n",
    "    mw2.append(sum(mw_total_2) / mwt_n)"
   ]
  },
  {
   "cell_type": "code",
   "execution_count": 63,
   "id": "a2137aca",
   "metadata": {},
   "outputs": [],
   "source": [
    "# Подготовим результаты для визуализации\n",
    "\n",
    "# Соберем ДФ\n",
    "size_needed = pd.DataFrame(index=n_list, \n",
    "                           data={'tt1': tt1, \n",
    "                                 'tt2': tt2, \n",
    "                                 'mw1': mw1, \n",
    "                                 'mw2': mw2}).stack() \\\n",
    "                                             .reset_index()"
   ]
  },
  {
   "cell_type": "code",
   "execution_count": 64,
   "id": "8b7ede12",
   "metadata": {},
   "outputs": [],
   "source": [
    "# Присвоим названия колонкам\n",
    "\n",
    "size_needed.columns = ['n', 'test', 'result']"
   ]
  },
  {
   "cell_type": "code",
   "execution_count": 65,
   "id": "a61ea10c",
   "metadata": {},
   "outputs": [
    {
     "data": {
      "text/plain": [
       "[Text(0.5, 0, 'Размер выборки'), Text(0, 0.5, 'Мощность теста')]"
      ]
     },
     "execution_count": 65,
     "metadata": {},
     "output_type": "execute_result"
    },
    {
     "data": {
      "image/png": "[encoded data removed]",
      "text/plain": [
       "<Figure size 640x480 with 1 Axes>"
      ]
     },
     "metadata": {},
     "output_type": "display_data"
    }
   ],
   "source": [
    "# Посмотрим на мощность\n",
    "\n",
    "# Построим график\n",
    "power_lp = sns.lineplot(data=size_needed[(size_needed.test == 'tt1') \n",
    "                                      | (size_needed.test == 'mw1')], \n",
    "                     x='n', \n",
    "                     y='result', \n",
    "                     hue='test')\n",
    "\n",
    "# Добавим сигнальную линию\n",
    "power_lp.axhline(0.8, ls='--', color='red')\n",
    "\n",
    "# Подпишем оси\n",
    "power_lp.set(xlabel='Размер выборки',\n",
    "             ylabel='Мощность теста')"
   ]
  },
  {
   "cell_type": "code",
   "execution_count": 66,
   "id": "f999dfa2",
   "metadata": {},
   "outputs": [
    {
     "data": {
      "text/plain": [
       "[Text(0.5, 0, 'Размер выборки'), Text(0, 0.5, 'Вероятность ошибки')]"
      ]
     },
     "execution_count": 66,
     "metadata": {},
     "output_type": "execute_result"
    },
    {
     "data": {
      "image/png": "[encoded data removed]",
      "text/plain": [
       "<Figure size 640x480 with 1 Axes>"
      ]
     },
     "metadata": {},
     "output_type": "display_data"
    }
   ],
   "source": [
    "# Посмотрим на тенденцию ошибаться\n",
    "\n",
    "# Построим график\n",
    "mistake_lp = sns.lineplot(data=size_needed[(size_needed.test == 'tt2') \n",
    "                                      | (size_needed.test == 'mw2')], \n",
    "                     x='n', \n",
    "                     y='result', \n",
    "                     hue='test')\n",
    "\n",
    "# Добавим сигнальную линию\n",
    "mistake_lp.axhline(0.05, ls='--', color='red')\n",
    "\n",
    "# Подпишем оси\n",
    "mistake_lp.set(xlabel='Размер выборки',\n",
    "               ylabel='Вероятность ошибки')"
   ]
  },
  {
   "cell_type": "markdown",
   "id": "53f1e40b",
   "metadata": {},
   "source": [
    "Очевидно, что тест Манна-Уитни для этого набора данных не подходит, судя по всему, из-за большого кол-ва повторных значений. Для Т-теста нужна выборка из 350 наблюдений и более, чтобы и мощность, и тенденция к ошибке 1го рода находились на приемлемом уровне.\n",
    "\n",
    "Посмотрим на необходимые значения для Bootstrap."
   ]
  },
  {
   "cell_type": "code",
   "execution_count": 67,
   "id": "604eecf0",
   "metadata": {},
   "outputs": [
    {
     "name": "stderr",
     "output_type": "stream",
     "text": [
      "100%|██████████████████████████████████████████████████████████████████████████████████████| 4/4 [1:06:58<00:00, 1004.61s/it]\n"
     ]
    }
   ],
   "source": [
    "# Создадим листы для сбора результатов\n",
    "n_list_bs = []\n",
    "bs1 = []\n",
    "bs2 = []\n",
    "\n",
    "# Зададим кол-во итераций\n",
    "bsm_n = 100\n",
    "\n",
    "for i in tqdm([top_len, 300, 400, 500]):\n",
    "    \n",
    "    # Создадим аналогичные локальные листы\n",
    "    bs_total_1 = []\n",
    "    bs_total_2 = []\n",
    "    \n",
    "    for _ in range(bsm_n):\n",
    "        \n",
    "        # Сгенерируем выборки заданного размера\n",
    "        top_d = top_dist(i)\n",
    "        top_d_equal = top_dist_equal(i)\n",
    "        descent_d = descent_dist(descent_len)\n",
    "        \n",
    "        # Проведем тесты\n",
    "        bs_1 = pg.compute_bootci(top_d, descent_d, \n",
    "                                 n_boot=10000, \n",
    "                                 func=lambda x, y: np.mean(x) - np.mean(y))    \n",
    "        bs_2 = pg.compute_bootci(top_d_equal, descent_d, \n",
    "                                 n_boot=10000, \n",
    "                                 func=lambda x, y: np.mean(x) - np.mean(y))\n",
    "        \n",
    "        # Сохраним результаты тестов для выборок\n",
    "        result_1 = np.sign(bs_1[0]) == np.sign(bs_1[1])\n",
    "        result_2 = np.sign(bs_2[0]) == np.sign(bs_2[1])\n",
    "        \n",
    "        # Запишем результаты в листы\n",
    "        bs_total_1.append(result_1)\n",
    "        bs_total_2.append(result_2)\n",
    "    \n",
    "    # Посчитаем долю, т.е. мощность и тенденцию к ошибкам\n",
    "    n_list_bs.append(i)\n",
    "    bs1.append(sum(bs_total_1) / bsm_n)\n",
    "    bs2.append(sum(bs_total_2) / bsm_n)"
   ]
  },
  {
   "cell_type": "code",
   "execution_count": 68,
   "id": "fd9941e8",
   "metadata": {},
   "outputs": [],
   "source": [
    "# Подготовим данные для визуализации\n",
    "\n",
    "bs_size = pd.DataFrame(index=n_list_bs, \n",
    "                       data={'bs1': bs1, \n",
    "                             'bs2': bs2}).stack() \\\n",
    "                                         .reset_index()"
   ]
  },
  {
   "cell_type": "code",
   "execution_count": 69,
   "id": "ec57cbd6",
   "metadata": {},
   "outputs": [],
   "source": [
    "# Присвоим названия колонкам\n",
    "\n",
    "bs_size.columns = ['n', 'test', 'result']"
   ]
  },
  {
   "cell_type": "code",
   "execution_count": 70,
   "id": "99093729",
   "metadata": {},
   "outputs": [
    {
     "data": {
      "text/html": [
       "<div>\n",
       "<style scoped>\n",
       "    .dataframe tbody tr th:only-of-type {\n",
       "        vertical-align: middle;\n",
       "    }\n",
       "\n",
       "    .dataframe tbody tr th {\n",
       "        vertical-align: top;\n",
       "    }\n",
       "\n",
       "    .dataframe thead th {\n",
       "        text-align: right;\n",
       "    }\n",
       "</style>\n",
       "<table border=\"1\" class=\"dataframe\">\n",
       "  <thead>\n",
       "    <tr style=\"text-align: right;\">\n",
       "      <th></th>\n",
       "      <th>n</th>\n",
       "      <th>test</th>\n",
       "      <th>result</th>\n",
       "    </tr>\n",
       "  </thead>\n",
       "  <tbody>\n",
       "    <tr>\n",
       "      <th>0</th>\n",
       "      <td>178</td>\n",
       "      <td>bs1</td>\n",
       "      <td>0.40</td>\n",
       "    </tr>\n",
       "    <tr>\n",
       "      <th>1</th>\n",
       "      <td>178</td>\n",
       "      <td>bs2</td>\n",
       "      <td>0.06</td>\n",
       "    </tr>\n",
       "    <tr>\n",
       "      <th>2</th>\n",
       "      <td>300</td>\n",
       "      <td>bs1</td>\n",
       "      <td>0.64</td>\n",
       "    </tr>\n",
       "    <tr>\n",
       "      <th>3</th>\n",
       "      <td>300</td>\n",
       "      <td>bs2</td>\n",
       "      <td>0.04</td>\n",
       "    </tr>\n",
       "    <tr>\n",
       "      <th>4</th>\n",
       "      <td>400</td>\n",
       "      <td>bs1</td>\n",
       "      <td>0.82</td>\n",
       "    </tr>\n",
       "    <tr>\n",
       "      <th>5</th>\n",
       "      <td>400</td>\n",
       "      <td>bs2</td>\n",
       "      <td>0.05</td>\n",
       "    </tr>\n",
       "    <tr>\n",
       "      <th>6</th>\n",
       "      <td>500</td>\n",
       "      <td>bs1</td>\n",
       "      <td>0.87</td>\n",
       "    </tr>\n",
       "    <tr>\n",
       "      <th>7</th>\n",
       "      <td>500</td>\n",
       "      <td>bs2</td>\n",
       "      <td>0.04</td>\n",
       "    </tr>\n",
       "  </tbody>\n",
       "</table>\n",
       "</div>"
      ],
      "text/plain": [
       "     n test  result\n",
       "0  178  bs1    0.40\n",
       "1  178  bs2    0.06\n",
       "2  300  bs1    0.64\n",
       "3  300  bs2    0.04\n",
       "4  400  bs1    0.82\n",
       "5  400  bs2    0.05\n",
       "6  500  bs1    0.87\n",
       "7  500  bs2    0.04"
      ]
     },
     "execution_count": 70,
     "metadata": {},
     "output_type": "execute_result"
    }
   ],
   "source": [
    "bs_size"
   ]
  },
  {
   "cell_type": "code",
   "execution_count": 71,
   "id": "8837c25b",
   "metadata": {},
   "outputs": [
    {
     "data": {
      "text/plain": [
       "[Text(0.5, 0, 'Размер выборки'), Text(0, 0.5, 'Вероятность')]"
      ]
     },
     "execution_count": 71,
     "metadata": {},
     "output_type": "execute_result"
    },
    {
     "data": {
      "image/png": "[encoded data removed]",
      "text/plain": [
       "<Figure size 640x480 with 1 Axes>"
      ]
     },
     "metadata": {},
     "output_type": "display_data"
    }
   ],
   "source": [
    "# Посмотрим на кол-во ошибок 1го и 2го рода\n",
    "\n",
    "# Построим график\n",
    "lp = sns.lineplot(data=bs_size, \n",
    "                  x='n', \n",
    "                  y='result', \n",
    "                  hue='test')\n",
    "# Добавим сигнальные линии\n",
    "lp.axhline(0.8, ls='--', color='red')\n",
    "lp.axhline(0.05, ls='--', color='red')\n",
    "\n",
    "# Подпишем оси\n",
    "lp.set(xlabel='Размер выборки',\n",
    "       ylabel='Вероятность')"
   ]
  },
  {
   "cell_type": "markdown",
   "id": "e450c092",
   "metadata": {},
   "source": [
    "Для Bootstrap нужна выборка из 400 наблюдений, чтобы и мощность, и тенденция к ошибке находились на приемлемом уровне."
   ]
  },
  {
   "cell_type": "markdown",
   "id": "d15c3772",
   "metadata": {},
   "source": [
    "Логично предположить, что размер скидки может положительно влиять на удовлетворенность заказом, т.к. выгодная покупка - это всегда приятно."
   ]
  },
  {
   "cell_type": "code",
   "execution_count": 72,
   "id": "cda0fd1b",
   "metadata": {},
   "outputs": [],
   "source": [
    "# Посмотрим на средние значения рейтинга для разных размеров скидок\n",
    "\n",
    "discount_rating = avg_rating(df.discount_offered)"
   ]
  },
  {
   "cell_type": "code",
   "execution_count": 73,
   "id": "6fa09c80",
   "metadata": {},
   "outputs": [
    {
     "data": {
      "text/html": [
       "<div>\n",
       "<style scoped>\n",
       "    .dataframe tbody tr th:only-of-type {\n",
       "        vertical-align: middle;\n",
       "    }\n",
       "\n",
       "    .dataframe tbody tr th {\n",
       "        vertical-align: top;\n",
       "    }\n",
       "\n",
       "    .dataframe thead th {\n",
       "        text-align: right;\n",
       "    }\n",
       "</style>\n",
       "<table border=\"1\" class=\"dataframe\">\n",
       "  <thead>\n",
       "    <tr style=\"text-align: right;\">\n",
       "      <th></th>\n",
       "      <th>discount_offered</th>\n",
       "      <th>customer_rating</th>\n",
       "    </tr>\n",
       "  </thead>\n",
       "  <tbody>\n",
       "    <tr>\n",
       "      <th>0</th>\n",
       "      <td>1</td>\n",
       "      <td>2.99</td>\n",
       "    </tr>\n",
       "    <tr>\n",
       "      <th>1</th>\n",
       "      <td>2</td>\n",
       "      <td>3.05</td>\n",
       "    </tr>\n",
       "    <tr>\n",
       "      <th>2</th>\n",
       "      <td>3</td>\n",
       "      <td>2.96</td>\n",
       "    </tr>\n",
       "    <tr>\n",
       "      <th>3</th>\n",
       "      <td>4</td>\n",
       "      <td>2.92</td>\n",
       "    </tr>\n",
       "    <tr>\n",
       "      <th>4</th>\n",
       "      <td>5</td>\n",
       "      <td>3.00</td>\n",
       "    </tr>\n",
       "  </tbody>\n",
       "</table>\n",
       "</div>"
      ],
      "text/plain": [
       "   discount_offered  customer_rating\n",
       "0                 1             2.99\n",
       "1                 2             3.05\n",
       "2                 3             2.96\n",
       "3                 4             2.92\n",
       "4                 5             3.00"
      ]
     },
     "execution_count": 73,
     "metadata": {},
     "output_type": "execute_result"
    }
   ],
   "source": [
    "discount_rating.head()"
   ]
  },
  {
   "cell_type": "code",
   "execution_count": 74,
   "id": "2a79237a",
   "metadata": {},
   "outputs": [
    {
     "data": {
      "text/plain": [
       "Text(0, 0, '')"
      ]
     },
     "execution_count": 74,
     "metadata": {},
     "output_type": "execute_result"
    },
    {
     "data": {
      "image/png": "[encoded data removed]",
      "text/plain": [
       "<Figure size 1000x500 with 1 Axes>"
      ]
     },
     "metadata": {},
     "output_type": "display_data"
    }
   ],
   "source": [
    "# Визуализируем\n",
    "\n",
    "# Зададим подходящий размер\n",
    "plt.figure(figsize=(10,5))\n",
    "\n",
    "# Построим график\n",
    "discount_rating_bp = create_bp(discount_rating)\n",
    "\n",
    "# Подпишем оси\n",
    "discount_rating_bp.set(xlabel='Предложенная скидка',\n",
    "                       ylabel='Средний рейтинг заказа')\n",
    "\n",
    "# Повернем значения\n",
    "discount_rating_bp.set_xticklabels(discount_rating_bp.get_xticklabels(), \n",
    "                                   rotation=90)\n",
    "\n",
    "# Уберем лишний текст\n",
    "discount_rating_bp.text(0, 0, '')"
   ]
  },
  {
   "cell_type": "markdown",
   "id": "b5d46c01",
   "metadata": {},
   "source": [
    "Никакой тенденции на графике не видно. Интересный момент - до размера скидки в 10% разброс меньше, что объясняется значительно большим размером выборок для этих значений. Среднее при этом сохраняется примерно на одном уровне. Убедимся в этом, сравнив средние двух групп, которые мы уже выделяли для скидок - до 10% и более 10%."
   ]
  },
  {
   "cell_type": "code",
   "execution_count": 75,
   "id": "e751432d",
   "metadata": {},
   "outputs": [
    {
     "data": {
      "text/plain": [
       "2.99"
      ]
     },
     "execution_count": 75,
     "metadata": {},
     "output_type": "execute_result"
    }
   ],
   "source": [
    "round(df[df.discount_offered <= 10].customer_rating.mean(), 2)"
   ]
  },
  {
   "cell_type": "code",
   "execution_count": 76,
   "id": "6111dde3",
   "metadata": {},
   "outputs": [
    {
     "data": {
      "text/plain": [
       "2.99"
      ]
     },
     "execution_count": 76,
     "metadata": {},
     "output_type": "execute_result"
    }
   ],
   "source": [
    "round(df[df.discount_offered > 10].customer_rating.mean(), 2)"
   ]
  },
  {
   "cell_type": "markdown",
   "id": "3d76224d",
   "metadata": {},
   "source": [
    "Средний реитинг у обеих групп одинаковый, поэтому идею о влиянии скидки на уровень оценки удовлетворенности можно отбросить."
   ]
  },
  {
   "cell_type": "markdown",
   "id": "5d7823fa",
   "metadata": {},
   "source": [
    "Вес посылки может влиять на общий настрой клиента в формате - чем выше вес, тем больше он рад, что ему доставили заказ, и не пришлось тащить его на себе."
   ]
  },
  {
   "cell_type": "code",
   "execution_count": 77,
   "id": "9820e77b",
   "metadata": {},
   "outputs": [],
   "source": [
    "# Посмотрим на средние значения рейтинга для разного веса посылок\n",
    "\n",
    "weights_rating = avg_rating(df.weight_groups)"
   ]
  },
  {
   "cell_type": "code",
   "execution_count": 78,
   "id": "e38fc87b",
   "metadata": {},
   "outputs": [
    {
     "data": {
      "text/html": [
       "<div>\n",
       "<style scoped>\n",
       "    .dataframe tbody tr th:only-of-type {\n",
       "        vertical-align: middle;\n",
       "    }\n",
       "\n",
       "    .dataframe tbody tr th {\n",
       "        vertical-align: top;\n",
       "    }\n",
       "\n",
       "    .dataframe thead th {\n",
       "        text-align: right;\n",
       "    }\n",
       "</style>\n",
       "<table border=\"1\" class=\"dataframe\">\n",
       "  <thead>\n",
       "    <tr style=\"text-align: right;\">\n",
       "      <th></th>\n",
       "      <th>weight_groups</th>\n",
       "      <th>customer_rating</th>\n",
       "    </tr>\n",
       "  </thead>\n",
       "  <tbody>\n",
       "    <tr>\n",
       "      <th>0</th>\n",
       "      <td>(0.0, 2000.0]</td>\n",
       "      <td>2.98</td>\n",
       "    </tr>\n",
       "    <tr>\n",
       "      <th>1</th>\n",
       "      <td>(2000.0, 4000.0]</td>\n",
       "      <td>3.00</td>\n",
       "    </tr>\n",
       "    <tr>\n",
       "      <th>2</th>\n",
       "      <td>(4000.0, 6000.0]</td>\n",
       "      <td>2.99</td>\n",
       "    </tr>\n",
       "    <tr>\n",
       "      <th>3</th>\n",
       "      <td>(6000.0, inf]</td>\n",
       "      <td>2.75</td>\n",
       "    </tr>\n",
       "  </tbody>\n",
       "</table>\n",
       "</div>"
      ],
      "text/plain": [
       "      weight_groups  customer_rating\n",
       "0     (0.0, 2000.0]             2.98\n",
       "1  (2000.0, 4000.0]             3.00\n",
       "2  (4000.0, 6000.0]             2.99\n",
       "3     (6000.0, inf]             2.75"
      ]
     },
     "execution_count": 78,
     "metadata": {},
     "output_type": "execute_result"
    }
   ],
   "source": [
    "weights_rating"
   ]
  },
  {
   "cell_type": "code",
   "execution_count": 79,
   "id": "fc9395bc",
   "metadata": {},
   "outputs": [
    {
     "data": {
      "text/plain": [
       "[Text(0.5, 0, 'Вес в граммах'), Text(0, 0.5, 'Средний рейтинг заказа')]"
      ]
     },
     "execution_count": 79,
     "metadata": {},
     "output_type": "execute_result"
    },
    {
     "data": {
      "image/png": "[encoded data removed]",
      "text/plain": [
       "<Figure size 640x480 with 1 Axes>"
      ]
     },
     "metadata": {},
     "output_type": "display_data"
    }
   ],
   "source": [
    "# Визуализируем\n",
    "\n",
    "# Построим график\n",
    "weights_rating_bp = create_bp(weights_rating)\n",
    "\n",
    "# Подпишем оси\n",
    "weights_rating_bp.set(xlabel='Вес в граммах',\n",
    "                      ylabel='Средний рейтинг заказа')"
   ]
  },
  {
   "cell_type": "markdown",
   "id": "77b94529",
   "metadata": {},
   "source": [
    "Мы видим обратную картину - рейтинг почти не меняется, только у группы с самым высоким весом рейтинг несколько ниже. Наша первоначальная идея не подтверждается, а искать оправдание цифрам не совсем верно. Есть варинт, что вес влияет на метрику, которая влияет на рейтинг, например, мелкие заказы чаще доставляются вовремя, а своевременность доставки влияет на рейтинг, но пока мы этого не знаем. Подобные корреляции мы поищем позже, когда и если найдем факторы влияющие на рейтинг."
   ]
  },
  {
   "cell_type": "markdown",
   "id": "ffd7922b",
   "metadata": {},
   "source": [
    "На разных складах могут по-разному упаковывать товары, обращаться с ними, находить товары с разной скоростью и т.д. То есть существует множество мелких факторов, которые могут повлиять на то, как быстро и в каком виде товар будет доставлен клиенту."
   ]
  },
  {
   "cell_type": "code",
   "execution_count": 80,
   "id": "5d3d8067",
   "metadata": {},
   "outputs": [],
   "source": [
    "# Посмотрим, у каких складов самый высокий рейтинг\n",
    "\n",
    "warehouse_rating = avg_rating(df.warehouse_block).sort_values('customer_rating', ascending=False)"
   ]
  },
  {
   "cell_type": "code",
   "execution_count": 81,
   "id": "c9fe583b",
   "metadata": {},
   "outputs": [
    {
     "data": {
      "text/html": [
       "<div>\n",
       "<style scoped>\n",
       "    .dataframe tbody tr th:only-of-type {\n",
       "        vertical-align: middle;\n",
       "    }\n",
       "\n",
       "    .dataframe tbody tr th {\n",
       "        vertical-align: top;\n",
       "    }\n",
       "\n",
       "    .dataframe thead th {\n",
       "        text-align: right;\n",
       "    }\n",
       "</style>\n",
       "<table border=\"1\" class=\"dataframe\">\n",
       "  <thead>\n",
       "    <tr style=\"text-align: right;\">\n",
       "      <th></th>\n",
       "      <th>warehouse_block</th>\n",
       "      <th>customer_rating</th>\n",
       "    </tr>\n",
       "  </thead>\n",
       "  <tbody>\n",
       "    <tr>\n",
       "      <th>3</th>\n",
       "      <td>d</td>\n",
       "      <td>3.02</td>\n",
       "    </tr>\n",
       "    <tr>\n",
       "      <th>4</th>\n",
       "      <td>f</td>\n",
       "      <td>3.00</td>\n",
       "    </tr>\n",
       "    <tr>\n",
       "      <th>2</th>\n",
       "      <td>c</td>\n",
       "      <td>2.99</td>\n",
       "    </tr>\n",
       "    <tr>\n",
       "      <th>1</th>\n",
       "      <td>b</td>\n",
       "      <td>2.98</td>\n",
       "    </tr>\n",
       "    <tr>\n",
       "      <th>0</th>\n",
       "      <td>a</td>\n",
       "      <td>2.96</td>\n",
       "    </tr>\n",
       "  </tbody>\n",
       "</table>\n",
       "</div>"
      ],
      "text/plain": [
       "  warehouse_block  customer_rating\n",
       "3               d             3.02\n",
       "4               f             3.00\n",
       "2               c             2.99\n",
       "1               b             2.98\n",
       "0               a             2.96"
      ]
     },
     "execution_count": 81,
     "metadata": {},
     "output_type": "execute_result"
    }
   ],
   "source": [
    "warehouse_rating"
   ]
  },
  {
   "cell_type": "code",
   "execution_count": 82,
   "id": "3402632d",
   "metadata": {},
   "outputs": [
    {
     "data": {
      "text/plain": [
       "[Text(0.5, 0, 'Средний рейтинг заказа'), Text(0, 0.5, 'Склад')]"
      ]
     },
     "execution_count": 82,
     "metadata": {},
     "output_type": "execute_result"
    },
    {
     "data": {
      "image/png": "[encoded data removed]",
      "text/plain": [
       "<Figure size 640x480 with 1 Axes>"
      ]
     },
     "metadata": {},
     "output_type": "display_data"
    }
   ],
   "source": [
    "# Визуализируем\n",
    "\n",
    "# Построим график\n",
    "warehouse_rating_bp = sns.barplot(x=warehouse_rating.customer_rating, \n",
    "                                  y=warehouse_rating.warehouse_block,\n",
    "                                  color='green', \n",
    "                                  alpha=0.7)\n",
    "\n",
    "# Подпишем оси\n",
    "warehouse_rating_bp.set(xlabel='Средний рейтинг заказа',\n",
    "                        ylabel='Склад')"
   ]
  },
  {
   "cell_type": "markdown",
   "id": "49aa8343",
   "metadata": {},
   "source": [
    "Теперь осталось проверить насколько значимыми являются эти различия.\n",
    "\n",
    "Проведем однофакторный ANOVA. \n",
    "Для этого необходимо проверить наши выборки на гомоскедастичность при помощи теста Левена, где Н0 говорит о том, что выборки взяты из ГС с одинаковой дисперсией, а Н1 - что с разной.\n",
    "Нормальность распределений здесь не является обязательной, т.к. выборки достаточно больших размеров."
   ]
  },
  {
   "cell_type": "code",
   "execution_count": 83,
   "id": "2167d880",
   "metadata": {},
   "outputs": [
    {
     "data": {
      "text/plain": [
       "<seaborn.axisgrid.FacetGrid at 0x1f9d0008a30>"
      ]
     },
     "execution_count": 83,
     "metadata": {},
     "output_type": "execute_result"
    },
    {
     "data": {
      "image/png": "[encoded data removed]",
      "text/plain": [
       "<Figure size 1500x300 with 5 Axes>"
      ]
     },
     "metadata": {},
     "output_type": "display_data"
    }
   ],
   "source": [
    "# Для начала посмотрим на распределения, \n",
    "# чтобы выбрать подходящую функцию в тесте Левена\n",
    "\n",
    "g = sns.FacetGrid(df, col=\"warehouse_block\")\n",
    "g.map(sns.histplot, \"customer_rating\", color='green', alpha=0.7)"
   ]
  },
  {
   "cell_type": "markdown",
   "id": "7677e6fe",
   "metadata": {},
   "source": [
    "Распределения похожи на равномерные, поэтому в качестве функции для теста выберем среднее."
   ]
  },
  {
   "cell_type": "code",
   "execution_count": 84,
   "id": "86d12743",
   "metadata": {},
   "outputs": [
    {
     "data": {
      "text/plain": [
       "LeveneResult(statistic=1.3845436921869758, pvalue=0.23647158932074816)"
      ]
     },
     "execution_count": 84,
     "metadata": {},
     "output_type": "execute_result"
    }
   ],
   "source": [
    "# Тест Левена\n",
    "\n",
    "a = df[df.warehouse_block == 'a'].customer_rating\n",
    "b = df[df.warehouse_block == 'b'].customer_rating\n",
    "c = df[df.warehouse_block == 'c'].customer_rating\n",
    "d = df[df.warehouse_block == 'd'].customer_rating\n",
    "f = df[df.warehouse_block == 'f'].customer_rating\n",
    "\n",
    "ss.levene(a, b, c, d, f, center='mean')"
   ]
  },
  {
   "cell_type": "markdown",
   "id": "d2c9ea1c",
   "metadata": {},
   "source": [
    "При p-value > 0.05 у нас нет оснований, чтобы отвергнуть нулевую гипотезу. \n",
    "\n",
    "Можно проводить однофакторный Anova, где Н0 говорит о том, что средние в выборках не отличаются, Н1 - что есть статистически значимые отличия."
   ]
  },
  {
   "cell_type": "code",
   "execution_count": 85,
   "id": "6ec37727",
   "metadata": {},
   "outputs": [
    {
     "data": {
      "text/plain": [
       "F_onewayResult(statistic=0.47658916735432144, pvalue=0.7529756767708896)"
      ]
     },
     "execution_count": 85,
     "metadata": {},
     "output_type": "execute_result"
    }
   ],
   "source": [
    "# Однофакторный ANOVA\n",
    "\n",
    "ss.f_oneway(a, b, c, d, f)"
   ]
  },
  {
   "cell_type": "markdown",
   "id": "5041f4e7",
   "metadata": {},
   "source": [
    "При p-value > 0.05 у нас нет оснований, чтобы отвергнуть нулевую гипотезу, т.е. статичестически значимых отличий между выборками обнаружить не удалось."
   ]
  },
  {
   "cell_type": "code",
   "execution_count": 86,
   "id": "fe237310",
   "metadata": {},
   "outputs": [
    {
     "name": "stderr",
     "output_type": "stream",
     "text": [
      "100%|████████████████████████████████████████████████████████████████████████████████████| 1000/1000 [00:16<00:00, 60.88it/s]"
     ]
    },
    {
     "name": "stdout",
     "output_type": "stream",
     "text": [
      "0.145\n"
     ]
    },
    {
     "name": "stderr",
     "output_type": "stream",
     "text": [
      "\n"
     ]
    }
   ],
   "source": [
    "# Проверим мощность теста\n",
    "\n",
    "# Создадим список для результатов\n",
    "a_results = []\n",
    "\n",
    "# Зададим кол-во итераций\n",
    "a_n = 1000\n",
    "\n",
    "# Сохраним длины\n",
    "a_len = len(a)\n",
    "b_len = len(b)\n",
    "c_len = len(c)\n",
    "d_len = len(d)\n",
    "f_len = len(f)\n",
    "\n",
    "for _ in tqdm(range(a_n)):\n",
    "    \n",
    "    # Сгенерируем 5 распределений\n",
    "    a_m = a.value_counts(normalize=True) \\\n",
    "           .reset_index()\n",
    "    xk_a = a_m['index'].to_list()\n",
    "    pk_a = a_m.customer_rating.to_list()    \n",
    "    a_d = ss.rv_discrete(name='a_d', \n",
    "                         values=(xk_a, pk_a))\n",
    "    a_s = a_d.rvs(size=a_len)\n",
    "\n",
    "    b_m = b.value_counts(normalize=True) \\\n",
    "         .reset_index()\n",
    "    xk_b = b_m['index'].to_list()\n",
    "    pk_b = b_m.customer_rating.to_list()    \n",
    "    b_d = ss.rv_discrete(name='b_d', \n",
    "                         values=(xk_b, pk_b))\n",
    "    b_s = b_d.rvs(size=b_len)\n",
    "    \n",
    "    c_m = c.value_counts(normalize=True) \\\n",
    "         .reset_index()\n",
    "    xk_c = c_m['index'].to_list()\n",
    "    pk_c = c_m.customer_rating.to_list()    \n",
    "    c_d = ss.rv_discrete(name='c_d', \n",
    "                         values=(xk_c, pk_c))\n",
    "    c_s = c_d.rvs(size=c_len)\n",
    "    \n",
    "    d_m = d.value_counts(normalize=True) \\\n",
    "         .reset_index()\n",
    "    xk_d = d_m['index'].to_list()\n",
    "    pk_d = d_m.customer_rating.to_list()    \n",
    "    d_d = ss.rv_discrete(name='d_d', \n",
    "                         values=(xk_d, pk_d))\n",
    "    d_s = d_d.rvs(size=d_len)\n",
    "    \n",
    "    f_m = f.value_counts(normalize=True) \\\n",
    "         .reset_index()\n",
    "    xk_f = f_m['index'].to_list()\n",
    "    pk_f = f_m.customer_rating.to_list()    \n",
    "    f_d = ss.rv_discrete(name='f_d', \n",
    "                         values=(xk_f, pk_f))\n",
    "    f_s = f_d.rvs(size=f_len)\n",
    "    \n",
    "    # Проведем тест\n",
    "    result = ss.f_oneway(a_s, b_s, c_s, d_s, f_s).pvalue < 0.05\n",
    "    \n",
    "    # Сохраним результаты\n",
    "    a_results.append(result)\n",
    "\n",
    "# Посчитаем долю\n",
    "print(sum(a_results) / a_n)"
   ]
  },
  {
   "cell_type": "markdown",
   "id": "99171596",
   "metadata": {},
   "source": [
    "Мощность теста очень низкая, очевидно, что дело прежде всего в MDE, т.к. выборки у нас достаточно крупных размеров.\n",
    "\n",
    "Если бизнес находится на ранней стадии и/или объемы небольшие, то лучше искать более очевидные вещи. Если же это развитый проект, который находится на стадии масштабирования и изменение любой метрики на 0,01 оказывает мощный эффект на прибыль в абсолютных значениях за счет больших объемов, то нужно копать дальше и брать большие выборки, либо использовать более хитрые способы тестирования. \n",
    "\n",
    "В рамках данного проекта, чуть раньше, мы уже продемонстрировали возможность расчета необходимых размеров выборок для пары рейтинг - кол-во предыдущих покупок, чтобы выйти на приемлемые уровни ошибок 1го и 2го рода. В данном случае не будем дублировать код, т.к. разница в рейтингах минимальна и эффект влияния рейтинга на экономику продукта нам неизвестен."
   ]
  },
  {
   "cell_type": "markdown",
   "id": "b67e61d4",
   "metadata": {},
   "source": [
    "Способ доставки может влиять на скорость доставки и на то, в каком виде товар приехал, что, в свою очередь, может влиять на оценку."
   ]
  },
  {
   "cell_type": "code",
   "execution_count": 87,
   "id": "dd8b4468",
   "metadata": {},
   "outputs": [],
   "source": [
    "# Посмотрим, у каких способов доставки самый высокий рейтинг\n",
    "\n",
    "shipment_rating = avg_rating(df.mode_of_shipment) \\\n",
    "                            .sort_values('customer_rating', \n",
    "                                         ascending=False)"
   ]
  },
  {
   "cell_type": "code",
   "execution_count": 88,
   "id": "2183f204",
   "metadata": {},
   "outputs": [
    {
     "data": {
      "text/html": [
       "<div>\n",
       "<style scoped>\n",
       "    .dataframe tbody tr th:only-of-type {\n",
       "        vertical-align: middle;\n",
       "    }\n",
       "\n",
       "    .dataframe tbody tr th {\n",
       "        vertical-align: top;\n",
       "    }\n",
       "\n",
       "    .dataframe thead th {\n",
       "        text-align: right;\n",
       "    }\n",
       "</style>\n",
       "<table border=\"1\" class=\"dataframe\">\n",
       "  <thead>\n",
       "    <tr style=\"text-align: right;\">\n",
       "      <th></th>\n",
       "      <th>mode_of_shipment</th>\n",
       "      <th>customer_rating</th>\n",
       "    </tr>\n",
       "  </thead>\n",
       "  <tbody>\n",
       "    <tr>\n",
       "      <th>1</th>\n",
       "      <td>road</td>\n",
       "      <td>3.00</td>\n",
       "    </tr>\n",
       "    <tr>\n",
       "      <th>2</th>\n",
       "      <td>ship</td>\n",
       "      <td>2.99</td>\n",
       "    </tr>\n",
       "    <tr>\n",
       "      <th>0</th>\n",
       "      <td>flight</td>\n",
       "      <td>2.98</td>\n",
       "    </tr>\n",
       "  </tbody>\n",
       "</table>\n",
       "</div>"
      ],
      "text/plain": [
       "  mode_of_shipment  customer_rating\n",
       "1             road             3.00\n",
       "2             ship             2.99\n",
       "0           flight             2.98"
      ]
     },
     "execution_count": 88,
     "metadata": {},
     "output_type": "execute_result"
    }
   ],
   "source": [
    "shipment_rating"
   ]
  },
  {
   "cell_type": "markdown",
   "id": "132a880e",
   "metadata": {},
   "source": [
    "Разница около нуля, на данном этапе идею отбрасываем."
   ]
  },
  {
   "cell_type": "markdown",
   "id": "ada23e3a",
   "metadata": {},
   "source": [
    "Приоритет по доставке может влиять положительно на рейтинг, т.к. если покупатель выбрал более высокий приоритет, то для него товар важен, и в целом завершение заказа по нему должно оказывать более положительный эффект, чем доставка товара, который он особо не ждет, т.е. приоритет - низкий, например."
   ]
  },
  {
   "cell_type": "code",
   "execution_count": 89,
   "id": "a51e11be",
   "metadata": {},
   "outputs": [],
   "source": [
    "# Сравним средний рейтинг для разных приоритетов доставки\n",
    "\n",
    "importance_rating = avg_rating(df.product_importance) \\\n",
    "                              .sort_values('customer_rating', \n",
    "                                           ascending=False)"
   ]
  },
  {
   "cell_type": "code",
   "execution_count": 90,
   "id": "241b1000",
   "metadata": {},
   "outputs": [
    {
     "data": {
      "text/html": [
       "<div>\n",
       "<style scoped>\n",
       "    .dataframe tbody tr th:only-of-type {\n",
       "        vertical-align: middle;\n",
       "    }\n",
       "\n",
       "    .dataframe tbody tr th {\n",
       "        vertical-align: top;\n",
       "    }\n",
       "\n",
       "    .dataframe thead th {\n",
       "        text-align: right;\n",
       "    }\n",
       "</style>\n",
       "<table border=\"1\" class=\"dataframe\">\n",
       "  <thead>\n",
       "    <tr style=\"text-align: right;\">\n",
       "      <th></th>\n",
       "      <th>product_importance</th>\n",
       "      <th>customer_rating</th>\n",
       "    </tr>\n",
       "  </thead>\n",
       "  <tbody>\n",
       "    <tr>\n",
       "      <th>2</th>\n",
       "      <td>medium</td>\n",
       "      <td>3.00</td>\n",
       "    </tr>\n",
       "    <tr>\n",
       "      <th>0</th>\n",
       "      <td>high</td>\n",
       "      <td>2.99</td>\n",
       "    </tr>\n",
       "    <tr>\n",
       "      <th>1</th>\n",
       "      <td>low</td>\n",
       "      <td>2.98</td>\n",
       "    </tr>\n",
       "  </tbody>\n",
       "</table>\n",
       "</div>"
      ],
      "text/plain": [
       "  product_importance  customer_rating\n",
       "2             medium             3.00\n",
       "0               high             2.99\n",
       "1                low             2.98"
      ]
     },
     "execution_count": 90,
     "metadata": {},
     "output_type": "execute_result"
    }
   ],
   "source": [
    "importance_rating"
   ]
  },
  {
   "cell_type": "markdown",
   "id": "940d1886",
   "metadata": {},
   "source": [
    "Минимальная разница, идею отбрасываем."
   ]
  },
  {
   "cell_type": "markdown",
   "id": "82a824a3",
   "metadata": {},
   "source": [
    "Разница между полами может быть обусловлена многими факторами, начиная от природных, заканчивая приоритетами наших рекламных, маркетинговых компаний, дизайна и проч."
   ]
  },
  {
   "cell_type": "code",
   "execution_count": 91,
   "id": "a04af591",
   "metadata": {},
   "outputs": [],
   "source": [
    "# Посмотрим на средний рейтинг у разных полов\n",
    "\n",
    "gender_rating = avg_rating(df.gender)"
   ]
  },
  {
   "cell_type": "code",
   "execution_count": 92,
   "id": "5db833c1",
   "metadata": {},
   "outputs": [
    {
     "data": {
      "text/html": [
       "<div>\n",
       "<style scoped>\n",
       "    .dataframe tbody tr th:only-of-type {\n",
       "        vertical-align: middle;\n",
       "    }\n",
       "\n",
       "    .dataframe tbody tr th {\n",
       "        vertical-align: top;\n",
       "    }\n",
       "\n",
       "    .dataframe thead th {\n",
       "        text-align: right;\n",
       "    }\n",
       "</style>\n",
       "<table border=\"1\" class=\"dataframe\">\n",
       "  <thead>\n",
       "    <tr style=\"text-align: right;\">\n",
       "      <th></th>\n",
       "      <th>gender</th>\n",
       "      <th>customer_rating</th>\n",
       "    </tr>\n",
       "  </thead>\n",
       "  <tbody>\n",
       "    <tr>\n",
       "      <th>0</th>\n",
       "      <td>f</td>\n",
       "      <td>2.99</td>\n",
       "    </tr>\n",
       "    <tr>\n",
       "      <th>1</th>\n",
       "      <td>m</td>\n",
       "      <td>2.99</td>\n",
       "    </tr>\n",
       "  </tbody>\n",
       "</table>\n",
       "</div>"
      ],
      "text/plain": [
       "  gender  customer_rating\n",
       "0      f             2.99\n",
       "1      m             2.99"
      ]
     },
     "execution_count": 92,
     "metadata": {},
     "output_type": "execute_result"
    }
   ],
   "source": [
    "gender_rating"
   ]
  },
  {
   "cell_type": "markdown",
   "id": "2deeae77",
   "metadata": {},
   "source": [
    "Разницы между полами в данном случае нет."
   ]
  },
  {
   "cell_type": "markdown",
   "id": "7ffc2df6",
   "metadata": {},
   "source": [
    "Своевременность доставки по логике должна влиять положительно на оценку клиента."
   ]
  },
  {
   "cell_type": "code",
   "execution_count": 93,
   "id": "7fff299e",
   "metadata": {},
   "outputs": [],
   "source": [
    "# Посмотрим на средний рейтинг 2х групп заказов:\n",
    "# доставленных вовремя и с опозданием\n",
    "\n",
    "class_rating = avg_rating(df['class'])"
   ]
  },
  {
   "cell_type": "code",
   "execution_count": 94,
   "id": "60ea45e5",
   "metadata": {},
   "outputs": [
    {
     "data": {
      "text/html": [
       "<div>\n",
       "<style scoped>\n",
       "    .dataframe tbody tr th:only-of-type {\n",
       "        vertical-align: middle;\n",
       "    }\n",
       "\n",
       "    .dataframe tbody tr th {\n",
       "        vertical-align: top;\n",
       "    }\n",
       "\n",
       "    .dataframe thead th {\n",
       "        text-align: right;\n",
       "    }\n",
       "</style>\n",
       "<table border=\"1\" class=\"dataframe\">\n",
       "  <thead>\n",
       "    <tr style=\"text-align: right;\">\n",
       "      <th></th>\n",
       "      <th>class</th>\n",
       "      <th>customer_rating</th>\n",
       "    </tr>\n",
       "  </thead>\n",
       "  <tbody>\n",
       "    <tr>\n",
       "      <th>0</th>\n",
       "      <td>0</td>\n",
       "      <td>2.97</td>\n",
       "    </tr>\n",
       "    <tr>\n",
       "      <th>1</th>\n",
       "      <td>1</td>\n",
       "      <td>3.01</td>\n",
       "    </tr>\n",
       "  </tbody>\n",
       "</table>\n",
       "</div>"
      ],
      "text/plain": [
       "   class  customer_rating\n",
       "0      0             2.97\n",
       "1      1             3.01"
      ]
     },
     "execution_count": 94,
     "metadata": {},
     "output_type": "execute_result"
    }
   ],
   "source": [
    "class_rating"
   ]
  },
  {
   "cell_type": "markdown",
   "id": "e4cd7552",
   "metadata": {},
   "source": [
    "Здесь различие небольшое, но выборки достаточно большие. Проведем Т-тест."
   ]
  },
  {
   "cell_type": "code",
   "execution_count": 95,
   "id": "52ddf13a",
   "metadata": {},
   "outputs": [],
   "source": [
    "# Подготовим данные для теста\n",
    "\n",
    "good_delivery = df[df['class'] == 1].customer_rating\n",
    "bad_delivery = df[df['class'] == 0].customer_rating"
   ]
  },
  {
   "cell_type": "code",
   "execution_count": 96,
   "id": "0e8e2da1",
   "metadata": {},
   "outputs": [
    {
     "data": {
      "text/plain": [
       "Ttest_indResult(statistic=1.3837536056686037, pvalue=0.16646640499164828)"
      ]
     },
     "execution_count": 96,
     "metadata": {},
     "output_type": "execute_result"
    }
   ],
   "source": [
    "ss.ttest_ind(good_delivery, bad_delivery, equal_var=False)"
   ]
  },
  {
   "cell_type": "markdown",
   "id": "5848287b",
   "metadata": {},
   "source": [
    "При p-value > 0.05 у нас нет оснований, чтобы отвергнуть нулевую гипотезу и признать различия в средних статистически значимыми."
   ]
  },
  {
   "cell_type": "code",
   "execution_count": 97,
   "id": "6aba7bac",
   "metadata": {},
   "outputs": [],
   "source": [
    "# Посчитаем d Коэна для расчета мощности теста\n",
    "\n",
    "d2 = (good_delivery.mean() - bad_delivery.mean()) \\\n",
    "      / np.sqrt((np.std(good_delivery)**2 \n",
    "                 + np.std(bad_delivery)**2) / 2)"
   ]
  },
  {
   "cell_type": "code",
   "execution_count": 98,
   "id": "a8df7867",
   "metadata": {},
   "outputs": [
    {
     "data": {
      "text/plain": [
       "0.28272291380972475"
      ]
     },
     "execution_count": 98,
     "metadata": {},
     "output_type": "execute_result"
    }
   ],
   "source": [
    "# Мощность теста\n",
    "\n",
    "pg.power_ttest2n(len(bad_delivery), \n",
    "                 len(good_delivery), \n",
    "                 d=d2, \n",
    "                 alpha=0.05)"
   ]
  },
  {
   "cell_type": "markdown",
   "id": "bfe8ad1b",
   "metadata": {},
   "source": [
    "Мощность теста низкая из-за небольшой разницы между группами. Ситуация аналогичная описанным ранее.\n",
    "\n",
    "Возможно Bootstrap справится лучше."
   ]
  },
  {
   "cell_type": "code",
   "execution_count": 99,
   "id": "81fe1ea3",
   "metadata": {},
   "outputs": [
    {
     "data": {
      "text/plain": [
       "array([-0.02,  0.09])"
      ]
     },
     "execution_count": 99,
     "metadata": {},
     "output_type": "execute_result"
    }
   ],
   "source": [
    "# Bootstrap\n",
    "\n",
    "pg.compute_bootci(good_delivery, \n",
    "                  bad_delivery, \n",
    "                  n_boot=10000, \n",
    "                  func=lambda x, y: np.mean(x) - np.mean(y)) "
   ]
  },
  {
   "cell_type": "code",
   "execution_count": 100,
   "id": "0a19d2c7",
   "metadata": {},
   "outputs": [
    {
     "name": "stderr",
     "output_type": "stream",
     "text": [
      "100%|██████████████████████████████████████████████████████████████████████████████████████| 100/100 [09:28<00:00,  5.69s/it]"
     ]
    },
    {
     "name": "stdout",
     "output_type": "stream",
     "text": [
      "0.22\n"
     ]
    },
    {
     "name": "stderr",
     "output_type": "stream",
     "text": [
      "\n"
     ]
    }
   ],
   "source": [
    "# Мощность\n",
    "\n",
    "# Создадим список для результатов\n",
    "bs_total_2 = []\n",
    "\n",
    "# Зададим кол-во итераций\n",
    "bs_n_2 = 100\n",
    "\n",
    "# Сохраним длины \n",
    "gd_len = len(good_delivery)\n",
    "bd_len = len(bad_delivery)\n",
    "\n",
    "for _ in tqdm(range(bs_n_2)):\n",
    "    \n",
    "    # Сгенерируем распределения\n",
    "    gd_d = good_delivery.value_counts(normalize=True) \\\n",
    "                        .reset_index()\n",
    "    xk_gd = gd_d['index'].to_list()\n",
    "    pk_gd = gd_d.customer_rating.to_list()    \n",
    "    d_gd = ss.rv_discrete(name='d_gd', \n",
    "                          values=(xk_gd, pk_gd))\n",
    "    gd_s = d_gd.rvs(size=gd_len)\n",
    "    \n",
    "    bd_d = bad_delivery.value_counts(normalize=True) \\\n",
    "                       .reset_index()\n",
    "    xk_bd = bd_d['index'].to_list()\n",
    "    pk_bd = bd_d.customer_rating.to_list()    \n",
    "    d_bd = ss.rv_discrete(name='d_bd', \n",
    "                          values=(xk_bd, pk_bd))\n",
    "    bd_s = d_bd.rvs(size=bd_len) \n",
    "    \n",
    "    # Проведем тест\n",
    "    bs = pg.compute_bootci(gd_s, bd_s, \n",
    "                           n_boot=10000, \n",
    "                           func=lambda x, y: np.mean(x) - np.mean(y))\n",
    "    \n",
    "    # Сохраним результат\n",
    "    result = np.sign(bs[0]) == np.sign(bs[1])\n",
    "    \n",
    "    # Добавим результат в общий список\n",
    "    bs_total_2.append(result)\n",
    "\n",
    "# Посчитаем долю\n",
    "print(sum(bs_total_2) / bs_n_2)"
   ]
  },
  {
   "cell_type": "markdown",
   "id": "909d9b77",
   "metadata": {},
   "source": [
    "Поскольку ноль входит в диапазон, то мы не признаем различия между средними статистически значимыми. При этом мощность теста низкая и мы вновь сталкиваемся с тем, что столь небольшие различия тесты детектируют очень плохо."
   ]
  },
  {
   "cell_type": "markdown",
   "id": "04605077",
   "metadata": {},
   "source": [
    "Кажется, что для заказов с высоким приоритетом опоздания должны быть более критичны, чем для заказов с низким приоритетом. Посмотрим на взаимосвязь между группами."
   ]
  },
  {
   "cell_type": "code",
   "execution_count": 101,
   "id": "83c51709",
   "metadata": {},
   "outputs": [],
   "source": [
    "# Посмотрим на средний рейтинг в группах\n",
    "\n",
    "pi_class_rating = df.groupby(['product_importance', \n",
    "                              'class'], \n",
    "                             as_index=False) \\\n",
    "                    .customer_rating.mean() \\\n",
    "                    .round(2) "
   ]
  },
  {
   "cell_type": "code",
   "execution_count": 102,
   "id": "c5077218",
   "metadata": {},
   "outputs": [
    {
     "data": {
      "text/html": [
       "<div>\n",
       "<style scoped>\n",
       "    .dataframe tbody tr th:only-of-type {\n",
       "        vertical-align: middle;\n",
       "    }\n",
       "\n",
       "    .dataframe tbody tr th {\n",
       "        vertical-align: top;\n",
       "    }\n",
       "\n",
       "    .dataframe thead th {\n",
       "        text-align: right;\n",
       "    }\n",
       "</style>\n",
       "<table border=\"1\" class=\"dataframe\">\n",
       "  <thead>\n",
       "    <tr style=\"text-align: right;\">\n",
       "      <th></th>\n",
       "      <th>product_importance</th>\n",
       "      <th>class</th>\n",
       "      <th>customer_rating</th>\n",
       "    </tr>\n",
       "  </thead>\n",
       "  <tbody>\n",
       "    <tr>\n",
       "      <th>0</th>\n",
       "      <td>high</td>\n",
       "      <td>0</td>\n",
       "      <td>2.99</td>\n",
       "    </tr>\n",
       "    <tr>\n",
       "      <th>1</th>\n",
       "      <td>high</td>\n",
       "      <td>1</td>\n",
       "      <td>3.00</td>\n",
       "    </tr>\n",
       "    <tr>\n",
       "      <th>2</th>\n",
       "      <td>low</td>\n",
       "      <td>0</td>\n",
       "      <td>2.99</td>\n",
       "    </tr>\n",
       "    <tr>\n",
       "      <th>3</th>\n",
       "      <td>low</td>\n",
       "      <td>1</td>\n",
       "      <td>2.98</td>\n",
       "    </tr>\n",
       "    <tr>\n",
       "      <th>4</th>\n",
       "      <td>medium</td>\n",
       "      <td>0</td>\n",
       "      <td>2.94</td>\n",
       "    </tr>\n",
       "    <tr>\n",
       "      <th>5</th>\n",
       "      <td>medium</td>\n",
       "      <td>1</td>\n",
       "      <td>3.04</td>\n",
       "    </tr>\n",
       "  </tbody>\n",
       "</table>\n",
       "</div>"
      ],
      "text/plain": [
       "  product_importance  class  customer_rating\n",
       "0               high      0             2.99\n",
       "1               high      1             3.00\n",
       "2                low      0             2.99\n",
       "3                low      1             2.98\n",
       "4             medium      0             2.94\n",
       "5             medium      1             3.04"
      ]
     },
     "execution_count": 102,
     "metadata": {},
     "output_type": "execute_result"
    }
   ],
   "source": [
    "pi_class_rating"
   ]
  },
  {
   "cell_type": "markdown",
   "id": "58f02543",
   "metadata": {},
   "source": [
    "Кол-во заказов с высоким рейтингом составляет не более 10%. Возможно, при увеличении выборки мы получим другие значения, но на данный момент своевременность доставки на рейтинг удовлетворенности этой группы не влияет. Ожидаемо, для группы с низким приоритетом доставка также не играет роли. В наиболее многочисленной группе - со средним приоритетом, рейтинг отличается. \n",
    "Проверим статистически, насколько эта разница значима."
   ]
  },
  {
   "cell_type": "code",
   "execution_count": 103,
   "id": "8faa2e13",
   "metadata": {},
   "outputs": [],
   "source": [
    "# Сохраним выборки в переменные\n",
    "\n",
    "medium_1 = df[(df['product_importance'] == 'medium') \n",
    "              & (df['class'] == 1)].customer_rating\n",
    "medium_0 = df[(df['product_importance'] == 'medium') \n",
    "              & (df['class'] == 0)].customer_rating"
   ]
  },
  {
   "cell_type": "code",
   "execution_count": 104,
   "id": "1758c3dd",
   "metadata": {},
   "outputs": [
    {
     "data": {
      "text/plain": [
       "2807"
      ]
     },
     "execution_count": 104,
     "metadata": {},
     "output_type": "execute_result"
    }
   ],
   "source": [
    "# Посмотрим на их размеры\n",
    "\n",
    "len(medium_1)"
   ]
  },
  {
   "cell_type": "code",
   "execution_count": 105,
   "id": "11dc00c7",
   "metadata": {},
   "outputs": [
    {
     "data": {
      "text/plain": [
       "1947"
      ]
     },
     "execution_count": 105,
     "metadata": {},
     "output_type": "execute_result"
    }
   ],
   "source": [
    "len(medium_0)"
   ]
  },
  {
   "cell_type": "markdown",
   "id": "947ffb26",
   "metadata": {},
   "source": [
    "При большом объеме выборки средние будем сравнивать при помощи Т-теста Уэлча."
   ]
  },
  {
   "cell_type": "code",
   "execution_count": 106,
   "id": "00aac1cf",
   "metadata": {},
   "outputs": [
    {
     "data": {
      "text/plain": [
       "Ttest_indResult(statistic=2.4489878496476396, pvalue=0.014366671457840645)"
      ]
     },
     "execution_count": 106,
     "metadata": {},
     "output_type": "execute_result"
    }
   ],
   "source": [
    "ss.ttest_ind(medium_1, medium_0, equal_var=False)"
   ]
  },
  {
   "cell_type": "code",
   "execution_count": 113,
   "id": "fbfa4600",
   "metadata": {},
   "outputs": [
    {
     "name": "stderr",
     "output_type": "stream",
     "text": [
      "100%|███████████████████████████████████████████████████████████████████████████████████| 1000/1000 [00:09<00:00, 106.33it/s]"
     ]
    },
    {
     "name": "stdout",
     "output_type": "stream",
     "text": [
      "0.041\n"
     ]
    },
    {
     "name": "stderr",
     "output_type": "stream",
     "text": [
      "\n"
     ]
    }
   ],
   "source": [
    "# Тенденция ошибаться\n",
    "\n",
    "# Создадим список для результатов\n",
    "tt_total_1 = []\n",
    "\n",
    "# Зададим кол-во итераций\n",
    "tt_n_1 = 1000\n",
    "\n",
    "# Сохраним длины\n",
    "m1_len = len(medium_1)\n",
    "m0_len = len(medium_0)\n",
    "\n",
    "for _ in tqdm(range(tt_n_1)):\n",
    "    \n",
    "    # Сгенерируем распределения\n",
    "    m1_d = medium_1.value_counts(normalize=True) \\\n",
    "                   .reset_index()\n",
    "    xk_m1 = np.array(m1_d['index']) - (medium_1.mean()\n",
    "                                       - medium_0.mean())\n",
    "    pk_m1 = m1_d.customer_rating.to_list()    \n",
    "    d_m1 = ss.rv_discrete(name='d_m1', \n",
    "                          values=(xk_m1, pk_m1))\n",
    "    m1_s = d_m1.rvs(size=m1_len)\n",
    "    \n",
    "    m0_d = medium_0.value_counts(normalize=True) \\\n",
    "                   .reset_index()\n",
    "    xk_m0 = m0_d['index'].to_list() \n",
    "    pk_m0 = m0_d.customer_rating.to_list()    \n",
    "    d_m0 = ss.rv_discrete(name='d_m0', \n",
    "                          values=(xk_m0, pk_m0))\n",
    "    m0_s = d_m0.rvs(size=m0_len) \n",
    "    \n",
    "    # Проведем тест\n",
    "    result = ss.ttest_ind(m1_s, m0_s, equal_var=False)[1] < 0.05\n",
    "    \n",
    "    # Добавим результат в список\n",
    "    tt_total_1.append(result)\n",
    "\n",
    "# Посчитаем долю\n",
    "print(sum(tt_total_1) / tt_n_1)"
   ]
  },
  {
   "cell_type": "markdown",
   "id": "b701e393",
   "metadata": {},
   "source": [
    "При p-value < 0.05 и допустимом проценте ошибок 1го рода мы отклоняем нулевую гипотезу о равенстве средних. "
   ]
  },
  {
   "cell_type": "markdown",
   "id": "ba7171ec",
   "metadata": {},
   "source": [
    "# Рейтинг удовлетворенности. Резюме.\n",
    "\n",
    "В группе заказов со средним приоритетом, наиболее многочисленной, своевременность доставки положительно влияет на рейтинг удовлетворенности.\n",
    "\n",
    "Других существенных корреляций разных признаков с рейтингом удовлетворенности найти не удалось. Есть ряд признаков, которые дают разный рейтинг удовлетворенности, но это влияние признать статистически значимым нельзя, т.е. эти различия могут оказаться простой случайностью.\n",
    "\n",
    "В случае, если бизнес находится на стадии масштабирования, то есть смысл увеличивать выборки и проверять различия в группах, т.к. эффект от незначительной разницы может достаточно ощутимым.\n",
    "Если же компания находится на стадии становления, лучше искать более очевидные связи."
   ]
  },
  {
   "cell_type": "markdown",
   "id": "24fce0cd",
   "metadata": {},
   "source": [
    "# 4.3.2 Своевременность доставки.\n",
    "Посмотрим на влияние различных факторов на своевременность доставки."
   ]
  },
  {
   "cell_type": "code",
   "execution_count": 116,
   "id": "ebc6316f",
   "metadata": {
    "scrolled": true
   },
   "outputs": [
    {
     "data": {
      "text/html": [
       "<div>\n",
       "<style scoped>\n",
       "    .dataframe tbody tr th:only-of-type {\n",
       "        vertical-align: middle;\n",
       "    }\n",
       "\n",
       "    .dataframe tbody tr th {\n",
       "        vertical-align: top;\n",
       "    }\n",
       "\n",
       "    .dataframe thead th {\n",
       "        text-align: right;\n",
       "    }\n",
       "</style>\n",
       "<table border=\"1\" class=\"dataframe\">\n",
       "  <thead>\n",
       "    <tr style=\"text-align: right;\">\n",
       "      <th></th>\n",
       "      <th>customer_care_calls</th>\n",
       "      <th>customer_rating</th>\n",
       "      <th>prior_purchases</th>\n",
       "      <th>discount_offered</th>\n",
       "      <th>weight_in_gms</th>\n",
       "      <th>warehouse_block</th>\n",
       "      <th>mode_of_shipment</th>\n",
       "      <th>product_importance</th>\n",
       "      <th>gender</th>\n",
       "      <th>class</th>\n",
       "      <th>weight_groups</th>\n",
       "    </tr>\n",
       "  </thead>\n",
       "  <tbody>\n",
       "    <tr>\n",
       "      <th>0</th>\n",
       "      <td>5</td>\n",
       "      <td>4</td>\n",
       "      <td>2</td>\n",
       "      <td>10</td>\n",
       "      <td>5395</td>\n",
       "      <td>a</td>\n",
       "      <td>ship</td>\n",
       "      <td>medium</td>\n",
       "      <td>m</td>\n",
       "      <td>1</td>\n",
       "      <td>(4000.0, 6000.0]</td>\n",
       "    </tr>\n",
       "    <tr>\n",
       "      <th>1</th>\n",
       "      <td>4</td>\n",
       "      <td>3</td>\n",
       "      <td>2</td>\n",
       "      <td>6</td>\n",
       "      <td>5867</td>\n",
       "      <td>f</td>\n",
       "      <td>ship</td>\n",
       "      <td>medium</td>\n",
       "      <td>f</td>\n",
       "      <td>0</td>\n",
       "      <td>(4000.0, 6000.0]</td>\n",
       "    </tr>\n",
       "    <tr>\n",
       "      <th>2</th>\n",
       "      <td>3</td>\n",
       "      <td>4</td>\n",
       "      <td>2</td>\n",
       "      <td>2</td>\n",
       "      <td>5957</td>\n",
       "      <td>d</td>\n",
       "      <td>ship</td>\n",
       "      <td>medium</td>\n",
       "      <td>m</td>\n",
       "      <td>0</td>\n",
       "      <td>(4000.0, 6000.0]</td>\n",
       "    </tr>\n",
       "    <tr>\n",
       "      <th>3</th>\n",
       "      <td>3</td>\n",
       "      <td>1</td>\n",
       "      <td>2</td>\n",
       "      <td>27</td>\n",
       "      <td>2551</td>\n",
       "      <td>d</td>\n",
       "      <td>ship</td>\n",
       "      <td>medium</td>\n",
       "      <td>m</td>\n",
       "      <td>1</td>\n",
       "      <td>(2000.0, 4000.0]</td>\n",
       "    </tr>\n",
       "    <tr>\n",
       "      <th>4</th>\n",
       "      <td>7</td>\n",
       "      <td>5</td>\n",
       "      <td>4</td>\n",
       "      <td>9</td>\n",
       "      <td>1329</td>\n",
       "      <td>b</td>\n",
       "      <td>ship</td>\n",
       "      <td>medium</td>\n",
       "      <td>m</td>\n",
       "      <td>1</td>\n",
       "      <td>(0.0, 2000.0]</td>\n",
       "    </tr>\n",
       "  </tbody>\n",
       "</table>\n",
       "</div>"
      ],
      "text/plain": [
       "   customer_care_calls  customer_rating  prior_purchases  discount_offered  \\\n",
       "0                    5                4                2                10   \n",
       "1                    4                3                2                 6   \n",
       "2                    3                4                2                 2   \n",
       "3                    3                1                2                27   \n",
       "4                    7                5                4                 9   \n",
       "\n",
       "   weight_in_gms warehouse_block mode_of_shipment product_importance gender  \\\n",
       "0           5395               a             ship             medium      m   \n",
       "1           5867               f             ship             medium      f   \n",
       "2           5957               d             ship             medium      m   \n",
       "3           2551               d             ship             medium      m   \n",
       "4           1329               b             ship             medium      m   \n",
       "\n",
       "   class     weight_groups  \n",
       "0      1  (4000.0, 6000.0]  \n",
       "1      0  (4000.0, 6000.0]  \n",
       "2      0  (4000.0, 6000.0]  \n",
       "3      1  (2000.0, 4000.0]  \n",
       "4      1     (0.0, 2000.0]  "
      ]
     },
     "execution_count": 116,
     "metadata": {},
     "output_type": "execute_result"
    }
   ],
   "source": [
    "df.head()"
   ]
  },
  {
   "cell_type": "code",
   "execution_count": 117,
   "id": "8c5169d6",
   "metadata": {},
   "outputs": [],
   "source": [
    "# Создадим функцию, которая группирует значения\n",
    "# и выводит долю своевременных доставок\n",
    "\n",
    "def avg_delivery(column):\n",
    "    '''\n",
    "Принимает колонку column вида 'df.column', \n",
    "возвращает таблицу с долей своевременных доставок\n",
    "'''\n",
    "    return df.groupby(column, as_index=False)['class'] \\\n",
    "             .mean() \\\n",
    "             .sort_values('class', ascending=False) \\\n",
    "             .round(2)"
   ]
  },
  {
   "cell_type": "markdown",
   "id": "a1d444c0",
   "metadata": {},
   "source": [
    "Заказы разного веса могут загружаться и разгружаться разными способами, какие-то могут работать быстрее, какие-то медленнее, посмотрим, есть ли взаимосвязь между весом и своевременностью доставки."
   ]
  },
  {
   "cell_type": "code",
   "execution_count": 118,
   "id": "7c2ec066",
   "metadata": {},
   "outputs": [],
   "source": [
    "# Посмотрим на долю своевременных доставок \n",
    "# для разных весов заказов\n",
    "\n",
    "weight_class = avg_delivery(df.weight_groups) \\\n",
    "                           .sort_values('weight_groups')"
   ]
  },
  {
   "cell_type": "code",
   "execution_count": 119,
   "id": "4aecebc1",
   "metadata": {},
   "outputs": [
    {
     "data": {
      "text/html": [
       "<div>\n",
       "<style scoped>\n",
       "    .dataframe tbody tr th:only-of-type {\n",
       "        vertical-align: middle;\n",
       "    }\n",
       "\n",
       "    .dataframe tbody tr th {\n",
       "        vertical-align: top;\n",
       "    }\n",
       "\n",
       "    .dataframe thead th {\n",
       "        text-align: right;\n",
       "    }\n",
       "</style>\n",
       "<table border=\"1\" class=\"dataframe\">\n",
       "  <thead>\n",
       "    <tr style=\"text-align: right;\">\n",
       "      <th></th>\n",
       "      <th>weight_groups</th>\n",
       "      <th>class</th>\n",
       "    </tr>\n",
       "  </thead>\n",
       "  <tbody>\n",
       "    <tr>\n",
       "      <th>0</th>\n",
       "      <td>(0.0, 2000.0]</td>\n",
       "      <td>0.68</td>\n",
       "    </tr>\n",
       "    <tr>\n",
       "      <th>1</th>\n",
       "      <td>(2000.0, 4000.0]</td>\n",
       "      <td>1.00</td>\n",
       "    </tr>\n",
       "    <tr>\n",
       "      <th>2</th>\n",
       "      <td>(4000.0, 6000.0]</td>\n",
       "      <td>0.43</td>\n",
       "    </tr>\n",
       "    <tr>\n",
       "      <th>3</th>\n",
       "      <td>(6000.0, inf]</td>\n",
       "      <td>1.00</td>\n",
       "    </tr>\n",
       "  </tbody>\n",
       "</table>\n",
       "</div>"
      ],
      "text/plain": [
       "      weight_groups  class\n",
       "0     (0.0, 2000.0]   0.68\n",
       "1  (2000.0, 4000.0]   1.00\n",
       "2  (4000.0, 6000.0]   0.43\n",
       "3     (6000.0, inf]   1.00"
      ]
     },
     "execution_count": 119,
     "metadata": {},
     "output_type": "execute_result"
    }
   ],
   "source": [
    "weight_class"
   ]
  },
  {
   "cell_type": "code",
   "execution_count": 120,
   "id": "7b1354d2",
   "metadata": {},
   "outputs": [
    {
     "data": {
      "text/plain": [
       "[Text(0.5, 0, 'Вес'), Text(0, 0.5, 'Доля своевременных доставок')]"
      ]
     },
     "execution_count": 120,
     "metadata": {},
     "output_type": "execute_result"
    },
    {
     "data": {
      "image/png": "[encoded data removed]",
      "text/plain": [
       "<Figure size 640x480 with 1 Axes>"
      ]
     },
     "metadata": {},
     "output_type": "display_data"
    }
   ],
   "source": [
    "# Визуализируем\n",
    "\n",
    "# Построим график\n",
    "wc_bp = create_bp(weight_class)\n",
    "\n",
    "# Подпишем оси\n",
    "wc_bp.set(xlabel='Вес',\n",
    "          ylabel='Доля своевременных доставок')"
   ]
  },
  {
   "cell_type": "markdown",
   "id": "28a5b2cc",
   "metadata": {},
   "source": [
    "Прямой взаимосвязи с весом мы не наблюдаем."
   ]
  },
  {
   "cell_type": "markdown",
   "id": "f34bf826",
   "metadata": {},
   "source": [
    "Посмотрим на влияние склада на своевременность доставки, т.к. цепочка доставки зависит в т.ч. от скорости отгрузки."
   ]
  },
  {
   "cell_type": "code",
   "execution_count": 121,
   "id": "a204c4dd",
   "metadata": {},
   "outputs": [],
   "source": [
    "# Посмотрим долю своевременных доставок \n",
    "# для разных складов\n",
    "\n",
    "warehouse_class = avg_delivery(df.warehouse_block)"
   ]
  },
  {
   "cell_type": "code",
   "execution_count": 122,
   "id": "dba2a1cd",
   "metadata": {},
   "outputs": [
    {
     "data": {
      "text/html": [
       "<div>\n",
       "<style scoped>\n",
       "    .dataframe tbody tr th:only-of-type {\n",
       "        vertical-align: middle;\n",
       "    }\n",
       "\n",
       "    .dataframe tbody tr th {\n",
       "        vertical-align: top;\n",
       "    }\n",
       "\n",
       "    .dataframe thead th {\n",
       "        text-align: right;\n",
       "    }\n",
       "</style>\n",
       "<table border=\"1\" class=\"dataframe\">\n",
       "  <thead>\n",
       "    <tr style=\"text-align: right;\">\n",
       "      <th></th>\n",
       "      <th>warehouse_block</th>\n",
       "      <th>class</th>\n",
       "    </tr>\n",
       "  </thead>\n",
       "  <tbody>\n",
       "    <tr>\n",
       "      <th>1</th>\n",
       "      <td>b</td>\n",
       "      <td>0.60</td>\n",
       "    </tr>\n",
       "    <tr>\n",
       "      <th>4</th>\n",
       "      <td>f</td>\n",
       "      <td>0.60</td>\n",
       "    </tr>\n",
       "    <tr>\n",
       "      <th>3</th>\n",
       "      <td>d</td>\n",
       "      <td>0.60</td>\n",
       "    </tr>\n",
       "    <tr>\n",
       "      <th>2</th>\n",
       "      <td>c</td>\n",
       "      <td>0.60</td>\n",
       "    </tr>\n",
       "    <tr>\n",
       "      <th>0</th>\n",
       "      <td>a</td>\n",
       "      <td>0.59</td>\n",
       "    </tr>\n",
       "  </tbody>\n",
       "</table>\n",
       "</div>"
      ],
      "text/plain": [
       "  warehouse_block  class\n",
       "1               b   0.60\n",
       "4               f   0.60\n",
       "3               d   0.60\n",
       "2               c   0.60\n",
       "0               a   0.59"
      ]
     },
     "execution_count": 122,
     "metadata": {},
     "output_type": "execute_result"
    }
   ],
   "source": [
    "warehouse_class"
   ]
  },
  {
   "cell_type": "markdown",
   "id": "501f71de",
   "metadata": {},
   "source": [
    "Разницы между складами почти нет, единственное отклонение - у склада А показатель чуть ниже, при этом, как мы помним, у него самая низкая оценка среди клиентов. Возможно, тк статистически значимых различий тут нет, стоит обратить на него несколько больше внимания."
   ]
  },
  {
   "cell_type": "markdown",
   "id": "fc94c96f",
   "metadata": {},
   "source": [
    "Различные способы доставки имеют разную скорость, предсказательную точность, результаты могут серьезно отличаться."
   ]
  },
  {
   "cell_type": "code",
   "execution_count": 123,
   "id": "f6d26459",
   "metadata": {},
   "outputs": [],
   "source": [
    "# Посмотрим долю своевременных доставок \n",
    "# для разных способов доставки\n",
    "\n",
    "shipment_class = avg_delivery(df.mode_of_shipment)"
   ]
  },
  {
   "cell_type": "code",
   "execution_count": 124,
   "id": "b144024e",
   "metadata": {},
   "outputs": [
    {
     "data": {
      "text/html": [
       "<div>\n",
       "<style scoped>\n",
       "    .dataframe tbody tr th:only-of-type {\n",
       "        vertical-align: middle;\n",
       "    }\n",
       "\n",
       "    .dataframe tbody tr th {\n",
       "        vertical-align: top;\n",
       "    }\n",
       "\n",
       "    .dataframe thead th {\n",
       "        text-align: right;\n",
       "    }\n",
       "</style>\n",
       "<table border=\"1\" class=\"dataframe\">\n",
       "  <thead>\n",
       "    <tr style=\"text-align: right;\">\n",
       "      <th></th>\n",
       "      <th>mode_of_shipment</th>\n",
       "      <th>class</th>\n",
       "    </tr>\n",
       "  </thead>\n",
       "  <tbody>\n",
       "    <tr>\n",
       "      <th>0</th>\n",
       "      <td>flight</td>\n",
       "      <td>0.60</td>\n",
       "    </tr>\n",
       "    <tr>\n",
       "      <th>2</th>\n",
       "      <td>ship</td>\n",
       "      <td>0.60</td>\n",
       "    </tr>\n",
       "    <tr>\n",
       "      <th>1</th>\n",
       "      <td>road</td>\n",
       "      <td>0.59</td>\n",
       "    </tr>\n",
       "  </tbody>\n",
       "</table>\n",
       "</div>"
      ],
      "text/plain": [
       "  mode_of_shipment  class\n",
       "0           flight   0.60\n",
       "2             ship   0.60\n",
       "1             road   0.59"
      ]
     },
     "execution_count": 124,
     "metadata": {},
     "output_type": "execute_result"
    }
   ],
   "source": [
    "shipment_class"
   ]
  },
  {
   "cell_type": "markdown",
   "id": "15300afd",
   "metadata": {},
   "source": [
    "Автодоставка имеет чуть меньшую долю своевременных доставок, но разница минимальна."
   ]
  },
  {
   "cell_type": "markdown",
   "id": "17303f6c",
   "metadata": {},
   "source": [
    "Проверим, насколько хорошо работают выставленные приоритеты по доставке."
   ]
  },
  {
   "cell_type": "code",
   "execution_count": 125,
   "id": "7b7f5f6f",
   "metadata": {},
   "outputs": [],
   "source": [
    "# Посмотрим на своевременность доставки\n",
    "# у различных приоритетов\n",
    "\n",
    "product_importance_class = avg_delivery(df.product_importance)"
   ]
  },
  {
   "cell_type": "code",
   "execution_count": 126,
   "id": "d5589f6d",
   "metadata": {},
   "outputs": [
    {
     "data": {
      "text/html": [
       "<div>\n",
       "<style scoped>\n",
       "    .dataframe tbody tr th:only-of-type {\n",
       "        vertical-align: middle;\n",
       "    }\n",
       "\n",
       "    .dataframe tbody tr th {\n",
       "        vertical-align: top;\n",
       "    }\n",
       "\n",
       "    .dataframe thead th {\n",
       "        text-align: right;\n",
       "    }\n",
       "</style>\n",
       "<table border=\"1\" class=\"dataframe\">\n",
       "  <thead>\n",
       "    <tr style=\"text-align: right;\">\n",
       "      <th></th>\n",
       "      <th>product_importance</th>\n",
       "      <th>class</th>\n",
       "    </tr>\n",
       "  </thead>\n",
       "  <tbody>\n",
       "    <tr>\n",
       "      <th>0</th>\n",
       "      <td>high</td>\n",
       "      <td>0.65</td>\n",
       "    </tr>\n",
       "    <tr>\n",
       "      <th>1</th>\n",
       "      <td>low</td>\n",
       "      <td>0.59</td>\n",
       "    </tr>\n",
       "    <tr>\n",
       "      <th>2</th>\n",
       "      <td>medium</td>\n",
       "      <td>0.59</td>\n",
       "    </tr>\n",
       "  </tbody>\n",
       "</table>\n",
       "</div>"
      ],
      "text/plain": [
       "  product_importance  class\n",
       "0               high   0.65\n",
       "1                low   0.59\n",
       "2             medium   0.59"
      ]
     },
     "execution_count": 126,
     "metadata": {},
     "output_type": "execute_result"
    }
   ],
   "source": [
    "product_importance_class"
   ]
  },
  {
   "cell_type": "markdown",
   "id": "7eb129e8",
   "metadata": {},
   "source": [
    "У высокого приоритета процент своевременных доставок выше, а у низкого и среднего не отличается.\n",
    "\n",
    "Проверим разницу между группами с помощью Хи-Квадрат анализа таблиц сопряженности, где Н0 - наблюдаемое распределение не отличается от ожидаемого и Н1 - отличается. Далее проанализируем остатки."
   ]
  },
  {
   "cell_type": "code",
   "execution_count": 127,
   "id": "ecf3a767",
   "metadata": {},
   "outputs": [],
   "source": [
    "# Подготовим таблицу сопряженности для теста\n",
    "\n",
    "pi_vs_class = pd.crosstab(df.product_importance, df['class'])"
   ]
  },
  {
   "cell_type": "code",
   "execution_count": 128,
   "id": "670cb53e",
   "metadata": {},
   "outputs": [
    {
     "data": {
      "text/html": [
       "<div>\n",
       "<style scoped>\n",
       "    .dataframe tbody tr th:only-of-type {\n",
       "        vertical-align: middle;\n",
       "    }\n",
       "\n",
       "    .dataframe tbody tr th {\n",
       "        vertical-align: top;\n",
       "    }\n",
       "\n",
       "    .dataframe thead th {\n",
       "        text-align: right;\n",
       "    }\n",
       "</style>\n",
       "<table border=\"1\" class=\"dataframe\">\n",
       "  <thead>\n",
       "    <tr style=\"text-align: right;\">\n",
       "      <th></th>\n",
       "      <th>product_importance</th>\n",
       "      <th>class</th>\n",
       "    </tr>\n",
       "  </thead>\n",
       "  <tbody>\n",
       "    <tr>\n",
       "      <th>0</th>\n",
       "      <td>high</td>\n",
       "      <td>0.65</td>\n",
       "    </tr>\n",
       "    <tr>\n",
       "      <th>1</th>\n",
       "      <td>low</td>\n",
       "      <td>0.59</td>\n",
       "    </tr>\n",
       "    <tr>\n",
       "      <th>2</th>\n",
       "      <td>medium</td>\n",
       "      <td>0.59</td>\n",
       "    </tr>\n",
       "  </tbody>\n",
       "</table>\n",
       "</div>"
      ],
      "text/plain": [
       "  product_importance  class\n",
       "0               high   0.65\n",
       "1                low   0.59\n",
       "2             medium   0.59"
      ]
     },
     "execution_count": 128,
     "metadata": {},
     "output_type": "execute_result"
    }
   ],
   "source": [
    "product_importance_class"
   ]
  },
  {
   "cell_type": "code",
   "execution_count": 129,
   "id": "a0724bcb",
   "metadata": {},
   "outputs": [
    {
     "data": {
      "text/plain": [
       "0.0022512391939208177"
      ]
     },
     "execution_count": 129,
     "metadata": {},
     "output_type": "execute_result"
    }
   ],
   "source": [
    "# Проведем тест\n",
    "\n",
    "ss.chi2_contingency(pi_vs_class)[1]"
   ]
  },
  {
   "cell_type": "markdown",
   "id": "f554e130",
   "metadata": {},
   "source": [
    "При p-value < 0.05 мы отвергаем нулевую гипотезу и принимаем альтернативную - распределение статистически значимо отличается от ожидаемого."
   ]
  },
  {
   "cell_type": "code",
   "execution_count": 130,
   "id": "ae52c295",
   "metadata": {},
   "outputs": [],
   "source": [
    "# Построим датафрейм с остатками\n",
    "\n",
    "class_residuals = np.array(pi_vs_class) \\\n",
    "                    - ss.chi2_contingency(pi_vs_class)[3]"
   ]
  },
  {
   "cell_type": "code",
   "execution_count": 131,
   "id": "5fa75326",
   "metadata": {},
   "outputs": [],
   "source": [
    "class_residuals_df = pd.DataFrame(class_residuals, \n",
    "                                  index=product_importance_class.product_importance)"
   ]
  },
  {
   "cell_type": "code",
   "execution_count": 132,
   "id": "79f34cf9",
   "metadata": {},
   "outputs": [
    {
     "data": {
      "text/plain": [
       "[Text(0.5, 23.52222222222222, 'Доставка вовремя'),\n",
       " Text(50.722222222222214, 0.5, 'Приоритет по доставке')]"
      ]
     },
     "execution_count": 132,
     "metadata": {},
     "output_type": "execute_result"
    },
    {
     "data": {
      "image/png": "[encoded data removed]",
      "text/plain": [
       "<Figure size 640x480 with 2 Axes>"
      ]
     },
     "metadata": {},
     "output_type": "display_data"
    }
   ],
   "source": [
    "# Визуализируем\n",
    "\n",
    "# Построим график\n",
    "pi_hm = sns.heatmap(class_residuals_df, annot=True, cmap=\"crest\")\n",
    "\n",
    "# Подпишем оси\n",
    "pi_hm.set(xlabel='Доставка вовремя',\n",
    "          ylabel='Приоритет по доставке')"
   ]
  },
  {
   "cell_type": "code",
   "execution_count": 133,
   "id": "2d8530e2",
   "metadata": {},
   "outputs": [
    {
     "name": "stderr",
     "output_type": "stream",
     "text": [
      "100%|████████████████████████████████████████████████████████████████████████████████████| 1000/1000 [00:19<00:00, 51.37it/s]"
     ]
    },
    {
     "name": "stdout",
     "output_type": "stream",
     "text": [
      "0.054\n"
     ]
    },
    {
     "name": "stderr",
     "output_type": "stream",
     "text": [
      "\n"
     ]
    }
   ],
   "source": [
    "# Тенденция теста ошибаться\n",
    "\n",
    "# Создадим копию ДФа\n",
    "pic = product_importance_class.copy()\n",
    "\n",
    "# Зададим вероятность для всех групп\n",
    "med_p = pic[pic.product_importance == 'medium']['class'].mean()\n",
    "\n",
    "# Зададим длины\n",
    "high_size = len(df[df.product_importance == 'high'])\n",
    "med_size = len(df[df.product_importance == 'medium'])\n",
    "low_size = len(df[df.product_importance == 'low'])\n",
    "\n",
    "# Определим кол-во итераций\n",
    "chi_n = 1000\n",
    "\n",
    "# Создадим список для результатов\n",
    "chi_results = []\n",
    "\n",
    "for _ in tqdm(range(chi_n)):\n",
    "    \n",
    "    # Сгенерируем распределения\n",
    "    high = np.random.binomial(1, med_p, high_size)\n",
    "    medium = np.random.binomial(1, med_p, med_size)\n",
    "    low = np.random.binomial(1, med_p, low_size)\n",
    "    \n",
    "    # Создадим для них подписи\n",
    "    highs = ['high'] * high_size\n",
    "    meds = ['medium'] * med_size\n",
    "    lows = ['low'] * low_size\n",
    "    \n",
    "    # Соберем ДФы\n",
    "    df1 = pd.DataFrame({'importance': highs,\n",
    "                        'class': high})\n",
    "    df2 = pd.DataFrame({'importance': meds,\n",
    "                        'class': medium})\n",
    "    df3 = pd.DataFrame({'importance': lows,\n",
    "                        'class': low})\n",
    "    \n",
    "    # Объединим ДФы\n",
    "    df_f = pd.concat([df1, df2, df3])\n",
    "    \n",
    "    # Соберем ТС\n",
    "    pi_c = pd.crosstab(df_f.importance,\n",
    "                       df_f['class'])\n",
    "    \n",
    "    # Проведем тест\n",
    "    result = ss.chi2_contingency(pi_c)[1] < 0.05\n",
    "    \n",
    "    # Сохраним результат\n",
    "    chi_results.append(result)\n",
    "    \n",
    "# Посчитаем долю\n",
    "print(sum(chi_results) / chi_n)"
   ]
  },
  {
   "cell_type": "markdown",
   "id": "9efd2f93",
   "metadata": {},
   "source": [
    "Наибольшие отклонения наблюдаются в группе с высоким приоритетом, что нормально, а вот разница между medium и low демонстрирует нам то, что заказы с низким приоритетом показывают даже немного лучший перфоманс, чем со средним. \n",
    "При этом тесту можно доверять, т.к. вероятность ошибки 1го рода у него находится на допустимом уровне."
   ]
  },
  {
   "cell_type": "markdown",
   "id": "c5d7f1c7",
   "metadata": {},
   "source": [
    "# Своевременность доставки. Резюме.\n",
    "1. Приоритеты по заказам работают не лучшим образом: заказы с низким приоритетом доставляются вовремя чаще, чем заказы со средним приоритетом. С учетом того, что 90% заказов приходится на эти 2 группы - это существенный недостаток, который нужно исправлять.\n",
    "2. Стоит обратить внимание на работу склада А, т.к. своевременность доставок и рейтинг удовлетворенности для заказов, отгруженных с этого склада, несколько ниже. Отличия не являются статистически значимыми, поэтому можно подождать сбора бОльшего количества данных или же, при наличии ресурсов, провести ревью его работы."
   ]
  },
  {
   "cell_type": "markdown",
   "id": "94e73faf",
   "metadata": {},
   "source": [
    "# 4.3.3. Нагрузка на службу поддержки.\n",
    "Посмотрим на несколько возможных взаимосвязей между кол-вом контактов со службой поддержки и различными факторами."
   ]
  },
  {
   "cell_type": "markdown",
   "id": "75333104",
   "metadata": {},
   "source": [
    "Кажется логичной обратная взаимосвязь между кол-вом контактов и кол-вом предыдущим покупок, т.к. со временем клиенты знакомятся с нашим продуктом все ближе."
   ]
  },
  {
   "cell_type": "code",
   "execution_count": 134,
   "id": "097850a5",
   "metadata": {},
   "outputs": [],
   "source": [
    "# Посчитаем средние для разного кол-ва предыдущих покупок\n",
    "\n",
    "pp_calls = df.groupby('prior_purchases', as_index=False) \\\n",
    "             .customer_care_calls.mean()"
   ]
  },
  {
   "cell_type": "code",
   "execution_count": 135,
   "id": "4abb758c",
   "metadata": {},
   "outputs": [
    {
     "data": {
      "text/plain": [
       "[Text(0.5, 0, 'Предыдущие покупки'),\n",
       " Text(0, 0.5, 'Среднее кол-во контактов с СП')]"
      ]
     },
     "execution_count": 135,
     "metadata": {},
     "output_type": "execute_result"
    },
    {
     "data": {
      "image/png": "[encoded data removed]",
      "text/plain": [
       "<Figure size 640x480 with 1 Axes>"
      ]
     },
     "metadata": {},
     "output_type": "display_data"
    }
   ],
   "source": [
    "# Визуализируем результаты\n",
    "\n",
    "# Построим график\n",
    "pc_bp = create_bp(pp_calls)\n",
    "\n",
    "# Подпишем оси\n",
    "pc_bp.set(xlabel='Предыдущие покупки',\n",
    "          ylabel='Среднее кол-во контактов с СП')"
   ]
  },
  {
   "cell_type": "markdown",
   "id": "59388654",
   "metadata": {},
   "source": [
    "Идея не подтвердилась, ожидаемой взаимосвязи на графике не видно."
   ]
  },
  {
   "cell_type": "markdown",
   "id": "78f6bba1",
   "metadata": {},
   "source": [
    "Кажется логичной связь между приоритетом по доставке и контактами, т.к. если заказ для клиента важен, он будет больше волноваться и чаще звонить с вопросами и уточнениями."
   ]
  },
  {
   "cell_type": "code",
   "execution_count": 136,
   "id": "dc0a4fd8",
   "metadata": {},
   "outputs": [],
   "source": [
    "# Посчитаем средние для разных приоритетов\n",
    "\n",
    "pi_calls = df.groupby('product_importance', as_index=False) \\\n",
    "             .customer_care_calls.mean()"
   ]
  },
  {
   "cell_type": "code",
   "execution_count": 137,
   "id": "78c39a8b",
   "metadata": {},
   "outputs": [
    {
     "data": {
      "text/plain": [
       "[Text(0.5, 0, 'Приоритет по доставке'),\n",
       " Text(0, 0.5, 'Среднее кол-во контактов с СП')]"
      ]
     },
     "execution_count": 137,
     "metadata": {},
     "output_type": "execute_result"
    },
    {
     "data": {
      "image/png": "[encoded data removed]",
      "text/plain": [
       "<Figure size 640x480 with 1 Axes>"
      ]
     },
     "metadata": {},
     "output_type": "display_data"
    }
   ],
   "source": [
    "# Визуализируем результаты\n",
    "\n",
    "# Построим график\n",
    "pi_bp = create_bp(pi_calls)\n",
    "\n",
    "# Подпишем оси\n",
    "pi_bp.set(xlabel='Приоритет по доставке',\n",
    "          ylabel='Среднее кол-во контактов с СП')"
   ]
  },
  {
   "cell_type": "markdown",
   "id": "0ff0b2f8",
   "metadata": {},
   "source": [
    "Идея не подтвердилась, тенденция обратная. Объяснить ее можно только тем, что у высоких приоритетов наибольшее кол-во своевременных доставок.\n",
    "\n",
    "Посмотрим на связь между своевременностью доставки и контактами со службой поддержки, т.к. при задержке нужно предоставлять клиентам доп. информацию о переносе, новых сроках, отвечать на доп. вопросы и претензии."
   ]
  },
  {
   "cell_type": "code",
   "execution_count": 138,
   "id": "ffa573db",
   "metadata": {},
   "outputs": [],
   "source": [
    "# Посчитаем средние для разных результатов доставки\n",
    "\n",
    "del_calls = df.groupby('class', as_index=False) \\\n",
    "             .customer_care_calls.mean()"
   ]
  },
  {
   "cell_type": "code",
   "execution_count": 139,
   "id": "0b6a1eba",
   "metadata": {},
   "outputs": [
    {
     "data": {
      "text/html": [
       "<div>\n",
       "<style scoped>\n",
       "    .dataframe tbody tr th:only-of-type {\n",
       "        vertical-align: middle;\n",
       "    }\n",
       "\n",
       "    .dataframe tbody tr th {\n",
       "        vertical-align: top;\n",
       "    }\n",
       "\n",
       "    .dataframe thead th {\n",
       "        text-align: right;\n",
       "    }\n",
       "</style>\n",
       "<table border=\"1\" class=\"dataframe\">\n",
       "  <thead>\n",
       "    <tr style=\"text-align: right;\">\n",
       "      <th></th>\n",
       "      <th>class</th>\n",
       "      <th>customer_care_calls</th>\n",
       "    </tr>\n",
       "  </thead>\n",
       "  <tbody>\n",
       "    <tr>\n",
       "      <th>0</th>\n",
       "      <td>0</td>\n",
       "      <td>4.147914</td>\n",
       "    </tr>\n",
       "    <tr>\n",
       "      <th>1</th>\n",
       "      <td>1</td>\n",
       "      <td>3.991467</td>\n",
       "    </tr>\n",
       "  </tbody>\n",
       "</table>\n",
       "</div>"
      ],
      "text/plain": [
       "   class  customer_care_calls\n",
       "0      0             4.147914\n",
       "1      1             3.991467"
      ]
     },
     "execution_count": 139,
     "metadata": {},
     "output_type": "execute_result"
    }
   ],
   "source": [
    "del_calls"
   ]
  },
  {
   "cell_type": "code",
   "execution_count": 140,
   "id": "62cb5af1",
   "metadata": {},
   "outputs": [
    {
     "data": {
      "text/plain": [
       "[Text(0.5, 0, 'Своевременность доставки'),\n",
       " Text(0, 0.5, 'Среднее кол-во контактов с СП')]"
      ]
     },
     "execution_count": 140,
     "metadata": {},
     "output_type": "execute_result"
    },
    {
     "data": {
      "image/png": "[encoded data removed]",
      "text/plain": [
       "<Figure size 640x480 with 1 Axes>"
      ]
     },
     "metadata": {},
     "output_type": "display_data"
    }
   ],
   "source": [
    "# Визуализируем результаты\n",
    "\n",
    "# Построим график\n",
    "del_bp = create_bp(del_calls)\n",
    "\n",
    "# Подпишем оси\n",
    "del_bp.set(xlabel='Своевременность доставки',\n",
    "           ylabel='Среднее кол-во контактов с СП')"
   ]
  },
  {
   "cell_type": "markdown",
   "id": "f04c941e",
   "metadata": {},
   "source": [
    "Идея подтвердилась, теперь необходимо проверить, являются ли значимыми наблюдаемые отличия."
   ]
  },
  {
   "cell_type": "code",
   "execution_count": 141,
   "id": "344c1d4c",
   "metadata": {},
   "outputs": [],
   "source": [
    "# Присвоим значения переменным\n",
    "\n",
    "dc_0 = df[df['class'] == 0].customer_care_calls\n",
    "dc_1 = df[df['class'] == 1].customer_care_calls"
   ]
  },
  {
   "cell_type": "code",
   "execution_count": 142,
   "id": "7844e718",
   "metadata": {},
   "outputs": [
    {
     "data": {
      "text/plain": [
       "Ttest_indResult(statistic=7.018483295524711, pvalue=2.399993901181404e-12)"
      ]
     },
     "execution_count": 142,
     "metadata": {},
     "output_type": "execute_result"
    }
   ],
   "source": [
    "# Проведем Т-тест Уэлча\n",
    "\n",
    "ss.ttest_ind(dc_0, dc_1, equal_var=False)"
   ]
  },
  {
   "cell_type": "code",
   "execution_count": 143,
   "id": "bdc604e6",
   "metadata": {},
   "outputs": [
    {
     "name": "stderr",
     "output_type": "stream",
     "text": [
      "100%|███████████████████████████████████████████████████████████████████████████████████| 1000/1000 [00:09<00:00, 108.89it/s]"
     ]
    },
    {
     "name": "stdout",
     "output_type": "stream",
     "text": [
      "0.048\n"
     ]
    },
    {
     "name": "stderr",
     "output_type": "stream",
     "text": [
      "\n"
     ]
    }
   ],
   "source": [
    "# Тенденция ошибаться\n",
    "\n",
    "# Создадим список для результатов\n",
    "tt_total_2 = []\n",
    "\n",
    "# Зададим кол-во итераций\n",
    "tt_n_2 = 1000\n",
    "\n",
    "# Сохраним длины\n",
    "dc0_len = len(dc_0)\n",
    "dc1_len = len(dc_1)\n",
    "\n",
    "for _ in tqdm(range(tt_n_1)):\n",
    "    \n",
    "    # Сгенерируем распределения\n",
    "    dc0_d = dc_0.value_counts(normalize=True) \\\n",
    "                .reset_index()\n",
    "    xk_dc0 = np.array(dc0_d['index']) - (dc_0.mean()\n",
    "                                       - dc_1.mean())\n",
    "    pk_dc0 = dc0_d.customer_care_calls.to_list()    \n",
    "    d_dc0 = ss.rv_discrete(name='d_dc0', \n",
    "                           values=(xk_dc0, pk_dc0))\n",
    "    dc0_s = d_dc0.rvs(size=dc0_len)\n",
    "    \n",
    "    dc1_d = dc_1.value_counts(normalize=True) \\\n",
    "                .reset_index()\n",
    "    xk_dc1 = np.array(dc1_d['index'])\n",
    "    pk_dc1 = dc1_d.customer_care_calls.to_list()    \n",
    "    d_dc1 = ss.rv_discrete(name='d_dc1', \n",
    "                           values=(xk_dc1, pk_dc1))\n",
    "    dc1_s = d_dc1.rvs(size=dc1_len) \n",
    "    \n",
    "    # Проведем тест\n",
    "    result = ss.ttest_ind(dc0_s, \n",
    "                          dc1_s, \n",
    "                          equal_var=False)[1] < 0.05\n",
    "    \n",
    "    # Добавим результат в список\n",
    "    tt_total_2.append(result)\n",
    "\n",
    "# Посчитаем долю\n",
    "print(sum(tt_total_2) / tt_n_2)"
   ]
  },
  {
   "cell_type": "markdown",
   "id": "f255f3db",
   "metadata": {},
   "source": [
    "При p-value < 0.05 и допустимом уровне кол-ва ошибок 1го рода мы отвергаем нулевую гипотезу и принимаем альтернативную, признавая отличия между 2мя группами статистически значимыми."
   ]
  },
  {
   "cell_type": "markdown",
   "id": "60a73928",
   "metadata": {},
   "source": [
    "# Нагрузка на службу поддержки. Резюме.\n",
    "\n",
    "Задержки в доставке увеличивают нагрузку на службу поддержки."
   ]
  },
  {
   "cell_type": "markdown",
   "id": "2a50876e",
   "metadata": {},
   "source": [
    "# Финальный вывод.\n",
    "В группе со средним приоритетом доставки, которая является самой многочисленной, доля задержек самая высокая, что, в свою очередь, отрицательно влияет на рейтинг удовлетворенности и повышает нагрузку на службу поддержки.\n",
    "\n",
    "Решение этой проблемы является приоритетным."
   ]
  }
 ],
 "metadata": {
  "kernelspec": {
   "display_name": "Python 3 (ipykernel)",
   "language": "python",
   "name": "python3"
  },
  "language_info": {
   "codemirror_mode": {
    "name": "ipython",
    "version": 3
   },
   "file_extension": ".py",
   "mimetype": "text/x-python",
   "name": "python",
   "nbconvert_exporter": "python",
   "pygments_lexer": "ipython3",
   "version": "3.9.13"
  }
 },
 "nbformat": 4,
 "nbformat_minor": 5
}
