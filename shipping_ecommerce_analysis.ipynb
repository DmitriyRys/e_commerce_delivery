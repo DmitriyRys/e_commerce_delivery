{
 "cells": [
  {
   "cell_type": "markdown",
   "id": "d1d6a382",
   "metadata": {},
   "source": [
    "# 1. Описание данных.\n",
    "Международная e-commerce компания занимается продажей электроники. \n",
    "\n",
    "Колонки:\n",
    "- Customer_care_calls - кол-во контактов клиента со службой поддержки;\n",
    "- Customer_rating - рейтинг удовлетворенности клиента покупкой;\n",
    "- Prior_purchases - кол-во предыдущих покупок на сайте;\n",
    "- Discount_offered - предложенная скидка, в %;\n",
    "- Weight_in_gms - вес покупки в граммах;\n",
    "- Warehouse_block - склад;\n",
    "- Mode_of_Shipment - способ доставки;\n",
    "- Product_importance - приоритет по доставке (скорость и условия);\n",
    "- Gender - пол клиента;\n",
    "- Class - доставлен ли заказ вовремя."
   ]
  },
  {
   "cell_type": "markdown",
   "id": "b9e08b36",
   "metadata": {},
   "source": [
    "# 2. Цели исследования.\n",
    "- Посмотреть распределения и выбрать меры центральной тенденции для различных показателей, чтобы иметь представление о текущей ситуации;\n",
    "- Найти взаимосвязи различных показателей между собой, чтобы понять, как и на какие метрики можно влиять.\n",
    "- Проверить статистическую значимость различных гипотез.\n",
    "- Сделать предложения по улучшению работы компании."
   ]
  },
  {
   "cell_type": "markdown",
   "id": "c1d8223a",
   "metadata": {},
   "source": [
    "# 3. Знакомство с данными.\n",
    "Для начала посмотрим на данные, их типы, наличие пропусков, при необходимости скорректируем, приведем в более комфортный вид/формат. "
   ]
  },
  {
   "cell_type": "code",
   "execution_count": 1,
   "id": "c68bbfe2",
   "metadata": {},
   "outputs": [],
   "source": [
    "# импортируем необходимые для работы библиотеки\n",
    "\n",
    "import pandas as pd\n",
    "import numpy as np\n",
    "import seaborn as sns\n",
    "import matplotlib.pyplot as plt"
   ]
  },
  {
   "cell_type": "code",
   "execution_count": 2,
   "id": "0a700855",
   "metadata": {},
   "outputs": [],
   "source": [
    "# выггрузим данные из датасета в датафрейм\n",
    "\n",
    "df = pd.read_csv('shipping_ecommerce.csv')"
   ]
  },
  {
   "cell_type": "code",
   "execution_count": 3,
   "id": "0002a8b5",
   "metadata": {},
   "outputs": [
    {
     "data": {
      "text/html": [
       "<div>\n",
       "<style scoped>\n",
       "    .dataframe tbody tr th:only-of-type {\n",
       "        vertical-align: middle;\n",
       "    }\n",
       "\n",
       "    .dataframe tbody tr th {\n",
       "        vertical-align: top;\n",
       "    }\n",
       "\n",
       "    .dataframe thead th {\n",
       "        text-align: right;\n",
       "    }\n",
       "</style>\n",
       "<table border=\"1\" class=\"dataframe\">\n",
       "  <thead>\n",
       "    <tr style=\"text-align: right;\">\n",
       "      <th></th>\n",
       "      <th>Customer_care_calls</th>\n",
       "      <th>Customer_rating</th>\n",
       "      <th>Prior_purchases</th>\n",
       "      <th>Discount_offered</th>\n",
       "      <th>Weight_in_gms</th>\n",
       "      <th>Warehouse_block</th>\n",
       "      <th>Mode_of_Shipment</th>\n",
       "      <th>Product_importance</th>\n",
       "      <th>Gender</th>\n",
       "      <th>Class</th>\n",
       "    </tr>\n",
       "  </thead>\n",
       "  <tbody>\n",
       "    <tr>\n",
       "      <th>0</th>\n",
       "      <td>5</td>\n",
       "      <td>4</td>\n",
       "      <td>2</td>\n",
       "      <td>10</td>\n",
       "      <td>5395</td>\n",
       "      <td>A</td>\n",
       "      <td>Ship</td>\n",
       "      <td>medium</td>\n",
       "      <td>M</td>\n",
       "      <td>1</td>\n",
       "    </tr>\n",
       "    <tr>\n",
       "      <th>1</th>\n",
       "      <td>4</td>\n",
       "      <td>3</td>\n",
       "      <td>2</td>\n",
       "      <td>6</td>\n",
       "      <td>5867</td>\n",
       "      <td>F</td>\n",
       "      <td>Ship</td>\n",
       "      <td>medium</td>\n",
       "      <td>F</td>\n",
       "      <td>0</td>\n",
       "    </tr>\n",
       "    <tr>\n",
       "      <th>2</th>\n",
       "      <td>3</td>\n",
       "      <td>4</td>\n",
       "      <td>2</td>\n",
       "      <td>2</td>\n",
       "      <td>5957</td>\n",
       "      <td>D</td>\n",
       "      <td>Ship</td>\n",
       "      <td>medium</td>\n",
       "      <td>M</td>\n",
       "      <td>0</td>\n",
       "    </tr>\n",
       "    <tr>\n",
       "      <th>3</th>\n",
       "      <td>3</td>\n",
       "      <td>1</td>\n",
       "      <td>2</td>\n",
       "      <td>27</td>\n",
       "      <td>2551</td>\n",
       "      <td>D</td>\n",
       "      <td>Ship</td>\n",
       "      <td>medium</td>\n",
       "      <td>M</td>\n",
       "      <td>1</td>\n",
       "    </tr>\n",
       "    <tr>\n",
       "      <th>4</th>\n",
       "      <td>7</td>\n",
       "      <td>5</td>\n",
       "      <td>4</td>\n",
       "      <td>9</td>\n",
       "      <td>1329</td>\n",
       "      <td>B</td>\n",
       "      <td>Ship</td>\n",
       "      <td>medium</td>\n",
       "      <td>M</td>\n",
       "      <td>1</td>\n",
       "    </tr>\n",
       "  </tbody>\n",
       "</table>\n",
       "</div>"
      ],
      "text/plain": [
       "   Customer_care_calls  Customer_rating  Prior_purchases  Discount_offered  \\\n",
       "0                    5                4                2                10   \n",
       "1                    4                3                2                 6   \n",
       "2                    3                4                2                 2   \n",
       "3                    3                1                2                27   \n",
       "4                    7                5                4                 9   \n",
       "\n",
       "   Weight_in_gms Warehouse_block Mode_of_Shipment Product_importance Gender  \\\n",
       "0           5395               A             Ship             medium      M   \n",
       "1           5867               F             Ship             medium      F   \n",
       "2           5957               D             Ship             medium      M   \n",
       "3           2551               D             Ship             medium      M   \n",
       "4           1329               B             Ship             medium      M   \n",
       "\n",
       "   Class  \n",
       "0      1  \n",
       "1      0  \n",
       "2      0  \n",
       "3      1  \n",
       "4      1  "
      ]
     },
     "execution_count": 3,
     "metadata": {},
     "output_type": "execute_result"
    }
   ],
   "source": [
    "# посмотрим на датафрейм\n",
    "\n",
    "df.head()"
   ]
  },
  {
   "cell_type": "code",
   "execution_count": 4,
   "id": "cbdc0072",
   "metadata": {},
   "outputs": [],
   "source": [
    "# для более комфортной и быстрой работы приведем названия колонок к snake_case\n",
    "\n",
    "df.columns = df.columns.str.lower()"
   ]
  },
  {
   "cell_type": "code",
   "execution_count": 5,
   "id": "7477a651",
   "metadata": {},
   "outputs": [
    {
     "name": "stdout",
     "output_type": "stream",
     "text": [
      "<class 'pandas.core.frame.DataFrame'>\n",
      "RangeIndex: 10998 entries, 0 to 10997\n",
      "Data columns (total 10 columns):\n",
      " #   Column               Non-Null Count  Dtype \n",
      "---  ------               --------------  ----- \n",
      " 0   customer_care_calls  10998 non-null  int64 \n",
      " 1   customer_rating      10998 non-null  int64 \n",
      " 2   prior_purchases      10998 non-null  int64 \n",
      " 3   discount_offered     10998 non-null  int64 \n",
      " 4   weight_in_gms        10998 non-null  int64 \n",
      " 5   warehouse_block      10998 non-null  object\n",
      " 6   mode_of_shipment     10998 non-null  object\n",
      " 7   product_importance   10998 non-null  object\n",
      " 8   gender               10998 non-null  object\n",
      " 9   class                10998 non-null  int64 \n",
      "dtypes: int64(6), object(4)\n",
      "memory usage: 859.3+ KB\n"
     ]
    }
   ],
   "source": [
    "# посмотрим на типы, кол-во данных, наличие пропусков\n",
    "\n",
    "df.info()"
   ]
  },
  {
   "cell_type": "markdown",
   "id": "c855341d",
   "metadata": {},
   "source": [
    "Пропущенных значений в датасете нет."
   ]
  },
  {
   "cell_type": "code",
   "execution_count": 6,
   "id": "81111289",
   "metadata": {},
   "outputs": [
    {
     "data": {
      "text/html": [
       "<div>\n",
       "<style scoped>\n",
       "    .dataframe tbody tr th:only-of-type {\n",
       "        vertical-align: middle;\n",
       "    }\n",
       "\n",
       "    .dataframe tbody tr th {\n",
       "        vertical-align: top;\n",
       "    }\n",
       "\n",
       "    .dataframe thead th {\n",
       "        text-align: right;\n",
       "    }\n",
       "</style>\n",
       "<table border=\"1\" class=\"dataframe\">\n",
       "  <thead>\n",
       "    <tr style=\"text-align: right;\">\n",
       "      <th></th>\n",
       "      <th>warehouse_block</th>\n",
       "      <th>mode_of_shipment</th>\n",
       "      <th>product_importance</th>\n",
       "      <th>gender</th>\n",
       "    </tr>\n",
       "  </thead>\n",
       "  <tbody>\n",
       "    <tr>\n",
       "      <th>0</th>\n",
       "      <td>A</td>\n",
       "      <td>Ship</td>\n",
       "      <td>medium</td>\n",
       "      <td>M</td>\n",
       "    </tr>\n",
       "    <tr>\n",
       "      <th>1</th>\n",
       "      <td>F</td>\n",
       "      <td>Ship</td>\n",
       "      <td>medium</td>\n",
       "      <td>F</td>\n",
       "    </tr>\n",
       "    <tr>\n",
       "      <th>2</th>\n",
       "      <td>D</td>\n",
       "      <td>Ship</td>\n",
       "      <td>medium</td>\n",
       "      <td>M</td>\n",
       "    </tr>\n",
       "    <tr>\n",
       "      <th>3</th>\n",
       "      <td>D</td>\n",
       "      <td>Ship</td>\n",
       "      <td>medium</td>\n",
       "      <td>M</td>\n",
       "    </tr>\n",
       "    <tr>\n",
       "      <th>4</th>\n",
       "      <td>B</td>\n",
       "      <td>Ship</td>\n",
       "      <td>medium</td>\n",
       "      <td>M</td>\n",
       "    </tr>\n",
       "    <tr>\n",
       "      <th>...</th>\n",
       "      <td>...</td>\n",
       "      <td>...</td>\n",
       "      <td>...</td>\n",
       "      <td>...</td>\n",
       "    </tr>\n",
       "    <tr>\n",
       "      <th>10993</th>\n",
       "      <td>F</td>\n",
       "      <td>Road</td>\n",
       "      <td>medium</td>\n",
       "      <td>M</td>\n",
       "    </tr>\n",
       "    <tr>\n",
       "      <th>10994</th>\n",
       "      <td>D</td>\n",
       "      <td>Flight</td>\n",
       "      <td>low</td>\n",
       "      <td>M</td>\n",
       "    </tr>\n",
       "    <tr>\n",
       "      <th>10995</th>\n",
       "      <td>F</td>\n",
       "      <td>Ship</td>\n",
       "      <td>medium</td>\n",
       "      <td>M</td>\n",
       "    </tr>\n",
       "    <tr>\n",
       "      <th>10996</th>\n",
       "      <td>F</td>\n",
       "      <td>Flight</td>\n",
       "      <td>medium</td>\n",
       "      <td>M</td>\n",
       "    </tr>\n",
       "    <tr>\n",
       "      <th>10997</th>\n",
       "      <td>B</td>\n",
       "      <td>Ship</td>\n",
       "      <td>medium</td>\n",
       "      <td>M</td>\n",
       "    </tr>\n",
       "  </tbody>\n",
       "</table>\n",
       "<p>10998 rows × 4 columns</p>\n",
       "</div>"
      ],
      "text/plain": [
       "      warehouse_block mode_of_shipment product_importance gender\n",
       "0                   A             Ship             medium      M\n",
       "1                   F             Ship             medium      F\n",
       "2                   D             Ship             medium      M\n",
       "3                   D             Ship             medium      M\n",
       "4                   B             Ship             medium      M\n",
       "...               ...              ...                ...    ...\n",
       "10993               F             Road             medium      M\n",
       "10994               D           Flight                low      M\n",
       "10995               F             Ship             medium      M\n",
       "10996               F           Flight             medium      M\n",
       "10997               B             Ship             medium      M\n",
       "\n",
       "[10998 rows x 4 columns]"
      ]
     },
     "execution_count": 6,
     "metadata": {},
     "output_type": "execute_result"
    }
   ],
   "source": [
    "# посмотрим на колонки со строковыми значениями\n",
    "\n",
    "df[['warehouse_block', \n",
    "    'mode_of_shipment', \n",
    "    'product_importance', \n",
    "    'gender']]"
   ]
  },
  {
   "cell_type": "code",
   "execution_count": 7,
   "id": "11e60c3c",
   "metadata": {},
   "outputs": [],
   "source": [
    "# для удобства приведем значения этих колонок к нижнему регистру\n",
    "\n",
    "for i in df[['warehouse_block',\n",
    "             'mode_of_shipment',\n",
    "             'gender']]:\n",
    "    df[i] = df[i].str.lower()"
   ]
  },
  {
   "cell_type": "code",
   "execution_count": 8,
   "id": "23cc3d90",
   "metadata": {
    "scrolled": true
   },
   "outputs": [
    {
     "data": {
      "text/html": [
       "<div>\n",
       "<style scoped>\n",
       "    .dataframe tbody tr th:only-of-type {\n",
       "        vertical-align: middle;\n",
       "    }\n",
       "\n",
       "    .dataframe tbody tr th {\n",
       "        vertical-align: top;\n",
       "    }\n",
       "\n",
       "    .dataframe thead th {\n",
       "        text-align: right;\n",
       "    }\n",
       "</style>\n",
       "<table border=\"1\" class=\"dataframe\">\n",
       "  <thead>\n",
       "    <tr style=\"text-align: right;\">\n",
       "      <th></th>\n",
       "      <th>customer_care_calls</th>\n",
       "      <th>customer_rating</th>\n",
       "      <th>prior_purchases</th>\n",
       "      <th>discount_offered</th>\n",
       "      <th>weight_in_gms</th>\n",
       "      <th>warehouse_block</th>\n",
       "      <th>mode_of_shipment</th>\n",
       "      <th>product_importance</th>\n",
       "      <th>gender</th>\n",
       "      <th>class</th>\n",
       "    </tr>\n",
       "  </thead>\n",
       "  <tbody>\n",
       "    <tr>\n",
       "      <th>0</th>\n",
       "      <td>5</td>\n",
       "      <td>4</td>\n",
       "      <td>2</td>\n",
       "      <td>10</td>\n",
       "      <td>5395</td>\n",
       "      <td>a</td>\n",
       "      <td>ship</td>\n",
       "      <td>medium</td>\n",
       "      <td>m</td>\n",
       "      <td>1</td>\n",
       "    </tr>\n",
       "    <tr>\n",
       "      <th>1</th>\n",
       "      <td>4</td>\n",
       "      <td>3</td>\n",
       "      <td>2</td>\n",
       "      <td>6</td>\n",
       "      <td>5867</td>\n",
       "      <td>f</td>\n",
       "      <td>ship</td>\n",
       "      <td>medium</td>\n",
       "      <td>f</td>\n",
       "      <td>0</td>\n",
       "    </tr>\n",
       "    <tr>\n",
       "      <th>2</th>\n",
       "      <td>3</td>\n",
       "      <td>4</td>\n",
       "      <td>2</td>\n",
       "      <td>2</td>\n",
       "      <td>5957</td>\n",
       "      <td>d</td>\n",
       "      <td>ship</td>\n",
       "      <td>medium</td>\n",
       "      <td>m</td>\n",
       "      <td>0</td>\n",
       "    </tr>\n",
       "    <tr>\n",
       "      <th>3</th>\n",
       "      <td>3</td>\n",
       "      <td>1</td>\n",
       "      <td>2</td>\n",
       "      <td>27</td>\n",
       "      <td>2551</td>\n",
       "      <td>d</td>\n",
       "      <td>ship</td>\n",
       "      <td>medium</td>\n",
       "      <td>m</td>\n",
       "      <td>1</td>\n",
       "    </tr>\n",
       "    <tr>\n",
       "      <th>4</th>\n",
       "      <td>7</td>\n",
       "      <td>5</td>\n",
       "      <td>4</td>\n",
       "      <td>9</td>\n",
       "      <td>1329</td>\n",
       "      <td>b</td>\n",
       "      <td>ship</td>\n",
       "      <td>medium</td>\n",
       "      <td>m</td>\n",
       "      <td>1</td>\n",
       "    </tr>\n",
       "  </tbody>\n",
       "</table>\n",
       "</div>"
      ],
      "text/plain": [
       "   customer_care_calls  customer_rating  prior_purchases  discount_offered  \\\n",
       "0                    5                4                2                10   \n",
       "1                    4                3                2                 6   \n",
       "2                    3                4                2                 2   \n",
       "3                    3                1                2                27   \n",
       "4                    7                5                4                 9   \n",
       "\n",
       "   weight_in_gms warehouse_block mode_of_shipment product_importance gender  \\\n",
       "0           5395               a             ship             medium      m   \n",
       "1           5867               f             ship             medium      f   \n",
       "2           5957               d             ship             medium      m   \n",
       "3           2551               d             ship             medium      m   \n",
       "4           1329               b             ship             medium      m   \n",
       "\n",
       "   class  \n",
       "0      1  \n",
       "1      0  \n",
       "2      0  \n",
       "3      1  \n",
       "4      1  "
      ]
     },
     "execution_count": 8,
     "metadata": {},
     "output_type": "execute_result"
    }
   ],
   "source": [
    "df.head()"
   ]
  },
  {
   "cell_type": "markdown",
   "id": "a10d57df",
   "metadata": {},
   "source": [
    "# 4.1. Распределения и меры центральной тенденции.\n",
    "Посмотрим на описательные характеристики данных, в т.ч. на разбросы значений, на распределения, определимся с наиболее подходящими мерами центральной тенденции, чтобы грубо описать текущую картину."
   ]
  },
  {
   "cell_type": "code",
   "execution_count": 9,
   "id": "6bc62739",
   "metadata": {},
   "outputs": [
    {
     "data": {
      "text/html": [
       "<div>\n",
       "<style scoped>\n",
       "    .dataframe tbody tr th:only-of-type {\n",
       "        vertical-align: middle;\n",
       "    }\n",
       "\n",
       "    .dataframe tbody tr th {\n",
       "        vertical-align: top;\n",
       "    }\n",
       "\n",
       "    .dataframe thead th {\n",
       "        text-align: right;\n",
       "    }\n",
       "</style>\n",
       "<table border=\"1\" class=\"dataframe\">\n",
       "  <thead>\n",
       "    <tr style=\"text-align: right;\">\n",
       "      <th></th>\n",
       "      <th>customer_care_calls</th>\n",
       "      <th>customer_rating</th>\n",
       "      <th>prior_purchases</th>\n",
       "      <th>discount_offered</th>\n",
       "      <th>weight_in_gms</th>\n",
       "      <th>class</th>\n",
       "    </tr>\n",
       "  </thead>\n",
       "  <tbody>\n",
       "    <tr>\n",
       "      <th>count</th>\n",
       "      <td>10998.000000</td>\n",
       "      <td>10998.000000</td>\n",
       "      <td>10998.000000</td>\n",
       "      <td>10998.000000</td>\n",
       "      <td>10998.000000</td>\n",
       "      <td>10998.000000</td>\n",
       "    </tr>\n",
       "    <tr>\n",
       "      <th>mean</th>\n",
       "      <td>4.054555</td>\n",
       "      <td>2.990453</td>\n",
       "      <td>3.567558</td>\n",
       "      <td>13.373704</td>\n",
       "      <td>3633.873522</td>\n",
       "      <td>0.596745</td>\n",
       "    </tr>\n",
       "    <tr>\n",
       "      <th>std</th>\n",
       "      <td>1.141497</td>\n",
       "      <td>1.413635</td>\n",
       "      <td>1.522924</td>\n",
       "      <td>16.206183</td>\n",
       "      <td>1635.382636</td>\n",
       "      <td>0.490573</td>\n",
       "    </tr>\n",
       "    <tr>\n",
       "      <th>min</th>\n",
       "      <td>2.000000</td>\n",
       "      <td>1.000000</td>\n",
       "      <td>2.000000</td>\n",
       "      <td>1.000000</td>\n",
       "      <td>1001.000000</td>\n",
       "      <td>0.000000</td>\n",
       "    </tr>\n",
       "    <tr>\n",
       "      <th>25%</th>\n",
       "      <td>3.000000</td>\n",
       "      <td>2.000000</td>\n",
       "      <td>3.000000</td>\n",
       "      <td>4.000000</td>\n",
       "      <td>1839.250000</td>\n",
       "      <td>0.000000</td>\n",
       "    </tr>\n",
       "    <tr>\n",
       "      <th>50%</th>\n",
       "      <td>4.000000</td>\n",
       "      <td>3.000000</td>\n",
       "      <td>3.000000</td>\n",
       "      <td>7.000000</td>\n",
       "      <td>4149.000000</td>\n",
       "      <td>1.000000</td>\n",
       "    </tr>\n",
       "    <tr>\n",
       "      <th>75%</th>\n",
       "      <td>5.000000</td>\n",
       "      <td>4.000000</td>\n",
       "      <td>4.000000</td>\n",
       "      <td>10.000000</td>\n",
       "      <td>5049.750000</td>\n",
       "      <td>1.000000</td>\n",
       "    </tr>\n",
       "    <tr>\n",
       "      <th>max</th>\n",
       "      <td>7.000000</td>\n",
       "      <td>5.000000</td>\n",
       "      <td>10.000000</td>\n",
       "      <td>65.000000</td>\n",
       "      <td>7846.000000</td>\n",
       "      <td>1.000000</td>\n",
       "    </tr>\n",
       "  </tbody>\n",
       "</table>\n",
       "</div>"
      ],
      "text/plain": [
       "       customer_care_calls  customer_rating  prior_purchases  \\\n",
       "count         10998.000000     10998.000000     10998.000000   \n",
       "mean              4.054555         2.990453         3.567558   \n",
       "std               1.141497         1.413635         1.522924   \n",
       "min               2.000000         1.000000         2.000000   \n",
       "25%               3.000000         2.000000         3.000000   \n",
       "50%               4.000000         3.000000         3.000000   \n",
       "75%               5.000000         4.000000         4.000000   \n",
       "max               7.000000         5.000000        10.000000   \n",
       "\n",
       "       discount_offered  weight_in_gms         class  \n",
       "count      10998.000000   10998.000000  10998.000000  \n",
       "mean          13.373704    3633.873522      0.596745  \n",
       "std           16.206183    1635.382636      0.490573  \n",
       "min            1.000000    1001.000000      0.000000  \n",
       "25%            4.000000    1839.250000      0.000000  \n",
       "50%            7.000000    4149.000000      1.000000  \n",
       "75%           10.000000    5049.750000      1.000000  \n",
       "max           65.000000    7846.000000      1.000000  "
      ]
     },
     "execution_count": 9,
     "metadata": {},
     "output_type": "execute_result"
    }
   ],
   "source": [
    "# посмотрим на описательные характеристики числовых значений (хотя class здесь по сути является номинативной переменной)\n",
    "\n",
    "df.describe()"
   ]
  },
  {
   "cell_type": "code",
   "execution_count": 10,
   "id": "43e0b948",
   "metadata": {
    "scrolled": true
   },
   "outputs": [],
   "source": [
    "# посмотрим на их распределения\n",
    "# для удобства создадим функцию, которая возвращает таблицу с процентами\n",
    "\n",
    "def create_hist(column):\n",
    "    '''Принимает колонку column вида 'df.column', возвращает ее гистограмму'''\n",
    "    return sns.histplot(column, \n",
    "                        color='green', \n",
    "                        alpha=0.7, \n",
    "                        binwidth=1,\n",
    "                        discrete=True)"
   ]
  },
  {
   "cell_type": "code",
   "execution_count": 11,
   "id": "14edfe35",
   "metadata": {},
   "outputs": [
    {
     "data": {
      "text/plain": [
       "[Text(0.5, 0, 'Контакты со Службой Поддержки'), Text(0, 0.5, 'Заказы')]"
      ]
     },
     "execution_count": 11,
     "metadata": {},
     "output_type": "execute_result"
    },
    {
     "data": {
      "image/png": "[encoded data removed]",
      "text/plain": [
       "<Figure size 640x480 with 1 Axes>"
      ]
     },
     "metadata": {},
     "output_type": "display_data"
    }
   ],
   "source": [
    "# Customer Care Calls - кол-во контактов со службой поддержки\n",
    "\n",
    "customer_care_calls_hist = create_hist(df.customer_care_calls)\n",
    "customer_care_calls_hist.set(xlabel='Контакты со Службой Поддержки', \n",
    "                             ylabel='Заказы')"
   ]
  },
  {
   "cell_type": "code",
   "execution_count": 12,
   "id": "c02bdb2f",
   "metadata": {},
   "outputs": [],
   "source": [
    "# для удобства создадим функцию, которая возвращает таблицу с процентами\n",
    "\n",
    "def perc_table(column):\n",
    "    '''Принимает колонку column вида 'df.column', возвращает таблицу с долями ее значений в процентах'''\n",
    "    return column.value_counts(normalize=True) \\\n",
    "                 .mul(100) \\\n",
    "                 .round(1) \\\n",
    "                 .reset_index() \\\n",
    "                 .rename(columns={'index': column.name, \n",
    "                                  column.name: 'percentage'})"
   ]
  },
  {
   "cell_type": "code",
   "execution_count": 13,
   "id": "38ab4211",
   "metadata": {},
   "outputs": [
    {
     "data": {
      "text/html": [
       "<div>\n",
       "<style scoped>\n",
       "    .dataframe tbody tr th:only-of-type {\n",
       "        vertical-align: middle;\n",
       "    }\n",
       "\n",
       "    .dataframe tbody tr th {\n",
       "        vertical-align: top;\n",
       "    }\n",
       "\n",
       "    .dataframe thead th {\n",
       "        text-align: right;\n",
       "    }\n",
       "</style>\n",
       "<table border=\"1\" class=\"dataframe\">\n",
       "  <thead>\n",
       "    <tr style=\"text-align: right;\">\n",
       "      <th></th>\n",
       "      <th>customer_care_calls</th>\n",
       "      <th>percentage</th>\n",
       "    </tr>\n",
       "  </thead>\n",
       "  <tbody>\n",
       "    <tr>\n",
       "      <th>0</th>\n",
       "      <td>4</td>\n",
       "      <td>32.3</td>\n",
       "    </tr>\n",
       "    <tr>\n",
       "      <th>1</th>\n",
       "      <td>3</td>\n",
       "      <td>29.2</td>\n",
       "    </tr>\n",
       "    <tr>\n",
       "      <th>2</th>\n",
       "      <td>5</td>\n",
       "      <td>21.2</td>\n",
       "    </tr>\n",
       "    <tr>\n",
       "      <th>3</th>\n",
       "      <td>6</td>\n",
       "      <td>9.2</td>\n",
       "    </tr>\n",
       "    <tr>\n",
       "      <th>4</th>\n",
       "      <td>2</td>\n",
       "      <td>5.8</td>\n",
       "    </tr>\n",
       "    <tr>\n",
       "      <th>5</th>\n",
       "      <td>7</td>\n",
       "      <td>2.2</td>\n",
       "    </tr>\n",
       "  </tbody>\n",
       "</table>\n",
       "</div>"
      ],
      "text/plain": [
       "   customer_care_calls  percentage\n",
       "0                    4        32.3\n",
       "1                    3        29.2\n",
       "2                    5        21.2\n",
       "3                    6         9.2\n",
       "4                    2         5.8\n",
       "5                    7         2.2"
      ]
     },
     "execution_count": 13,
     "metadata": {},
     "output_type": "execute_result"
    }
   ],
   "source": [
    "perc_table(df.customer_care_calls)"
   ]
  },
  {
   "cell_type": "markdown",
   "id": "a274c55c",
   "metadata": {},
   "source": [
    "Распределение похоже на логнормальное, поэтому, выбирая меру центральной тенденции, остановимся на среднем или медиане, при этом у него нет длинных хвостов, выбросов, поэтому они примерно равны.\n",
    "Будем считать, что в среднем один заказ сопровождается 4мя контактами со службой поддержки. Более 80% заказов - от 4 до 6 контактов.\n",
    "\n",
    "Мы можем использовать эту информацию, например, при планировании загрузки службы поддержки."
   ]
  },
  {
   "cell_type": "code",
   "execution_count": 14,
   "id": "b8ef8d6b",
   "metadata": {},
   "outputs": [
    {
     "data": {
      "text/plain": [
       "[Text(0.5, 0, 'Рейтинг удовлетворенности'), Text(0, 0.5, 'Заказы')]"
      ]
     },
     "execution_count": 14,
     "metadata": {},
     "output_type": "execute_result"
    },
    {
     "data": {
      "image/png": "[encoded data removed]",
      "text/plain": [
       "<Figure size 640x480 with 1 Axes>"
      ]
     },
     "metadata": {},
     "output_type": "display_data"
    }
   ],
   "source": [
    "# Customer Rating - рейтинг удовлетворенности заказом\n",
    "\n",
    "customer_rating_hist = create_hist(df.customer_rating)\n",
    "customer_rating_hist.set(xlabel='Рейтинг удовлетворенности', \n",
    "                         ylabel='Заказы')"
   ]
  },
  {
   "cell_type": "code",
   "execution_count": 15,
   "id": "4faf166e",
   "metadata": {},
   "outputs": [
    {
     "data": {
      "text/html": [
       "<div>\n",
       "<style scoped>\n",
       "    .dataframe tbody tr th:only-of-type {\n",
       "        vertical-align: middle;\n",
       "    }\n",
       "\n",
       "    .dataframe tbody tr th {\n",
       "        vertical-align: top;\n",
       "    }\n",
       "\n",
       "    .dataframe thead th {\n",
       "        text-align: right;\n",
       "    }\n",
       "</style>\n",
       "<table border=\"1\" class=\"dataframe\">\n",
       "  <thead>\n",
       "    <tr style=\"text-align: right;\">\n",
       "      <th></th>\n",
       "      <th>customer_rating</th>\n",
       "      <th>percentage</th>\n",
       "    </tr>\n",
       "  </thead>\n",
       "  <tbody>\n",
       "    <tr>\n",
       "      <th>0</th>\n",
       "      <td>3</td>\n",
       "      <td>20.4</td>\n",
       "    </tr>\n",
       "    <tr>\n",
       "      <th>1</th>\n",
       "      <td>1</td>\n",
       "      <td>20.3</td>\n",
       "    </tr>\n",
       "    <tr>\n",
       "      <th>2</th>\n",
       "      <td>4</td>\n",
       "      <td>19.9</td>\n",
       "    </tr>\n",
       "    <tr>\n",
       "      <th>3</th>\n",
       "      <td>5</td>\n",
       "      <td>19.7</td>\n",
       "    </tr>\n",
       "    <tr>\n",
       "      <th>4</th>\n",
       "      <td>2</td>\n",
       "      <td>19.7</td>\n",
       "    </tr>\n",
       "  </tbody>\n",
       "</table>\n",
       "</div>"
      ],
      "text/plain": [
       "   customer_rating  percentage\n",
       "0                3        20.4\n",
       "1                1        20.3\n",
       "2                4        19.9\n",
       "3                5        19.7\n",
       "4                2        19.7"
      ]
     },
     "execution_count": 15,
     "metadata": {},
     "output_type": "execute_result"
    }
   ],
   "source": [
    "perc_table(df.customer_rating)"
   ]
  },
  {
   "cell_type": "markdown",
   "id": "161eab94",
   "metadata": {},
   "source": [
    "Распределение похоже на равномерное, поэтому логично, что среднее и медиана примерно равны. Средний рейтинг удовлетворенности заказом среди наших клиентов - 3 балла из 5 возможных.\n",
    "\n",
    "Очевидно, что данное распределение - это не очень хорошо для нас, нам бы хотелось роста в правой части и низких показателей в левой, а по факту у нас средняя оценка - 'удовлетворительно', но что самое важное - примерно 2/5 наших заказов клиенты не довольны, что может привести к повышению Churn Rate и ухудшению других метрик."
   ]
  },
  {
   "cell_type": "code",
   "execution_count": 16,
   "id": "62ef8893",
   "metadata": {},
   "outputs": [
    {
     "data": {
      "text/plain": [
       "[Text(0.5, 0, 'Предыдущие заказы'), Text(0, 0.5, 'Заказы')]"
      ]
     },
     "execution_count": 16,
     "metadata": {},
     "output_type": "execute_result"
    },
    {
     "data": {
      "image/png": "[encoded data removed]",
      "text/plain": [
       "<Figure size 640x480 with 1 Axes>"
      ]
     },
     "metadata": {},
     "output_type": "display_data"
    }
   ],
   "source": [
    "# Prior Purchases - кол-во предыдущих заказов\n",
    "\n",
    "prior_purchases_hist = create_hist(df.prior_purchases)\n",
    "prior_purchases_hist.set(xlabel='Предыдущие заказы', \n",
    "                         ylabel='Заказы')"
   ]
  },
  {
   "cell_type": "code",
   "execution_count": 17,
   "id": "1a9188c5",
   "metadata": {},
   "outputs": [
    {
     "data": {
      "text/html": [
       "<div>\n",
       "<style scoped>\n",
       "    .dataframe tbody tr th:only-of-type {\n",
       "        vertical-align: middle;\n",
       "    }\n",
       "\n",
       "    .dataframe tbody tr th {\n",
       "        vertical-align: top;\n",
       "    }\n",
       "\n",
       "    .dataframe thead th {\n",
       "        text-align: right;\n",
       "    }\n",
       "</style>\n",
       "<table border=\"1\" class=\"dataframe\">\n",
       "  <thead>\n",
       "    <tr style=\"text-align: right;\">\n",
       "      <th></th>\n",
       "      <th>prior_purchases</th>\n",
       "      <th>percentage</th>\n",
       "    </tr>\n",
       "  </thead>\n",
       "  <tbody>\n",
       "    <tr>\n",
       "      <th>0</th>\n",
       "      <td>3</td>\n",
       "      <td>36.0</td>\n",
       "    </tr>\n",
       "    <tr>\n",
       "      <th>1</th>\n",
       "      <td>2</td>\n",
       "      <td>23.6</td>\n",
       "    </tr>\n",
       "    <tr>\n",
       "      <th>2</th>\n",
       "      <td>4</td>\n",
       "      <td>19.6</td>\n",
       "    </tr>\n",
       "    <tr>\n",
       "      <th>3</th>\n",
       "      <td>5</td>\n",
       "      <td>11.7</td>\n",
       "    </tr>\n",
       "    <tr>\n",
       "      <th>4</th>\n",
       "      <td>6</td>\n",
       "      <td>5.1</td>\n",
       "    </tr>\n",
       "    <tr>\n",
       "      <th>5</th>\n",
       "      <td>10</td>\n",
       "      <td>1.6</td>\n",
       "    </tr>\n",
       "    <tr>\n",
       "      <th>6</th>\n",
       "      <td>7</td>\n",
       "      <td>1.2</td>\n",
       "    </tr>\n",
       "    <tr>\n",
       "      <th>7</th>\n",
       "      <td>8</td>\n",
       "      <td>1.2</td>\n",
       "    </tr>\n",
       "  </tbody>\n",
       "</table>\n",
       "</div>"
      ],
      "text/plain": [
       "   prior_purchases  percentage\n",
       "0                3        36.0\n",
       "1                2        23.6\n",
       "2                4        19.6\n",
       "3                5        11.7\n",
       "4                6         5.1\n",
       "5               10         1.6\n",
       "6                7         1.2\n",
       "7                8         1.2"
      ]
     },
     "execution_count": 17,
     "metadata": {},
     "output_type": "execute_result"
    }
   ],
   "source": [
    "perc_table(df.prior_purchases)"
   ]
  },
  {
   "cell_type": "markdown",
   "id": "9577675b",
   "metadata": {},
   "source": [
    "Распределение похоже на логнормальное, справа есть длинный хвост, выбросы, поэтому оптимальной мерой центральной тенденции в данном случае будет медиана, т.е. ориентируемся на то, что на момент заказа у половины наших клиентов сделано ранее более 3,5 заказов, для другой половины - менее, для простоты интерпретации можно взять среднее, которое в данном случае сильно не отличается и равняется 3м заказам. Около 80% заказов являются повторными после 2-4 предыдущих.\n",
    "\n",
    "В наших данных нет клиентов без предыдущих заказов, все они делают по несколько покупок. Исходя из этого, LTV этих клиентов находится на более высоком уровне, чем в модели, где есть много случайных и новых клиентов, поэтому показатель удовлетворенности, который находится в плачевном состоянии, для нас вдвойне важен, потеря одного клиента обходится нам очень дорого."
   ]
  },
  {
   "cell_type": "code",
   "execution_count": 18,
   "id": "84fb4edc",
   "metadata": {},
   "outputs": [
    {
     "data": {
      "text/plain": [
       "[Text(0.5, 0, 'Предложенная скидка'), Text(0, 0.5, 'Заказы')]"
      ]
     },
     "execution_count": 18,
     "metadata": {},
     "output_type": "execute_result"
    },
    {
     "data": {
      "image/png": "[encoded data removed]",
      "text/plain": [
       "<Figure size 640x480 with 1 Axes>"
      ]
     },
     "metadata": {},
     "output_type": "display_data"
    }
   ],
   "source": [
    "# Discount Offered - предложенная скидка\n",
    "\n",
    "discount_offered_hist = create_hist(df.discount_offered)\n",
    "discount_offered_hist.set(xlabel='Предложенная скидка', \n",
    "                          ylabel='Заказы')"
   ]
  },
  {
   "cell_type": "markdown",
   "id": "0d32b7ac",
   "metadata": {},
   "source": [
    "Это распределение похоже на составное из 2х равномерных. Из-за длины хвоста среднее здесь будет наименее информативно. Можно ориентироваться на медиану равную скидке в размере 7%. Но, на мой взгляд, гораздо интереснее будет выделить два диапазона - 1-10% и 10%+ и посмотреть какие доли имеют эти диапазоны в общем количестве заказов."
   ]
  },
  {
   "cell_type": "code",
   "execution_count": 19,
   "id": "d5198bcb",
   "metadata": {},
   "outputs": [
    {
     "data": {
      "text/plain": [
       "75.9"
      ]
     },
     "execution_count": 19,
     "metadata": {},
     "output_type": "execute_result"
    }
   ],
   "source": [
    "round((df[df.discount_offered <= 10].shape[0] / len(df)) * 100, 1)"
   ]
  },
  {
   "cell_type": "markdown",
   "id": "f99d234d",
   "metadata": {},
   "source": [
    "По скидкам можно сказать, что на 76% заказов была предложена скидка до 10%, на остальные 24% - от 11% до 65%.\n",
    "\n",
    "В отрыве от остальной информации это особой пользы не несет, но позже может пригодиться."
   ]
  },
  {
   "cell_type": "code",
   "execution_count": 20,
   "id": "6cd2cef8",
   "metadata": {},
   "outputs": [
    {
     "data": {
      "text/plain": [
       "[Text(0.5, 0, 'Вес в граммах'), Text(0, 0.5, 'Заказы')]"
      ]
     },
     "execution_count": 20,
     "metadata": {},
     "output_type": "execute_result"
    },
    {
     "data": {
      "image/png": "[encoded data removed]",
      "text/plain": [
       "<Figure size 640x480 with 1 Axes>"
      ]
     },
     "metadata": {},
     "output_type": "display_data"
    }
   ],
   "source": [
    "# Weight in Grams - вес в граммах\n",
    "\n",
    "weight_in_gms_hist = sns.histplot(df.weight_in_gms, \n",
    "                                  color='green', \n",
    "                                  alpha=0.7)\n",
    "weight_in_gms_hist.set(xlabel='Вес в граммах', \n",
    "                       ylabel='Заказы')"
   ]
  },
  {
   "cell_type": "markdown",
   "id": "f27e661f",
   "metadata": {},
   "source": [
    "Распределение похоже на бимодальное, здесь среднее или медиана не дадут абсолютно ничего, поэтому выделим 4 диапазона и посчитаем для них доли:\n",
    "1. До 2 кг;\n",
    "2. 2-4 кг;\n",
    "3. 4-6 кг;\n",
    "4. Более 6 кг."
   ]
  },
  {
   "cell_type": "code",
   "execution_count": 79,
   "id": "fb97a0f0",
   "metadata": {},
   "outputs": [],
   "source": [
    "# создадим отдельную колонку с этими группами\n",
    "\n",
    "df['weight_groups'] = pd.cut(df.weight_in_gms, [0, 2000, 4000, 6000, float('inf')])"
   ]
  },
  {
   "cell_type": "code",
   "execution_count": 81,
   "id": "57fad5f5",
   "metadata": {},
   "outputs": [
    {
     "data": {
      "text/plain": [
       "(4000.0, 6000.0]    54.2\n",
       "(0.0, 2000.0]       29.5\n",
       "(2000.0, 4000.0]    16.3\n",
       "(6000.0, inf]        0.1\n",
       "Name: weight_groups, dtype: float64"
      ]
     },
     "execution_count": 81,
     "metadata": {},
     "output_type": "execute_result"
    }
   ],
   "source": [
    "df.weight_groups.value_counts(normalize=True) \\\n",
    "                .mul(100) \\\n",
    "                .round(1)"
   ]
  },
  {
   "cell_type": "markdown",
   "id": "aa65fc5a",
   "metadata": {},
   "source": [
    "В итоге получаем то, что более половины заказов находится в диапазоне 4-6 кг, около трети до 2 кг, около 15% 2-4 кг и менее 1% более 6 кг.\n",
    "\n",
    "Мы можем учитывать эту информацию для определения кол-ва сотрудников и техники на складах, а также требований к ним."
   ]
  },
  {
   "cell_type": "markdown",
   "id": "46cf9f2f",
   "metadata": {},
   "source": [
    "Поскольку переменная Class, несмотря на числовые значения, по смыслу является номинативной, на данном этапе нет смысла что-либо рассчитывать за рамками известных уже нам значений: около 60% заказов доставляются вовремя, из чего можно сделать первоначальный вывод, что служба доставки справляется не очень хорошо."
   ]
  },
  {
   "cell_type": "code",
   "execution_count": 22,
   "id": "1c58bde1",
   "metadata": {},
   "outputs": [
    {
     "name": "stdout",
     "output_type": "stream",
     "text": [
      "['a' 'f' 'd' 'b' 'c']\n"
     ]
    }
   ],
   "source": [
    "# посмотрим на другие номинативные переменные\n",
    "# Warehouse Block - склад\n",
    "\n",
    "print(df.warehouse_block.unique())"
   ]
  },
  {
   "cell_type": "code",
   "execution_count": 23,
   "id": "bab0427d",
   "metadata": {},
   "outputs": [],
   "source": [
    "# здесь также создадим функцию для создания countplot\n",
    "\n",
    "def create_cp(column):\n",
    "    '''Принимает колонку column вида 'df.column', возвращает ее countplot'''\n",
    "    return sns.countplot(y=column,\n",
    "                         color='green', \n",
    "                         alpha=0.7,\n",
    "                         order=column.value_counts().index)"
   ]
  },
  {
   "cell_type": "code",
   "execution_count": 24,
   "id": "ddf3bfeb",
   "metadata": {},
   "outputs": [
    {
     "data": {
      "text/plain": [
       "[Text(0.5, 0, 'Заказы'), Text(0, 0.5, 'Склад')]"
      ]
     },
     "execution_count": 24,
     "metadata": {},
     "output_type": "execute_result"
    },
    {
     "data": {
      "image/png": "[encoded data removed]",
      "text/plain": [
       "<Figure size 640x480 with 1 Axes>"
      ]
     },
     "metadata": {},
     "output_type": "display_data"
    }
   ],
   "source": [
    "warehouse_block_cp = create_cp(df.warehouse_block)\n",
    "warehouse_block_cp.set(xlabel='Заказы', \n",
    "                       ylabel='Склад')"
   ]
  },
  {
   "cell_type": "code",
   "execution_count": 25,
   "id": "db54205b",
   "metadata": {},
   "outputs": [
    {
     "data": {
      "text/html": [
       "<div>\n",
       "<style scoped>\n",
       "    .dataframe tbody tr th:only-of-type {\n",
       "        vertical-align: middle;\n",
       "    }\n",
       "\n",
       "    .dataframe tbody tr th {\n",
       "        vertical-align: top;\n",
       "    }\n",
       "\n",
       "    .dataframe thead th {\n",
       "        text-align: right;\n",
       "    }\n",
       "</style>\n",
       "<table border=\"1\" class=\"dataframe\">\n",
       "  <thead>\n",
       "    <tr style=\"text-align: right;\">\n",
       "      <th></th>\n",
       "      <th>warehouse_block</th>\n",
       "      <th>percentage</th>\n",
       "    </tr>\n",
       "  </thead>\n",
       "  <tbody>\n",
       "    <tr>\n",
       "      <th>0</th>\n",
       "      <td>f</td>\n",
       "      <td>33.3</td>\n",
       "    </tr>\n",
       "    <tr>\n",
       "      <th>1</th>\n",
       "      <td>d</td>\n",
       "      <td>16.7</td>\n",
       "    </tr>\n",
       "    <tr>\n",
       "      <th>2</th>\n",
       "      <td>b</td>\n",
       "      <td>16.7</td>\n",
       "    </tr>\n",
       "    <tr>\n",
       "      <th>3</th>\n",
       "      <td>c</td>\n",
       "      <td>16.7</td>\n",
       "    </tr>\n",
       "    <tr>\n",
       "      <th>4</th>\n",
       "      <td>a</td>\n",
       "      <td>16.7</td>\n",
       "    </tr>\n",
       "  </tbody>\n",
       "</table>\n",
       "</div>"
      ],
      "text/plain": [
       "  warehouse_block  percentage\n",
       "0               f        33.3\n",
       "1               d        16.7\n",
       "2               b        16.7\n",
       "3               c        16.7\n",
       "4               a        16.7"
      ]
     },
     "execution_count": 25,
     "metadata": {},
     "output_type": "execute_result"
    }
   ],
   "source": [
    "perc_table(df.warehouse_block)"
   ]
  },
  {
   "cell_type": "markdown",
   "id": "5eadc546",
   "metadata": {},
   "source": [
    "Со склада F отправляется примерно в 2 раза больше заказов, чем с любого другого. Все остальные распределены равномерно.\n",
    "\n",
    "Мы можем учитывать это при оптимизации логистических процессов."
   ]
  },
  {
   "cell_type": "code",
   "execution_count": 26,
   "id": "99ec9ecb",
   "metadata": {},
   "outputs": [
    {
     "name": "stdout",
     "output_type": "stream",
     "text": [
      "['ship' 'road' 'flight']\n"
     ]
    }
   ],
   "source": [
    "# тип доставки\n",
    "\n",
    "print(df.mode_of_shipment.unique())"
   ]
  },
  {
   "cell_type": "code",
   "execution_count": 27,
   "id": "45075bcf",
   "metadata": {},
   "outputs": [
    {
     "data": {
      "text/plain": [
       "[Text(0.5, 0, 'Заказы'), Text(0, 0.5, 'Тип доставки')]"
      ]
     },
     "execution_count": 27,
     "metadata": {},
     "output_type": "execute_result"
    },
    {
     "data": {
      "image/png": "[encoded data removed]",
      "text/plain": [
       "<Figure size 640x480 with 1 Axes>"
      ]
     },
     "metadata": {},
     "output_type": "display_data"
    }
   ],
   "source": [
    "mode_of_shipment_cp = create_cp(df.mode_of_shipment)\n",
    "mode_of_shipment_cp.set(xlabel='Заказы', \n",
    "                        ylabel='Тип доставки')"
   ]
  },
  {
   "cell_type": "code",
   "execution_count": 28,
   "id": "e8db3361",
   "metadata": {},
   "outputs": [
    {
     "data": {
      "text/html": [
       "<div>\n",
       "<style scoped>\n",
       "    .dataframe tbody tr th:only-of-type {\n",
       "        vertical-align: middle;\n",
       "    }\n",
       "\n",
       "    .dataframe tbody tr th {\n",
       "        vertical-align: top;\n",
       "    }\n",
       "\n",
       "    .dataframe thead th {\n",
       "        text-align: right;\n",
       "    }\n",
       "</style>\n",
       "<table border=\"1\" class=\"dataframe\">\n",
       "  <thead>\n",
       "    <tr style=\"text-align: right;\">\n",
       "      <th></th>\n",
       "      <th>mode_of_shipment</th>\n",
       "      <th>percentage</th>\n",
       "    </tr>\n",
       "  </thead>\n",
       "  <tbody>\n",
       "    <tr>\n",
       "      <th>0</th>\n",
       "      <td>ship</td>\n",
       "      <td>67.8</td>\n",
       "    </tr>\n",
       "    <tr>\n",
       "      <th>1</th>\n",
       "      <td>flight</td>\n",
       "      <td>16.2</td>\n",
       "    </tr>\n",
       "    <tr>\n",
       "      <th>2</th>\n",
       "      <td>road</td>\n",
       "      <td>16.0</td>\n",
       "    </tr>\n",
       "  </tbody>\n",
       "</table>\n",
       "</div>"
      ],
      "text/plain": [
       "  mode_of_shipment  percentage\n",
       "0             ship        67.8\n",
       "1           flight        16.2\n",
       "2             road        16.0"
      ]
     },
     "execution_count": 28,
     "metadata": {},
     "output_type": "execute_result"
    }
   ],
   "source": [
    "perc_table(df.mode_of_shipment)"
   ]
  },
  {
   "cell_type": "markdown",
   "id": "e0098d6e",
   "metadata": {},
   "source": [
    "Около 2/3 доставок происходят по морю. Возможно, это одна из причин того, что мы не доставляем заказы в срок, тк из 3х представленных вариантов этот кажется наиболее долгим и наименее точным по времени."
   ]
  },
  {
   "cell_type": "code",
   "execution_count": 29,
   "id": "247e13d7",
   "metadata": {},
   "outputs": [
    {
     "name": "stdout",
     "output_type": "stream",
     "text": [
      "['medium' 'low' 'high']\n"
     ]
    }
   ],
   "source": [
    "# приоритеты по доставке\n",
    "\n",
    "print(df.product_importance.unique())"
   ]
  },
  {
   "cell_type": "code",
   "execution_count": 30,
   "id": "70568b3d",
   "metadata": {},
   "outputs": [
    {
     "data": {
      "text/plain": [
       "[Text(0.5, 0, 'Заказы'), Text(0, 0.5, 'Приоритет по доставке')]"
      ]
     },
     "execution_count": 30,
     "metadata": {},
     "output_type": "execute_result"
    },
    {
     "data": {
      "image/png": "[encoded data removed]",
      "text/plain": [
       "<Figure size 640x480 with 1 Axes>"
      ]
     },
     "metadata": {},
     "output_type": "display_data"
    }
   ],
   "source": [
    "product_importance_cp = create_cp(df.product_importance)\n",
    "product_importance_cp.set(xlabel='Заказы', \n",
    "                          ylabel='Приоритет по доставке')"
   ]
  },
  {
   "cell_type": "code",
   "execution_count": 31,
   "id": "20665029",
   "metadata": {},
   "outputs": [
    {
     "data": {
      "text/html": [
       "<div>\n",
       "<style scoped>\n",
       "    .dataframe tbody tr th:only-of-type {\n",
       "        vertical-align: middle;\n",
       "    }\n",
       "\n",
       "    .dataframe tbody tr th {\n",
       "        vertical-align: top;\n",
       "    }\n",
       "\n",
       "    .dataframe thead th {\n",
       "        text-align: right;\n",
       "    }\n",
       "</style>\n",
       "<table border=\"1\" class=\"dataframe\">\n",
       "  <thead>\n",
       "    <tr style=\"text-align: right;\">\n",
       "      <th></th>\n",
       "      <th>product_importance</th>\n",
       "      <th>percentage</th>\n",
       "    </tr>\n",
       "  </thead>\n",
       "  <tbody>\n",
       "    <tr>\n",
       "      <th>0</th>\n",
       "      <td>low</td>\n",
       "      <td>48.2</td>\n",
       "    </tr>\n",
       "    <tr>\n",
       "      <th>1</th>\n",
       "      <td>medium</td>\n",
       "      <td>43.2</td>\n",
       "    </tr>\n",
       "    <tr>\n",
       "      <th>2</th>\n",
       "      <td>high</td>\n",
       "      <td>8.6</td>\n",
       "    </tr>\n",
       "  </tbody>\n",
       "</table>\n",
       "</div>"
      ],
      "text/plain": [
       "  product_importance  percentage\n",
       "0                low        48.2\n",
       "1             medium        43.2\n",
       "2               high         8.6"
      ]
     },
     "execution_count": 31,
     "metadata": {},
     "output_type": "execute_result"
    }
   ],
   "source": [
    "perc_table(df.product_importance)"
   ]
  },
  {
   "cell_type": "markdown",
   "id": "b8931a26",
   "metadata": {},
   "source": [
    "Более 90% заказов имеет низкий и средний приоритеты по доставке. Возможно, это одна из причин задержек."
   ]
  },
  {
   "cell_type": "code",
   "execution_count": 32,
   "id": "6ea302b8",
   "metadata": {},
   "outputs": [
    {
     "name": "stdout",
     "output_type": "stream",
     "text": [
      "['m' 'f']\n"
     ]
    }
   ],
   "source": [
    "# пол клиентов\n",
    "\n",
    "print(df.gender.unique())"
   ]
  },
  {
   "cell_type": "code",
   "execution_count": 33,
   "id": "4623e9ce",
   "metadata": {},
   "outputs": [
    {
     "data": {
      "text/html": [
       "<div>\n",
       "<style scoped>\n",
       "    .dataframe tbody tr th:only-of-type {\n",
       "        vertical-align: middle;\n",
       "    }\n",
       "\n",
       "    .dataframe tbody tr th {\n",
       "        vertical-align: top;\n",
       "    }\n",
       "\n",
       "    .dataframe thead th {\n",
       "        text-align: right;\n",
       "    }\n",
       "</style>\n",
       "<table border=\"1\" class=\"dataframe\">\n",
       "  <thead>\n",
       "    <tr style=\"text-align: right;\">\n",
       "      <th></th>\n",
       "      <th>gender</th>\n",
       "      <th>percentage</th>\n",
       "    </tr>\n",
       "  </thead>\n",
       "  <tbody>\n",
       "    <tr>\n",
       "      <th>0</th>\n",
       "      <td>f</td>\n",
       "      <td>50.4</td>\n",
       "    </tr>\n",
       "    <tr>\n",
       "      <th>1</th>\n",
       "      <td>m</td>\n",
       "      <td>49.6</td>\n",
       "    </tr>\n",
       "  </tbody>\n",
       "</table>\n",
       "</div>"
      ],
      "text/plain": [
       "  gender  percentage\n",
       "0      f        50.4\n",
       "1      m        49.6"
      ]
     },
     "execution_count": 33,
     "metadata": {},
     "output_type": "execute_result"
    }
   ],
   "source": [
    "perc_table(df.gender)"
   ]
  },
  {
   "cell_type": "markdown",
   "id": "878e6d4e",
   "metadata": {},
   "source": [
    "Кол-во заказов от мужчин и от женщин примерно равны."
   ]
  },
  {
   "cell_type": "markdown",
   "id": "79a609e7",
   "metadata": {},
   "source": [
    "# Распределения и меры центральной тенденции. Резюме.\n",
    "\n",
    "- в среднем один заказ сопровождается 4мя контактами со службой поддержки. Более 80% заказов - от 4 до 6 контактов.\n",
    "- средний рейтинг удовлетворенности заказом среди наших клиентов - 3 балла из 5 возможных.\n",
    "- около 80% заказов являются повторными после 2-4 предыдущих.\n",
    "- на 76% заказов была предложена скидка до 10%, на остальные 24% - от 11% до 65%.\n",
    "- более половины заказов находится в диапазоне 4-6 кг, около трети до 2 кг, около 15% 2-4 кг и менее 1% более 6 кг.\n",
    "- около 60% заказов доставляются вовремя\n",
    "- со склада F отправляется примерно в 2 раза больше заказов, чем с любого другого. Все остальные распределены равномерно.\n",
    "- около 2/3 доставок происходят по морю.\n",
    "- более 90% заказов имеет низкий и средний приоритеты по доставке.\n",
    "- кол-во заказов от мужчин и от женщин примерно равны."
   ]
  },
  {
   "cell_type": "markdown",
   "id": "109e270c",
   "metadata": {},
   "source": [
    "# 4.3. Поиск взаимосвязей.\n",
    "Выдвинем ряд идей о возможных взаимосвязях, посмотрим на цифры и графики, при необходимости проверим различия статистически."
   ]
  },
  {
   "cell_type": "markdown",
   "id": "97e0321a",
   "metadata": {},
   "source": [
    "# 4.3.1. Рейтинг удовлетворенности.\n",
    "Посмотрим на влияние различных признаков на рейтинг."
   ]
  },
  {
   "cell_type": "markdown",
   "id": "d5055732",
   "metadata": {},
   "source": [
    "Кол-во контактов с СП может влиять положительно на удовлетворенность, тк служба оказывает помощь, решает проблемы, иногда успокаивает, дарит подарки и т.п., но в то же время может быть и обратный эффект - люди в-основном обращаются за помощью, когда у них возникают проблемы, а это уже негативный оттенок. \n",
    "\n",
    "Если бы у нас была информация о входящих/исходящих звонках, о времени относительно выполнения заказа - можно было бы сделать более точное предположение."
   ]
  },
  {
   "cell_type": "code",
   "execution_count": 34,
   "id": "632762ce",
   "metadata": {},
   "outputs": [],
   "source": [
    "# создадим функцию, которая группирует значения и выводит средний рейтинг\n",
    "\n",
    "def avg_rating(column):\n",
    "    '''Принимает колонку column вида 'df.column', возвращает таблицу со средним рейтингом'''\n",
    "    return df.groupby(column, as_index=False).customer_rating.mean().round(2)"
   ]
  },
  {
   "cell_type": "code",
   "execution_count": 35,
   "id": "d05adfff",
   "metadata": {},
   "outputs": [],
   "source": [
    "# и функцию, которая будет возвращать барплот\n",
    "\n",
    "def create_bp(data):\n",
    "    '''Принимает датафрейм data, возвращает барчарт'''\n",
    "    return sns.barplot(x=data[data.columns[0]], \n",
    "                       y=data[data.columns[1]],\n",
    "                       color='green', \n",
    "                       alpha=0.7)"
   ]
  },
  {
   "cell_type": "code",
   "execution_count": 36,
   "id": "4d22e111",
   "metadata": {},
   "outputs": [],
   "source": [
    "# посмотрим на средние значения рейтинга для разного количества звонков\n",
    "\n",
    "calls_rating = avg_rating(df.customer_care_calls)"
   ]
  },
  {
   "cell_type": "code",
   "execution_count": 37,
   "id": "95dbb838",
   "metadata": {},
   "outputs": [
    {
     "data": {
      "text/html": [
       "<div>\n",
       "<style scoped>\n",
       "    .dataframe tbody tr th:only-of-type {\n",
       "        vertical-align: middle;\n",
       "    }\n",
       "\n",
       "    .dataframe tbody tr th {\n",
       "        vertical-align: top;\n",
       "    }\n",
       "\n",
       "    .dataframe thead th {\n",
       "        text-align: right;\n",
       "    }\n",
       "</style>\n",
       "<table border=\"1\" class=\"dataframe\">\n",
       "  <thead>\n",
       "    <tr style=\"text-align: right;\">\n",
       "      <th></th>\n",
       "      <th>customer_care_calls</th>\n",
       "      <th>customer_rating</th>\n",
       "    </tr>\n",
       "  </thead>\n",
       "  <tbody>\n",
       "    <tr>\n",
       "      <th>0</th>\n",
       "      <td>2</td>\n",
       "      <td>3.02</td>\n",
       "    </tr>\n",
       "    <tr>\n",
       "      <th>1</th>\n",
       "      <td>3</td>\n",
       "      <td>2.96</td>\n",
       "    </tr>\n",
       "    <tr>\n",
       "      <th>2</th>\n",
       "      <td>4</td>\n",
       "      <td>3.00</td>\n",
       "    </tr>\n",
       "    <tr>\n",
       "      <th>3</th>\n",
       "      <td>5</td>\n",
       "      <td>2.97</td>\n",
       "    </tr>\n",
       "    <tr>\n",
       "      <th>4</th>\n",
       "      <td>6</td>\n",
       "      <td>3.08</td>\n",
       "    </tr>\n",
       "    <tr>\n",
       "      <th>5</th>\n",
       "      <td>7</td>\n",
       "      <td>3.00</td>\n",
       "    </tr>\n",
       "  </tbody>\n",
       "</table>\n",
       "</div>"
      ],
      "text/plain": [
       "   customer_care_calls  customer_rating\n",
       "0                    2             3.02\n",
       "1                    3             2.96\n",
       "2                    4             3.00\n",
       "3                    5             2.97\n",
       "4                    6             3.08\n",
       "5                    7             3.00"
      ]
     },
     "execution_count": 37,
     "metadata": {},
     "output_type": "execute_result"
    }
   ],
   "source": [
    "calls_rating"
   ]
  },
  {
   "cell_type": "code",
   "execution_count": 38,
   "id": "165af6d0",
   "metadata": {},
   "outputs": [
    {
     "data": {
      "text/plain": [
       "[Text(0.5, 0, 'Контакты со Службой Поддержки'),\n",
       " Text(0, 0.5, 'Средний рейтинг заказа')]"
      ]
     },
     "execution_count": 38,
     "metadata": {},
     "output_type": "execute_result"
    },
    {
     "data": {
      "image/png": "[encoded data removed]",
      "text/plain": [
       "<Figure size 640x480 with 1 Axes>"
      ]
     },
     "metadata": {},
     "output_type": "display_data"
    }
   ],
   "source": [
    "calls_rating_bp = create_bp(calls_rating)\n",
    "calls_rating_bp.set(xlabel='Контакты со Службой Поддержки',\n",
    "                    ylabel='Средний рейтинг заказа')"
   ]
  },
  {
   "cell_type": "markdown",
   "id": "50cad7b1",
   "metadata": {},
   "source": [
    "Различия между группами минимальны, при этом какой-то направленности не наблюдается."
   ]
  },
  {
   "cell_type": "markdown",
   "id": "ecdb8aad",
   "metadata": {},
   "source": [
    "Кол-во предыдущих покупок может положительно влиять на рейтинг, тк кажется, что чем больше покупок совершил клиент, тем больше вероятность, что в-целом он доволен нашим сервисом, он хорошо с ним знаком и его все устраивает."
   ]
  },
  {
   "cell_type": "code",
   "execution_count": 39,
   "id": "f19afec9",
   "metadata": {},
   "outputs": [],
   "source": [
    "# посмотрим на средние значения рейтинга для разного количества предыдущих покупок\n",
    "\n",
    "purchases_rating = avg_rating(df.prior_purchases)"
   ]
  },
  {
   "cell_type": "code",
   "execution_count": 40,
   "id": "85dc2469",
   "metadata": {},
   "outputs": [
    {
     "data": {
      "text/html": [
       "<div>\n",
       "<style scoped>\n",
       "    .dataframe tbody tr th:only-of-type {\n",
       "        vertical-align: middle;\n",
       "    }\n",
       "\n",
       "    .dataframe tbody tr th {\n",
       "        vertical-align: top;\n",
       "    }\n",
       "\n",
       "    .dataframe thead th {\n",
       "        text-align: right;\n",
       "    }\n",
       "</style>\n",
       "<table border=\"1\" class=\"dataframe\">\n",
       "  <thead>\n",
       "    <tr style=\"text-align: right;\">\n",
       "      <th></th>\n",
       "      <th>prior_purchases</th>\n",
       "      <th>customer_rating</th>\n",
       "    </tr>\n",
       "  </thead>\n",
       "  <tbody>\n",
       "    <tr>\n",
       "      <th>0</th>\n",
       "      <td>2</td>\n",
       "      <td>2.96</td>\n",
       "    </tr>\n",
       "    <tr>\n",
       "      <th>1</th>\n",
       "      <td>3</td>\n",
       "      <td>3.00</td>\n",
       "    </tr>\n",
       "    <tr>\n",
       "      <th>2</th>\n",
       "      <td>4</td>\n",
       "      <td>3.03</td>\n",
       "    </tr>\n",
       "    <tr>\n",
       "      <th>3</th>\n",
       "      <td>5</td>\n",
       "      <td>2.94</td>\n",
       "    </tr>\n",
       "    <tr>\n",
       "      <th>4</th>\n",
       "      <td>6</td>\n",
       "      <td>3.02</td>\n",
       "    </tr>\n",
       "    <tr>\n",
       "      <th>5</th>\n",
       "      <td>7</td>\n",
       "      <td>2.87</td>\n",
       "    </tr>\n",
       "    <tr>\n",
       "      <th>6</th>\n",
       "      <td>8</td>\n",
       "      <td>3.04</td>\n",
       "    </tr>\n",
       "    <tr>\n",
       "      <th>7</th>\n",
       "      <td>10</td>\n",
       "      <td>3.20</td>\n",
       "    </tr>\n",
       "  </tbody>\n",
       "</table>\n",
       "</div>"
      ],
      "text/plain": [
       "   prior_purchases  customer_rating\n",
       "0                2             2.96\n",
       "1                3             3.00\n",
       "2                4             3.03\n",
       "3                5             2.94\n",
       "4                6             3.02\n",
       "5                7             2.87\n",
       "6                8             3.04\n",
       "7               10             3.20"
      ]
     },
     "execution_count": 40,
     "metadata": {},
     "output_type": "execute_result"
    }
   ],
   "source": [
    "purchases_rating"
   ]
  },
  {
   "cell_type": "code",
   "execution_count": 41,
   "id": "a38c3f68",
   "metadata": {},
   "outputs": [
    {
     "data": {
      "text/plain": [
       "[Text(0.5, 0, 'Предыдущие покупки'), Text(0, 0.5, 'Средний рейтинг заказа')]"
      ]
     },
     "execution_count": 41,
     "metadata": {},
     "output_type": "execute_result"
    },
    {
     "data": {
      "image/png": "[encoded data removed]",
      "text/plain": [
       "<Figure size 640x480 with 1 Axes>"
      ]
     },
     "metadata": {},
     "output_type": "display_data"
    }
   ],
   "source": [
    "purchases_rating_bp = create_bp(purchases_rating)\n",
    "purchases_rating_bp.set(xlabel='Предыдущие покупки',\n",
    "                        ylabel='Средний рейтинг заказа')"
   ]
  },
  {
   "cell_type": "markdown",
   "id": "a81ebbe1",
   "metadata": {},
   "source": [
    "Какого-то устойчивого тренда не наблюдается, да у 10 покупок средний рейтинг самый высокий, но выборка относительно других значений минимальна, различия небольшие, а для всех остальных значений распределение похоже на равномерное."
   ]
  },
  {
   "cell_type": "markdown",
   "id": "8643a746",
   "metadata": {},
   "source": [
    "Проведем тест, чтобы проверить, насколько эти отличия статистически значимы.\n",
    "\n",
    "Дйствовать будем по следующему алгоритму:\n",
    "\n",
    "1. Сформулируем гипотезы.\n",
    "2. Выберем тест, исходя из теории, проверим выполняются ли необходимые требования.\n",
    "3. Проведем симуляцию, чтобы понять, какова мощность этого теста.\n",
    "4. Проведем выбранный тест.\n",
    "5. Посчитаем вероятность методом Монте-Карло, в качестве альтернативы."
   ]
  },
  {
   "cell_type": "markdown",
   "id": "ebac4867",
   "metadata": {},
   "source": [
    "Гипотеза Н0: в генеральной сопокупности различий между средним рейтингом у покупателей с 10 покупками и покупателями с любым другим кол-вом покупок - нет.\n",
    "\n",
    "Гипотеза Н1: в генеральной сопокупности различия между средним рейтингом у покупателей с 10 покупками и любыми другими покупателями - есть, и они статистически значимы."
   ]
  },
  {
   "cell_type": "code",
   "execution_count": null,
   "id": "e4414911",
   "metadata": {},
   "outputs": [],
   "source": []
  },
  {
   "cell_type": "code",
   "execution_count": null,
   "id": "13ec0cc9",
   "metadata": {},
   "outputs": [],
   "source": []
  },
  {
   "cell_type": "code",
   "execution_count": null,
   "id": "774e2420",
   "metadata": {},
   "outputs": [],
   "source": []
  },
  {
   "cell_type": "code",
   "execution_count": null,
   "id": "320c0858",
   "metadata": {},
   "outputs": [],
   "source": []
  },
  {
   "cell_type": "markdown",
   "id": "d15c3772",
   "metadata": {},
   "source": [
    "Размер скидки по логике должен положительно влиять на удовлетворенность заказом, тк выгодная покупка это всегда приятно."
   ]
  },
  {
   "cell_type": "code",
   "execution_count": 42,
   "id": "cda0fd1b",
   "metadata": {},
   "outputs": [],
   "source": [
    "# посмотрим на средние значения рейтинга для разных размеров скидок\n",
    "\n",
    "discount_rating = avg_rating(df.discount_offered)"
   ]
  },
  {
   "cell_type": "code",
   "execution_count": 43,
   "id": "6fa09c80",
   "metadata": {},
   "outputs": [
    {
     "data": {
      "text/html": [
       "<div>\n",
       "<style scoped>\n",
       "    .dataframe tbody tr th:only-of-type {\n",
       "        vertical-align: middle;\n",
       "    }\n",
       "\n",
       "    .dataframe tbody tr th {\n",
       "        vertical-align: top;\n",
       "    }\n",
       "\n",
       "    .dataframe thead th {\n",
       "        text-align: right;\n",
       "    }\n",
       "</style>\n",
       "<table border=\"1\" class=\"dataframe\">\n",
       "  <thead>\n",
       "    <tr style=\"text-align: right;\">\n",
       "      <th></th>\n",
       "      <th>discount_offered</th>\n",
       "      <th>customer_rating</th>\n",
       "    </tr>\n",
       "  </thead>\n",
       "  <tbody>\n",
       "    <tr>\n",
       "      <th>0</th>\n",
       "      <td>1</td>\n",
       "      <td>2.99</td>\n",
       "    </tr>\n",
       "    <tr>\n",
       "      <th>1</th>\n",
       "      <td>2</td>\n",
       "      <td>3.05</td>\n",
       "    </tr>\n",
       "    <tr>\n",
       "      <th>2</th>\n",
       "      <td>3</td>\n",
       "      <td>2.96</td>\n",
       "    </tr>\n",
       "    <tr>\n",
       "      <th>3</th>\n",
       "      <td>4</td>\n",
       "      <td>2.92</td>\n",
       "    </tr>\n",
       "    <tr>\n",
       "      <th>4</th>\n",
       "      <td>5</td>\n",
       "      <td>3.00</td>\n",
       "    </tr>\n",
       "    <tr>\n",
       "      <th>...</th>\n",
       "      <td>...</td>\n",
       "      <td>...</td>\n",
       "    </tr>\n",
       "    <tr>\n",
       "      <th>60</th>\n",
       "      <td>61</td>\n",
       "      <td>2.83</td>\n",
       "    </tr>\n",
       "    <tr>\n",
       "      <th>61</th>\n",
       "      <td>62</td>\n",
       "      <td>3.14</td>\n",
       "    </tr>\n",
       "    <tr>\n",
       "      <th>62</th>\n",
       "      <td>63</td>\n",
       "      <td>2.75</td>\n",
       "    </tr>\n",
       "    <tr>\n",
       "      <th>63</th>\n",
       "      <td>64</td>\n",
       "      <td>2.58</td>\n",
       "    </tr>\n",
       "    <tr>\n",
       "      <th>64</th>\n",
       "      <td>65</td>\n",
       "      <td>2.97</td>\n",
       "    </tr>\n",
       "  </tbody>\n",
       "</table>\n",
       "<p>65 rows × 2 columns</p>\n",
       "</div>"
      ],
      "text/plain": [
       "    discount_offered  customer_rating\n",
       "0                  1             2.99\n",
       "1                  2             3.05\n",
       "2                  3             2.96\n",
       "3                  4             2.92\n",
       "4                  5             3.00\n",
       "..               ...              ...\n",
       "60                61             2.83\n",
       "61                62             3.14\n",
       "62                63             2.75\n",
       "63                64             2.58\n",
       "64                65             2.97\n",
       "\n",
       "[65 rows x 2 columns]"
      ]
     },
     "execution_count": 43,
     "metadata": {},
     "output_type": "execute_result"
    }
   ],
   "source": [
    "discount_rating"
   ]
  },
  {
   "cell_type": "code",
   "execution_count": 44,
   "id": "2a79237a",
   "metadata": {},
   "outputs": [
    {
     "data": {
      "text/plain": [
       "Text(0, 0, '')"
      ]
     },
     "execution_count": 44,
     "metadata": {},
     "output_type": "execute_result"
    },
    {
     "data": {
      "image/png": "[encoded data removed]",
      "text/plain": [
       "<Figure size 1000x500 with 1 Axes>"
      ]
     },
     "metadata": {},
     "output_type": "display_data"
    }
   ],
   "source": [
    "plt.figure(figsize=(10,5))\n",
    "discount_rating_bp = create_bp(discount_rating)\n",
    "discount_rating_bp.set(xlabel='Предложенная скидка',\n",
    "                       ylabel='Средний рейтинг заказа')\n",
    "discount_rating_bp.set_xticklabels(discount_rating_bp.get_xticklabels(), rotation=90)\n",
    "discount_rating_bp.text(0, 0, '')"
   ]
  },
  {
   "cell_type": "markdown",
   "id": "b5d46c01",
   "metadata": {},
   "source": [
    "Никакой тенденции на графике не видно, единственная разница - до размера скидки в 10% меньше разброс, что объясняется значительно большим размером выборок для этих значений, средняя при этом сохраняется, убедимся в этом сравнив средние двух групп, которые мы уже выделяли для скидок - до 10% и более 10%."
   ]
  },
  {
   "cell_type": "code",
   "execution_count": 45,
   "id": "e751432d",
   "metadata": {},
   "outputs": [
    {
     "data": {
      "text/plain": [
       "2.98946233983954"
      ]
     },
     "execution_count": 45,
     "metadata": {},
     "output_type": "execute_result"
    }
   ],
   "source": [
    "df[df.discount_offered <= 10].customer_rating.mean()"
   ]
  },
  {
   "cell_type": "code",
   "execution_count": 46,
   "id": "6111dde3",
   "metadata": {},
   "outputs": [
    {
     "data": {
      "text/plain": [
       "2.993577635058557"
      ]
     },
     "execution_count": 46,
     "metadata": {},
     "output_type": "execute_result"
    }
   ],
   "source": [
    "df[df.discount_offered > 10].customer_rating.mean()"
   ]
  },
  {
   "cell_type": "markdown",
   "id": "3d76224d",
   "metadata": {},
   "source": [
    "У скидок размером больше рейтинг оказался выше. Поскольку цифры совпали с идеей, выделим эти 2 группы для еще одной проверки (гипотеза 3), но кажется, что изменение незначительное."
   ]
  },
  {
   "cell_type": "markdown",
   "id": "5d7823fa",
   "metadata": {},
   "source": [
    "Вес посылки может влиять на общий настрой клиента в формате - чем выше вес, тем больше он рад, что ему доставили заказ, и не пришлось тащить его на себе."
   ]
  },
  {
   "cell_type": "code",
   "execution_count": 82,
   "id": "9820e77b",
   "metadata": {},
   "outputs": [],
   "source": [
    "# посмотрим на средние значения рейтинга для разного веса посылок\n",
    "\n",
    "weights_rating = avg_rating(df.weight_groups)"
   ]
  },
  {
   "cell_type": "code",
   "execution_count": 83,
   "id": "e38fc87b",
   "metadata": {},
   "outputs": [
    {
     "data": {
      "text/html": [
       "<div>\n",
       "<style scoped>\n",
       "    .dataframe tbody tr th:only-of-type {\n",
       "        vertical-align: middle;\n",
       "    }\n",
       "\n",
       "    .dataframe tbody tr th {\n",
       "        vertical-align: top;\n",
       "    }\n",
       "\n",
       "    .dataframe thead th {\n",
       "        text-align: right;\n",
       "    }\n",
       "</style>\n",
       "<table border=\"1\" class=\"dataframe\">\n",
       "  <thead>\n",
       "    <tr style=\"text-align: right;\">\n",
       "      <th></th>\n",
       "      <th>weight_groups</th>\n",
       "      <th>customer_rating</th>\n",
       "    </tr>\n",
       "  </thead>\n",
       "  <tbody>\n",
       "    <tr>\n",
       "      <th>0</th>\n",
       "      <td>(0.0, 2000.0]</td>\n",
       "      <td>2.98</td>\n",
       "    </tr>\n",
       "    <tr>\n",
       "      <th>1</th>\n",
       "      <td>(2000.0, 4000.0]</td>\n",
       "      <td>3.00</td>\n",
       "    </tr>\n",
       "    <tr>\n",
       "      <th>2</th>\n",
       "      <td>(4000.0, 6000.0]</td>\n",
       "      <td>2.99</td>\n",
       "    </tr>\n",
       "    <tr>\n",
       "      <th>3</th>\n",
       "      <td>(6000.0, inf]</td>\n",
       "      <td>2.75</td>\n",
       "    </tr>\n",
       "  </tbody>\n",
       "</table>\n",
       "</div>"
      ],
      "text/plain": [
       "      weight_groups  customer_rating\n",
       "0     (0.0, 2000.0]             2.98\n",
       "1  (2000.0, 4000.0]             3.00\n",
       "2  (4000.0, 6000.0]             2.99\n",
       "3     (6000.0, inf]             2.75"
      ]
     },
     "execution_count": 83,
     "metadata": {},
     "output_type": "execute_result"
    }
   ],
   "source": [
    "weights_rating"
   ]
  },
  {
   "cell_type": "code",
   "execution_count": 84,
   "id": "fc9395bc",
   "metadata": {},
   "outputs": [
    {
     "data": {
      "text/plain": [
       "[Text(0.5, 0, 'Вес в граммах'), Text(0, 0.5, 'Средний рейтинг заказа')]"
      ]
     },
     "execution_count": 84,
     "metadata": {},
     "output_type": "execute_result"
    },
    {
     "data": {
      "image/png": "[encoded data removed]",
      "text/plain": [
       "<Figure size 640x480 with 1 Axes>"
      ]
     },
     "metadata": {},
     "output_type": "display_data"
    }
   ],
   "source": [
    "weights_rating_bp = create_bp(weights_rating)\n",
    "weights_rating_bp.set(xlabel='Вес в граммах',\n",
    "                      ylabel='Средний рейтинг заказа')"
   ]
  },
  {
   "cell_type": "markdown",
   "id": "77b94529",
   "metadata": {},
   "source": [
    "Мы видим обратную картину - чем больше вес посылки, тем ниже оценка. Наша идея не подтверждается, а искать оправдание цифрам не совсем верно. Есть варинт, что вес влияет на метрику, которая влияет на рейтинг, например, мелкие заказы чаще доставляются вовремя, а своевременность доставки влияет на рейтинг, но пока мы этого не знаем. Подобные корреляции мы поищем позже, когда и если найдем факторы влияющие на рейтинг."
   ]
  },
  {
   "cell_type": "markdown",
   "id": "ffd7922b",
   "metadata": {},
   "source": [
    "На разных складах могут по-разному упаковывать товары, обращаться с ними, находить товары с разной скоростью и т.д. То есть существует множество мелких факторов, которые могут повлиять на то, как быстро и в каком виде товар будет доставлен клиенту."
   ]
  },
  {
   "cell_type": "code",
   "execution_count": 52,
   "id": "5d3d8067",
   "metadata": {},
   "outputs": [],
   "source": [
    "# посмотрим, у каких складов самый высокий рейтинг\n",
    "\n",
    "warehouse_rating = avg_rating(df.warehouse_block).sort_values('customer_rating', ascending=False)"
   ]
  },
  {
   "cell_type": "code",
   "execution_count": 53,
   "id": "c9fe583b",
   "metadata": {},
   "outputs": [
    {
     "data": {
      "text/html": [
       "<div>\n",
       "<style scoped>\n",
       "    .dataframe tbody tr th:only-of-type {\n",
       "        vertical-align: middle;\n",
       "    }\n",
       "\n",
       "    .dataframe tbody tr th {\n",
       "        vertical-align: top;\n",
       "    }\n",
       "\n",
       "    .dataframe thead th {\n",
       "        text-align: right;\n",
       "    }\n",
       "</style>\n",
       "<table border=\"1\" class=\"dataframe\">\n",
       "  <thead>\n",
       "    <tr style=\"text-align: right;\">\n",
       "      <th></th>\n",
       "      <th>warehouse_block</th>\n",
       "      <th>customer_rating</th>\n",
       "    </tr>\n",
       "  </thead>\n",
       "  <tbody>\n",
       "    <tr>\n",
       "      <th>3</th>\n",
       "      <td>d</td>\n",
       "      <td>3.02</td>\n",
       "    </tr>\n",
       "    <tr>\n",
       "      <th>4</th>\n",
       "      <td>f</td>\n",
       "      <td>3.00</td>\n",
       "    </tr>\n",
       "    <tr>\n",
       "      <th>2</th>\n",
       "      <td>c</td>\n",
       "      <td>2.99</td>\n",
       "    </tr>\n",
       "    <tr>\n",
       "      <th>1</th>\n",
       "      <td>b</td>\n",
       "      <td>2.98</td>\n",
       "    </tr>\n",
       "    <tr>\n",
       "      <th>0</th>\n",
       "      <td>a</td>\n",
       "      <td>2.96</td>\n",
       "    </tr>\n",
       "  </tbody>\n",
       "</table>\n",
       "</div>"
      ],
      "text/plain": [
       "  warehouse_block  customer_rating\n",
       "3               d             3.02\n",
       "4               f             3.00\n",
       "2               c             2.99\n",
       "1               b             2.98\n",
       "0               a             2.96"
      ]
     },
     "execution_count": 53,
     "metadata": {},
     "output_type": "execute_result"
    }
   ],
   "source": [
    "warehouse_rating"
   ]
  },
  {
   "cell_type": "code",
   "execution_count": 54,
   "id": "3402632d",
   "metadata": {},
   "outputs": [
    {
     "data": {
      "text/plain": [
       "[Text(0.5, 0, 'Средний рейтинг заказа'), Text(0, 0.5, 'Склад')]"
      ]
     },
     "execution_count": 54,
     "metadata": {},
     "output_type": "execute_result"
    },
    {
     "data": {
      "image/png": "[encoded data removed]",
      "text/plain": [
       "<Figure size 640x480 with 1 Axes>"
      ]
     },
     "metadata": {},
     "output_type": "display_data"
    }
   ],
   "source": [
    "warehouse_rating_bp = sns.barplot(x=warehouse_rating.customer_rating, \n",
    "                                  y=warehouse_rating.warehouse_block,\n",
    "                                  color='green', \n",
    "                                  alpha=0.7)\n",
    "warehouse_rating_bp.set(xlabel='Средний рейтинг заказа',\n",
    "                        ylabel='Склад')"
   ]
  },
  {
   "cell_type": "markdown",
   "id": "49aa8343",
   "metadata": {},
   "source": [
    "Теперь осталось проверить насколько значимыми являются эти различия (гипотеза 4), тк в этом есть большие сомнения."
   ]
  },
  {
   "cell_type": "markdown",
   "id": "b67e61d4",
   "metadata": {},
   "source": [
    "Способ доставки может влиять на скорость доставки и на то, в каком виде товар приехал, что в свою очередь может влиять на оценку."
   ]
  },
  {
   "cell_type": "code",
   "execution_count": 55,
   "id": "dd8b4468",
   "metadata": {},
   "outputs": [],
   "source": [
    "# посмотрим, у каких способов доставки самый высокий рейтинг\n",
    "\n",
    "shipment_rating = avg_rating(df.mode_of_shipment).sort_values('customer_rating', ascending=False)"
   ]
  },
  {
   "cell_type": "code",
   "execution_count": 56,
   "id": "2183f204",
   "metadata": {},
   "outputs": [
    {
     "data": {
      "text/html": [
       "<div>\n",
       "<style scoped>\n",
       "    .dataframe tbody tr th:only-of-type {\n",
       "        vertical-align: middle;\n",
       "    }\n",
       "\n",
       "    .dataframe tbody tr th {\n",
       "        vertical-align: top;\n",
       "    }\n",
       "\n",
       "    .dataframe thead th {\n",
       "        text-align: right;\n",
       "    }\n",
       "</style>\n",
       "<table border=\"1\" class=\"dataframe\">\n",
       "  <thead>\n",
       "    <tr style=\"text-align: right;\">\n",
       "      <th></th>\n",
       "      <th>mode_of_shipment</th>\n",
       "      <th>customer_rating</th>\n",
       "    </tr>\n",
       "  </thead>\n",
       "  <tbody>\n",
       "    <tr>\n",
       "      <th>1</th>\n",
       "      <td>road</td>\n",
       "      <td>3.00</td>\n",
       "    </tr>\n",
       "    <tr>\n",
       "      <th>2</th>\n",
       "      <td>ship</td>\n",
       "      <td>2.99</td>\n",
       "    </tr>\n",
       "    <tr>\n",
       "      <th>0</th>\n",
       "      <td>flight</td>\n",
       "      <td>2.98</td>\n",
       "    </tr>\n",
       "  </tbody>\n",
       "</table>\n",
       "</div>"
      ],
      "text/plain": [
       "  mode_of_shipment  customer_rating\n",
       "1             road             3.00\n",
       "2             ship             2.99\n",
       "0           flight             2.98"
      ]
     },
     "execution_count": 56,
     "metadata": {},
     "output_type": "execute_result"
    }
   ],
   "source": [
    "shipment_rating"
   ]
  },
  {
   "cell_type": "markdown",
   "id": "132a880e",
   "metadata": {},
   "source": [
    "Такие небольшие различия на графике мы даже не увидим.\n",
    "\n",
    "Аналогичная ситуация, как и со складами. Проверим позже гипотезу 5."
   ]
  },
  {
   "cell_type": "markdown",
   "id": "ada23e3a",
   "metadata": {},
   "source": [
    "Приоритет по доставке может влиять положительно на рейтинг, тк если покупатель выбрал более высокий приоритет, то для него товар важен и в-целом, завершение заказа по нему должно оказывать более положительный эффект, чем доставка товара, который он особо не ждет."
   ]
  },
  {
   "cell_type": "code",
   "execution_count": 57,
   "id": "a51e11be",
   "metadata": {},
   "outputs": [],
   "source": [
    "# сравним средний рейтинг для разных приоритетов доставки\n",
    "\n",
    "importance_rating = avg_rating(df.product_importance).sort_values('customer_rating', ascending=False)"
   ]
  },
  {
   "cell_type": "code",
   "execution_count": 58,
   "id": "241b1000",
   "metadata": {},
   "outputs": [
    {
     "data": {
      "text/html": [
       "<div>\n",
       "<style scoped>\n",
       "    .dataframe tbody tr th:only-of-type {\n",
       "        vertical-align: middle;\n",
       "    }\n",
       "\n",
       "    .dataframe tbody tr th {\n",
       "        vertical-align: top;\n",
       "    }\n",
       "\n",
       "    .dataframe thead th {\n",
       "        text-align: right;\n",
       "    }\n",
       "</style>\n",
       "<table border=\"1\" class=\"dataframe\">\n",
       "  <thead>\n",
       "    <tr style=\"text-align: right;\">\n",
       "      <th></th>\n",
       "      <th>product_importance</th>\n",
       "      <th>customer_rating</th>\n",
       "    </tr>\n",
       "  </thead>\n",
       "  <tbody>\n",
       "    <tr>\n",
       "      <th>2</th>\n",
       "      <td>medium</td>\n",
       "      <td>3.00</td>\n",
       "    </tr>\n",
       "    <tr>\n",
       "      <th>0</th>\n",
       "      <td>high</td>\n",
       "      <td>2.99</td>\n",
       "    </tr>\n",
       "    <tr>\n",
       "      <th>1</th>\n",
       "      <td>low</td>\n",
       "      <td>2.98</td>\n",
       "    </tr>\n",
       "  </tbody>\n",
       "</table>\n",
       "</div>"
      ],
      "text/plain": [
       "  product_importance  customer_rating\n",
       "2             medium             3.00\n",
       "0               high             2.99\n",
       "1                low             2.98"
      ]
     },
     "execution_count": 58,
     "metadata": {},
     "output_type": "execute_result"
    }
   ],
   "source": [
    "importance_rating"
   ]
  },
  {
   "cell_type": "markdown",
   "id": "940d1886",
   "metadata": {},
   "source": [
    "Полное повторение последних 2х ситуаций, запишем, как гипотезу 6."
   ]
  },
  {
   "cell_type": "markdown",
   "id": "82a824a3",
   "metadata": {},
   "source": [
    "Разница между полами может быть обусловлена многими факторами, начиная от природных, заканчивая приоритетами наших рекламных, маркетинговых компаний, дизайна и проч."
   ]
  },
  {
   "cell_type": "code",
   "execution_count": 59,
   "id": "a04af591",
   "metadata": {},
   "outputs": [],
   "source": [
    "# посмотрим на средний рейтинг у разных полов\n",
    "\n",
    "gender_rating = avg_rating(df.gender)"
   ]
  },
  {
   "cell_type": "code",
   "execution_count": 60,
   "id": "5db833c1",
   "metadata": {},
   "outputs": [
    {
     "data": {
      "text/html": [
       "<div>\n",
       "<style scoped>\n",
       "    .dataframe tbody tr th:only-of-type {\n",
       "        vertical-align: middle;\n",
       "    }\n",
       "\n",
       "    .dataframe tbody tr th {\n",
       "        vertical-align: top;\n",
       "    }\n",
       "\n",
       "    .dataframe thead th {\n",
       "        text-align: right;\n",
       "    }\n",
       "</style>\n",
       "<table border=\"1\" class=\"dataframe\">\n",
       "  <thead>\n",
       "    <tr style=\"text-align: right;\">\n",
       "      <th></th>\n",
       "      <th>gender</th>\n",
       "      <th>customer_rating</th>\n",
       "    </tr>\n",
       "  </thead>\n",
       "  <tbody>\n",
       "    <tr>\n",
       "      <th>0</th>\n",
       "      <td>f</td>\n",
       "      <td>2.99</td>\n",
       "    </tr>\n",
       "    <tr>\n",
       "      <th>1</th>\n",
       "      <td>m</td>\n",
       "      <td>2.99</td>\n",
       "    </tr>\n",
       "  </tbody>\n",
       "</table>\n",
       "</div>"
      ],
      "text/plain": [
       "  gender  customer_rating\n",
       "0      f             2.99\n",
       "1      m             2.99"
      ]
     },
     "execution_count": 60,
     "metadata": {},
     "output_type": "execute_result"
    }
   ],
   "source": [
    "gender_rating"
   ]
  },
  {
   "cell_type": "markdown",
   "id": "2deeae77",
   "metadata": {},
   "source": [
    "Разницы между полами в данном случае нет."
   ]
  },
  {
   "cell_type": "markdown",
   "id": "7ffc2df6",
   "metadata": {},
   "source": [
    "Своевременность доставки по логике должна влиять положительно на оценку клиента."
   ]
  },
  {
   "cell_type": "code",
   "execution_count": 61,
   "id": "7fff299e",
   "metadata": {},
   "outputs": [],
   "source": [
    "# посмотрим на средний рейтинг 2х групп заказов - доставленных вовремя и с опозданием\n",
    "\n",
    "class_rating = avg_rating(df['class'])"
   ]
  },
  {
   "cell_type": "code",
   "execution_count": 62,
   "id": "60ea45e5",
   "metadata": {},
   "outputs": [
    {
     "data": {
      "text/html": [
       "<div>\n",
       "<style scoped>\n",
       "    .dataframe tbody tr th:only-of-type {\n",
       "        vertical-align: middle;\n",
       "    }\n",
       "\n",
       "    .dataframe tbody tr th {\n",
       "        vertical-align: top;\n",
       "    }\n",
       "\n",
       "    .dataframe thead th {\n",
       "        text-align: right;\n",
       "    }\n",
       "</style>\n",
       "<table border=\"1\" class=\"dataframe\">\n",
       "  <thead>\n",
       "    <tr style=\"text-align: right;\">\n",
       "      <th></th>\n",
       "      <th>class</th>\n",
       "      <th>customer_rating</th>\n",
       "    </tr>\n",
       "  </thead>\n",
       "  <tbody>\n",
       "    <tr>\n",
       "      <th>0</th>\n",
       "      <td>0</td>\n",
       "      <td>2.97</td>\n",
       "    </tr>\n",
       "    <tr>\n",
       "      <th>1</th>\n",
       "      <td>1</td>\n",
       "      <td>3.01</td>\n",
       "    </tr>\n",
       "  </tbody>\n",
       "</table>\n",
       "</div>"
      ],
      "text/plain": [
       "   class  customer_rating\n",
       "0      0             2.97\n",
       "1      1             3.01"
      ]
     },
     "execution_count": 62,
     "metadata": {},
     "output_type": "execute_result"
    }
   ],
   "source": [
    "class_rating"
   ]
  },
  {
   "cell_type": "markdown",
   "id": "ba7171ec",
   "metadata": {},
   "source": [
    "# Рейтинг удовлетворенности. Резюме.\n",
    "Общие выводы:\n",
    "1. Корреляции между кол-вом контактов с СП и рейтингом не обнаружено.\n",
    "2. Аналогично для кол-ва предыдущих покупок, но, возможно, покупатели с 10 покупками в среднем более довольны, чем все остальные.\n",
    "3. Возможно, скидки бОльшего размера склоняют клиентов поставить более высокую оценку.\n",
    "4. Чем больше вес посылки, тем ниже рейтинг удовлетворенности заказом. Это не кажется интуитивно понятным, не совпадает с нашей идеей, но позже мы можем это понять, через другие корреляции.\n",
    "5. У разных типов и приоритетов доставки, а также полов разброс значений небольшой или отсутствует, вряд ли они оказывают существенное влияние.\n",
    "6. Разница между разными складами и разными по своевременности доставки заказами более значительна и укладывается в заранее описанную логику."
   ]
  },
  {
   "cell_type": "markdown",
   "id": "24fce0cd",
   "metadata": {},
   "source": [
    "# 4.3.2 Своевременность доставки.\n",
    "Поскольку это один из факторов, который похоже влияет на рейтинг удовлетворенности, посмотрим, что влияет на него."
   ]
  },
  {
   "cell_type": "code",
   "execution_count": 63,
   "id": "ebc6316f",
   "metadata": {
    "scrolled": true
   },
   "outputs": [
    {
     "data": {
      "text/html": [
       "<div>\n",
       "<style scoped>\n",
       "    .dataframe tbody tr th:only-of-type {\n",
       "        vertical-align: middle;\n",
       "    }\n",
       "\n",
       "    .dataframe tbody tr th {\n",
       "        vertical-align: top;\n",
       "    }\n",
       "\n",
       "    .dataframe thead th {\n",
       "        text-align: right;\n",
       "    }\n",
       "</style>\n",
       "<table border=\"1\" class=\"dataframe\">\n",
       "  <thead>\n",
       "    <tr style=\"text-align: right;\">\n",
       "      <th></th>\n",
       "      <th>customer_care_calls</th>\n",
       "      <th>customer_rating</th>\n",
       "      <th>prior_purchases</th>\n",
       "      <th>discount_offered</th>\n",
       "      <th>weight_in_gms</th>\n",
       "      <th>warehouse_block</th>\n",
       "      <th>mode_of_shipment</th>\n",
       "      <th>product_importance</th>\n",
       "      <th>gender</th>\n",
       "      <th>class</th>\n",
       "    </tr>\n",
       "  </thead>\n",
       "  <tbody>\n",
       "    <tr>\n",
       "      <th>0</th>\n",
       "      <td>5</td>\n",
       "      <td>4</td>\n",
       "      <td>2</td>\n",
       "      <td>10</td>\n",
       "      <td>5395</td>\n",
       "      <td>a</td>\n",
       "      <td>ship</td>\n",
       "      <td>medium</td>\n",
       "      <td>m</td>\n",
       "      <td>1</td>\n",
       "    </tr>\n",
       "    <tr>\n",
       "      <th>1</th>\n",
       "      <td>4</td>\n",
       "      <td>3</td>\n",
       "      <td>2</td>\n",
       "      <td>6</td>\n",
       "      <td>5867</td>\n",
       "      <td>f</td>\n",
       "      <td>ship</td>\n",
       "      <td>medium</td>\n",
       "      <td>f</td>\n",
       "      <td>0</td>\n",
       "    </tr>\n",
       "    <tr>\n",
       "      <th>2</th>\n",
       "      <td>3</td>\n",
       "      <td>4</td>\n",
       "      <td>2</td>\n",
       "      <td>2</td>\n",
       "      <td>5957</td>\n",
       "      <td>d</td>\n",
       "      <td>ship</td>\n",
       "      <td>medium</td>\n",
       "      <td>m</td>\n",
       "      <td>0</td>\n",
       "    </tr>\n",
       "    <tr>\n",
       "      <th>3</th>\n",
       "      <td>3</td>\n",
       "      <td>1</td>\n",
       "      <td>2</td>\n",
       "      <td>27</td>\n",
       "      <td>2551</td>\n",
       "      <td>d</td>\n",
       "      <td>ship</td>\n",
       "      <td>medium</td>\n",
       "      <td>m</td>\n",
       "      <td>1</td>\n",
       "    </tr>\n",
       "    <tr>\n",
       "      <th>4</th>\n",
       "      <td>7</td>\n",
       "      <td>5</td>\n",
       "      <td>4</td>\n",
       "      <td>9</td>\n",
       "      <td>1329</td>\n",
       "      <td>b</td>\n",
       "      <td>ship</td>\n",
       "      <td>medium</td>\n",
       "      <td>m</td>\n",
       "      <td>1</td>\n",
       "    </tr>\n",
       "  </tbody>\n",
       "</table>\n",
       "</div>"
      ],
      "text/plain": [
       "   customer_care_calls  customer_rating  prior_purchases  discount_offered  \\\n",
       "0                    5                4                2                10   \n",
       "1                    4                3                2                 6   \n",
       "2                    3                4                2                 2   \n",
       "3                    3                1                2                27   \n",
       "4                    7                5                4                 9   \n",
       "\n",
       "   weight_in_gms warehouse_block mode_of_shipment product_importance gender  \\\n",
       "0           5395               a             ship             medium      m   \n",
       "1           5867               f             ship             medium      f   \n",
       "2           5957               d             ship             medium      m   \n",
       "3           2551               d             ship             medium      m   \n",
       "4           1329               b             ship             medium      m   \n",
       "\n",
       "   class  \n",
       "0      1  \n",
       "1      0  \n",
       "2      0  \n",
       "3      1  \n",
       "4      1  "
      ]
     },
     "execution_count": 63,
     "metadata": {},
     "output_type": "execute_result"
    }
   ],
   "source": [
    "df.head()"
   ]
  },
  {
   "cell_type": "code",
   "execution_count": 64,
   "id": "8c5169d6",
   "metadata": {},
   "outputs": [],
   "source": [
    "# создадим функцию, которая группирует значения и выводит долю своевременных доставок\n",
    "\n",
    "def avg_delivery(column):\n",
    "    '''Принимает колонку column вида 'df.column', возвращает таблицу с долей своевременных доставок'''\n",
    "    return df.groupby(column, as_index=False)['class'].mean().sort_values('class', ascending=False).round(2)"
   ]
  },
  {
   "cell_type": "code",
   "execution_count": 85,
   "id": "7c2ec066",
   "metadata": {},
   "outputs": [],
   "source": [
    "# посмотрим на долю своевременных доставок для разных весов заказов\n",
    "\n",
    "weight_class = avg_delivery(df.weight_groups)"
   ]
  },
  {
   "cell_type": "code",
   "execution_count": 86,
   "id": "4aecebc1",
   "metadata": {},
   "outputs": [
    {
     "data": {
      "text/html": [
       "<div>\n",
       "<style scoped>\n",
       "    .dataframe tbody tr th:only-of-type {\n",
       "        vertical-align: middle;\n",
       "    }\n",
       "\n",
       "    .dataframe tbody tr th {\n",
       "        vertical-align: top;\n",
       "    }\n",
       "\n",
       "    .dataframe thead th {\n",
       "        text-align: right;\n",
       "    }\n",
       "</style>\n",
       "<table border=\"1\" class=\"dataframe\">\n",
       "  <thead>\n",
       "    <tr style=\"text-align: right;\">\n",
       "      <th></th>\n",
       "      <th>weight_groups</th>\n",
       "      <th>class</th>\n",
       "    </tr>\n",
       "  </thead>\n",
       "  <tbody>\n",
       "    <tr>\n",
       "      <th>3</th>\n",
       "      <td>(6000.0, inf]</td>\n",
       "      <td>1.00</td>\n",
       "    </tr>\n",
       "    <tr>\n",
       "      <th>1</th>\n",
       "      <td>(2000.0, 4000.0]</td>\n",
       "      <td>1.00</td>\n",
       "    </tr>\n",
       "    <tr>\n",
       "      <th>0</th>\n",
       "      <td>(0.0, 2000.0]</td>\n",
       "      <td>0.68</td>\n",
       "    </tr>\n",
       "    <tr>\n",
       "      <th>2</th>\n",
       "      <td>(4000.0, 6000.0]</td>\n",
       "      <td>0.43</td>\n",
       "    </tr>\n",
       "  </tbody>\n",
       "</table>\n",
       "</div>"
      ],
      "text/plain": [
       "      weight_groups  class\n",
       "3     (6000.0, inf]   1.00\n",
       "1  (2000.0, 4000.0]   1.00\n",
       "0     (0.0, 2000.0]   0.68\n",
       "2  (4000.0, 6000.0]   0.43"
      ]
     },
     "execution_count": 86,
     "metadata": {},
     "output_type": "execute_result"
    }
   ],
   "source": [
    "weight_class"
   ]
  },
  {
   "cell_type": "markdown",
   "id": "28a5b2cc",
   "metadata": {},
   "source": [
    "Прямой взаимосвязи с весом здесь нет."
   ]
  },
  {
   "cell_type": "code",
   "execution_count": 90,
   "id": "b6558da2",
   "metadata": {},
   "outputs": [
    {
     "data": {
      "text/html": [
       "<div>\n",
       "<style scoped>\n",
       "    .dataframe tbody tr th:only-of-type {\n",
       "        vertical-align: middle;\n",
       "    }\n",
       "\n",
       "    .dataframe tbody tr th {\n",
       "        vertical-align: top;\n",
       "    }\n",
       "\n",
       "    .dataframe thead th {\n",
       "        text-align: right;\n",
       "    }\n",
       "</style>\n",
       "<table border=\"1\" class=\"dataframe\">\n",
       "  <thead>\n",
       "    <tr style=\"text-align: right;\">\n",
       "      <th></th>\n",
       "      <th>weight_groups</th>\n",
       "      <th>class</th>\n",
       "      <th>customer_rating</th>\n",
       "    </tr>\n",
       "  </thead>\n",
       "  <tbody>\n",
       "    <tr>\n",
       "      <th>0</th>\n",
       "      <td>(6000.0, inf]</td>\n",
       "      <td>1.00</td>\n",
       "      <td>2.75</td>\n",
       "    </tr>\n",
       "    <tr>\n",
       "      <th>1</th>\n",
       "      <td>(2000.0, 4000.0]</td>\n",
       "      <td>1.00</td>\n",
       "      <td>3.00</td>\n",
       "    </tr>\n",
       "    <tr>\n",
       "      <th>2</th>\n",
       "      <td>(0.0, 2000.0]</td>\n",
       "      <td>0.68</td>\n",
       "      <td>2.98</td>\n",
       "    </tr>\n",
       "    <tr>\n",
       "      <th>3</th>\n",
       "      <td>(4000.0, 6000.0]</td>\n",
       "      <td>0.43</td>\n",
       "      <td>2.99</td>\n",
       "    </tr>\n",
       "  </tbody>\n",
       "</table>\n",
       "</div>"
      ],
      "text/plain": [
       "      weight_groups  class  customer_rating\n",
       "0     (6000.0, inf]   1.00             2.75\n",
       "1  (2000.0, 4000.0]   1.00             3.00\n",
       "2     (0.0, 2000.0]   0.68             2.98\n",
       "3  (4000.0, 6000.0]   0.43             2.99"
      ]
     },
     "execution_count": 90,
     "metadata": {},
     "output_type": "execute_result"
    }
   ],
   "source": [
    "# посмотрим на возможную взаимосвязь с рейтингом\n",
    "\n",
    "weight_class.merge(weights_rating, on='weight_groups')"
   ]
  },
  {
   "cell_type": "markdown",
   "id": "6ff0f78d",
   "metadata": {},
   "source": [
    "Логического объяснения прямой зависимости рейтинга от веса эта таблица нам также не дает. Разница там минимальная, скорее всего это просто совпадение."
   ]
  },
  {
   "cell_type": "markdown",
   "id": "f34bf826",
   "metadata": {},
   "source": [
    "Посмотрим на влияние склада на своевременность доставки, тк цепочка доставки зависит от скорости отгрузки в т.ч."
   ]
  },
  {
   "cell_type": "code",
   "execution_count": 69,
   "id": "a204c4dd",
   "metadata": {},
   "outputs": [],
   "source": [
    "warehouse_class = avg_delivery(df.warehouse_block)"
   ]
  },
  {
   "cell_type": "code",
   "execution_count": 70,
   "id": "dba2a1cd",
   "metadata": {},
   "outputs": [
    {
     "data": {
      "text/html": [
       "<div>\n",
       "<style scoped>\n",
       "    .dataframe tbody tr th:only-of-type {\n",
       "        vertical-align: middle;\n",
       "    }\n",
       "\n",
       "    .dataframe tbody tr th {\n",
       "        vertical-align: top;\n",
       "    }\n",
       "\n",
       "    .dataframe thead th {\n",
       "        text-align: right;\n",
       "    }\n",
       "</style>\n",
       "<table border=\"1\" class=\"dataframe\">\n",
       "  <thead>\n",
       "    <tr style=\"text-align: right;\">\n",
       "      <th></th>\n",
       "      <th>warehouse_block</th>\n",
       "      <th>class</th>\n",
       "    </tr>\n",
       "  </thead>\n",
       "  <tbody>\n",
       "    <tr>\n",
       "      <th>1</th>\n",
       "      <td>b</td>\n",
       "      <td>0.60</td>\n",
       "    </tr>\n",
       "    <tr>\n",
       "      <th>4</th>\n",
       "      <td>f</td>\n",
       "      <td>0.60</td>\n",
       "    </tr>\n",
       "    <tr>\n",
       "      <th>3</th>\n",
       "      <td>d</td>\n",
       "      <td>0.60</td>\n",
       "    </tr>\n",
       "    <tr>\n",
       "      <th>2</th>\n",
       "      <td>c</td>\n",
       "      <td>0.60</td>\n",
       "    </tr>\n",
       "    <tr>\n",
       "      <th>0</th>\n",
       "      <td>a</td>\n",
       "      <td>0.59</td>\n",
       "    </tr>\n",
       "  </tbody>\n",
       "</table>\n",
       "</div>"
      ],
      "text/plain": [
       "  warehouse_block  class\n",
       "1               b   0.60\n",
       "4               f   0.60\n",
       "3               d   0.60\n",
       "2               c   0.60\n",
       "0               a   0.59"
      ]
     },
     "execution_count": 70,
     "metadata": {},
     "output_type": "execute_result"
    }
   ],
   "source": [
    "warehouse_class"
   ]
  },
  {
   "cell_type": "markdown",
   "id": "501f71de",
   "metadata": {},
   "source": [
    "Разницы между складами почти нет, единственное отклонение - у скалада А показатель чуть ниже, при этом у него самая низкая оценка среди клиентов. Возможно, стоит включить этот момент в список улучшений его работы."
   ]
  },
  {
   "cell_type": "code",
   "execution_count": 73,
   "id": "f6d26459",
   "metadata": {},
   "outputs": [],
   "source": [
    "# посмотрим долю своевременных доставок для разных способов доставки\n",
    "\n",
    "shipment_class = avg_delivery(df.mode_of_shipment)"
   ]
  },
  {
   "cell_type": "code",
   "execution_count": 72,
   "id": "b144024e",
   "metadata": {},
   "outputs": [
    {
     "data": {
      "text/html": [
       "<div>\n",
       "<style scoped>\n",
       "    .dataframe tbody tr th:only-of-type {\n",
       "        vertical-align: middle;\n",
       "    }\n",
       "\n",
       "    .dataframe tbody tr th {\n",
       "        vertical-align: top;\n",
       "    }\n",
       "\n",
       "    .dataframe thead th {\n",
       "        text-align: right;\n",
       "    }\n",
       "</style>\n",
       "<table border=\"1\" class=\"dataframe\">\n",
       "  <thead>\n",
       "    <tr style=\"text-align: right;\">\n",
       "      <th></th>\n",
       "      <th>mode_of_shipment</th>\n",
       "      <th>class</th>\n",
       "    </tr>\n",
       "  </thead>\n",
       "  <tbody>\n",
       "    <tr>\n",
       "      <th>0</th>\n",
       "      <td>flight</td>\n",
       "      <td>0.60</td>\n",
       "    </tr>\n",
       "    <tr>\n",
       "      <th>2</th>\n",
       "      <td>ship</td>\n",
       "      <td>0.60</td>\n",
       "    </tr>\n",
       "    <tr>\n",
       "      <th>1</th>\n",
       "      <td>road</td>\n",
       "      <td>0.59</td>\n",
       "    </tr>\n",
       "  </tbody>\n",
       "</table>\n",
       "</div>"
      ],
      "text/plain": [
       "  mode_of_shipment  class\n",
       "0           flight   0.60\n",
       "2             ship   0.60\n",
       "1             road   0.59"
      ]
     },
     "execution_count": 72,
     "metadata": {},
     "output_type": "execute_result"
    }
   ],
   "source": [
    "shipment_class"
   ]
  },
  {
   "cell_type": "markdown",
   "id": "15300afd",
   "metadata": {},
   "source": [
    "Автодоставка имеет чуть меньшую долю своевременных доставок, но разница минимальна."
   ]
  },
  {
   "cell_type": "code",
   "execution_count": null,
   "id": "7b7f5f6f",
   "metadata": {},
   "outputs": [],
   "source": []
  }
 ],
 "metadata": {
  "kernelspec": {
   "display_name": "Python 3 (ipykernel)",
   "language": "python",
   "name": "python3"
  },
  "language_info": {
   "codemirror_mode": {
    "name": "ipython",
    "version": 3
   },
   "file_extension": ".py",
   "mimetype": "text/x-python",
   "name": "python",
   "nbconvert_exporter": "python",
   "pygments_lexer": "ipython3",
   "version": "3.9.13"
  }
 },
 "nbformat": 4,
 "nbformat_minor": 5
}
