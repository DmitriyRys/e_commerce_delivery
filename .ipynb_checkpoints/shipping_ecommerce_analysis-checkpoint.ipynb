{
 "cells": [
  {
   "cell_type": "markdown",
   "id": "d1d6a382",
   "metadata": {},
   "source": [
    "# 1. Описание данных.\n",
    "Международная e-commerce компания занимается продажей электроники. \n",
    "\n",
    "Колонки:\n",
    "- Customer_care_calls - кол-во контактов клиента со службой поддержки;\n",
    "- Customer_rating - рейтинг удовлетворенности клиента покупкой;\n",
    "- Prior_purchases - кол-во предыдущих покупок на сайте;\n",
    "- Discount_offered - предложенная скидка, в %;\n",
    "- Weight_in_gms - вес покупки в граммах;\n",
    "- Warehouse_block - склад;\n",
    "- Mode_of_Shipment - способ доставки;\n",
    "- Product_importance - приоритет по доставке (скорость и условия);\n",
    "- Gender - пол клиента;\n",
    "- Class - доставлен ли заказ вовремя."
   ]
  },
  {
   "cell_type": "markdown",
   "id": "b9e08b36",
   "metadata": {},
   "source": [
    "# 2. Цели исследования.\n",
    "- Посмотреть распределения и выбрать меры центральной тенденции для различных показателей, чтобы иметь представление о текущей ситуации;\n",
    "- Найти взаимосвязи различных показателей между собой, чтобы понять, как и на какие метрики можно влиять.\n",
    "- Проверить статистическую значимость различных гипотез.\n",
    "- Сделать предложения по улучшению работы компании."
   ]
  },
  {
   "cell_type": "markdown",
   "id": "c1d8223a",
   "metadata": {},
   "source": [
    "# 3. Знакомство с данными.\n",
    "Для начала посмотрим на данные, их типы, наличие пропусков, при необходимости скорректируем, приведем в более комфортный вид/формат. "
   ]
  },
  {
   "cell_type": "code",
   "execution_count": 1,
   "id": "c68bbfe2",
   "metadata": {},
   "outputs": [
    {
     "name": "stderr",
     "output_type": "stream",
     "text": [
      "E:\\Anaconda_3\\lib\\site-packages\\outdated\\utils.py:14: OutdatedCacheFailedWarning: Failed to use cache while checking for outdated package.\n",
      "Set the environment variable OUTDATED_RAISE_EXCEPTION=1 for a full traceback.\n",
      "Set the environment variable OUTDATED_IGNORE=1 to disable these warnings.\n",
      "  return warn(\n"
     ]
    }
   ],
   "source": [
    "# импортируем необходимые для работы библиотеки\n",
    "\n",
    "import pandas as pd\n",
    "import numpy as np\n",
    "import seaborn as sns\n",
    "import matplotlib.pyplot as plt\n",
    "import scipy.stats as ss\n",
    "import pingouin as pg\n",
    "from tqdm import tqdm"
   ]
  },
  {
   "cell_type": "code",
   "execution_count": 2,
   "id": "0a700855",
   "metadata": {},
   "outputs": [],
   "source": [
    "# выггрузим данные из датасета в датафрейм\n",
    "\n",
    "path_to_file = 'https://getfile.dokpub.com/yandex/get/https://disk.yandex.ru/d/hXdLQLV7ffRw4Q'\n",
    "\n",
    "df = pd.read_csv(path_to_file)"
   ]
  },
  {
   "cell_type": "code",
   "execution_count": 3,
   "id": "0002a8b5",
   "metadata": {},
   "outputs": [
    {
     "data": {
      "text/html": [
       "<div>\n",
       "<style scoped>\n",
       "    .dataframe tbody tr th:only-of-type {\n",
       "        vertical-align: middle;\n",
       "    }\n",
       "\n",
       "    .dataframe tbody tr th {\n",
       "        vertical-align: top;\n",
       "    }\n",
       "\n",
       "    .dataframe thead th {\n",
       "        text-align: right;\n",
       "    }\n",
       "</style>\n",
       "<table border=\"1\" class=\"dataframe\">\n",
       "  <thead>\n",
       "    <tr style=\"text-align: right;\">\n",
       "      <th></th>\n",
       "      <th>Customer_care_calls</th>\n",
       "      <th>Customer_rating</th>\n",
       "      <th>Prior_purchases</th>\n",
       "      <th>Discount_offered</th>\n",
       "      <th>Weight_in_gms</th>\n",
       "      <th>Warehouse_block</th>\n",
       "      <th>Mode_of_Shipment</th>\n",
       "      <th>Product_importance</th>\n",
       "      <th>Gender</th>\n",
       "      <th>Class</th>\n",
       "    </tr>\n",
       "  </thead>\n",
       "  <tbody>\n",
       "    <tr>\n",
       "      <th>0</th>\n",
       "      <td>5</td>\n",
       "      <td>4</td>\n",
       "      <td>2</td>\n",
       "      <td>10</td>\n",
       "      <td>5395</td>\n",
       "      <td>A</td>\n",
       "      <td>Ship</td>\n",
       "      <td>medium</td>\n",
       "      <td>M</td>\n",
       "      <td>1</td>\n",
       "    </tr>\n",
       "    <tr>\n",
       "      <th>1</th>\n",
       "      <td>4</td>\n",
       "      <td>3</td>\n",
       "      <td>2</td>\n",
       "      <td>6</td>\n",
       "      <td>5867</td>\n",
       "      <td>F</td>\n",
       "      <td>Ship</td>\n",
       "      <td>medium</td>\n",
       "      <td>F</td>\n",
       "      <td>0</td>\n",
       "    </tr>\n",
       "    <tr>\n",
       "      <th>2</th>\n",
       "      <td>3</td>\n",
       "      <td>4</td>\n",
       "      <td>2</td>\n",
       "      <td>2</td>\n",
       "      <td>5957</td>\n",
       "      <td>D</td>\n",
       "      <td>Ship</td>\n",
       "      <td>medium</td>\n",
       "      <td>M</td>\n",
       "      <td>0</td>\n",
       "    </tr>\n",
       "    <tr>\n",
       "      <th>3</th>\n",
       "      <td>3</td>\n",
       "      <td>1</td>\n",
       "      <td>2</td>\n",
       "      <td>27</td>\n",
       "      <td>2551</td>\n",
       "      <td>D</td>\n",
       "      <td>Ship</td>\n",
       "      <td>medium</td>\n",
       "      <td>M</td>\n",
       "      <td>1</td>\n",
       "    </tr>\n",
       "    <tr>\n",
       "      <th>4</th>\n",
       "      <td>7</td>\n",
       "      <td>5</td>\n",
       "      <td>4</td>\n",
       "      <td>9</td>\n",
       "      <td>1329</td>\n",
       "      <td>B</td>\n",
       "      <td>Ship</td>\n",
       "      <td>medium</td>\n",
       "      <td>M</td>\n",
       "      <td>1</td>\n",
       "    </tr>\n",
       "  </tbody>\n",
       "</table>\n",
       "</div>"
      ],
      "text/plain": [
       "   Customer_care_calls  Customer_rating  Prior_purchases  Discount_offered  \\\n",
       "0                    5                4                2                10   \n",
       "1                    4                3                2                 6   \n",
       "2                    3                4                2                 2   \n",
       "3                    3                1                2                27   \n",
       "4                    7                5                4                 9   \n",
       "\n",
       "   Weight_in_gms Warehouse_block Mode_of_Shipment Product_importance Gender  \\\n",
       "0           5395               A             Ship             medium      M   \n",
       "1           5867               F             Ship             medium      F   \n",
       "2           5957               D             Ship             medium      M   \n",
       "3           2551               D             Ship             medium      M   \n",
       "4           1329               B             Ship             medium      M   \n",
       "\n",
       "   Class  \n",
       "0      1  \n",
       "1      0  \n",
       "2      0  \n",
       "3      1  \n",
       "4      1  "
      ]
     },
     "execution_count": 3,
     "metadata": {},
     "output_type": "execute_result"
    }
   ],
   "source": [
    "# посмотрим на датафрейм\n",
    "\n",
    "df.head()"
   ]
  },
  {
   "cell_type": "code",
   "execution_count": 4,
   "id": "cbdc0072",
   "metadata": {},
   "outputs": [],
   "source": [
    "# для более комфортной и быстрой работы приведем названия колонок к snake_case\n",
    "\n",
    "df.columns = df.columns.str.lower()"
   ]
  },
  {
   "cell_type": "code",
   "execution_count": 5,
   "id": "7477a651",
   "metadata": {},
   "outputs": [
    {
     "name": "stdout",
     "output_type": "stream",
     "text": [
      "<class 'pandas.core.frame.DataFrame'>\n",
      "RangeIndex: 10998 entries, 0 to 10997\n",
      "Data columns (total 10 columns):\n",
      " #   Column               Non-Null Count  Dtype \n",
      "---  ------               --------------  ----- \n",
      " 0   customer_care_calls  10998 non-null  int64 \n",
      " 1   customer_rating      10998 non-null  int64 \n",
      " 2   prior_purchases      10998 non-null  int64 \n",
      " 3   discount_offered     10998 non-null  int64 \n",
      " 4   weight_in_gms        10998 non-null  int64 \n",
      " 5   warehouse_block      10998 non-null  object\n",
      " 6   mode_of_shipment     10998 non-null  object\n",
      " 7   product_importance   10998 non-null  object\n",
      " 8   gender               10998 non-null  object\n",
      " 9   class                10998 non-null  int64 \n",
      "dtypes: int64(6), object(4)\n",
      "memory usage: 859.3+ KB\n"
     ]
    }
   ],
   "source": [
    "# посмотрим на типы, кол-во данных, наличие пропусков\n",
    "\n",
    "df.info()"
   ]
  },
  {
   "cell_type": "markdown",
   "id": "c855341d",
   "metadata": {},
   "source": [
    "Пропущенных значений в датасете нет."
   ]
  },
  {
   "cell_type": "code",
   "execution_count": 6,
   "id": "81111289",
   "metadata": {},
   "outputs": [
    {
     "data": {
      "text/html": [
       "<div>\n",
       "<style scoped>\n",
       "    .dataframe tbody tr th:only-of-type {\n",
       "        vertical-align: middle;\n",
       "    }\n",
       "\n",
       "    .dataframe tbody tr th {\n",
       "        vertical-align: top;\n",
       "    }\n",
       "\n",
       "    .dataframe thead th {\n",
       "        text-align: right;\n",
       "    }\n",
       "</style>\n",
       "<table border=\"1\" class=\"dataframe\">\n",
       "  <thead>\n",
       "    <tr style=\"text-align: right;\">\n",
       "      <th></th>\n",
       "      <th>warehouse_block</th>\n",
       "      <th>mode_of_shipment</th>\n",
       "      <th>product_importance</th>\n",
       "      <th>gender</th>\n",
       "    </tr>\n",
       "  </thead>\n",
       "  <tbody>\n",
       "    <tr>\n",
       "      <th>0</th>\n",
       "      <td>A</td>\n",
       "      <td>Ship</td>\n",
       "      <td>medium</td>\n",
       "      <td>M</td>\n",
       "    </tr>\n",
       "    <tr>\n",
       "      <th>1</th>\n",
       "      <td>F</td>\n",
       "      <td>Ship</td>\n",
       "      <td>medium</td>\n",
       "      <td>F</td>\n",
       "    </tr>\n",
       "    <tr>\n",
       "      <th>2</th>\n",
       "      <td>D</td>\n",
       "      <td>Ship</td>\n",
       "      <td>medium</td>\n",
       "      <td>M</td>\n",
       "    </tr>\n",
       "    <tr>\n",
       "      <th>3</th>\n",
       "      <td>D</td>\n",
       "      <td>Ship</td>\n",
       "      <td>medium</td>\n",
       "      <td>M</td>\n",
       "    </tr>\n",
       "    <tr>\n",
       "      <th>4</th>\n",
       "      <td>B</td>\n",
       "      <td>Ship</td>\n",
       "      <td>medium</td>\n",
       "      <td>M</td>\n",
       "    </tr>\n",
       "    <tr>\n",
       "      <th>...</th>\n",
       "      <td>...</td>\n",
       "      <td>...</td>\n",
       "      <td>...</td>\n",
       "      <td>...</td>\n",
       "    </tr>\n",
       "    <tr>\n",
       "      <th>10993</th>\n",
       "      <td>F</td>\n",
       "      <td>Road</td>\n",
       "      <td>medium</td>\n",
       "      <td>M</td>\n",
       "    </tr>\n",
       "    <tr>\n",
       "      <th>10994</th>\n",
       "      <td>D</td>\n",
       "      <td>Flight</td>\n",
       "      <td>low</td>\n",
       "      <td>M</td>\n",
       "    </tr>\n",
       "    <tr>\n",
       "      <th>10995</th>\n",
       "      <td>F</td>\n",
       "      <td>Ship</td>\n",
       "      <td>medium</td>\n",
       "      <td>M</td>\n",
       "    </tr>\n",
       "    <tr>\n",
       "      <th>10996</th>\n",
       "      <td>F</td>\n",
       "      <td>Flight</td>\n",
       "      <td>medium</td>\n",
       "      <td>M</td>\n",
       "    </tr>\n",
       "    <tr>\n",
       "      <th>10997</th>\n",
       "      <td>B</td>\n",
       "      <td>Ship</td>\n",
       "      <td>medium</td>\n",
       "      <td>M</td>\n",
       "    </tr>\n",
       "  </tbody>\n",
       "</table>\n",
       "<p>10998 rows × 4 columns</p>\n",
       "</div>"
      ],
      "text/plain": [
       "      warehouse_block mode_of_shipment product_importance gender\n",
       "0                   A             Ship             medium      M\n",
       "1                   F             Ship             medium      F\n",
       "2                   D             Ship             medium      M\n",
       "3                   D             Ship             medium      M\n",
       "4                   B             Ship             medium      M\n",
       "...               ...              ...                ...    ...\n",
       "10993               F             Road             medium      M\n",
       "10994               D           Flight                low      M\n",
       "10995               F             Ship             medium      M\n",
       "10996               F           Flight             medium      M\n",
       "10997               B             Ship             medium      M\n",
       "\n",
       "[10998 rows x 4 columns]"
      ]
     },
     "execution_count": 6,
     "metadata": {},
     "output_type": "execute_result"
    }
   ],
   "source": [
    "# посмотрим на колонки со строковыми значениями\n",
    "\n",
    "df[['warehouse_block', \n",
    "    'mode_of_shipment', \n",
    "    'product_importance', \n",
    "    'gender']]"
   ]
  },
  {
   "cell_type": "code",
   "execution_count": 7,
   "id": "11e60c3c",
   "metadata": {},
   "outputs": [],
   "source": [
    "# для удобства приведем значения этих колонок к нижнему регистру\n",
    "\n",
    "for i in df[['warehouse_block',\n",
    "             'mode_of_shipment',\n",
    "             'gender']]:\n",
    "    df[i] = df[i].str.lower()"
   ]
  },
  {
   "cell_type": "code",
   "execution_count": 8,
   "id": "23cc3d90",
   "metadata": {
    "scrolled": true
   },
   "outputs": [
    {
     "data": {
      "text/html": [
       "<div>\n",
       "<style scoped>\n",
       "    .dataframe tbody tr th:only-of-type {\n",
       "        vertical-align: middle;\n",
       "    }\n",
       "\n",
       "    .dataframe tbody tr th {\n",
       "        vertical-align: top;\n",
       "    }\n",
       "\n",
       "    .dataframe thead th {\n",
       "        text-align: right;\n",
       "    }\n",
       "</style>\n",
       "<table border=\"1\" class=\"dataframe\">\n",
       "  <thead>\n",
       "    <tr style=\"text-align: right;\">\n",
       "      <th></th>\n",
       "      <th>customer_care_calls</th>\n",
       "      <th>customer_rating</th>\n",
       "      <th>prior_purchases</th>\n",
       "      <th>discount_offered</th>\n",
       "      <th>weight_in_gms</th>\n",
       "      <th>warehouse_block</th>\n",
       "      <th>mode_of_shipment</th>\n",
       "      <th>product_importance</th>\n",
       "      <th>gender</th>\n",
       "      <th>class</th>\n",
       "    </tr>\n",
       "  </thead>\n",
       "  <tbody>\n",
       "    <tr>\n",
       "      <th>0</th>\n",
       "      <td>5</td>\n",
       "      <td>4</td>\n",
       "      <td>2</td>\n",
       "      <td>10</td>\n",
       "      <td>5395</td>\n",
       "      <td>a</td>\n",
       "      <td>ship</td>\n",
       "      <td>medium</td>\n",
       "      <td>m</td>\n",
       "      <td>1</td>\n",
       "    </tr>\n",
       "    <tr>\n",
       "      <th>1</th>\n",
       "      <td>4</td>\n",
       "      <td>3</td>\n",
       "      <td>2</td>\n",
       "      <td>6</td>\n",
       "      <td>5867</td>\n",
       "      <td>f</td>\n",
       "      <td>ship</td>\n",
       "      <td>medium</td>\n",
       "      <td>f</td>\n",
       "      <td>0</td>\n",
       "    </tr>\n",
       "    <tr>\n",
       "      <th>2</th>\n",
       "      <td>3</td>\n",
       "      <td>4</td>\n",
       "      <td>2</td>\n",
       "      <td>2</td>\n",
       "      <td>5957</td>\n",
       "      <td>d</td>\n",
       "      <td>ship</td>\n",
       "      <td>medium</td>\n",
       "      <td>m</td>\n",
       "      <td>0</td>\n",
       "    </tr>\n",
       "    <tr>\n",
       "      <th>3</th>\n",
       "      <td>3</td>\n",
       "      <td>1</td>\n",
       "      <td>2</td>\n",
       "      <td>27</td>\n",
       "      <td>2551</td>\n",
       "      <td>d</td>\n",
       "      <td>ship</td>\n",
       "      <td>medium</td>\n",
       "      <td>m</td>\n",
       "      <td>1</td>\n",
       "    </tr>\n",
       "    <tr>\n",
       "      <th>4</th>\n",
       "      <td>7</td>\n",
       "      <td>5</td>\n",
       "      <td>4</td>\n",
       "      <td>9</td>\n",
       "      <td>1329</td>\n",
       "      <td>b</td>\n",
       "      <td>ship</td>\n",
       "      <td>medium</td>\n",
       "      <td>m</td>\n",
       "      <td>1</td>\n",
       "    </tr>\n",
       "  </tbody>\n",
       "</table>\n",
       "</div>"
      ],
      "text/plain": [
       "   customer_care_calls  customer_rating  prior_purchases  discount_offered  \\\n",
       "0                    5                4                2                10   \n",
       "1                    4                3                2                 6   \n",
       "2                    3                4                2                 2   \n",
       "3                    3                1                2                27   \n",
       "4                    7                5                4                 9   \n",
       "\n",
       "   weight_in_gms warehouse_block mode_of_shipment product_importance gender  \\\n",
       "0           5395               a             ship             medium      m   \n",
       "1           5867               f             ship             medium      f   \n",
       "2           5957               d             ship             medium      m   \n",
       "3           2551               d             ship             medium      m   \n",
       "4           1329               b             ship             medium      m   \n",
       "\n",
       "   class  \n",
       "0      1  \n",
       "1      0  \n",
       "2      0  \n",
       "3      1  \n",
       "4      1  "
      ]
     },
     "execution_count": 8,
     "metadata": {},
     "output_type": "execute_result"
    }
   ],
   "source": [
    "df.head()"
   ]
  },
  {
   "cell_type": "markdown",
   "id": "a10d57df",
   "metadata": {},
   "source": [
    "# 4.1. Распределения и меры центральной тенденции.\n",
    "Посмотрим на описательные характеристики данных, в т.ч. на разбросы значений, на распределения, определимся с наиболее подходящими мерами центральной тенденции, чтобы грубо описать текущую картину."
   ]
  },
  {
   "cell_type": "code",
   "execution_count": 9,
   "id": "6bc62739",
   "metadata": {},
   "outputs": [
    {
     "data": {
      "text/html": [
       "<div>\n",
       "<style scoped>\n",
       "    .dataframe tbody tr th:only-of-type {\n",
       "        vertical-align: middle;\n",
       "    }\n",
       "\n",
       "    .dataframe tbody tr th {\n",
       "        vertical-align: top;\n",
       "    }\n",
       "\n",
       "    .dataframe thead th {\n",
       "        text-align: right;\n",
       "    }\n",
       "</style>\n",
       "<table border=\"1\" class=\"dataframe\">\n",
       "  <thead>\n",
       "    <tr style=\"text-align: right;\">\n",
       "      <th></th>\n",
       "      <th>customer_care_calls</th>\n",
       "      <th>customer_rating</th>\n",
       "      <th>prior_purchases</th>\n",
       "      <th>discount_offered</th>\n",
       "      <th>weight_in_gms</th>\n",
       "      <th>class</th>\n",
       "    </tr>\n",
       "  </thead>\n",
       "  <tbody>\n",
       "    <tr>\n",
       "      <th>count</th>\n",
       "      <td>10998.000000</td>\n",
       "      <td>10998.000000</td>\n",
       "      <td>10998.000000</td>\n",
       "      <td>10998.000000</td>\n",
       "      <td>10998.000000</td>\n",
       "      <td>10998.000000</td>\n",
       "    </tr>\n",
       "    <tr>\n",
       "      <th>mean</th>\n",
       "      <td>4.054555</td>\n",
       "      <td>2.990453</td>\n",
       "      <td>3.567558</td>\n",
       "      <td>13.373704</td>\n",
       "      <td>3633.873522</td>\n",
       "      <td>0.596745</td>\n",
       "    </tr>\n",
       "    <tr>\n",
       "      <th>std</th>\n",
       "      <td>1.141497</td>\n",
       "      <td>1.413635</td>\n",
       "      <td>1.522924</td>\n",
       "      <td>16.206183</td>\n",
       "      <td>1635.382636</td>\n",
       "      <td>0.490573</td>\n",
       "    </tr>\n",
       "    <tr>\n",
       "      <th>min</th>\n",
       "      <td>2.000000</td>\n",
       "      <td>1.000000</td>\n",
       "      <td>2.000000</td>\n",
       "      <td>1.000000</td>\n",
       "      <td>1001.000000</td>\n",
       "      <td>0.000000</td>\n",
       "    </tr>\n",
       "    <tr>\n",
       "      <th>25%</th>\n",
       "      <td>3.000000</td>\n",
       "      <td>2.000000</td>\n",
       "      <td>3.000000</td>\n",
       "      <td>4.000000</td>\n",
       "      <td>1839.250000</td>\n",
       "      <td>0.000000</td>\n",
       "    </tr>\n",
       "    <tr>\n",
       "      <th>50%</th>\n",
       "      <td>4.000000</td>\n",
       "      <td>3.000000</td>\n",
       "      <td>3.000000</td>\n",
       "      <td>7.000000</td>\n",
       "      <td>4149.000000</td>\n",
       "      <td>1.000000</td>\n",
       "    </tr>\n",
       "    <tr>\n",
       "      <th>75%</th>\n",
       "      <td>5.000000</td>\n",
       "      <td>4.000000</td>\n",
       "      <td>4.000000</td>\n",
       "      <td>10.000000</td>\n",
       "      <td>5049.750000</td>\n",
       "      <td>1.000000</td>\n",
       "    </tr>\n",
       "    <tr>\n",
       "      <th>max</th>\n",
       "      <td>7.000000</td>\n",
       "      <td>5.000000</td>\n",
       "      <td>10.000000</td>\n",
       "      <td>65.000000</td>\n",
       "      <td>7846.000000</td>\n",
       "      <td>1.000000</td>\n",
       "    </tr>\n",
       "  </tbody>\n",
       "</table>\n",
       "</div>"
      ],
      "text/plain": [
       "       customer_care_calls  customer_rating  prior_purchases  \\\n",
       "count         10998.000000     10998.000000     10998.000000   \n",
       "mean              4.054555         2.990453         3.567558   \n",
       "std               1.141497         1.413635         1.522924   \n",
       "min               2.000000         1.000000         2.000000   \n",
       "25%               3.000000         2.000000         3.000000   \n",
       "50%               4.000000         3.000000         3.000000   \n",
       "75%               5.000000         4.000000         4.000000   \n",
       "max               7.000000         5.000000        10.000000   \n",
       "\n",
       "       discount_offered  weight_in_gms         class  \n",
       "count      10998.000000   10998.000000  10998.000000  \n",
       "mean          13.373704    3633.873522      0.596745  \n",
       "std           16.206183    1635.382636      0.490573  \n",
       "min            1.000000    1001.000000      0.000000  \n",
       "25%            4.000000    1839.250000      0.000000  \n",
       "50%            7.000000    4149.000000      1.000000  \n",
       "75%           10.000000    5049.750000      1.000000  \n",
       "max           65.000000    7846.000000      1.000000  "
      ]
     },
     "execution_count": 9,
     "metadata": {},
     "output_type": "execute_result"
    }
   ],
   "source": [
    "# посмотрим на описательные характеристики числовых значений (хотя class здесь по сути является номинативной переменной)\n",
    "\n",
    "df.describe()"
   ]
  },
  {
   "cell_type": "code",
   "execution_count": 10,
   "id": "43e0b948",
   "metadata": {
    "scrolled": true
   },
   "outputs": [],
   "source": [
    "# посмотрим на их распределения\n",
    "# для удобства создадим функцию, которая возвращает таблицу с процентами\n",
    "\n",
    "def create_hist(column):\n",
    "    '''Принимает колонку column вида 'df.column', \n",
    "    возвращает ее гистограмму.\n",
    "    '''\n",
    "    return sns.histplot(column, \n",
    "                        color='green', \n",
    "                        alpha=0.7, \n",
    "                        binwidth=1,\n",
    "                        discrete=True)"
   ]
  },
  {
   "cell_type": "code",
   "execution_count": 11,
   "id": "14edfe35",
   "metadata": {},
   "outputs": [
    {
     "data": {
      "text/plain": [
       "[Text(0.5, 0, 'Контакты со Службой Поддержки'), Text(0, 0.5, 'Заказы')]"
      ]
     },
     "execution_count": 11,
     "metadata": {},
     "output_type": "execute_result"
    },
    {
     "data": {
      "image/png": "[encoded data removed]",
      "text/plain": [
       "<Figure size 640x480 with 1 Axes>"
      ]
     },
     "metadata": {},
     "output_type": "display_data"
    }
   ],
   "source": [
    "# Customer Care Calls - кол-во контактов со службой поддержки\n",
    "\n",
    "customer_care_calls_hist = create_hist(df.customer_care_calls)\n",
    "customer_care_calls_hist.set(xlabel='Контакты со Службой Поддержки', \n",
    "                             ylabel='Заказы')"
   ]
  },
  {
   "cell_type": "code",
   "execution_count": 12,
   "id": "c02bdb2f",
   "metadata": {},
   "outputs": [],
   "source": [
    "# для удобства создадим функцию, которая возвращает таблицу с процентами\n",
    "\n",
    "def perc_table(column):\n",
    "    '''Принимает колонку column вида 'df.column', \n",
    "    возвращает таблицу с долями ее значений в процентах.\n",
    "    '''\n",
    "    \n",
    "    return column.value_counts(normalize=True) \\\n",
    "                 .mul(100) \\\n",
    "                 .round(1) \\\n",
    "                 .reset_index() \\\n",
    "                 .rename(columns={'index': column.name, \n",
    "                                  column.name: 'percentage'})"
   ]
  },
  {
   "cell_type": "code",
   "execution_count": 13,
   "id": "38ab4211",
   "metadata": {},
   "outputs": [
    {
     "data": {
      "text/html": [
       "<div>\n",
       "<style scoped>\n",
       "    .dataframe tbody tr th:only-of-type {\n",
       "        vertical-align: middle;\n",
       "    }\n",
       "\n",
       "    .dataframe tbody tr th {\n",
       "        vertical-align: top;\n",
       "    }\n",
       "\n",
       "    .dataframe thead th {\n",
       "        text-align: right;\n",
       "    }\n",
       "</style>\n",
       "<table border=\"1\" class=\"dataframe\">\n",
       "  <thead>\n",
       "    <tr style=\"text-align: right;\">\n",
       "      <th></th>\n",
       "      <th>customer_care_calls</th>\n",
       "      <th>percentage</th>\n",
       "    </tr>\n",
       "  </thead>\n",
       "  <tbody>\n",
       "    <tr>\n",
       "      <th>0</th>\n",
       "      <td>4</td>\n",
       "      <td>32.3</td>\n",
       "    </tr>\n",
       "    <tr>\n",
       "      <th>1</th>\n",
       "      <td>3</td>\n",
       "      <td>29.2</td>\n",
       "    </tr>\n",
       "    <tr>\n",
       "      <th>2</th>\n",
       "      <td>5</td>\n",
       "      <td>21.2</td>\n",
       "    </tr>\n",
       "    <tr>\n",
       "      <th>3</th>\n",
       "      <td>6</td>\n",
       "      <td>9.2</td>\n",
       "    </tr>\n",
       "    <tr>\n",
       "      <th>4</th>\n",
       "      <td>2</td>\n",
       "      <td>5.8</td>\n",
       "    </tr>\n",
       "    <tr>\n",
       "      <th>5</th>\n",
       "      <td>7</td>\n",
       "      <td>2.2</td>\n",
       "    </tr>\n",
       "  </tbody>\n",
       "</table>\n",
       "</div>"
      ],
      "text/plain": [
       "   customer_care_calls  percentage\n",
       "0                    4        32.3\n",
       "1                    3        29.2\n",
       "2                    5        21.2\n",
       "3                    6         9.2\n",
       "4                    2         5.8\n",
       "5                    7         2.2"
      ]
     },
     "execution_count": 13,
     "metadata": {},
     "output_type": "execute_result"
    }
   ],
   "source": [
    "perc_table(df.customer_care_calls)"
   ]
  },
  {
   "cell_type": "markdown",
   "id": "a274c55c",
   "metadata": {},
   "source": [
    "Распределение похоже на логнормальное, поэтому, выбирая меру центральной тенденции, остановимся на среднем или медиане, при этом у него нет длинных хвостов, выбросов, поэтому они примерно равны.\n",
    "Будем считать, что в среднем один заказ сопровождается 4мя контактами со службой поддержки. Более 80% заказов - от 4 до 6 контактов.\n",
    "\n",
    "Мы можем использовать эту информацию, например, при планировании загрузки службы поддержки."
   ]
  },
  {
   "cell_type": "code",
   "execution_count": 14,
   "id": "b8ef8d6b",
   "metadata": {},
   "outputs": [
    {
     "data": {
      "text/plain": [
       "[Text(0.5, 0, 'Рейтинг удовлетворенности'), Text(0, 0.5, 'Заказы')]"
      ]
     },
     "execution_count": 14,
     "metadata": {},
     "output_type": "execute_result"
    },
    {
     "data": {
      "image/png": "[encoded data removed]",
      "text/plain": [
       "<Figure size 640x480 with 1 Axes>"
      ]
     },
     "metadata": {},
     "output_type": "display_data"
    }
   ],
   "source": [
    "# Customer Rating - рейтинг удовлетворенности заказом\n",
    "\n",
    "customer_rating_hist = create_hist(df.customer_rating)\n",
    "customer_rating_hist.set(xlabel='Рейтинг удовлетворенности', \n",
    "                         ylabel='Заказы')"
   ]
  },
  {
   "cell_type": "code",
   "execution_count": 15,
   "id": "4faf166e",
   "metadata": {},
   "outputs": [
    {
     "data": {
      "text/html": [
       "<div>\n",
       "<style scoped>\n",
       "    .dataframe tbody tr th:only-of-type {\n",
       "        vertical-align: middle;\n",
       "    }\n",
       "\n",
       "    .dataframe tbody tr th {\n",
       "        vertical-align: top;\n",
       "    }\n",
       "\n",
       "    .dataframe thead th {\n",
       "        text-align: right;\n",
       "    }\n",
       "</style>\n",
       "<table border=\"1\" class=\"dataframe\">\n",
       "  <thead>\n",
       "    <tr style=\"text-align: right;\">\n",
       "      <th></th>\n",
       "      <th>customer_rating</th>\n",
       "      <th>percentage</th>\n",
       "    </tr>\n",
       "  </thead>\n",
       "  <tbody>\n",
       "    <tr>\n",
       "      <th>0</th>\n",
       "      <td>3</td>\n",
       "      <td>20.4</td>\n",
       "    </tr>\n",
       "    <tr>\n",
       "      <th>1</th>\n",
       "      <td>1</td>\n",
       "      <td>20.3</td>\n",
       "    </tr>\n",
       "    <tr>\n",
       "      <th>2</th>\n",
       "      <td>4</td>\n",
       "      <td>19.9</td>\n",
       "    </tr>\n",
       "    <tr>\n",
       "      <th>3</th>\n",
       "      <td>5</td>\n",
       "      <td>19.7</td>\n",
       "    </tr>\n",
       "    <tr>\n",
       "      <th>4</th>\n",
       "      <td>2</td>\n",
       "      <td>19.7</td>\n",
       "    </tr>\n",
       "  </tbody>\n",
       "</table>\n",
       "</div>"
      ],
      "text/plain": [
       "   customer_rating  percentage\n",
       "0                3        20.4\n",
       "1                1        20.3\n",
       "2                4        19.9\n",
       "3                5        19.7\n",
       "4                2        19.7"
      ]
     },
     "execution_count": 15,
     "metadata": {},
     "output_type": "execute_result"
    }
   ],
   "source": [
    "perc_table(df.customer_rating)"
   ]
  },
  {
   "cell_type": "markdown",
   "id": "161eab94",
   "metadata": {},
   "source": [
    "Распределение похоже на равномерное, поэтому логично, что среднее и медиана примерно равны. Средний рейтинг удовлетворенности заказом среди наших клиентов - 3 балла из 5 возможных.\n",
    "\n",
    "Очевидно, что данное распределение - это не очень хорошо для нас, нам бы хотелось роста в правой части и низких показателей в левой, а по факту у нас средняя оценка - 'удовлетворительно', но что самое важное - примерно 2/5 наших заказов клиенты не довольны, что может привести к повышению Churn Rate и ухудшению других метрик."
   ]
  },
  {
   "cell_type": "code",
   "execution_count": 16,
   "id": "62ef8893",
   "metadata": {},
   "outputs": [
    {
     "data": {
      "text/plain": [
       "[Text(0.5, 0, 'Предыдущие заказы'), Text(0, 0.5, 'Заказы')]"
      ]
     },
     "execution_count": 16,
     "metadata": {},
     "output_type": "execute_result"
    },
    {
     "data": {
      "image/png": "[encoded data removed]",
      "text/plain": [
       "<Figure size 640x480 with 1 Axes>"
      ]
     },
     "metadata": {},
     "output_type": "display_data"
    }
   ],
   "source": [
    "# Prior Purchases - кол-во предыдущих заказов\n",
    "\n",
    "prior_purchases_hist = create_hist(df.prior_purchases)\n",
    "prior_purchases_hist.set(xlabel='Предыдущие заказы', \n",
    "                         ylabel='Заказы')"
   ]
  },
  {
   "cell_type": "code",
   "execution_count": 17,
   "id": "1a9188c5",
   "metadata": {},
   "outputs": [
    {
     "data": {
      "text/html": [
       "<div>\n",
       "<style scoped>\n",
       "    .dataframe tbody tr th:only-of-type {\n",
       "        vertical-align: middle;\n",
       "    }\n",
       "\n",
       "    .dataframe tbody tr th {\n",
       "        vertical-align: top;\n",
       "    }\n",
       "\n",
       "    .dataframe thead th {\n",
       "        text-align: right;\n",
       "    }\n",
       "</style>\n",
       "<table border=\"1\" class=\"dataframe\">\n",
       "  <thead>\n",
       "    <tr style=\"text-align: right;\">\n",
       "      <th></th>\n",
       "      <th>prior_purchases</th>\n",
       "      <th>percentage</th>\n",
       "    </tr>\n",
       "  </thead>\n",
       "  <tbody>\n",
       "    <tr>\n",
       "      <th>0</th>\n",
       "      <td>3</td>\n",
       "      <td>36.0</td>\n",
       "    </tr>\n",
       "    <tr>\n",
       "      <th>1</th>\n",
       "      <td>2</td>\n",
       "      <td>23.6</td>\n",
       "    </tr>\n",
       "    <tr>\n",
       "      <th>2</th>\n",
       "      <td>4</td>\n",
       "      <td>19.6</td>\n",
       "    </tr>\n",
       "    <tr>\n",
       "      <th>3</th>\n",
       "      <td>5</td>\n",
       "      <td>11.7</td>\n",
       "    </tr>\n",
       "    <tr>\n",
       "      <th>4</th>\n",
       "      <td>6</td>\n",
       "      <td>5.1</td>\n",
       "    </tr>\n",
       "    <tr>\n",
       "      <th>5</th>\n",
       "      <td>10</td>\n",
       "      <td>1.6</td>\n",
       "    </tr>\n",
       "    <tr>\n",
       "      <th>6</th>\n",
       "      <td>7</td>\n",
       "      <td>1.2</td>\n",
       "    </tr>\n",
       "    <tr>\n",
       "      <th>7</th>\n",
       "      <td>8</td>\n",
       "      <td>1.2</td>\n",
       "    </tr>\n",
       "  </tbody>\n",
       "</table>\n",
       "</div>"
      ],
      "text/plain": [
       "   prior_purchases  percentage\n",
       "0                3        36.0\n",
       "1                2        23.6\n",
       "2                4        19.6\n",
       "3                5        11.7\n",
       "4                6         5.1\n",
       "5               10         1.6\n",
       "6                7         1.2\n",
       "7                8         1.2"
      ]
     },
     "execution_count": 17,
     "metadata": {},
     "output_type": "execute_result"
    }
   ],
   "source": [
    "perc_table(df.prior_purchases)"
   ]
  },
  {
   "cell_type": "markdown",
   "id": "9577675b",
   "metadata": {},
   "source": [
    "Распределение похоже на логнормальное, справа есть длинный хвост, выбросы, поэтому оптимальной мерой центральной тенденции в данном случае будет медиана, т.е. ориентируемся на то, что на момент заказа у половины наших клиентов сделано ранее более 3,5 заказов, для другой половины - менее, для простоты интерпретации можно взять среднее, которое в данном случае сильно не отличается и равняется 3м заказам. Около 80% заказов являются повторными после 2-4 предыдущих.\n",
    "\n",
    "В наших данных нет клиентов без предыдущих заказов, все они делают по несколько покупок. Исходя из этого, LTV этих клиентов находится на более высоком уровне, чем в модели, где есть много случайных и новых клиентов, поэтому показатель удовлетворенности, который находится в плачевном состоянии, для нас вдвойне важен, потеря одного клиента обходится нам очень дорого."
   ]
  },
  {
   "cell_type": "code",
   "execution_count": 18,
   "id": "84fb4edc",
   "metadata": {},
   "outputs": [
    {
     "data": {
      "text/plain": [
       "[Text(0.5, 0, 'Предложенная скидка'), Text(0, 0.5, 'Заказы')]"
      ]
     },
     "execution_count": 18,
     "metadata": {},
     "output_type": "execute_result"
    },
    {
     "data": {
      "image/png": "[encoded data removed]",
      "text/plain": [
       "<Figure size 640x480 with 1 Axes>"
      ]
     },
     "metadata": {},
     "output_type": "display_data"
    }
   ],
   "source": [
    "# Discount Offered - предложенная скидка\n",
    "\n",
    "discount_offered_hist = create_hist(df.discount_offered)\n",
    "discount_offered_hist.set(xlabel='Предложенная скидка', \n",
    "                          ylabel='Заказы')"
   ]
  },
  {
   "cell_type": "markdown",
   "id": "0d32b7ac",
   "metadata": {},
   "source": [
    "Это распределение похоже на составное из 2х равномерных. Из-за длины хвоста среднее здесь будет наименее информативно. Можно ориентироваться на медиану равную скидке в размере 7%. Но, на мой взгляд, гораздо интереснее будет выделить два диапазона - 1-10% и 10%+ и посмотреть какие доли имеют эти диапазоны в общем количестве заказов."
   ]
  },
  {
   "cell_type": "code",
   "execution_count": 19,
   "id": "d5198bcb",
   "metadata": {},
   "outputs": [
    {
     "data": {
      "text/plain": [
       "75.9"
      ]
     },
     "execution_count": 19,
     "metadata": {},
     "output_type": "execute_result"
    }
   ],
   "source": [
    "round((df[df.discount_offered <= 10].shape[0] / len(df)) * 100, 1)"
   ]
  },
  {
   "cell_type": "markdown",
   "id": "f99d234d",
   "metadata": {},
   "source": [
    "По скидкам можно сказать, что на 76% заказов была предложена скидка до 10%, на остальные 24% - от 11% до 65%.\n",
    "\n",
    "В отрыве от остальной информации это особой пользы не несет, но позже может пригодиться."
   ]
  },
  {
   "cell_type": "code",
   "execution_count": 20,
   "id": "6cd2cef8",
   "metadata": {},
   "outputs": [
    {
     "data": {
      "text/plain": [
       "[Text(0.5, 0, 'Вес в граммах'), Text(0, 0.5, 'Заказы')]"
      ]
     },
     "execution_count": 20,
     "metadata": {},
     "output_type": "execute_result"
    },
    {
     "data": {
      "image/png": "[encoded data removed]",
      "text/plain": [
       "<Figure size 640x480 with 1 Axes>"
      ]
     },
     "metadata": {},
     "output_type": "display_data"
    }
   ],
   "source": [
    "# Weight in Grams - вес в граммах\n",
    "\n",
    "weight_in_gms_hist = sns.histplot(df.weight_in_gms, \n",
    "                                  color='green', \n",
    "                                  alpha=0.7)\n",
    "weight_in_gms_hist.set(xlabel='Вес в граммах', \n",
    "                       ylabel='Заказы')"
   ]
  },
  {
   "cell_type": "markdown",
   "id": "f27e661f",
   "metadata": {},
   "source": [
    "Распределение похоже на бимодальное, здесь среднее или медиана не дадут абсолютно ничего, поэтому выделим 4 диапазона и посчитаем для них доли:\n",
    "1. До 2 кг;\n",
    "2. 2-4 кг;\n",
    "3. 4-6 кг;\n",
    "4. Более 6 кг."
   ]
  },
  {
   "cell_type": "code",
   "execution_count": 21,
   "id": "fb97a0f0",
   "metadata": {},
   "outputs": [],
   "source": [
    "# создадим отдельную колонку с этими группами\n",
    "\n",
    "df['weight_groups'] = pd.cut(df.weight_in_gms, [0, 2000, 4000, 6000, float('inf')])"
   ]
  },
  {
   "cell_type": "code",
   "execution_count": 22,
   "id": "57fad5f5",
   "metadata": {},
   "outputs": [
    {
     "data": {
      "text/plain": [
       "(4000.0, 6000.0]    54.2\n",
       "(0.0, 2000.0]       29.5\n",
       "(2000.0, 4000.0]    16.3\n",
       "(6000.0, inf]        0.1\n",
       "Name: weight_groups, dtype: float64"
      ]
     },
     "execution_count": 22,
     "metadata": {},
     "output_type": "execute_result"
    }
   ],
   "source": [
    "df.weight_groups.value_counts(normalize=True) \\\n",
    "                .mul(100) \\\n",
    "                .round(1)"
   ]
  },
  {
   "cell_type": "markdown",
   "id": "aa65fc5a",
   "metadata": {},
   "source": [
    "В итоге получаем то, что более половины заказов находится в диапазоне 4-6 кг, около трети до 2 кг, около 15% 2-4 кг и менее 1% более 6 кг.\n",
    "\n",
    "Мы можем учитывать эту информацию для определения кол-ва сотрудников и техники на складах, а также требований к ним."
   ]
  },
  {
   "cell_type": "markdown",
   "id": "46cf9f2f",
   "metadata": {},
   "source": [
    "Поскольку переменная Class, несмотря на числовые значения, по смыслу является номинативной, на данном этапе нет смысла что-либо рассчитывать за рамками известных уже нам значений: около 60% заказов доставляются вовремя."
   ]
  },
  {
   "cell_type": "code",
   "execution_count": 23,
   "id": "1c58bde1",
   "metadata": {},
   "outputs": [
    {
     "name": "stdout",
     "output_type": "stream",
     "text": [
      "['a' 'f' 'd' 'b' 'c']\n"
     ]
    }
   ],
   "source": [
    "# посмотрим на другие номинативные переменные\n",
    "# Warehouse Block - склад\n",
    "\n",
    "print(df.warehouse_block.unique())"
   ]
  },
  {
   "cell_type": "code",
   "execution_count": 24,
   "id": "bab0427d",
   "metadata": {},
   "outputs": [],
   "source": [
    "# здесь также создадим функцию для создания countplot\n",
    "\n",
    "def create_cp(column):\n",
    "    '''Принимает колонку column вида 'df.column', \n",
    "    возвращает ее countplot.\n",
    "    '''\n",
    "    \n",
    "    return sns.countplot(y=column,\n",
    "                         color='green', \n",
    "                         alpha=0.7,\n",
    "                         order=column.value_counts().index)"
   ]
  },
  {
   "cell_type": "code",
   "execution_count": 25,
   "id": "ddf3bfeb",
   "metadata": {},
   "outputs": [
    {
     "data": {
      "text/plain": [
       "[Text(0.5, 0, 'Заказы'), Text(0, 0.5, 'Склад')]"
      ]
     },
     "execution_count": 25,
     "metadata": {},
     "output_type": "execute_result"
    },
    {
     "data": {
      "image/png": "[encoded data removed]",
      "text/plain": [
       "<Figure size 640x480 with 1 Axes>"
      ]
     },
     "metadata": {},
     "output_type": "display_data"
    }
   ],
   "source": [
    "warehouse_block_cp = create_cp(df.warehouse_block)\n",
    "warehouse_block_cp.set(xlabel='Заказы', \n",
    "                       ylabel='Склад')"
   ]
  },
  {
   "cell_type": "code",
   "execution_count": 26,
   "id": "db54205b",
   "metadata": {},
   "outputs": [
    {
     "data": {
      "text/html": [
       "<div>\n",
       "<style scoped>\n",
       "    .dataframe tbody tr th:only-of-type {\n",
       "        vertical-align: middle;\n",
       "    }\n",
       "\n",
       "    .dataframe tbody tr th {\n",
       "        vertical-align: top;\n",
       "    }\n",
       "\n",
       "    .dataframe thead th {\n",
       "        text-align: right;\n",
       "    }\n",
       "</style>\n",
       "<table border=\"1\" class=\"dataframe\">\n",
       "  <thead>\n",
       "    <tr style=\"text-align: right;\">\n",
       "      <th></th>\n",
       "      <th>warehouse_block</th>\n",
       "      <th>percentage</th>\n",
       "    </tr>\n",
       "  </thead>\n",
       "  <tbody>\n",
       "    <tr>\n",
       "      <th>0</th>\n",
       "      <td>f</td>\n",
       "      <td>33.3</td>\n",
       "    </tr>\n",
       "    <tr>\n",
       "      <th>1</th>\n",
       "      <td>d</td>\n",
       "      <td>16.7</td>\n",
       "    </tr>\n",
       "    <tr>\n",
       "      <th>2</th>\n",
       "      <td>b</td>\n",
       "      <td>16.7</td>\n",
       "    </tr>\n",
       "    <tr>\n",
       "      <th>3</th>\n",
       "      <td>c</td>\n",
       "      <td>16.7</td>\n",
       "    </tr>\n",
       "    <tr>\n",
       "      <th>4</th>\n",
       "      <td>a</td>\n",
       "      <td>16.7</td>\n",
       "    </tr>\n",
       "  </tbody>\n",
       "</table>\n",
       "</div>"
      ],
      "text/plain": [
       "  warehouse_block  percentage\n",
       "0               f        33.3\n",
       "1               d        16.7\n",
       "2               b        16.7\n",
       "3               c        16.7\n",
       "4               a        16.7"
      ]
     },
     "execution_count": 26,
     "metadata": {},
     "output_type": "execute_result"
    }
   ],
   "source": [
    "perc_table(df.warehouse_block)"
   ]
  },
  {
   "cell_type": "markdown",
   "id": "5eadc546",
   "metadata": {},
   "source": [
    "Со склада F отправляется примерно в 2 раза больше заказов, чем с любого другого. Все остальные распределены равномерно.\n",
    "\n",
    "Мы можем учитывать это при оптимизации логистических процессов."
   ]
  },
  {
   "cell_type": "code",
   "execution_count": 27,
   "id": "99ec9ecb",
   "metadata": {},
   "outputs": [
    {
     "name": "stdout",
     "output_type": "stream",
     "text": [
      "['ship' 'road' 'flight']\n"
     ]
    }
   ],
   "source": [
    "# тип доставки\n",
    "\n",
    "print(df.mode_of_shipment.unique())"
   ]
  },
  {
   "cell_type": "code",
   "execution_count": 28,
   "id": "45075bcf",
   "metadata": {},
   "outputs": [
    {
     "data": {
      "text/plain": [
       "[Text(0.5, 0, 'Заказы'), Text(0, 0.5, 'Тип доставки')]"
      ]
     },
     "execution_count": 28,
     "metadata": {},
     "output_type": "execute_result"
    },
    {
     "data": {
      "image/png": "[encoded data removed]",
      "text/plain": [
       "<Figure size 640x480 with 1 Axes>"
      ]
     },
     "metadata": {},
     "output_type": "display_data"
    }
   ],
   "source": [
    "mode_of_shipment_cp = create_cp(df.mode_of_shipment)\n",
    "mode_of_shipment_cp.set(xlabel='Заказы', \n",
    "                        ylabel='Тип доставки')"
   ]
  },
  {
   "cell_type": "code",
   "execution_count": 29,
   "id": "e8db3361",
   "metadata": {},
   "outputs": [
    {
     "data": {
      "text/html": [
       "<div>\n",
       "<style scoped>\n",
       "    .dataframe tbody tr th:only-of-type {\n",
       "        vertical-align: middle;\n",
       "    }\n",
       "\n",
       "    .dataframe tbody tr th {\n",
       "        vertical-align: top;\n",
       "    }\n",
       "\n",
       "    .dataframe thead th {\n",
       "        text-align: right;\n",
       "    }\n",
       "</style>\n",
       "<table border=\"1\" class=\"dataframe\">\n",
       "  <thead>\n",
       "    <tr style=\"text-align: right;\">\n",
       "      <th></th>\n",
       "      <th>mode_of_shipment</th>\n",
       "      <th>percentage</th>\n",
       "    </tr>\n",
       "  </thead>\n",
       "  <tbody>\n",
       "    <tr>\n",
       "      <th>0</th>\n",
       "      <td>ship</td>\n",
       "      <td>67.8</td>\n",
       "    </tr>\n",
       "    <tr>\n",
       "      <th>1</th>\n",
       "      <td>flight</td>\n",
       "      <td>16.2</td>\n",
       "    </tr>\n",
       "    <tr>\n",
       "      <th>2</th>\n",
       "      <td>road</td>\n",
       "      <td>16.0</td>\n",
       "    </tr>\n",
       "  </tbody>\n",
       "</table>\n",
       "</div>"
      ],
      "text/plain": [
       "  mode_of_shipment  percentage\n",
       "0             ship        67.8\n",
       "1           flight        16.2\n",
       "2             road        16.0"
      ]
     },
     "execution_count": 29,
     "metadata": {},
     "output_type": "execute_result"
    }
   ],
   "source": [
    "perc_table(df.mode_of_shipment)"
   ]
  },
  {
   "cell_type": "markdown",
   "id": "e0098d6e",
   "metadata": {},
   "source": [
    "Около 2/3 доставок происходят по морю. Возможно, это одна из причин того, что мы не доставляем заказы в срок, тк из 3х представленных вариантов этот кажется наиболее долгим и наименее точным по времени."
   ]
  },
  {
   "cell_type": "code",
   "execution_count": 30,
   "id": "247e13d7",
   "metadata": {},
   "outputs": [
    {
     "name": "stdout",
     "output_type": "stream",
     "text": [
      "['medium' 'low' 'high']\n"
     ]
    }
   ],
   "source": [
    "# приоритеты по доставке\n",
    "\n",
    "print(df.product_importance.unique())"
   ]
  },
  {
   "cell_type": "code",
   "execution_count": 31,
   "id": "70568b3d",
   "metadata": {},
   "outputs": [
    {
     "data": {
      "text/plain": [
       "[Text(0.5, 0, 'Заказы'), Text(0, 0.5, 'Приоритет по доставке')]"
      ]
     },
     "execution_count": 31,
     "metadata": {},
     "output_type": "execute_result"
    },
    {
     "data": {
      "image/png": "[encoded data removed]",
      "text/plain": [
       "<Figure size 640x480 with 1 Axes>"
      ]
     },
     "metadata": {},
     "output_type": "display_data"
    }
   ],
   "source": [
    "product_importance_cp = create_cp(df.product_importance)\n",
    "product_importance_cp.set(xlabel='Заказы', \n",
    "                          ylabel='Приоритет по доставке')"
   ]
  },
  {
   "cell_type": "code",
   "execution_count": 32,
   "id": "20665029",
   "metadata": {},
   "outputs": [
    {
     "data": {
      "text/html": [
       "<div>\n",
       "<style scoped>\n",
       "    .dataframe tbody tr th:only-of-type {\n",
       "        vertical-align: middle;\n",
       "    }\n",
       "\n",
       "    .dataframe tbody tr th {\n",
       "        vertical-align: top;\n",
       "    }\n",
       "\n",
       "    .dataframe thead th {\n",
       "        text-align: right;\n",
       "    }\n",
       "</style>\n",
       "<table border=\"1\" class=\"dataframe\">\n",
       "  <thead>\n",
       "    <tr style=\"text-align: right;\">\n",
       "      <th></th>\n",
       "      <th>product_importance</th>\n",
       "      <th>percentage</th>\n",
       "    </tr>\n",
       "  </thead>\n",
       "  <tbody>\n",
       "    <tr>\n",
       "      <th>0</th>\n",
       "      <td>low</td>\n",
       "      <td>48.2</td>\n",
       "    </tr>\n",
       "    <tr>\n",
       "      <th>1</th>\n",
       "      <td>medium</td>\n",
       "      <td>43.2</td>\n",
       "    </tr>\n",
       "    <tr>\n",
       "      <th>2</th>\n",
       "      <td>high</td>\n",
       "      <td>8.6</td>\n",
       "    </tr>\n",
       "  </tbody>\n",
       "</table>\n",
       "</div>"
      ],
      "text/plain": [
       "  product_importance  percentage\n",
       "0                low        48.2\n",
       "1             medium        43.2\n",
       "2               high         8.6"
      ]
     },
     "execution_count": 32,
     "metadata": {},
     "output_type": "execute_result"
    }
   ],
   "source": [
    "perc_table(df.product_importance)"
   ]
  },
  {
   "cell_type": "markdown",
   "id": "b8931a26",
   "metadata": {},
   "source": [
    "Более 90% заказов имеет низкий и средний приоритеты по доставке. Возможно, это одна из причин задержек."
   ]
  },
  {
   "cell_type": "code",
   "execution_count": 33,
   "id": "6ea302b8",
   "metadata": {},
   "outputs": [
    {
     "name": "stdout",
     "output_type": "stream",
     "text": [
      "['m' 'f']\n"
     ]
    }
   ],
   "source": [
    "# пол клиентов\n",
    "\n",
    "print(df.gender.unique())"
   ]
  },
  {
   "cell_type": "code",
   "execution_count": 34,
   "id": "4623e9ce",
   "metadata": {},
   "outputs": [
    {
     "data": {
      "text/html": [
       "<div>\n",
       "<style scoped>\n",
       "    .dataframe tbody tr th:only-of-type {\n",
       "        vertical-align: middle;\n",
       "    }\n",
       "\n",
       "    .dataframe tbody tr th {\n",
       "        vertical-align: top;\n",
       "    }\n",
       "\n",
       "    .dataframe thead th {\n",
       "        text-align: right;\n",
       "    }\n",
       "</style>\n",
       "<table border=\"1\" class=\"dataframe\">\n",
       "  <thead>\n",
       "    <tr style=\"text-align: right;\">\n",
       "      <th></th>\n",
       "      <th>gender</th>\n",
       "      <th>percentage</th>\n",
       "    </tr>\n",
       "  </thead>\n",
       "  <tbody>\n",
       "    <tr>\n",
       "      <th>0</th>\n",
       "      <td>f</td>\n",
       "      <td>50.4</td>\n",
       "    </tr>\n",
       "    <tr>\n",
       "      <th>1</th>\n",
       "      <td>m</td>\n",
       "      <td>49.6</td>\n",
       "    </tr>\n",
       "  </tbody>\n",
       "</table>\n",
       "</div>"
      ],
      "text/plain": [
       "  gender  percentage\n",
       "0      f        50.4\n",
       "1      m        49.6"
      ]
     },
     "execution_count": 34,
     "metadata": {},
     "output_type": "execute_result"
    }
   ],
   "source": [
    "perc_table(df.gender)"
   ]
  },
  {
   "cell_type": "markdown",
   "id": "878e6d4e",
   "metadata": {},
   "source": [
    "Кол-во заказов от мужчин и от женщин примерно равны."
   ]
  },
  {
   "cell_type": "markdown",
   "id": "79a609e7",
   "metadata": {},
   "source": [
    "# Распределения и меры центральной тенденции. Резюме.\n",
    "\n",
    "- в среднем один заказ сопровождается 4мя контактами со службой поддержки. Более 80% заказов - от 4 до 6 контактов.\n",
    "- средний рейтинг удовлетворенности заказом среди наших клиентов - 3 балла из 5 возможных.\n",
    "- около 80% заказов являются повторными после 2-4 предыдущих.\n",
    "- на 76% заказов была предложена скидка до 10%, на остальные 24% - от 11% до 65%.\n",
    "- более половины заказов находится в диапазоне 4-6 кг, около трети до 2 кг, около 15% 2-4 кг и менее 1% более 6 кг.\n",
    "- около 60% заказов доставляются вовремя\n",
    "- со склада F отправляется примерно в 2 раза больше заказов, чем с любого другого. Все остальные распределены равномерно.\n",
    "- около 2/3 доставок происходят по морю.\n",
    "- более 90% заказов имеет низкий и средний приоритеты по доставке.\n",
    "- кол-во заказов от мужчин и от женщин примерно равны."
   ]
  },
  {
   "cell_type": "markdown",
   "id": "109e270c",
   "metadata": {},
   "source": [
    "# 4.3. Поиск взаимосвязей.\n",
    "Выдвинем ряд идей о возможных взаимосвязях, посмотрим на цифры и графики, при необходимости проверим различия статистически."
   ]
  },
  {
   "cell_type": "markdown",
   "id": "97e0321a",
   "metadata": {},
   "source": [
    "# 4.3.1. Рейтинг удовлетворенности.\n",
    "Посмотрим на влияние различных признаков на рейтинг."
   ]
  },
  {
   "cell_type": "markdown",
   "id": "d5055732",
   "metadata": {},
   "source": [
    "Кол-во контактов с СП может влиять положительно на удовлетворенность, тк служба оказывает помощь, решает проблемы, иногда успокаивает, дарит подарки и т.п., но в то же время может быть и обратный эффект - люди в-основном обращаются за помощью, когда у них возникают проблемы, а это уже негативный оттенок. \n",
    "\n",
    "Если бы у нас была информация о входящих/исходящих звонках, о времени относительно выполнения заказа - можно было бы сделать более точное предположение."
   ]
  },
  {
   "cell_type": "code",
   "execution_count": 35,
   "id": "632762ce",
   "metadata": {},
   "outputs": [],
   "source": [
    "# создадим функцию, которая группирует значения и выводит средний рейтинг\n",
    "\n",
    "def avg_rating(column):\n",
    "    '''Принимает колонку column вида 'df.column', \n",
    "    возвращает таблицу со средним рейтингом.\n",
    "    '''\n",
    "    return df.groupby(column, as_index=False) \\\n",
    "             .customer_rating.mean() \\\n",
    "             .round(2)"
   ]
  },
  {
   "cell_type": "code",
   "execution_count": 36,
   "id": "d05adfff",
   "metadata": {},
   "outputs": [],
   "source": [
    "# и функцию, которая будет возвращать барплот\n",
    "\n",
    "def create_bp(data):\n",
    "    '''Принимает датафрейм data, возвращает барчарт'''\n",
    "    return sns.barplot(x=data[data.columns[0]], \n",
    "                       y=data[data.columns[1]],\n",
    "                       color='green', \n",
    "                       alpha=0.7)"
   ]
  },
  {
   "cell_type": "code",
   "execution_count": 37,
   "id": "4d22e111",
   "metadata": {},
   "outputs": [],
   "source": [
    "# посмотрим на средние значения рейтинга для разного количества звонков\n",
    "\n",
    "calls_rating = avg_rating(df.customer_care_calls)"
   ]
  },
  {
   "cell_type": "code",
   "execution_count": 38,
   "id": "95dbb838",
   "metadata": {},
   "outputs": [
    {
     "data": {
      "text/html": [
       "<div>\n",
       "<style scoped>\n",
       "    .dataframe tbody tr th:only-of-type {\n",
       "        vertical-align: middle;\n",
       "    }\n",
       "\n",
       "    .dataframe tbody tr th {\n",
       "        vertical-align: top;\n",
       "    }\n",
       "\n",
       "    .dataframe thead th {\n",
       "        text-align: right;\n",
       "    }\n",
       "</style>\n",
       "<table border=\"1\" class=\"dataframe\">\n",
       "  <thead>\n",
       "    <tr style=\"text-align: right;\">\n",
       "      <th></th>\n",
       "      <th>customer_care_calls</th>\n",
       "      <th>customer_rating</th>\n",
       "    </tr>\n",
       "  </thead>\n",
       "  <tbody>\n",
       "    <tr>\n",
       "      <th>0</th>\n",
       "      <td>2</td>\n",
       "      <td>3.02</td>\n",
       "    </tr>\n",
       "    <tr>\n",
       "      <th>1</th>\n",
       "      <td>3</td>\n",
       "      <td>2.96</td>\n",
       "    </tr>\n",
       "    <tr>\n",
       "      <th>2</th>\n",
       "      <td>4</td>\n",
       "      <td>3.00</td>\n",
       "    </tr>\n",
       "    <tr>\n",
       "      <th>3</th>\n",
       "      <td>5</td>\n",
       "      <td>2.97</td>\n",
       "    </tr>\n",
       "    <tr>\n",
       "      <th>4</th>\n",
       "      <td>6</td>\n",
       "      <td>3.08</td>\n",
       "    </tr>\n",
       "    <tr>\n",
       "      <th>5</th>\n",
       "      <td>7</td>\n",
       "      <td>3.00</td>\n",
       "    </tr>\n",
       "  </tbody>\n",
       "</table>\n",
       "</div>"
      ],
      "text/plain": [
       "   customer_care_calls  customer_rating\n",
       "0                    2             3.02\n",
       "1                    3             2.96\n",
       "2                    4             3.00\n",
       "3                    5             2.97\n",
       "4                    6             3.08\n",
       "5                    7             3.00"
      ]
     },
     "execution_count": 38,
     "metadata": {},
     "output_type": "execute_result"
    }
   ],
   "source": [
    "calls_rating"
   ]
  },
  {
   "cell_type": "code",
   "execution_count": 39,
   "id": "165af6d0",
   "metadata": {},
   "outputs": [
    {
     "data": {
      "text/plain": [
       "[Text(0.5, 0, 'Контакты со Службой Поддержки'),\n",
       " Text(0, 0.5, 'Средний рейтинг заказа')]"
      ]
     },
     "execution_count": 39,
     "metadata": {},
     "output_type": "execute_result"
    },
    {
     "data": {
      "image/png": "[encoded data removed]",
      "text/plain": [
       "<Figure size 640x480 with 1 Axes>"
      ]
     },
     "metadata": {},
     "output_type": "display_data"
    }
   ],
   "source": [
    "calls_rating_bp = create_bp(calls_rating)\n",
    "calls_rating_bp.set(xlabel='Контакты со Службой Поддержки',\n",
    "                    ylabel='Средний рейтинг заказа')"
   ]
  },
  {
   "cell_type": "markdown",
   "id": "50cad7b1",
   "metadata": {},
   "source": [
    "Различия между группами минимальны, при этом какой-то направленности не наблюдается."
   ]
  },
  {
   "cell_type": "markdown",
   "id": "ecdb8aad",
   "metadata": {},
   "source": [
    "Кол-во предыдущих покупок может положительно влиять на рейтинг, тк кажется, что чем больше покупок совершил клиент, тем больше вероятность, что в-целом он доволен нашим сервисом, он хорошо с ним знаком и его все устраивает."
   ]
  },
  {
   "cell_type": "code",
   "execution_count": 40,
   "id": "f19afec9",
   "metadata": {},
   "outputs": [],
   "source": [
    "# посмотрим на средние значения рейтинга для разного количества предыдущих покупок\n",
    "\n",
    "purchases_rating = avg_rating(df.prior_purchases)"
   ]
  },
  {
   "cell_type": "code",
   "execution_count": 41,
   "id": "85dc2469",
   "metadata": {},
   "outputs": [
    {
     "data": {
      "text/html": [
       "<div>\n",
       "<style scoped>\n",
       "    .dataframe tbody tr th:only-of-type {\n",
       "        vertical-align: middle;\n",
       "    }\n",
       "\n",
       "    .dataframe tbody tr th {\n",
       "        vertical-align: top;\n",
       "    }\n",
       "\n",
       "    .dataframe thead th {\n",
       "        text-align: right;\n",
       "    }\n",
       "</style>\n",
       "<table border=\"1\" class=\"dataframe\">\n",
       "  <thead>\n",
       "    <tr style=\"text-align: right;\">\n",
       "      <th></th>\n",
       "      <th>prior_purchases</th>\n",
       "      <th>customer_rating</th>\n",
       "    </tr>\n",
       "  </thead>\n",
       "  <tbody>\n",
       "    <tr>\n",
       "      <th>0</th>\n",
       "      <td>2</td>\n",
       "      <td>2.96</td>\n",
       "    </tr>\n",
       "    <tr>\n",
       "      <th>1</th>\n",
       "      <td>3</td>\n",
       "      <td>3.00</td>\n",
       "    </tr>\n",
       "    <tr>\n",
       "      <th>2</th>\n",
       "      <td>4</td>\n",
       "      <td>3.03</td>\n",
       "    </tr>\n",
       "    <tr>\n",
       "      <th>3</th>\n",
       "      <td>5</td>\n",
       "      <td>2.94</td>\n",
       "    </tr>\n",
       "    <tr>\n",
       "      <th>4</th>\n",
       "      <td>6</td>\n",
       "      <td>3.02</td>\n",
       "    </tr>\n",
       "    <tr>\n",
       "      <th>5</th>\n",
       "      <td>7</td>\n",
       "      <td>2.87</td>\n",
       "    </tr>\n",
       "    <tr>\n",
       "      <th>6</th>\n",
       "      <td>8</td>\n",
       "      <td>3.04</td>\n",
       "    </tr>\n",
       "    <tr>\n",
       "      <th>7</th>\n",
       "      <td>10</td>\n",
       "      <td>3.20</td>\n",
       "    </tr>\n",
       "  </tbody>\n",
       "</table>\n",
       "</div>"
      ],
      "text/plain": [
       "   prior_purchases  customer_rating\n",
       "0                2             2.96\n",
       "1                3             3.00\n",
       "2                4             3.03\n",
       "3                5             2.94\n",
       "4                6             3.02\n",
       "5                7             2.87\n",
       "6                8             3.04\n",
       "7               10             3.20"
      ]
     },
     "execution_count": 41,
     "metadata": {},
     "output_type": "execute_result"
    }
   ],
   "source": [
    "purchases_rating"
   ]
  },
  {
   "cell_type": "code",
   "execution_count": 42,
   "id": "a38c3f68",
   "metadata": {},
   "outputs": [
    {
     "data": {
      "text/plain": [
       "[Text(0.5, 0, 'Предыдущие покупки'), Text(0, 0.5, 'Средний рейтинг заказа')]"
      ]
     },
     "execution_count": 42,
     "metadata": {},
     "output_type": "execute_result"
    },
    {
     "data": {
      "image/png": "[encoded data removed]",
      "text/plain": [
       "<Figure size 640x480 with 1 Axes>"
      ]
     },
     "metadata": {},
     "output_type": "display_data"
    }
   ],
   "source": [
    "purchases_rating_bp = create_bp(purchases_rating)\n",
    "purchases_rating_bp.set(xlabel='Предыдущие покупки',\n",
    "                        ylabel='Средний рейтинг заказа')"
   ]
  },
  {
   "cell_type": "markdown",
   "id": "a81ebbe1",
   "metadata": {},
   "source": [
    "Какого-то устойчивого тренда не наблюдается, да у 10 покупок средний рейтинг самый высокий, но выборка относительно других значений минимальна, различия небольшие, а для всех остальных значений распределение похоже на равномерное."
   ]
  },
  {
   "cell_type": "markdown",
   "id": "8643a746",
   "metadata": {},
   "source": [
    "Проведем тесты, чтобы проверить, насколько эти отличия статистически значимы."
   ]
  },
  {
   "cell_type": "markdown",
   "id": "17409920",
   "metadata": {},
   "source": [
    "Нам необходимо сравнить средние 2х выборок. В классической теории первое, что для этого отлично подходит - T-тест или его непараметрический аналог - U-тест Манна-Уитни.\n",
    "\n",
    "Проверим, выполняются ли требования для проведения Т-теста:\n",
    "1. Равенство выборок. Мы знаем, что они неравны, поэтому будем использовать T-тест Уэлча.\n",
    "2. Равенство размеров выборок. Можно было бы провести тест Левена, но для T-теста Уэлча отсутствие гомоскедастичности - не проблема.\n",
    "2. Нормальность. Проведем тесты Д'Агустино-Пирсона (т.к. Шапиро-Уилк плохо работает для выборок более 5000 строк), построим qqplot'ы."
   ]
  },
  {
   "cell_type": "code",
   "execution_count": 43,
   "id": "13ec0cc9",
   "metadata": {},
   "outputs": [],
   "source": [
    "# выделим 2 группы значений\n",
    "\n",
    "purchases_descent = df[df.prior_purchases < 10].customer_rating\n",
    "purchases_top = df[df.prior_purchases == 10].customer_rating"
   ]
  },
  {
   "cell_type": "code",
   "execution_count": 44,
   "id": "774e2420",
   "metadata": {},
   "outputs": [
    {
     "data": {
      "text/plain": [
       "[Text(0.5, 0, 'Рейтинг заказа'), Text(0, 0.5, 'Кол-во оценок')]"
      ]
     },
     "execution_count": 44,
     "metadata": {},
     "output_type": "execute_result"
    },
    {
     "data": {
      "image/png": "[encoded data removed]",
      "text/plain": [
       "<Figure size 640x480 with 1 Axes>"
      ]
     },
     "metadata": {},
     "output_type": "display_data"
    }
   ],
   "source": [
    "# посмотрим на распределения выборок\n",
    "\n",
    "purchases_descent_hist = create_hist(purchases_descent)\n",
    "purchases_descent_hist.set(xlabel='Рейтинг заказа',\n",
    "                           ylabel='Кол-во оценок')"
   ]
  },
  {
   "cell_type": "code",
   "execution_count": 45,
   "id": "b8cadb8e",
   "metadata": {},
   "outputs": [
    {
     "data": {
      "text/plain": [
       "[Text(0.5, 0, 'Рейтинг заказа'), Text(0, 0.5, 'Кол-во оценок')]"
      ]
     },
     "execution_count": 45,
     "metadata": {},
     "output_type": "execute_result"
    },
    {
     "data": {
      "image/png": "[encoded data removed]",
      "text/plain": [
       "<Figure size 640x480 with 1 Axes>"
      ]
     },
     "metadata": {},
     "output_type": "display_data"
    }
   ],
   "source": [
    "purchases_top_hist = create_hist(purchases_top)\n",
    "purchases_top_hist.set(xlabel='Рейтинг заказа',\n",
    "                       ylabel='Кол-во оценок')"
   ]
  },
  {
   "cell_type": "markdown",
   "id": "53ffb6a2",
   "metadata": {},
   "source": [
    "Визуально распределения не похожи на нормальные. но все же проведем все запланированные проверки."
   ]
  },
  {
   "cell_type": "markdown",
   "id": "2eadb561",
   "metadata": {},
   "source": [
    "Проведем тест Д'Агустино-Пирсона, где Н0 говорит о том, что выборка взята из нормального распределения, Н1 - что выборка взята не из нормального распределения."
   ]
  },
  {
   "cell_type": "code",
   "execution_count": 46,
   "id": "bf0d8d18",
   "metadata": {},
   "outputs": [
    {
     "data": {
      "text/plain": [
       "NormaltestResult(statistic=34226.370351165686, pvalue=0.0)"
      ]
     },
     "execution_count": 46,
     "metadata": {},
     "output_type": "execute_result"
    }
   ],
   "source": [
    "# тест Д'Агустино-Пирсона\n",
    "\n",
    "ss.normaltest(purchases_descent)"
   ]
  },
  {
   "cell_type": "code",
   "execution_count": 47,
   "id": "2b888e3c",
   "metadata": {},
   "outputs": [
    {
     "data": {
      "text/plain": [
       "NormaltestResult(statistic=132.033935665514, pvalue=2.134003651684199e-29)"
      ]
     },
     "execution_count": 47,
     "metadata": {},
     "output_type": "execute_result"
    }
   ],
   "source": [
    "ss.normaltest(purchases_top)"
   ]
  },
  {
   "cell_type": "markdown",
   "id": "baa24aef",
   "metadata": {},
   "source": [
    "При p-value < 0.05 мы отклоняем нулевую гипотезу, о том, что данные выборки взяты из нормальных распределений."
   ]
  },
  {
   "cell_type": "markdown",
   "id": "94dbfa7b",
   "metadata": {},
   "source": [
    "Иногда тесты на нормальность ошибочно не признают выборки нормальными, поэтому лучше дополнительно смотреть qqplot и уровень корреляции на нем."
   ]
  },
  {
   "cell_type": "code",
   "execution_count": 48,
   "id": "831efc3b",
   "metadata": {},
   "outputs": [
    {
     "data": {
      "text/plain": [
       "<AxesSubplot:xlabel='Theoretical quantiles', ylabel='Ordered quantiles'>"
      ]
     },
     "execution_count": 48,
     "metadata": {},
     "output_type": "execute_result"
    },
    {
     "data": {
      "image/png": "[encoded data removed]",
      "text/plain": [
       "<Figure size 640x480 with 1 Axes>"
      ]
     },
     "metadata": {},
     "output_type": "display_data"
    }
   ],
   "source": [
    "# построим qqplot (более информативно в pingouin)\n",
    "\n",
    "pg.qqplot(purchases_descent)"
   ]
  },
  {
   "cell_type": "code",
   "execution_count": 49,
   "id": "782620ec",
   "metadata": {},
   "outputs": [
    {
     "data": {
      "text/plain": [
       "<AxesSubplot:xlabel='Theoretical quantiles', ylabel='Ordered quantiles'>"
      ]
     },
     "execution_count": 49,
     "metadata": {},
     "output_type": "execute_result"
    },
    {
     "data": {
      "image/png": "[encoded data removed]",
      "text/plain": [
       "<Figure size 640x480 with 1 Axes>"
      ]
     },
     "metadata": {},
     "output_type": "display_data"
    }
   ],
   "source": [
    "pg.qqplot(purchases_top)"
   ]
  },
  {
   "cell_type": "code",
   "execution_count": 50,
   "id": "e172a4c4",
   "metadata": {},
   "outputs": [
    {
     "data": {
      "text/plain": [
       "0.9428679653058534"
      ]
     },
     "execution_count": 50,
     "metadata": {},
     "output_type": "execute_result"
    }
   ],
   "source": [
    "np.sqrt(0.889)"
   ]
  },
  {
   "cell_type": "code",
   "execution_count": 51,
   "id": "8ca90c43",
   "metadata": {},
   "outputs": [
    {
     "data": {
      "text/plain": [
       "0.9407443861113389"
      ]
     },
     "execution_count": 51,
     "metadata": {},
     "output_type": "execute_result"
    }
   ],
   "source": [
    "np.sqrt(0.885)"
   ]
  },
  {
   "cell_type": "markdown",
   "id": "51a626eb",
   "metadata": {},
   "source": [
    "Кроме визуального расхождения, значения коффициента детерминации слишком низкие, коэффициенты корреляции около 0.94, что ниже допустимого значения 0.95."
   ]
  },
  {
   "cell_type": "markdown",
   "id": "aa953334",
   "metadata": {},
   "source": [
    "Как итог, мы не можем утверждать, что данные распределения нормальные, поэтому проводить T-тест, исходя из классической теории здесь будет неправильно, но есть и другая позиция, говорящая нам о том, что для больших выборок (в отдельных источниках указывается значение в 30 наблюдений) нормальность не является обязательным требоваванием, поэтому просимулируем методом Монте-Карло оба варианта, а также бутстрэп, чтобы определить, какой же все таки тест здесь будет смотреться лучше."
   ]
  },
  {
   "cell_type": "code",
   "execution_count": 52,
   "id": "52b5d933",
   "metadata": {},
   "outputs": [],
   "source": [
    "# создадим генераторы наших распределений\n",
    "\n",
    "def top_dist(size):\n",
    "    '''Принимает размер необходимой выборки, возвращает выборку соответствующего \n",
    "    размера, сгенерированную из распределения, аналогичного распределению заказов \n",
    "    с 10 предыдущими покупками.\n",
    "    '''\n",
    "    \n",
    "    # создадим Series с оценками, соберем для Scipy значения и их частоту    \n",
    "    purchases_top_dist = purchases_top.value_counts(normalize=True) \\\n",
    "                                      .reset_index()\n",
    "    xk_top = purchases_top_dist['index'].to_list()\n",
    "    pk_top = purchases_top_dist.customer_rating.to_list() \n",
    "    \n",
    "    # создадим распределение    \n",
    "    top = ss.rv_discrete(name='top', values=(xk_top, pk_top))\n",
    "    \n",
    "    # вернем сгенерированное заданного размера    \n",
    "    return top.rvs(size=size)"
   ]
  },
  {
   "cell_type": "code",
   "execution_count": 53,
   "id": "5eab39a3",
   "metadata": {},
   "outputs": [],
   "source": [
    "def descent_dist(size):\n",
    "    '''Принимает размер необходимой выборки, возвращает выборку соответствующего \n",
    "    размера, сгенерированную из распределения, аналогичного распределению заказов \n",
    "    менее, чем с 10 предыдущими покупками.\n",
    "    '''\n",
    "    \n",
    "    purchases_descent_dist = purchases_descent.value_counts(normalize=True) \\\n",
    "                                              .reset_index()\n",
    "    xk_descent = purchases_descent_dist['index'].to_list()\n",
    "    pk_descent = purchases_descent_dist.customer_rating.to_list()\n",
    "    \n",
    "    descent = ss.rv_discrete(name='descent', values=(xk_descent, pk_descent))\n",
    "    \n",
    "    return descent.rvs(size=size)"
   ]
  },
  {
   "cell_type": "code",
   "execution_count": 54,
   "id": "c8f58bd8",
   "metadata": {},
   "outputs": [],
   "source": [
    "# также создадим генератор распределения с 10 покупками, \n",
    "# сместив его среднее на уровень остальных, чтобы проверить ошибки 1го рода\n",
    "\n",
    "mean_diff = purchases_top.mean() - purchases_descent.mean()\n",
    "\n",
    "def top_dist_equal(size):\n",
    "    '''Принимает размер необходимой выборки, возвращает выборку соответствующего \n",
    "    размера, сгенерированную из распределения, аналогичного распределению заказов \n",
    "    с 10 предыдущими покупками, со смещенным средним, равным среднему заказов\n",
    "    с менее, чем 10 предыдущими покупками.'''\n",
    "    \n",
    "    purchases_top_dist = purchases_top.value_counts(normalize=True) \\\n",
    "                                      .reset_index()\n",
    "    \n",
    "    # Смещаем все значения Series на разницу между средними    \n",
    "    xk_top = (purchases_top_dist['index'] - mean_diff).to_list()\n",
    "    pk_top = purchases_top_dist.customer_rating.to_list() \n",
    "    \n",
    "    top = ss.rv_discrete(name='top', values=(xk_top, pk_top))\n",
    "    \n",
    "    return top.rvs(size=size)"
   ]
  },
  {
   "cell_type": "markdown",
   "id": "235e6835",
   "metadata": {},
   "source": [
    "Начнем с Т-теста Уэлча, где Н0 говорит об отсутствии отличий между средними, а Н1 о наличии статистически значимых отличий."
   ]
  },
  {
   "cell_type": "code",
   "execution_count": 55,
   "id": "309d8625",
   "metadata": {},
   "outputs": [
    {
     "data": {
      "text/plain": [
       "Ttest_indResult(statistic=-1.9340192107935696, pvalue=0.05465589316707659)"
      ]
     },
     "execution_count": 55,
     "metadata": {},
     "output_type": "execute_result"
    }
   ],
   "source": [
    "ss.ttest_ind(purchases_descent, purchases_top, equal_var=False)"
   ]
  },
  {
   "cell_type": "code",
   "execution_count": 56,
   "id": "d8544227",
   "metadata": {},
   "outputs": [],
   "source": [
    "# Мощность можно проверить с помощью Scipy, предварительно рассчитав d Коэна\n",
    "\n",
    "d = (purchases_top.mean() - purchases_descent.mean()) / \\\n",
    "    np.sqrt((np.std(purchases_top) ** 2 + np.std(purchases_descent) ** 2) / 2)"
   ]
  },
  {
   "cell_type": "code",
   "execution_count": 57,
   "id": "46be6c6a",
   "metadata": {},
   "outputs": [
    {
     "data": {
      "text/plain": [
       "0.4962870013469116"
      ]
     },
     "execution_count": 57,
     "metadata": {},
     "output_type": "execute_result"
    }
   ],
   "source": [
    "pg.power_ttest2n(10820, 178, d=d, alpha=0.05)"
   ]
  },
  {
   "cell_type": "code",
   "execution_count": 58,
   "id": "f4c7471a",
   "metadata": {},
   "outputs": [],
   "source": [
    "top_len = len(purchases_top)"
   ]
  },
  {
   "cell_type": "code",
   "execution_count": 59,
   "id": "da5a1d06",
   "metadata": {},
   "outputs": [],
   "source": [
    "descent_len = len(purchases_descent)"
   ]
  },
  {
   "cell_type": "code",
   "execution_count": 60,
   "id": "97a828ef",
   "metadata": {},
   "outputs": [
    {
     "name": "stderr",
     "output_type": "stream",
     "text": [
      "100%|█████████████████████████████████████████████████████████████████████████████████████| 100/100 [00:00<00:00, 110.43it/s]"
     ]
    },
    {
     "name": "stdout",
     "output_type": "stream",
     "text": [
      "0.04\n"
     ]
    },
    {
     "name": "stderr",
     "output_type": "stream",
     "text": [
      "\n"
     ]
    }
   ],
   "source": [
    "# с помощью Монте-Карло проверим процент ошибок 1го рода\n",
    "\n",
    "tt_total = []\n",
    "\n",
    "n = 100\n",
    "\n",
    "for _ in tqdm(range(n)):\n",
    "    \n",
    "    # Cгенерируем 2 распределения    \n",
    "    top_d = top_dist_equal(top_len)\n",
    "    descent_d = descent_dist(descent_len) \n",
    "    \n",
    "    # Проведем тест    \n",
    "    result = ss.ttest_ind(top_d, descent_d, equal_var=False)[1] < 0.05\n",
    "    \n",
    "    # Сохраним результаты     \n",
    "    tt_total.append(result)\n",
    "\n",
    "# Выведем долю тестов, с ошибкой 1го рода\n",
    "print(sum(tt_total) / n)"
   ]
  },
  {
   "cell_type": "markdown",
   "id": "fa793559",
   "metadata": {},
   "source": [
    "При p-value > 0.05 у нас нет оснований для того, чтобы отвергнуть нулевую гипотезу.\n",
    "Т-тест показывает приемлемый процент ошибок 1го рода, но мощность (т.е. кол-во ошибок второго рода) находится на низком уровне - в районе 50% при стандартном допустимом значении в 80%, т.е. в нашей ситуации вероятность того, что на самом деле различия есть - около 50%. На результаты такого качества полагаться мы не можем."
   ]
  },
  {
   "cell_type": "markdown",
   "id": "57a9180b",
   "metadata": {},
   "source": [
    "Проведем U-тест Манна-Уитни, который сравнивает средние ранги 2х выборок, где Н0 говорит об отсутствии статистически значимых различий между ними, а Н1 - о наличии."
   ]
  },
  {
   "cell_type": "code",
   "execution_count": 61,
   "id": "2bc00bbd",
   "metadata": {},
   "outputs": [
    {
     "data": {
      "text/html": [
       "<div>\n",
       "<style scoped>\n",
       "    .dataframe tbody tr th:only-of-type {\n",
       "        vertical-align: middle;\n",
       "    }\n",
       "\n",
       "    .dataframe tbody tr th {\n",
       "        vertical-align: top;\n",
       "    }\n",
       "\n",
       "    .dataframe thead th {\n",
       "        text-align: right;\n",
       "    }\n",
       "</style>\n",
       "<table border=\"1\" class=\"dataframe\">\n",
       "  <thead>\n",
       "    <tr style=\"text-align: right;\">\n",
       "      <th></th>\n",
       "      <th>U-val</th>\n",
       "      <th>alternative</th>\n",
       "      <th>p-val</th>\n",
       "      <th>RBC</th>\n",
       "      <th>CLES</th>\n",
       "    </tr>\n",
       "  </thead>\n",
       "  <tbody>\n",
       "    <tr>\n",
       "      <th>MWU</th>\n",
       "      <td>882187.0</td>\n",
       "      <td>two-sided</td>\n",
       "      <td>0.049693</td>\n",
       "      <td>0.083899</td>\n",
       "      <td>0.458051</td>\n",
       "    </tr>\n",
       "  </tbody>\n",
       "</table>\n",
       "</div>"
      ],
      "text/plain": [
       "        U-val alternative     p-val       RBC      CLES\n",
       "MWU  882187.0   two-sided  0.049693  0.083899  0.458051"
      ]
     },
     "execution_count": 61,
     "metadata": {},
     "output_type": "execute_result"
    }
   ],
   "source": [
    "# проведем U-тест Манна-Уитни в Pingouin, тк там есть CLES\n",
    "\n",
    "pg.mwu(purchases_descent, purchases_top)"
   ]
  },
  {
   "cell_type": "code",
   "execution_count": 62,
   "id": "9bdf12dc",
   "metadata": {},
   "outputs": [
    {
     "name": "stderr",
     "output_type": "stream",
     "text": [
      "100%|██████████████████████████████████████████████████████████████████████████████████████| 100/100 [00:01<00:00, 57.37it/s]"
     ]
    },
    {
     "name": "stdout",
     "output_type": "stream",
     "text": [
      "0.51\n"
     ]
    },
    {
     "name": "stderr",
     "output_type": "stream",
     "text": [
      "\n"
     ]
    }
   ],
   "source": [
    "# Проверим кол-во ошибок в тесте, используем Scipy, тк он работает быстрее\n",
    "# Мощность\n",
    "\n",
    "mw_total_1 = []\n",
    "\n",
    "n = 100\n",
    "\n",
    "for _ in tqdm(range(n)):\n",
    "    \n",
    "    top_d = top_dist(top_len)\n",
    "    descent_d = descent_dist(descent_len)  \n",
    "    \n",
    "    result = ss.mannwhitneyu(top_d, descent_d)[1] < 0.05\n",
    "    \n",
    "    mw_total_1.append(result)\n",
    "\n",
    "print(sum(mw_total_1) / n)"
   ]
  },
  {
   "cell_type": "code",
   "execution_count": 63,
   "id": "591741be",
   "metadata": {},
   "outputs": [
    {
     "name": "stderr",
     "output_type": "stream",
     "text": [
      "100%|██████████████████████████████████████████████████████████████████████████████████████| 100/100 [00:01<00:00, 52.23it/s]"
     ]
    },
    {
     "name": "stdout",
     "output_type": "stream",
     "text": [
      "0.72\n"
     ]
    },
    {
     "name": "stderr",
     "output_type": "stream",
     "text": [
      "\n"
     ]
    }
   ],
   "source": [
    "# Тендцения ошибаться\n",
    "\n",
    "mw_total_2 = []\n",
    "\n",
    "n = 100\n",
    "\n",
    "for _ in tqdm(range(n)):\n",
    "    \n",
    "    top_d = top_dist_equal(top_len)\n",
    "    descent_d = descent_dist(descent_len)  \n",
    "    \n",
    "    result = ss.mannwhitneyu(top_d, descent_d)[1] < 0.05\n",
    "    \n",
    "    mw_total_2.append(result)\n",
    "\n",
    "print(sum(mw_total_2) / n)"
   ]
  },
  {
   "cell_type": "markdown",
   "id": "fd633c84",
   "metadata": {},
   "source": [
    "Поскольку p-value находится в районе 0.05, а common language effect size не так далеко от 50%, здесь ситуация пограничная, но и мощность и тенденция к ошибкам 1го рода находятся на неприемлемых уровнях."
   ]
  },
  {
   "cell_type": "markdown",
   "id": "1ae6b223",
   "metadata": {},
   "source": [
    "Посмотрим на бутстрэп, где Н0 - статистически значимых различий между средними нет, Н1 - есть."
   ]
  },
  {
   "cell_type": "code",
   "execution_count": 64,
   "id": "81a37fb4",
   "metadata": {},
   "outputs": [
    {
     "data": {
      "text/plain": [
       "array([-0.01,  0.42])"
      ]
     },
     "execution_count": 64,
     "metadata": {},
     "output_type": "execute_result"
    }
   ],
   "source": [
    "# Бутстрэп\n",
    "\n",
    "pg.compute_bootci(purchases_top, \n",
    "                  purchases_descent, \n",
    "                  n_boot=10000, \n",
    "                  func=lambda x, y: np.mean(x) - np.mean(y))"
   ]
  },
  {
   "cell_type": "code",
   "execution_count": 65,
   "id": "134afc61",
   "metadata": {
    "scrolled": true
   },
   "outputs": [
    {
     "name": "stderr",
     "output_type": "stream",
     "text": [
      "100%|██████████████████████████████████████████████████████████████████████████████████████████| 1/1 [00:07<00:00,  7.05s/it]"
     ]
    },
    {
     "name": "stdout",
     "output_type": "stream",
     "text": [
      "1.0\n"
     ]
    },
    {
     "name": "stderr",
     "output_type": "stream",
     "text": [
      "\n"
     ]
    }
   ],
   "source": [
    "# Мощность\n",
    "\n",
    "bs_total_1 = []\n",
    "\n",
    "n = 1\n",
    "\n",
    "for _ in tqdm(range(n)):\n",
    "    \n",
    "    top_d = top_dist(top_len)\n",
    "    descent_d = descent_dist(descent_len) \n",
    "    \n",
    "    bs = pg.compute_bootci(top_d, descent_d, \n",
    "                           n_boot=10000, \n",
    "                           func=lambda x, y: np.mean(x) - np.mean(y))\n",
    "    \n",
    "    result = np.sign(bs[0]) == np.sign(bs[1])\n",
    "    \n",
    "    bs_total_1.append(result)\n",
    "\n",
    "print(sum(bs_total_1) / n)"
   ]
  },
  {
   "cell_type": "code",
   "execution_count": 66,
   "id": "6634db38",
   "metadata": {},
   "outputs": [
    {
     "name": "stderr",
     "output_type": "stream",
     "text": [
      "100%|██████████████████████████████████████████████████████████████████████████████████████████| 1/1 [00:07<00:00,  7.17s/it]"
     ]
    },
    {
     "name": "stdout",
     "output_type": "stream",
     "text": [
      "0.0\n"
     ]
    },
    {
     "name": "stderr",
     "output_type": "stream",
     "text": [
      "\n"
     ]
    }
   ],
   "source": [
    "# Тенденция ошибаться\n",
    "\n",
    "bs_total_2 = []\n",
    "\n",
    "n = 1\n",
    "\n",
    "for _ in tqdm(range(n)):\n",
    "    \n",
    "    top_d = top_dist_equal(top_len)\n",
    "    descent_d = descent_dist(descent_len) \n",
    "    \n",
    "    bs = pg.compute_bootci(top_d, descent_d, \n",
    "                           n_boot=10000, \n",
    "                           func=lambda x, y: np.mean(x) - np.mean(y))\n",
    "    \n",
    "    result = np.sign(bs[0]) == np.sign(bs[1])\n",
    "    \n",
    "    bs_total_2.append(result)\n",
    "\n",
    "print(sum(bs_total_2) / n)"
   ]
  },
  {
   "cell_type": "markdown",
   "id": "993b8726",
   "metadata": {},
   "source": [
    "Бутстрэп показал лучшие результаты, но мощность все равно не дотягивает до стандартного значения в 80%.\n",
    "\n",
    "Поскольку на MDE мы в данном случае повлиять не можем, он такой, какой есть, то чтобы получить более качественные тесты нужно подождать, пока соберется достаточная выборка в группе с заказами с 10 предыдущими покупками, туда же можно будет добавить и большее кол-во покупок.\n",
    "\n",
    "Рассчитаем необходимое минимальное количество, чтобы получить тесты с качественными результатами."
   ]
  },
  {
   "cell_type": "code",
   "execution_count": 67,
   "id": "9f8cb260",
   "metadata": {},
   "outputs": [
    {
     "name": "stderr",
     "output_type": "stream",
     "text": [
      "100%|██████████████████████████████████████████████████████████████████████████████████████████| 7/7 [00:20<00:00,  2.95s/it]\n"
     ]
    }
   ],
   "source": [
    "# Создадим листы для сбора результатов\n",
    "\n",
    "n_list = []\n",
    "tt1 = []\n",
    "tt2 = []\n",
    "mw1 = []\n",
    "mw2 = []\n",
    "\n",
    "# Зададим кол-во итераций\n",
    "n = 100\n",
    "\n",
    "for i in tqdm([top_len, 250, 300, 350, 400, 450, 500]):\n",
    "    \n",
    "    # Создадим аналогичные локальные листы    \n",
    "    tt_total_1 = []\n",
    "    tt_total_2 = []\n",
    "    mw_total_1 = []\n",
    "    mw_total_2 = []\n",
    "    \n",
    "    for _ in range(n):\n",
    "        \n",
    "        # Сгенерируем выборки заданного размера\n",
    "        top_d = top_dist(i)\n",
    "        top_d_equal = top_dist_equal(i)\n",
    "        descent_d = descent_dist(descent_len)\n",
    "        \n",
    "        # Сохраним результаты тестов для выборок\n",
    "        t_result_1 = ss.ttest_ind(top_d, descent_d, equal_var=False)[1] < 0.05\n",
    "        t_result_2 = ss.ttest_ind(top_d_equal, descent_d, equal_var=False)[1] < 0.05\n",
    "        mw_result_1 = ss.mannwhitneyu(top_d, descent_d)[1] < 0.05\n",
    "        mw_result_2 = ss.mannwhitneyu(top_d_equal, descent_d)[1] < 0.05\n",
    "        \n",
    "        # Запишем результаты в листы\n",
    "        tt_total_1.append(t_result_1)\n",
    "        tt_total_2.append(t_result_2)\n",
    "        mw_total_1.append(mw_result_1)\n",
    "        mw_total_2.append(mw_result_2)\n",
    "    \n",
    "    # Посчитаем долю, т.е. мощность и тенденцию к ошибкам\n",
    "    n_list.append(i)\n",
    "    tt1.append(sum(tt_total_1) / n)\n",
    "    tt2.append(sum(tt_total_2) / n)\n",
    "    mw1.append(sum(mw_total_1) / n)\n",
    "    mw2.append(sum(mw_total_2) / n)"
   ]
  },
  {
   "cell_type": "code",
   "execution_count": 68,
   "id": "a2137aca",
   "metadata": {},
   "outputs": [],
   "source": [
    "# Подготовим результаты для визуализации\n",
    "\n",
    "size_needed = pd.DataFrame(index=n_list, \n",
    "                           data={'tt1': tt1, \n",
    "                                 'tt2': tt2, \n",
    "                                 'mw1': mw1, \n",
    "                                 'mw2': mw2}).stack() \\\n",
    "                                             .reset_index()"
   ]
  },
  {
   "cell_type": "code",
   "execution_count": 69,
   "id": "8b7ede12",
   "metadata": {},
   "outputs": [],
   "source": [
    "size_needed.columns = ['n', 'test', 'result']"
   ]
  },
  {
   "cell_type": "code",
   "execution_count": 70,
   "id": "a61ea10c",
   "metadata": {},
   "outputs": [
    {
     "data": {
      "text/plain": [
       "[Text(0.5, 0, 'Размер выборки'), Text(0, 0.5, 'Мощность теста')]"
      ]
     },
     "execution_count": 70,
     "metadata": {},
     "output_type": "execute_result"
    },
    {
     "data": {
      "image/png": "[encoded data removed]",
      "text/plain": [
       "<Figure size 640x480 with 1 Axes>"
      ]
     },
     "metadata": {},
     "output_type": "display_data"
    }
   ],
   "source": [
    "# Посмотрим на мощность\n",
    "\n",
    "power_lp = sns.lineplot(data=size_needed[(size_needed.test == 'tt1') \n",
    "                                      | (size_needed.test == 'mw1')], \n",
    "                     x='n', \n",
    "                     y='result', \n",
    "                     hue='test')\n",
    "power_lp.axhline(0.8, ls='--', color='red')\n",
    "power_lp.set(xlabel='Размер выборки',\n",
    "             ylabel='Мощность теста')"
   ]
  },
  {
   "cell_type": "code",
   "execution_count": 71,
   "id": "f999dfa2",
   "metadata": {},
   "outputs": [
    {
     "data": {
      "text/plain": [
       "[Text(0.5, 0, 'Размер выборки'), Text(0, 0.5, 'Вероятность ошибки')]"
      ]
     },
     "execution_count": 71,
     "metadata": {},
     "output_type": "execute_result"
    },
    {
     "data": {
      "image/png": "[encoded data removed]",
      "text/plain": [
       "<Figure size 640x480 with 1 Axes>"
      ]
     },
     "metadata": {},
     "output_type": "display_data"
    }
   ],
   "source": [
    "# Посмотрим на тенденцию ошибаться\n",
    "\n",
    "mistake_lp = sns.lineplot(data=size_needed[(size_needed.test == 'tt2') \n",
    "                                      | (size_needed.test == 'mw2')], \n",
    "                     x='n', \n",
    "                     y='result', \n",
    "                     hue='test')\n",
    "mistake_lp.axhline(0.05, ls='--', color='red')\n",
    "mistake_lp.set(xlabel='Размер выборки',\n",
    "               ylabel='Вероятность ошибки')"
   ]
  },
  {
   "cell_type": "markdown",
   "id": "53f1e40b",
   "metadata": {},
   "source": [
    "Очевидно, что тест Манна-Уитни для этого набора данных не подходит, судя по всему, из-за большого кол-ва повторных значений. Для Т-теста нужна выборка 500 человек, чтобы и мощность и тенденция к ошибке находились на приемлемом уровне.\n",
    "\n",
    "Посмотрим на необходимые значения для бутстрэпа."
   ]
  },
  {
   "cell_type": "code",
   "execution_count": 72,
   "id": "604eecf0",
   "metadata": {},
   "outputs": [
    {
     "name": "stderr",
     "output_type": "stream",
     "text": [
      "100%|██████████████████████████████████████████████████████████████████████████████████████████| 4/4 [00:57<00:00, 14.30s/it]\n"
     ]
    }
   ],
   "source": [
    "n_list_bs = []\n",
    "bs1 = []\n",
    "bs2 = []\n",
    "\n",
    "n = 1\n",
    "\n",
    "for i in tqdm([top_len, 300, 400, 500]):\n",
    "    bs_total_1 = []\n",
    "    bs_total_2 = []\n",
    "    for _ in range(n):\n",
    "        top_d = top_dist(i)\n",
    "        top_d_equal = top_dist_equal(i)\n",
    "        descent_d = descent_dist(descent_len)\n",
    "        \n",
    "        bs_1 = pg.compute_bootci(top_d, descent_d, \n",
    "                                 n_boot=10000, \n",
    "                                 func=lambda x, y: np.mean(x) - np.mean(y))    \n",
    "        bs_2 = pg.compute_bootci(top_d_equal, descent_d, \n",
    "                                 n_boot=10000, \n",
    "                                 func=lambda x, y: np.mean(x) - np.mean(y))\n",
    "        \n",
    "        result_1 = np.sign(bs_1[0]) == np.sign(bs_1[1])\n",
    "        result_2 = np.sign(bs_2[0]) == np.sign(bs_2[1])\n",
    "        \n",
    "        bs_total_1.append(result_1)\n",
    "        bs_total_2.append(result_2)\n",
    "    \n",
    "    n_list_bs.append(i)\n",
    "    bs1.append(sum(bs_total_1) / n)\n",
    "    bs2.append(sum(bs_total_2) / n)"
   ]
  },
  {
   "cell_type": "code",
   "execution_count": 73,
   "id": "fd9941e8",
   "metadata": {},
   "outputs": [],
   "source": [
    "# Подготовим данные для визуализации\n",
    "\n",
    "bs_size = pd.DataFrame(index=n_list_bs, \n",
    "                       data={'bs1': bs1, \n",
    "                             'bs2': bs2}).stack() \\\n",
    "                                         .reset_index()"
   ]
  },
  {
   "cell_type": "code",
   "execution_count": 74,
   "id": "ec57cbd6",
   "metadata": {},
   "outputs": [],
   "source": [
    "bs_size.columns = ['n', 'test', 'result']"
   ]
  },
  {
   "cell_type": "code",
   "execution_count": 75,
   "id": "99093729",
   "metadata": {},
   "outputs": [
    {
     "data": {
      "text/html": [
       "<div>\n",
       "<style scoped>\n",
       "    .dataframe tbody tr th:only-of-type {\n",
       "        vertical-align: middle;\n",
       "    }\n",
       "\n",
       "    .dataframe tbody tr th {\n",
       "        vertical-align: top;\n",
       "    }\n",
       "\n",
       "    .dataframe thead th {\n",
       "        text-align: right;\n",
       "    }\n",
       "</style>\n",
       "<table border=\"1\" class=\"dataframe\">\n",
       "  <thead>\n",
       "    <tr style=\"text-align: right;\">\n",
       "      <th></th>\n",
       "      <th>n</th>\n",
       "      <th>test</th>\n",
       "      <th>result</th>\n",
       "    </tr>\n",
       "  </thead>\n",
       "  <tbody>\n",
       "    <tr>\n",
       "      <th>0</th>\n",
       "      <td>178</td>\n",
       "      <td>bs1</td>\n",
       "      <td>1.0</td>\n",
       "    </tr>\n",
       "    <tr>\n",
       "      <th>1</th>\n",
       "      <td>178</td>\n",
       "      <td>bs2</td>\n",
       "      <td>0.0</td>\n",
       "    </tr>\n",
       "    <tr>\n",
       "      <th>2</th>\n",
       "      <td>300</td>\n",
       "      <td>bs1</td>\n",
       "      <td>0.0</td>\n",
       "    </tr>\n",
       "    <tr>\n",
       "      <th>3</th>\n",
       "      <td>300</td>\n",
       "      <td>bs2</td>\n",
       "      <td>0.0</td>\n",
       "    </tr>\n",
       "    <tr>\n",
       "      <th>4</th>\n",
       "      <td>400</td>\n",
       "      <td>bs1</td>\n",
       "      <td>1.0</td>\n",
       "    </tr>\n",
       "    <tr>\n",
       "      <th>5</th>\n",
       "      <td>400</td>\n",
       "      <td>bs2</td>\n",
       "      <td>0.0</td>\n",
       "    </tr>\n",
       "    <tr>\n",
       "      <th>6</th>\n",
       "      <td>500</td>\n",
       "      <td>bs1</td>\n",
       "      <td>1.0</td>\n",
       "    </tr>\n",
       "    <tr>\n",
       "      <th>7</th>\n",
       "      <td>500</td>\n",
       "      <td>bs2</td>\n",
       "      <td>0.0</td>\n",
       "    </tr>\n",
       "  </tbody>\n",
       "</table>\n",
       "</div>"
      ],
      "text/plain": [
       "     n test  result\n",
       "0  178  bs1     1.0\n",
       "1  178  bs2     0.0\n",
       "2  300  bs1     0.0\n",
       "3  300  bs2     0.0\n",
       "4  400  bs1     1.0\n",
       "5  400  bs2     0.0\n",
       "6  500  bs1     1.0\n",
       "7  500  bs2     0.0"
      ]
     },
     "execution_count": 75,
     "metadata": {},
     "output_type": "execute_result"
    }
   ],
   "source": [
    "bs_size"
   ]
  },
  {
   "cell_type": "code",
   "execution_count": 76,
   "id": "8837c25b",
   "metadata": {},
   "outputs": [
    {
     "data": {
      "text/plain": [
       "[Text(0.5, 0, 'Размер выборки'), Text(0, 0.5, 'Вероятность')]"
      ]
     },
     "execution_count": 76,
     "metadata": {},
     "output_type": "execute_result"
    },
    {
     "data": {
      "image/png": "[encoded data removed]",
      "text/plain": [
       "<Figure size 640x480 with 1 Axes>"
      ]
     },
     "metadata": {},
     "output_type": "display_data"
    }
   ],
   "source": [
    "# Посмотрим на кол-во ошибок 1го и 2го рода\n",
    "\n",
    "lp = sns.lineplot(data=bs_size, \n",
    "                  x='n', \n",
    "                  y='result', \n",
    "                  hue='test')\n",
    "lp.axhline(0.8, ls='--', color='red')\n",
    "lp.axhline(0.05, ls='--', color='red')\n",
    "lp.set(xlabel='Размер выборки',\n",
    "       ylabel='Вероятность')"
   ]
  },
  {
   "cell_type": "code",
   "execution_count": null,
   "id": "b38cf4db",
   "metadata": {},
   "outputs": [],
   "source": []
  },
  {
   "cell_type": "code",
   "execution_count": null,
   "id": "74670429",
   "metadata": {},
   "outputs": [],
   "source": []
  },
  {
   "cell_type": "code",
   "execution_count": null,
   "id": "f23628ad",
   "metadata": {},
   "outputs": [],
   "source": []
  },
  {
   "cell_type": "code",
   "execution_count": null,
   "id": "be969b40",
   "metadata": {},
   "outputs": [],
   "source": []
  },
  {
   "cell_type": "code",
   "execution_count": null,
   "id": "ab74f0b0",
   "metadata": {},
   "outputs": [],
   "source": []
  },
  {
   "cell_type": "markdown",
   "id": "3d2801d8",
   "metadata": {},
   "source": [
    "ВЫВОДЫ ПО БОЛЬШИМ ВЫБОРКАМ!!!"
   ]
  },
  {
   "cell_type": "code",
   "execution_count": null,
   "id": "d13b40bd",
   "metadata": {},
   "outputs": [],
   "source": []
  },
  {
   "cell_type": "code",
   "execution_count": null,
   "id": "585f73b9",
   "metadata": {},
   "outputs": [],
   "source": []
  },
  {
   "cell_type": "code",
   "execution_count": null,
   "id": "c1773ffb",
   "metadata": {},
   "outputs": [],
   "source": []
  },
  {
   "cell_type": "code",
   "execution_count": null,
   "id": "9e165d37",
   "metadata": {},
   "outputs": [],
   "source": []
  },
  {
   "cell_type": "code",
   "execution_count": null,
   "id": "9a586a29",
   "metadata": {},
   "outputs": [],
   "source": []
  },
  {
   "cell_type": "markdown",
   "id": "d15c3772",
   "metadata": {},
   "source": [
    "Размер скидки по логике должен положительно влиять на удовлетворенность заказом, тк выгодная покупка это всегда приятно."
   ]
  },
  {
   "cell_type": "code",
   "execution_count": 77,
   "id": "cda0fd1b",
   "metadata": {},
   "outputs": [],
   "source": [
    "# посмотрим на средние значения рейтинга для разных размеров скидок\n",
    "\n",
    "discount_rating = avg_rating(df.discount_offered)"
   ]
  },
  {
   "cell_type": "code",
   "execution_count": 78,
   "id": "6fa09c80",
   "metadata": {},
   "outputs": [
    {
     "data": {
      "text/html": [
       "<div>\n",
       "<style scoped>\n",
       "    .dataframe tbody tr th:only-of-type {\n",
       "        vertical-align: middle;\n",
       "    }\n",
       "\n",
       "    .dataframe tbody tr th {\n",
       "        vertical-align: top;\n",
       "    }\n",
       "\n",
       "    .dataframe thead th {\n",
       "        text-align: right;\n",
       "    }\n",
       "</style>\n",
       "<table border=\"1\" class=\"dataframe\">\n",
       "  <thead>\n",
       "    <tr style=\"text-align: right;\">\n",
       "      <th></th>\n",
       "      <th>discount_offered</th>\n",
       "      <th>customer_rating</th>\n",
       "    </tr>\n",
       "  </thead>\n",
       "  <tbody>\n",
       "    <tr>\n",
       "      <th>0</th>\n",
       "      <td>1</td>\n",
       "      <td>2.99</td>\n",
       "    </tr>\n",
       "    <tr>\n",
       "      <th>1</th>\n",
       "      <td>2</td>\n",
       "      <td>3.05</td>\n",
       "    </tr>\n",
       "    <tr>\n",
       "      <th>2</th>\n",
       "      <td>3</td>\n",
       "      <td>2.96</td>\n",
       "    </tr>\n",
       "    <tr>\n",
       "      <th>3</th>\n",
       "      <td>4</td>\n",
       "      <td>2.92</td>\n",
       "    </tr>\n",
       "    <tr>\n",
       "      <th>4</th>\n",
       "      <td>5</td>\n",
       "      <td>3.00</td>\n",
       "    </tr>\n",
       "  </tbody>\n",
       "</table>\n",
       "</div>"
      ],
      "text/plain": [
       "   discount_offered  customer_rating\n",
       "0                 1             2.99\n",
       "1                 2             3.05\n",
       "2                 3             2.96\n",
       "3                 4             2.92\n",
       "4                 5             3.00"
      ]
     },
     "execution_count": 78,
     "metadata": {},
     "output_type": "execute_result"
    }
   ],
   "source": [
    "discount_rating.head()"
   ]
  },
  {
   "cell_type": "code",
   "execution_count": 79,
   "id": "2a79237a",
   "metadata": {},
   "outputs": [
    {
     "data": {
      "text/plain": [
       "Text(0, 0, '')"
      ]
     },
     "execution_count": 79,
     "metadata": {},
     "output_type": "execute_result"
    },
    {
     "data": {
      "image/png": "[encoded data removed]",
      "text/plain": [
       "<Figure size 1000x500 with 1 Axes>"
      ]
     },
     "metadata": {},
     "output_type": "display_data"
    }
   ],
   "source": [
    "plt.figure(figsize=(10,5))\n",
    "discount_rating_bp = create_bp(discount_rating)\n",
    "discount_rating_bp.set(xlabel='Предложенная скидка',\n",
    "                       ylabel='Средний рейтинг заказа')\n",
    "discount_rating_bp.set_xticklabels(discount_rating_bp.get_xticklabels(), rotation=90)\n",
    "discount_rating_bp.text(0, 0, '')"
   ]
  },
  {
   "cell_type": "markdown",
   "id": "b5d46c01",
   "metadata": {},
   "source": [
    "Никакой тенденции на графике не видно, единственная разница - до размера скидки в 10% меньше разброс, что объясняется значительно большим размером выборок для этих значений, средняя при этом сохраняется, убедимся в этом сравнив средние двух групп, которые мы уже выделяли для скидок - до 10% и более 10%."
   ]
  },
  {
   "cell_type": "code",
   "execution_count": 80,
   "id": "e751432d",
   "metadata": {},
   "outputs": [
    {
     "data": {
      "text/plain": [
       "2.99"
      ]
     },
     "execution_count": 80,
     "metadata": {},
     "output_type": "execute_result"
    }
   ],
   "source": [
    "round(df[df.discount_offered <= 10].customer_rating.mean(), 2)"
   ]
  },
  {
   "cell_type": "code",
   "execution_count": 81,
   "id": "6111dde3",
   "metadata": {},
   "outputs": [
    {
     "data": {
      "text/plain": [
       "2.99"
      ]
     },
     "execution_count": 81,
     "metadata": {},
     "output_type": "execute_result"
    }
   ],
   "source": [
    "round(df[df.discount_offered > 10].customer_rating.mean(), 2)"
   ]
  },
  {
   "cell_type": "markdown",
   "id": "3d76224d",
   "metadata": {},
   "source": [
    "Средний реитинг у обеих групп одинаковый, поэтому идею о влиянии скидки на уровень оценки удовлетворенности похоже не влияет."
   ]
  },
  {
   "cell_type": "markdown",
   "id": "5d7823fa",
   "metadata": {},
   "source": [
    "Вес посылки может влиять на общий настрой клиента в формате - чем выше вес, тем больше он рад, что ему доставили заказ, и не пришлось тащить его на себе."
   ]
  },
  {
   "cell_type": "code",
   "execution_count": 82,
   "id": "9820e77b",
   "metadata": {},
   "outputs": [],
   "source": [
    "# посмотрим на средние значения рейтинга для разного веса посылок\n",
    "\n",
    "weights_rating = avg_rating(df.weight_groups)"
   ]
  },
  {
   "cell_type": "code",
   "execution_count": 83,
   "id": "e38fc87b",
   "metadata": {},
   "outputs": [
    {
     "data": {
      "text/html": [
       "<div>\n",
       "<style scoped>\n",
       "    .dataframe tbody tr th:only-of-type {\n",
       "        vertical-align: middle;\n",
       "    }\n",
       "\n",
       "    .dataframe tbody tr th {\n",
       "        vertical-align: top;\n",
       "    }\n",
       "\n",
       "    .dataframe thead th {\n",
       "        text-align: right;\n",
       "    }\n",
       "</style>\n",
       "<table border=\"1\" class=\"dataframe\">\n",
       "  <thead>\n",
       "    <tr style=\"text-align: right;\">\n",
       "      <th></th>\n",
       "      <th>weight_groups</th>\n",
       "      <th>customer_rating</th>\n",
       "    </tr>\n",
       "  </thead>\n",
       "  <tbody>\n",
       "    <tr>\n",
       "      <th>0</th>\n",
       "      <td>(0.0, 2000.0]</td>\n",
       "      <td>2.98</td>\n",
       "    </tr>\n",
       "    <tr>\n",
       "      <th>1</th>\n",
       "      <td>(2000.0, 4000.0]</td>\n",
       "      <td>3.00</td>\n",
       "    </tr>\n",
       "    <tr>\n",
       "      <th>2</th>\n",
       "      <td>(4000.0, 6000.0]</td>\n",
       "      <td>2.99</td>\n",
       "    </tr>\n",
       "    <tr>\n",
       "      <th>3</th>\n",
       "      <td>(6000.0, inf]</td>\n",
       "      <td>2.75</td>\n",
       "    </tr>\n",
       "  </tbody>\n",
       "</table>\n",
       "</div>"
      ],
      "text/plain": [
       "      weight_groups  customer_rating\n",
       "0     (0.0, 2000.0]             2.98\n",
       "1  (2000.0, 4000.0]             3.00\n",
       "2  (4000.0, 6000.0]             2.99\n",
       "3     (6000.0, inf]             2.75"
      ]
     },
     "execution_count": 83,
     "metadata": {},
     "output_type": "execute_result"
    }
   ],
   "source": [
    "weights_rating"
   ]
  },
  {
   "cell_type": "code",
   "execution_count": 84,
   "id": "fc9395bc",
   "metadata": {},
   "outputs": [
    {
     "data": {
      "text/plain": [
       "[Text(0.5, 0, 'Вес в граммах'), Text(0, 0.5, 'Средний рейтинг заказа')]"
      ]
     },
     "execution_count": 84,
     "metadata": {},
     "output_type": "execute_result"
    },
    {
     "data": {
      "image/png": "[encoded data removed]",
      "text/plain": [
       "<Figure size 640x480 with 1 Axes>"
      ]
     },
     "metadata": {},
     "output_type": "display_data"
    }
   ],
   "source": [
    "weights_rating_bp = create_bp(weights_rating)\n",
    "weights_rating_bp.set(xlabel='Вес в граммах',\n",
    "                      ylabel='Средний рейтинг заказа')"
   ]
  },
  {
   "cell_type": "markdown",
   "id": "77b94529",
   "metadata": {},
   "source": [
    "Мы видим обратную картину - чем больше вес посылки, тем ниже оценка. Наша идея не подтверждается, а искать оправдание цифрам не совсем верно. Есть варинт, что вес влияет на метрику, которая влияет на рейтинг, например, мелкие заказы чаще доставляются вовремя, а своевременность доставки влияет на рейтинг, но пока мы этого не знаем. Подобные корреляции мы поищем позже, когда и если найдем факторы влияющие на рейтинг."
   ]
  },
  {
   "cell_type": "markdown",
   "id": "ffd7922b",
   "metadata": {},
   "source": [
    "На разных складах могут по-разному упаковывать товары, обращаться с ними, находить товары с разной скоростью и т.д. То есть существует множество мелких факторов, которые могут повлиять на то, как быстро и в каком виде товар будет доставлен клиенту."
   ]
  },
  {
   "cell_type": "code",
   "execution_count": 85,
   "id": "5d3d8067",
   "metadata": {},
   "outputs": [],
   "source": [
    "# посмотрим, у каких складов самый высокий рейтинг\n",
    "\n",
    "warehouse_rating = avg_rating(df.warehouse_block).sort_values('customer_rating', ascending=False)"
   ]
  },
  {
   "cell_type": "code",
   "execution_count": 86,
   "id": "c9fe583b",
   "metadata": {},
   "outputs": [
    {
     "data": {
      "text/html": [
       "<div>\n",
       "<style scoped>\n",
       "    .dataframe tbody tr th:only-of-type {\n",
       "        vertical-align: middle;\n",
       "    }\n",
       "\n",
       "    .dataframe tbody tr th {\n",
       "        vertical-align: top;\n",
       "    }\n",
       "\n",
       "    .dataframe thead th {\n",
       "        text-align: right;\n",
       "    }\n",
       "</style>\n",
       "<table border=\"1\" class=\"dataframe\">\n",
       "  <thead>\n",
       "    <tr style=\"text-align: right;\">\n",
       "      <th></th>\n",
       "      <th>warehouse_block</th>\n",
       "      <th>customer_rating</th>\n",
       "    </tr>\n",
       "  </thead>\n",
       "  <tbody>\n",
       "    <tr>\n",
       "      <th>3</th>\n",
       "      <td>d</td>\n",
       "      <td>3.02</td>\n",
       "    </tr>\n",
       "    <tr>\n",
       "      <th>4</th>\n",
       "      <td>f</td>\n",
       "      <td>3.00</td>\n",
       "    </tr>\n",
       "    <tr>\n",
       "      <th>2</th>\n",
       "      <td>c</td>\n",
       "      <td>2.99</td>\n",
       "    </tr>\n",
       "    <tr>\n",
       "      <th>1</th>\n",
       "      <td>b</td>\n",
       "      <td>2.98</td>\n",
       "    </tr>\n",
       "    <tr>\n",
       "      <th>0</th>\n",
       "      <td>a</td>\n",
       "      <td>2.96</td>\n",
       "    </tr>\n",
       "  </tbody>\n",
       "</table>\n",
       "</div>"
      ],
      "text/plain": [
       "  warehouse_block  customer_rating\n",
       "3               d             3.02\n",
       "4               f             3.00\n",
       "2               c             2.99\n",
       "1               b             2.98\n",
       "0               a             2.96"
      ]
     },
     "execution_count": 86,
     "metadata": {},
     "output_type": "execute_result"
    }
   ],
   "source": [
    "warehouse_rating"
   ]
  },
  {
   "cell_type": "code",
   "execution_count": 87,
   "id": "3402632d",
   "metadata": {},
   "outputs": [
    {
     "data": {
      "text/plain": [
       "[Text(0.5, 0, 'Средний рейтинг заказа'), Text(0, 0.5, 'Склад')]"
      ]
     },
     "execution_count": 87,
     "metadata": {},
     "output_type": "execute_result"
    },
    {
     "data": {
      "image/png": "[encoded data removed]",
      "text/plain": [
       "<Figure size 640x480 with 1 Axes>"
      ]
     },
     "metadata": {},
     "output_type": "display_data"
    }
   ],
   "source": [
    "warehouse_rating_bp = sns.barplot(x=warehouse_rating.customer_rating, \n",
    "                                  y=warehouse_rating.warehouse_block,\n",
    "                                  color='green', \n",
    "                                  alpha=0.7)\n",
    "warehouse_rating_bp.set(xlabel='Средний рейтинг заказа',\n",
    "                        ylabel='Склад')"
   ]
  },
  {
   "cell_type": "markdown",
   "id": "49aa8343",
   "metadata": {},
   "source": [
    "Теперь осталось проверить насколько значимыми являются эти различия.\n",
    "\n",
    "Проведем однофакторный ANOVA. \n",
    "Для этого необходимо проверить наши выборки на гомоскедастичность при помощи теста Левена, где Н0 говорит о том, что выборки взяты из ГС с одинаковой дисперсией, а Н1 - что с разной.\n",
    "Нормальность распределений здесь не является обязательной, тк выборки достаточно больших размеров."
   ]
  },
  {
   "cell_type": "code",
   "execution_count": 88,
   "id": "2167d880",
   "metadata": {},
   "outputs": [
    {
     "data": {
      "text/plain": [
       "<seaborn.axisgrid.FacetGrid at 0x2e1803ef280>"
      ]
     },
     "execution_count": 88,
     "metadata": {},
     "output_type": "execute_result"
    },
    {
     "data": {
      "image/png": "[encoded data removed]",
      "text/plain": [
       "<Figure size 1500x300 with 5 Axes>"
      ]
     },
     "metadata": {},
     "output_type": "display_data"
    }
   ],
   "source": [
    "# для начала посмотрим на распределения, \n",
    "# чтобы выбрать подходящую функцию в тесте Левена\n",
    "\n",
    "g = sns.FacetGrid(df, col=\"warehouse_block\")\n",
    "g.map(sns.histplot, \"customer_rating\", color='green', alpha=0.7)"
   ]
  },
  {
   "cell_type": "markdown",
   "id": "7677e6fe",
   "metadata": {},
   "source": [
    "Распределения похожи на равномерные, поэтому в качестве функции для теста выберем среднее."
   ]
  },
  {
   "cell_type": "code",
   "execution_count": 89,
   "id": "86d12743",
   "metadata": {},
   "outputs": [
    {
     "data": {
      "text/plain": [
       "LeveneResult(statistic=1.3845436921869758, pvalue=0.23647158932074816)"
      ]
     },
     "execution_count": 89,
     "metadata": {},
     "output_type": "execute_result"
    }
   ],
   "source": [
    "# тест Левена\n",
    "\n",
    "a = df[df.warehouse_block == 'a'].customer_rating\n",
    "b = df[df.warehouse_block == 'b'].customer_rating\n",
    "c = df[df.warehouse_block == 'c'].customer_rating\n",
    "d = df[df.warehouse_block == 'd'].customer_rating\n",
    "f = df[df.warehouse_block == 'f'].customer_rating\n",
    "\n",
    "ss.levene(a, b, c, d, f, center='mean')"
   ]
  },
  {
   "cell_type": "markdown",
   "id": "d2c9ea1c",
   "metadata": {},
   "source": [
    "При p-value > 0.05 у нас нет оснований, чтобы отвергнуть нулевую гипотезу. \n",
    "\n",
    "Можно проводить однофакторный Anova, где Н0 говорит о том, что средние в выборках не отличаются, Н1 - что есть статистически значимые отличия."
   ]
  },
  {
   "cell_type": "code",
   "execution_count": 90,
   "id": "6ec37727",
   "metadata": {},
   "outputs": [
    {
     "data": {
      "text/plain": [
       "F_onewayResult(statistic=0.47658916735432144, pvalue=0.7529756767708896)"
      ]
     },
     "execution_count": 90,
     "metadata": {},
     "output_type": "execute_result"
    }
   ],
   "source": [
    "# Однофакторный ANOVA\n",
    "\n",
    "ss.f_oneway(a, b, c, d, f)"
   ]
  },
  {
   "cell_type": "markdown",
   "id": "5041f4e7",
   "metadata": {},
   "source": [
    "При p-value > 0.05 у нас нет оснований, чтобы отвергнуть нулевую гипотезу, т.е. статичестически значимых отличий между выборками обнаружить не удалось."
   ]
  },
  {
   "cell_type": "code",
   "execution_count": 91,
   "id": "fe237310",
   "metadata": {},
   "outputs": [
    {
     "name": "stderr",
     "output_type": "stream",
     "text": [
      "100%|██████████████████████████████████████████████████████████████████████████████████████| 100/100 [00:01<00:00, 53.83it/s]"
     ]
    },
    {
     "name": "stdout",
     "output_type": "stream",
     "text": [
      "0.13\n"
     ]
    },
    {
     "name": "stderr",
     "output_type": "stream",
     "text": [
      "\n"
     ]
    }
   ],
   "source": [
    "# Проверим мощность теста\n",
    "\n",
    "results = []\n",
    "n = 100\n",
    "\n",
    "a_len = len(a)\n",
    "b_len = len(b)\n",
    "c_len = len(c)\n",
    "d_len = len(d)\n",
    "f_len = len(f)\n",
    "\n",
    "for _ in tqdm(range(n)):\n",
    "    \n",
    "    # Сгенерируем 5 распределений\n",
    "    a_m = a.value_counts(normalize=True) \\\n",
    "           .reset_index()\n",
    "    xk_a = a_m['index'].to_list()\n",
    "    pk_a = a_m.customer_rating.to_list()    \n",
    "    a_d = ss.rv_discrete(name='a_d', values=(xk_a, pk_a))\n",
    "    a_s = a_d.rvs(size=a_len)\n",
    "\n",
    "    b_m = b.value_counts(normalize=True) \\\n",
    "         .reset_index()\n",
    "    xk_b = b_m['index'].to_list()\n",
    "    pk_b = b_m.customer_rating.to_list()    \n",
    "    b_d = ss.rv_discrete(name='b_d', values=(xk_b, pk_b))\n",
    "    b_s = b_d.rvs(size=b_len)\n",
    "    \n",
    "    c_m = c.value_counts(normalize=True) \\\n",
    "         .reset_index()\n",
    "    xk_c = c_m['index'].to_list()\n",
    "    pk_c = c_m.customer_rating.to_list()    \n",
    "    c_d = ss.rv_discrete(name='c_d', values=(xk_c, pk_c))\n",
    "    c_s = c_d.rvs(size=c_len)\n",
    "    \n",
    "    d_m = d.value_counts(normalize=True) \\\n",
    "         .reset_index()\n",
    "    xk_d = d_m['index'].to_list()\n",
    "    pk_d = d_m.customer_rating.to_list()    \n",
    "    d_d = ss.rv_discrete(name='d_d', values=(xk_d, pk_d))\n",
    "    d_s = d_d.rvs(size=d_len)\n",
    "    \n",
    "    f_m = f.value_counts(normalize=True) \\\n",
    "         .reset_index()\n",
    "    xk_f = f_m['index'].to_list()\n",
    "    pk_f = f_m.customer_rating.to_list()    \n",
    "    f_d = ss.rv_discrete(name='f_d', values=(xk_f, pk_f))\n",
    "    f_s = f_d.rvs(size=f_len)\n",
    "    \n",
    "    result = ss.f_oneway(a_s, b_s, c_s, d_s, f_s).pvalue < 0.05\n",
    "    results.append(result)\n",
    "\n",
    "print(sum(results) / n)"
   ]
  },
  {
   "cell_type": "markdown",
   "id": "99171596",
   "metadata": {},
   "source": [
    "Мощность теста очень низкая, очевидно, что при наличии выборок приличных размеров дело в MDE. \n",
    "\n",
    "Если бизнес находится на ранней стадии и/или объемы небольшие, то лучше искать более очевидные вещи. Если же это развитый проект, который находится на стадии масштабирования и изменение любой метрики на 0,01 оказывает мощный эффект на прибыль в абсолютных значениях за счет больших объемов, то нужно копать дальше и брать бОльшие выборки, либо использовать более хитрые способы тестирования. \n",
    "\n",
    "В рамках данного проекта чуть раньше мы уже считали тенденцию к ошибкам и необходимые размеры выборок для пары рейтинг - кол-во предыдущих покупок, чтобы выйти на приемлемые уровни ошибок 1го и 2го рода, но в данном случае я не вижу смысла это дублировать, разница в рейтингах минимальна и эффект влияния рейтинга на экономику продукта нам неизвестен."
   ]
  },
  {
   "cell_type": "markdown",
   "id": "b67e61d4",
   "metadata": {},
   "source": [
    "Способ доставки может влиять на скорость доставки и на то, в каком виде товар приехал, что в свою очередь может влиять на оценку."
   ]
  },
  {
   "cell_type": "code",
   "execution_count": 92,
   "id": "dd8b4468",
   "metadata": {},
   "outputs": [],
   "source": [
    "# посмотрим, у каких способов доставки самый высокий рейтинг\n",
    "\n",
    "shipment_rating = avg_rating(df.mode_of_shipment).sort_values('customer_rating', ascending=False)"
   ]
  },
  {
   "cell_type": "code",
   "execution_count": 93,
   "id": "2183f204",
   "metadata": {},
   "outputs": [
    {
     "data": {
      "text/html": [
       "<div>\n",
       "<style scoped>\n",
       "    .dataframe tbody tr th:only-of-type {\n",
       "        vertical-align: middle;\n",
       "    }\n",
       "\n",
       "    .dataframe tbody tr th {\n",
       "        vertical-align: top;\n",
       "    }\n",
       "\n",
       "    .dataframe thead th {\n",
       "        text-align: right;\n",
       "    }\n",
       "</style>\n",
       "<table border=\"1\" class=\"dataframe\">\n",
       "  <thead>\n",
       "    <tr style=\"text-align: right;\">\n",
       "      <th></th>\n",
       "      <th>mode_of_shipment</th>\n",
       "      <th>customer_rating</th>\n",
       "    </tr>\n",
       "  </thead>\n",
       "  <tbody>\n",
       "    <tr>\n",
       "      <th>1</th>\n",
       "      <td>road</td>\n",
       "      <td>3.00</td>\n",
       "    </tr>\n",
       "    <tr>\n",
       "      <th>2</th>\n",
       "      <td>ship</td>\n",
       "      <td>2.99</td>\n",
       "    </tr>\n",
       "    <tr>\n",
       "      <th>0</th>\n",
       "      <td>flight</td>\n",
       "      <td>2.98</td>\n",
       "    </tr>\n",
       "  </tbody>\n",
       "</table>\n",
       "</div>"
      ],
      "text/plain": [
       "  mode_of_shipment  customer_rating\n",
       "1             road             3.00\n",
       "2             ship             2.99\n",
       "0           flight             2.98"
      ]
     },
     "execution_count": 93,
     "metadata": {},
     "output_type": "execute_result"
    }
   ],
   "source": [
    "shipment_rating"
   ]
  },
  {
   "cell_type": "markdown",
   "id": "132a880e",
   "metadata": {},
   "source": [
    "Разница около нуля, на данном этапе идею отбрасываем."
   ]
  },
  {
   "cell_type": "markdown",
   "id": "ada23e3a",
   "metadata": {},
   "source": [
    "Приоритет по доставке может влиять положительно на рейтинг, тк если покупатель выбрал более высокий приоритет, то для него товар важен и в-целом, завершение заказа по нему должно оказывать более положительный эффект, чем доставка товара, который он особо не ждет."
   ]
  },
  {
   "cell_type": "code",
   "execution_count": 94,
   "id": "a51e11be",
   "metadata": {},
   "outputs": [],
   "source": [
    "# сравним средний рейтинг для разных приоритетов доставки\n",
    "\n",
    "importance_rating = avg_rating(df.product_importance).sort_values('customer_rating', ascending=False)"
   ]
  },
  {
   "cell_type": "code",
   "execution_count": 95,
   "id": "241b1000",
   "metadata": {},
   "outputs": [
    {
     "data": {
      "text/html": [
       "<div>\n",
       "<style scoped>\n",
       "    .dataframe tbody tr th:only-of-type {\n",
       "        vertical-align: middle;\n",
       "    }\n",
       "\n",
       "    .dataframe tbody tr th {\n",
       "        vertical-align: top;\n",
       "    }\n",
       "\n",
       "    .dataframe thead th {\n",
       "        text-align: right;\n",
       "    }\n",
       "</style>\n",
       "<table border=\"1\" class=\"dataframe\">\n",
       "  <thead>\n",
       "    <tr style=\"text-align: right;\">\n",
       "      <th></th>\n",
       "      <th>product_importance</th>\n",
       "      <th>customer_rating</th>\n",
       "    </tr>\n",
       "  </thead>\n",
       "  <tbody>\n",
       "    <tr>\n",
       "      <th>2</th>\n",
       "      <td>medium</td>\n",
       "      <td>3.00</td>\n",
       "    </tr>\n",
       "    <tr>\n",
       "      <th>0</th>\n",
       "      <td>high</td>\n",
       "      <td>2.99</td>\n",
       "    </tr>\n",
       "    <tr>\n",
       "      <th>1</th>\n",
       "      <td>low</td>\n",
       "      <td>2.98</td>\n",
       "    </tr>\n",
       "  </tbody>\n",
       "</table>\n",
       "</div>"
      ],
      "text/plain": [
       "  product_importance  customer_rating\n",
       "2             medium             3.00\n",
       "0               high             2.99\n",
       "1                low             2.98"
      ]
     },
     "execution_count": 95,
     "metadata": {},
     "output_type": "execute_result"
    }
   ],
   "source": [
    "importance_rating"
   ]
  },
  {
   "cell_type": "markdown",
   "id": "940d1886",
   "metadata": {},
   "source": [
    "Минимальная разница, идею отбрасываем."
   ]
  },
  {
   "cell_type": "markdown",
   "id": "82a824a3",
   "metadata": {},
   "source": [
    "Разница между полами может быть обусловлена многими факторами, начиная от природных, заканчивая приоритетами наших рекламных, маркетинговых компаний, дизайна и проч."
   ]
  },
  {
   "cell_type": "code",
   "execution_count": 96,
   "id": "a04af591",
   "metadata": {},
   "outputs": [],
   "source": [
    "# посмотрим на средний рейтинг у разных полов\n",
    "\n",
    "gender_rating = avg_rating(df.gender)"
   ]
  },
  {
   "cell_type": "code",
   "execution_count": 97,
   "id": "5db833c1",
   "metadata": {},
   "outputs": [
    {
     "data": {
      "text/html": [
       "<div>\n",
       "<style scoped>\n",
       "    .dataframe tbody tr th:only-of-type {\n",
       "        vertical-align: middle;\n",
       "    }\n",
       "\n",
       "    .dataframe tbody tr th {\n",
       "        vertical-align: top;\n",
       "    }\n",
       "\n",
       "    .dataframe thead th {\n",
       "        text-align: right;\n",
       "    }\n",
       "</style>\n",
       "<table border=\"1\" class=\"dataframe\">\n",
       "  <thead>\n",
       "    <tr style=\"text-align: right;\">\n",
       "      <th></th>\n",
       "      <th>gender</th>\n",
       "      <th>customer_rating</th>\n",
       "    </tr>\n",
       "  </thead>\n",
       "  <tbody>\n",
       "    <tr>\n",
       "      <th>0</th>\n",
       "      <td>f</td>\n",
       "      <td>2.99</td>\n",
       "    </tr>\n",
       "    <tr>\n",
       "      <th>1</th>\n",
       "      <td>m</td>\n",
       "      <td>2.99</td>\n",
       "    </tr>\n",
       "  </tbody>\n",
       "</table>\n",
       "</div>"
      ],
      "text/plain": [
       "  gender  customer_rating\n",
       "0      f             2.99\n",
       "1      m             2.99"
      ]
     },
     "execution_count": 97,
     "metadata": {},
     "output_type": "execute_result"
    }
   ],
   "source": [
    "gender_rating"
   ]
  },
  {
   "cell_type": "markdown",
   "id": "2deeae77",
   "metadata": {},
   "source": [
    "Разницы между полами в данном случае нет."
   ]
  },
  {
   "cell_type": "markdown",
   "id": "7ffc2df6",
   "metadata": {},
   "source": [
    "Своевременность доставки по логике должна влиять положительно на оценку клиента."
   ]
  },
  {
   "cell_type": "code",
   "execution_count": 98,
   "id": "7fff299e",
   "metadata": {},
   "outputs": [],
   "source": [
    "# посмотрим на средний рейтинг 2х групп заказов - доставленных вовремя и с опозданием\n",
    "\n",
    "class_rating = avg_rating(df['class'])"
   ]
  },
  {
   "cell_type": "code",
   "execution_count": 99,
   "id": "60ea45e5",
   "metadata": {},
   "outputs": [
    {
     "data": {
      "text/html": [
       "<div>\n",
       "<style scoped>\n",
       "    .dataframe tbody tr th:only-of-type {\n",
       "        vertical-align: middle;\n",
       "    }\n",
       "\n",
       "    .dataframe tbody tr th {\n",
       "        vertical-align: top;\n",
       "    }\n",
       "\n",
       "    .dataframe thead th {\n",
       "        text-align: right;\n",
       "    }\n",
       "</style>\n",
       "<table border=\"1\" class=\"dataframe\">\n",
       "  <thead>\n",
       "    <tr style=\"text-align: right;\">\n",
       "      <th></th>\n",
       "      <th>class</th>\n",
       "      <th>customer_rating</th>\n",
       "    </tr>\n",
       "  </thead>\n",
       "  <tbody>\n",
       "    <tr>\n",
       "      <th>0</th>\n",
       "      <td>0</td>\n",
       "      <td>2.97</td>\n",
       "    </tr>\n",
       "    <tr>\n",
       "      <th>1</th>\n",
       "      <td>1</td>\n",
       "      <td>3.01</td>\n",
       "    </tr>\n",
       "  </tbody>\n",
       "</table>\n",
       "</div>"
      ],
      "text/plain": [
       "   class  customer_rating\n",
       "0      0             2.97\n",
       "1      1             3.01"
      ]
     },
     "execution_count": 99,
     "metadata": {},
     "output_type": "execute_result"
    }
   ],
   "source": [
    "class_rating"
   ]
  },
  {
   "cell_type": "markdown",
   "id": "e4cd7552",
   "metadata": {},
   "source": [
    "Здесь различие небольшое, но выборки максимальные, тк всего 2 группы. Проведем Т-тест и бутстрэп."
   ]
  },
  {
   "cell_type": "code",
   "execution_count": 100,
   "id": "52ddf13a",
   "metadata": {},
   "outputs": [],
   "source": [
    "good_delivery = df[df['class'] == 1].customer_rating\n",
    "bad_delivery = df[df['class'] == 0].customer_rating"
   ]
  },
  {
   "cell_type": "code",
   "execution_count": 101,
   "id": "0e8e2da1",
   "metadata": {},
   "outputs": [
    {
     "data": {
      "text/plain": [
       "Ttest_indResult(statistic=1.3837536056686037, pvalue=0.16646640499164828)"
      ]
     },
     "execution_count": 101,
     "metadata": {},
     "output_type": "execute_result"
    }
   ],
   "source": [
    "ss.ttest_ind(good_delivery, bad_delivery, equal_var=False)"
   ]
  },
  {
   "cell_type": "markdown",
   "id": "5848287b",
   "metadata": {},
   "source": [
    "При p-value > 0.05 у нас нет оснований, чтобы отвергнуть нулевую гипотезу и признать различия в средних статистически значимыми."
   ]
  },
  {
   "cell_type": "code",
   "execution_count": 102,
   "id": "6aba7bac",
   "metadata": {},
   "outputs": [],
   "source": [
    "# Посчитаем d Коэна для расчета мощности теста\n",
    "\n",
    "d = (good_delivery.mean() - bad_delivery.mean()) / \\\n",
    "    np.sqrt((np.std(good_delivery) ** 2 + np.std(bad_delivery) ** 2) / 2)"
   ]
  },
  {
   "cell_type": "code",
   "execution_count": 103,
   "id": "a8df7867",
   "metadata": {},
   "outputs": [
    {
     "data": {
      "text/plain": [
       "0.28272291380972475"
      ]
     },
     "execution_count": 103,
     "metadata": {},
     "output_type": "execute_result"
    }
   ],
   "source": [
    "# Мощность теста\n",
    "\n",
    "pg.power_ttest2n(len(bad_delivery), len(good_delivery), d=d, alpha=0.05)"
   ]
  },
  {
   "cell_type": "markdown",
   "id": "bfe8ad1b",
   "metadata": {},
   "source": [
    "И вновь, мощность теста низкая из-за слишком небольшой разницы между группами. Ситуация аналогичная описанным ранее."
   ]
  },
  {
   "cell_type": "markdown",
   "id": "04605077",
   "metadata": {},
   "source": [
    "Кажется, что для заказов с высоким приоритетом опоздания должны быть более критичны, чем для заказов с низким приоритетом. Посмотрим на взаимосвязи между группами."
   ]
  },
  {
   "cell_type": "code",
   "execution_count": 156,
   "id": "83c51709",
   "metadata": {},
   "outputs": [],
   "source": [
    "# Посмотрим на средний рейтинг в группах\n",
    "\n",
    "pi_class_rating = df.groupby(['product_importance', 'class'], as_index=False) \\\n",
    "                    .customer_rating.mean() \\\n",
    "                    .round(2) "
   ]
  },
  {
   "cell_type": "code",
   "execution_count": 157,
   "id": "c5077218",
   "metadata": {},
   "outputs": [
    {
     "data": {
      "text/html": [
       "<div>\n",
       "<style scoped>\n",
       "    .dataframe tbody tr th:only-of-type {\n",
       "        vertical-align: middle;\n",
       "    }\n",
       "\n",
       "    .dataframe tbody tr th {\n",
       "        vertical-align: top;\n",
       "    }\n",
       "\n",
       "    .dataframe thead th {\n",
       "        text-align: right;\n",
       "    }\n",
       "</style>\n",
       "<table border=\"1\" class=\"dataframe\">\n",
       "  <thead>\n",
       "    <tr style=\"text-align: right;\">\n",
       "      <th></th>\n",
       "      <th>product_importance</th>\n",
       "      <th>class</th>\n",
       "      <th>customer_rating</th>\n",
       "    </tr>\n",
       "  </thead>\n",
       "  <tbody>\n",
       "    <tr>\n",
       "      <th>0</th>\n",
       "      <td>high</td>\n",
       "      <td>0</td>\n",
       "      <td>2.99</td>\n",
       "    </tr>\n",
       "    <tr>\n",
       "      <th>1</th>\n",
       "      <td>high</td>\n",
       "      <td>1</td>\n",
       "      <td>3.00</td>\n",
       "    </tr>\n",
       "    <tr>\n",
       "      <th>2</th>\n",
       "      <td>low</td>\n",
       "      <td>0</td>\n",
       "      <td>2.99</td>\n",
       "    </tr>\n",
       "    <tr>\n",
       "      <th>3</th>\n",
       "      <td>low</td>\n",
       "      <td>1</td>\n",
       "      <td>2.98</td>\n",
       "    </tr>\n",
       "    <tr>\n",
       "      <th>4</th>\n",
       "      <td>medium</td>\n",
       "      <td>0</td>\n",
       "      <td>2.94</td>\n",
       "    </tr>\n",
       "    <tr>\n",
       "      <th>5</th>\n",
       "      <td>medium</td>\n",
       "      <td>1</td>\n",
       "      <td>3.04</td>\n",
       "    </tr>\n",
       "  </tbody>\n",
       "</table>\n",
       "</div>"
      ],
      "text/plain": [
       "  product_importance  class  customer_rating\n",
       "0               high      0             2.99\n",
       "1               high      1             3.00\n",
       "2                low      0             2.99\n",
       "3                low      1             2.98\n",
       "4             medium      0             2.94\n",
       "5             medium      1             3.04"
      ]
     },
     "execution_count": 157,
     "metadata": {},
     "output_type": "execute_result"
    }
   ],
   "source": [
    "pi_class_rating"
   ]
  },
  {
   "cell_type": "markdown",
   "id": "58f02543",
   "metadata": {},
   "source": [
    "Кол-во заказов с высоким рейтингом составляет не более 10%, возможно, при увеличении выборки мы получим другие значения, но на данный момент своевременность доставки на рейтинг удовлетворенности этой группы не влияет. Ожидаемо, для группы с низким приоритетом доставка также не играет роли. В наиболее многочисленной группе - со средним приоритетом, рейтинг отличается. \n",
    "Проверим статистически, насколько эта разница значима."
   ]
  },
  {
   "cell_type": "code",
   "execution_count": null,
   "id": "e158f812",
   "metadata": {},
   "outputs": [],
   "source": []
  },
  {
   "cell_type": "code",
   "execution_count": null,
   "id": "00aac1cf",
   "metadata": {},
   "outputs": [],
   "source": []
  },
  {
   "cell_type": "code",
   "execution_count": null,
   "id": "78222e15",
   "metadata": {},
   "outputs": [],
   "source": []
  },
  {
   "cell_type": "code",
   "execution_count": null,
   "id": "161a9c60",
   "metadata": {},
   "outputs": [],
   "source": []
  },
  {
   "cell_type": "markdown",
   "id": "ba7171ec",
   "metadata": {},
   "source": [
    "# Рейтинг удовлетворенности. Резюме.\n",
    "\n",
    "Существенных корреляций разных признаков с рейтингом удовлетворенности найти не удалось. Есть ряд признаков, которые дают разный рейтинг удовлетворенности, но это влияние признать статистически значимым нельзя, т.е. эти различия могут оказаться простой случайностью.\n",
    "\n",
    "В случае, если бизнес находится на стадии масштабирования, то есть смысл увеличивать выборки и проверять различия в группах, т.к. эффект от незначительной разницы может достаточно ощутимым.\n",
    "Если же компания находится на стадии становления, лучше искать более очевидные связи."
   ]
  },
  {
   "cell_type": "markdown",
   "id": "24fce0cd",
   "metadata": {},
   "source": [
    "# 4.3.2 Своевременность доставки.\n",
    "Посмотрим на влияние различных факторов на своевременность доставки."
   ]
  },
  {
   "cell_type": "code",
   "execution_count": 104,
   "id": "ebc6316f",
   "metadata": {
    "scrolled": true
   },
   "outputs": [
    {
     "data": {
      "text/html": [
       "<div>\n",
       "<style scoped>\n",
       "    .dataframe tbody tr th:only-of-type {\n",
       "        vertical-align: middle;\n",
       "    }\n",
       "\n",
       "    .dataframe tbody tr th {\n",
       "        vertical-align: top;\n",
       "    }\n",
       "\n",
       "    .dataframe thead th {\n",
       "        text-align: right;\n",
       "    }\n",
       "</style>\n",
       "<table border=\"1\" class=\"dataframe\">\n",
       "  <thead>\n",
       "    <tr style=\"text-align: right;\">\n",
       "      <th></th>\n",
       "      <th>customer_care_calls</th>\n",
       "      <th>customer_rating</th>\n",
       "      <th>prior_purchases</th>\n",
       "      <th>discount_offered</th>\n",
       "      <th>weight_in_gms</th>\n",
       "      <th>warehouse_block</th>\n",
       "      <th>mode_of_shipment</th>\n",
       "      <th>product_importance</th>\n",
       "      <th>gender</th>\n",
       "      <th>class</th>\n",
       "      <th>weight_groups</th>\n",
       "    </tr>\n",
       "  </thead>\n",
       "  <tbody>\n",
       "    <tr>\n",
       "      <th>0</th>\n",
       "      <td>5</td>\n",
       "      <td>4</td>\n",
       "      <td>2</td>\n",
       "      <td>10</td>\n",
       "      <td>5395</td>\n",
       "      <td>a</td>\n",
       "      <td>ship</td>\n",
       "      <td>medium</td>\n",
       "      <td>m</td>\n",
       "      <td>1</td>\n",
       "      <td>(4000.0, 6000.0]</td>\n",
       "    </tr>\n",
       "    <tr>\n",
       "      <th>1</th>\n",
       "      <td>4</td>\n",
       "      <td>3</td>\n",
       "      <td>2</td>\n",
       "      <td>6</td>\n",
       "      <td>5867</td>\n",
       "      <td>f</td>\n",
       "      <td>ship</td>\n",
       "      <td>medium</td>\n",
       "      <td>f</td>\n",
       "      <td>0</td>\n",
       "      <td>(4000.0, 6000.0]</td>\n",
       "    </tr>\n",
       "    <tr>\n",
       "      <th>2</th>\n",
       "      <td>3</td>\n",
       "      <td>4</td>\n",
       "      <td>2</td>\n",
       "      <td>2</td>\n",
       "      <td>5957</td>\n",
       "      <td>d</td>\n",
       "      <td>ship</td>\n",
       "      <td>medium</td>\n",
       "      <td>m</td>\n",
       "      <td>0</td>\n",
       "      <td>(4000.0, 6000.0]</td>\n",
       "    </tr>\n",
       "    <tr>\n",
       "      <th>3</th>\n",
       "      <td>3</td>\n",
       "      <td>1</td>\n",
       "      <td>2</td>\n",
       "      <td>27</td>\n",
       "      <td>2551</td>\n",
       "      <td>d</td>\n",
       "      <td>ship</td>\n",
       "      <td>medium</td>\n",
       "      <td>m</td>\n",
       "      <td>1</td>\n",
       "      <td>(2000.0, 4000.0]</td>\n",
       "    </tr>\n",
       "    <tr>\n",
       "      <th>4</th>\n",
       "      <td>7</td>\n",
       "      <td>5</td>\n",
       "      <td>4</td>\n",
       "      <td>9</td>\n",
       "      <td>1329</td>\n",
       "      <td>b</td>\n",
       "      <td>ship</td>\n",
       "      <td>medium</td>\n",
       "      <td>m</td>\n",
       "      <td>1</td>\n",
       "      <td>(0.0, 2000.0]</td>\n",
       "    </tr>\n",
       "  </tbody>\n",
       "</table>\n",
       "</div>"
      ],
      "text/plain": [
       "   customer_care_calls  customer_rating  prior_purchases  discount_offered  \\\n",
       "0                    5                4                2                10   \n",
       "1                    4                3                2                 6   \n",
       "2                    3                4                2                 2   \n",
       "3                    3                1                2                27   \n",
       "4                    7                5                4                 9   \n",
       "\n",
       "   weight_in_gms warehouse_block mode_of_shipment product_importance gender  \\\n",
       "0           5395               a             ship             medium      m   \n",
       "1           5867               f             ship             medium      f   \n",
       "2           5957               d             ship             medium      m   \n",
       "3           2551               d             ship             medium      m   \n",
       "4           1329               b             ship             medium      m   \n",
       "\n",
       "   class     weight_groups  \n",
       "0      1  (4000.0, 6000.0]  \n",
       "1      0  (4000.0, 6000.0]  \n",
       "2      0  (4000.0, 6000.0]  \n",
       "3      1  (2000.0, 4000.0]  \n",
       "4      1     (0.0, 2000.0]  "
      ]
     },
     "execution_count": 104,
     "metadata": {},
     "output_type": "execute_result"
    }
   ],
   "source": [
    "df.head()"
   ]
  },
  {
   "cell_type": "code",
   "execution_count": 105,
   "id": "8c5169d6",
   "metadata": {},
   "outputs": [],
   "source": [
    "# создадим функцию, которая группирует значения и выводит долю своевременных доставок\n",
    "\n",
    "def avg_delivery(column):\n",
    "    '''Принимает колонку column вида 'df.column', возвращает таблицу с долей своевременных доставок'''\n",
    "    return df.groupby(column, as_index=False)['class'].mean().sort_values('class', ascending=False).round(2)"
   ]
  },
  {
   "cell_type": "markdown",
   "id": "a1d444c0",
   "metadata": {},
   "source": [
    "Заказы разного веса могут загружаться и разгружаться разными способами, какие-то могут работать быстрее, какие-то медленнее, посмотрим, есть ли взаимосвязь между весом и своевременностью доставки."
   ]
  },
  {
   "cell_type": "code",
   "execution_count": 106,
   "id": "7c2ec066",
   "metadata": {},
   "outputs": [],
   "source": [
    "# посмотрим на долю своевременных доставок для разных весов заказов\n",
    "\n",
    "weight_class = avg_delivery(df.weight_groups)"
   ]
  },
  {
   "cell_type": "code",
   "execution_count": 107,
   "id": "4aecebc1",
   "metadata": {},
   "outputs": [
    {
     "data": {
      "text/html": [
       "<div>\n",
       "<style scoped>\n",
       "    .dataframe tbody tr th:only-of-type {\n",
       "        vertical-align: middle;\n",
       "    }\n",
       "\n",
       "    .dataframe tbody tr th {\n",
       "        vertical-align: top;\n",
       "    }\n",
       "\n",
       "    .dataframe thead th {\n",
       "        text-align: right;\n",
       "    }\n",
       "</style>\n",
       "<table border=\"1\" class=\"dataframe\">\n",
       "  <thead>\n",
       "    <tr style=\"text-align: right;\">\n",
       "      <th></th>\n",
       "      <th>weight_groups</th>\n",
       "      <th>class</th>\n",
       "    </tr>\n",
       "  </thead>\n",
       "  <tbody>\n",
       "    <tr>\n",
       "      <th>3</th>\n",
       "      <td>(6000.0, inf]</td>\n",
       "      <td>1.00</td>\n",
       "    </tr>\n",
       "    <tr>\n",
       "      <th>1</th>\n",
       "      <td>(2000.0, 4000.0]</td>\n",
       "      <td>1.00</td>\n",
       "    </tr>\n",
       "    <tr>\n",
       "      <th>0</th>\n",
       "      <td>(0.0, 2000.0]</td>\n",
       "      <td>0.68</td>\n",
       "    </tr>\n",
       "    <tr>\n",
       "      <th>2</th>\n",
       "      <td>(4000.0, 6000.0]</td>\n",
       "      <td>0.43</td>\n",
       "    </tr>\n",
       "  </tbody>\n",
       "</table>\n",
       "</div>"
      ],
      "text/plain": [
       "      weight_groups  class\n",
       "3     (6000.0, inf]   1.00\n",
       "1  (2000.0, 4000.0]   1.00\n",
       "0     (0.0, 2000.0]   0.68\n",
       "2  (4000.0, 6000.0]   0.43"
      ]
     },
     "execution_count": 107,
     "metadata": {},
     "output_type": "execute_result"
    }
   ],
   "source": [
    "weight_class"
   ]
  },
  {
   "cell_type": "markdown",
   "id": "28a5b2cc",
   "metadata": {},
   "source": [
    "Прямой взаимосвязи с весом мы не наблюдаем."
   ]
  },
  {
   "cell_type": "markdown",
   "id": "f34bf826",
   "metadata": {},
   "source": [
    "Посмотрим на влияние склада на своевременность доставки, тк цепочка доставки зависит от скорости отгрузки в т.ч."
   ]
  },
  {
   "cell_type": "code",
   "execution_count": 149,
   "id": "a204c4dd",
   "metadata": {},
   "outputs": [],
   "source": [
    "warehouse_class = avg_delivery(df.warehouse_block)"
   ]
  },
  {
   "cell_type": "code",
   "execution_count": 110,
   "id": "dba2a1cd",
   "metadata": {},
   "outputs": [
    {
     "data": {
      "text/html": [
       "<div>\n",
       "<style scoped>\n",
       "    .dataframe tbody tr th:only-of-type {\n",
       "        vertical-align: middle;\n",
       "    }\n",
       "\n",
       "    .dataframe tbody tr th {\n",
       "        vertical-align: top;\n",
       "    }\n",
       "\n",
       "    .dataframe thead th {\n",
       "        text-align: right;\n",
       "    }\n",
       "</style>\n",
       "<table border=\"1\" class=\"dataframe\">\n",
       "  <thead>\n",
       "    <tr style=\"text-align: right;\">\n",
       "      <th></th>\n",
       "      <th>warehouse_block</th>\n",
       "      <th>class</th>\n",
       "    </tr>\n",
       "  </thead>\n",
       "  <tbody>\n",
       "    <tr>\n",
       "      <th>1</th>\n",
       "      <td>b</td>\n",
       "      <td>0.60</td>\n",
       "    </tr>\n",
       "    <tr>\n",
       "      <th>4</th>\n",
       "      <td>f</td>\n",
       "      <td>0.60</td>\n",
       "    </tr>\n",
       "    <tr>\n",
       "      <th>3</th>\n",
       "      <td>d</td>\n",
       "      <td>0.60</td>\n",
       "    </tr>\n",
       "    <tr>\n",
       "      <th>2</th>\n",
       "      <td>c</td>\n",
       "      <td>0.60</td>\n",
       "    </tr>\n",
       "    <tr>\n",
       "      <th>0</th>\n",
       "      <td>a</td>\n",
       "      <td>0.59</td>\n",
       "    </tr>\n",
       "  </tbody>\n",
       "</table>\n",
       "</div>"
      ],
      "text/plain": [
       "  warehouse_block  class\n",
       "1               b   0.60\n",
       "4               f   0.60\n",
       "3               d   0.60\n",
       "2               c   0.60\n",
       "0               a   0.59"
      ]
     },
     "execution_count": 110,
     "metadata": {},
     "output_type": "execute_result"
    }
   ],
   "source": [
    "warehouse_class"
   ]
  },
  {
   "cell_type": "markdown",
   "id": "501f71de",
   "metadata": {},
   "source": [
    "Разницы между складами почти нет, единственное отклонение - у склада А показатель чуть ниже, при этом, как мы помним, у него самая низкая оценка среди клиентов. Возможно, тк статистически значимых различий тут нет, стоит обратить на него несколько больше внимания."
   ]
  },
  {
   "cell_type": "markdown",
   "id": "fc94c96f",
   "metadata": {},
   "source": [
    "Различные способы доставки имеют разную скорость, предсказательную точность, результаты могут серьезно отличаться."
   ]
  },
  {
   "cell_type": "code",
   "execution_count": 111,
   "id": "f6d26459",
   "metadata": {},
   "outputs": [],
   "source": [
    "# посмотрим долю своевременных доставок для разных способов доставки\n",
    "\n",
    "shipment_class = avg_delivery(df.mode_of_shipment)"
   ]
  },
  {
   "cell_type": "code",
   "execution_count": 112,
   "id": "b144024e",
   "metadata": {},
   "outputs": [
    {
     "data": {
      "text/html": [
       "<div>\n",
       "<style scoped>\n",
       "    .dataframe tbody tr th:only-of-type {\n",
       "        vertical-align: middle;\n",
       "    }\n",
       "\n",
       "    .dataframe tbody tr th {\n",
       "        vertical-align: top;\n",
       "    }\n",
       "\n",
       "    .dataframe thead th {\n",
       "        text-align: right;\n",
       "    }\n",
       "</style>\n",
       "<table border=\"1\" class=\"dataframe\">\n",
       "  <thead>\n",
       "    <tr style=\"text-align: right;\">\n",
       "      <th></th>\n",
       "      <th>mode_of_shipment</th>\n",
       "      <th>class</th>\n",
       "    </tr>\n",
       "  </thead>\n",
       "  <tbody>\n",
       "    <tr>\n",
       "      <th>0</th>\n",
       "      <td>flight</td>\n",
       "      <td>0.60</td>\n",
       "    </tr>\n",
       "    <tr>\n",
       "      <th>2</th>\n",
       "      <td>ship</td>\n",
       "      <td>0.60</td>\n",
       "    </tr>\n",
       "    <tr>\n",
       "      <th>1</th>\n",
       "      <td>road</td>\n",
       "      <td>0.59</td>\n",
       "    </tr>\n",
       "  </tbody>\n",
       "</table>\n",
       "</div>"
      ],
      "text/plain": [
       "  mode_of_shipment  class\n",
       "0           flight   0.60\n",
       "2             ship   0.60\n",
       "1             road   0.59"
      ]
     },
     "execution_count": 112,
     "metadata": {},
     "output_type": "execute_result"
    }
   ],
   "source": [
    "shipment_class"
   ]
  },
  {
   "cell_type": "markdown",
   "id": "15300afd",
   "metadata": {},
   "source": [
    "Автодоставка имеет чуть меньшую долю своевременных доставок, но разница минимальна."
   ]
  },
  {
   "cell_type": "markdown",
   "id": "17303f6c",
   "metadata": {},
   "source": [
    "Проверим, насколько хорошо работают выставленные приоритеты по доставке."
   ]
  },
  {
   "cell_type": "code",
   "execution_count": 133,
   "id": "7b7f5f6f",
   "metadata": {},
   "outputs": [],
   "source": [
    "# посмотрим на своевременность доставки для различных приоритетов\n",
    "\n",
    "product_importance_class = avg_delivery(df.product_importance)"
   ]
  },
  {
   "cell_type": "code",
   "execution_count": 114,
   "id": "d5589f6d",
   "metadata": {},
   "outputs": [
    {
     "data": {
      "text/html": [
       "<div>\n",
       "<style scoped>\n",
       "    .dataframe tbody tr th:only-of-type {\n",
       "        vertical-align: middle;\n",
       "    }\n",
       "\n",
       "    .dataframe tbody tr th {\n",
       "        vertical-align: top;\n",
       "    }\n",
       "\n",
       "    .dataframe thead th {\n",
       "        text-align: right;\n",
       "    }\n",
       "</style>\n",
       "<table border=\"1\" class=\"dataframe\">\n",
       "  <thead>\n",
       "    <tr style=\"text-align: right;\">\n",
       "      <th></th>\n",
       "      <th>product_importance</th>\n",
       "      <th>class</th>\n",
       "    </tr>\n",
       "  </thead>\n",
       "  <tbody>\n",
       "    <tr>\n",
       "      <th>0</th>\n",
       "      <td>high</td>\n",
       "      <td>0.65</td>\n",
       "    </tr>\n",
       "    <tr>\n",
       "      <th>1</th>\n",
       "      <td>low</td>\n",
       "      <td>0.59</td>\n",
       "    </tr>\n",
       "    <tr>\n",
       "      <th>2</th>\n",
       "      <td>medium</td>\n",
       "      <td>0.59</td>\n",
       "    </tr>\n",
       "  </tbody>\n",
       "</table>\n",
       "</div>"
      ],
      "text/plain": [
       "  product_importance  class\n",
       "0               high   0.65\n",
       "1                low   0.59\n",
       "2             medium   0.59"
      ]
     },
     "execution_count": 114,
     "metadata": {},
     "output_type": "execute_result"
    }
   ],
   "source": [
    "product_importance_class"
   ]
  },
  {
   "cell_type": "markdown",
   "id": "7eb129e8",
   "metadata": {},
   "source": [
    "У высокого приоритета процент своевременных доставок выше, а у низкого и среднего не отличается.\n",
    "\n",
    "Проверим разницу между группами с помощью Хи-Квадрат анализа таблиц сопряженности, где Н0 - наблюдаемое распределение не отличется от ожидаемого и Н1 - отличается. Далее проанализируем остатки, чтобы понять, какие группы в какую сторону отклоняются."
   ]
  },
  {
   "cell_type": "code",
   "execution_count": 117,
   "id": "ecf3a767",
   "metadata": {},
   "outputs": [],
   "source": [
    "# Подготовим таблицу сопряженности для теста\n",
    "\n",
    "pi_vs_class = pd.crosstab(df.product_importance, df['class'])"
   ]
  },
  {
   "cell_type": "code",
   "execution_count": 132,
   "id": "a0724bcb",
   "metadata": {},
   "outputs": [
    {
     "data": {
      "text/plain": [
       "0.0022512391939208177"
      ]
     },
     "execution_count": 132,
     "metadata": {},
     "output_type": "execute_result"
    }
   ],
   "source": [
    "# Проведем тест\n",
    "\n",
    "ss.chi2_contingency(pi_vs_class)[1]"
   ]
  },
  {
   "cell_type": "markdown",
   "id": "f554e130",
   "metadata": {},
   "source": [
    "При p-value < 0.05 мы отвергаем нулевую гипотезу и принимаем альтернативную - распределение статистически значимо отличается от ожидаемого."
   ]
  },
  {
   "cell_type": "code",
   "execution_count": 137,
   "id": "ae52c295",
   "metadata": {},
   "outputs": [],
   "source": [
    "# Построим датафрейм с остатками\n",
    "\n",
    "class_residuals = np.array(pi_vs_class) - ss.chi2_contingency(pi_vs_class)[3]"
   ]
  },
  {
   "cell_type": "code",
   "execution_count": 138,
   "id": "5fa75326",
   "metadata": {},
   "outputs": [],
   "source": [
    "class_residuals_df = pd.DataFrame(class_residuals, \n",
    "                                  index=product_importance_class.product_importance)"
   ]
  },
  {
   "cell_type": "code",
   "execution_count": 147,
   "id": "79f34cf9",
   "metadata": {},
   "outputs": [
    {
     "data": {
      "text/plain": [
       "[Text(0.5, 23.52222222222222, 'Доставка вовремя'),\n",
       " Text(50.722222222222214, 0.5, 'Приоритет по доставке')]"
      ]
     },
     "execution_count": 147,
     "metadata": {},
     "output_type": "execute_result"
    },
    {
     "data": {
      "image/png": "[encoded data removed]",
      "text/plain": [
       "<Figure size 640x480 with 2 Axes>"
      ]
     },
     "metadata": {},
     "output_type": "display_data"
    }
   ],
   "source": [
    "# Визуализируем\n",
    "\n",
    "pi_hm = sns.heatmap(class_residuals_df, annot=True, cmap=\"crest\")\n",
    "pi_hm.set(xlabel='Доставка вовремя',\n",
    "          ylabel='Приоритет по доставке')"
   ]
  },
  {
   "cell_type": "code",
   "execution_count": 173,
   "id": "17c9fe8b",
   "metadata": {},
   "outputs": [
    {
     "ename": "SyntaxError",
     "evalue": "invalid syntax (1750397284.py, line 12)",
     "output_type": "error",
     "traceback": [
      "\u001b[1;36m  File \u001b[1;32m\"C:\\Users\\user\\AppData\\Local\\Temp\\ipykernel_6328\\1750397284.py\"\u001b[1;36m, line \u001b[1;32m12\u001b[0m\n\u001b[1;33m    high = np.random.binomial(1, , )\u001b[0m\n\u001b[1;37m                                 ^\u001b[0m\n\u001b[1;31mSyntaxError\u001b[0m\u001b[1;31m:\u001b[0m invalid syntax\n"
     ]
    }
   ],
   "source": [
    "# Мощность теста\n",
    "\n",
    "n = 1000\n",
    "\n",
    "# Скопируем, чтобы сделать более короткое название,\n",
    "# чтобы код был более компактным\n",
    "pi = product_importance_class.copy()\n",
    "\n",
    "# Считаем для генераторов вероятности\n",
    "high_p = pi[pi.product_importance == 'high']['class']\n",
    "med_p = pi[pi.product_importance == 'medium']['class']\n",
    "low_p = pi[pi.product_importance == 'low']['class']\n",
    "\n",
    "# и размеры выборок\n",
    "high_size = len(df[df.product_importance == 'high'])\n",
    "med_size = len(df[df.product_importance == 'medium'])\n",
    "low_size = len(df[df.product_importance == 'low'])\n",
    "\n",
    "results = []\n",
    "\n",
    "for _ in range(n):\n",
    "    # Генерируем выборки\n",
    "    high = np.random.binomial(1, high_p, high_size)\n",
    "    medium = np.random.binomial(1, med_p, med_size)\n",
    "    low = np.random.binomial(1, low_p, low_size)\n",
    "    \n",
    "    # Создаем таблицу сопряженности\n",
    "    df1 = pd.DataFrame()\n",
    "    \n",
    "    # Проводим тест\n",
    "    \n",
    "    # Сохраняем результат\n",
    "    \n",
    "# Считаем мощность\n",
    "    "
   ]
  },
  {
   "cell_type": "markdown",
   "id": "9efd2f93",
   "metadata": {},
   "source": [
    "Как мы видим, наибольшие отклонения наблюдаются в группе с высоким приоритетом, что нормально, а вот разница между medium и low демонстрирует нам то, что заказы с низким приоритетом показывают даже немного лучший перфоманс, чем со средним. "
   ]
  },
  {
   "cell_type": "markdown",
   "id": "c5d7f1c7",
   "metadata": {},
   "source": [
    "# Своевременность доставки. Резюме.\n",
    "1. Приоритеты по заказам работают не лучшим образом: заказы с низким приоритетом доставляются вовремя чаще, чем заказы со средним приоритетом. С учетом того, что 90% заказов приходится на эти 2 группы - это существенный недостаток, который нужно исправлять.\n",
    "2. Стоит обратить внимание на работу склада А, тк своевременность доставок и рейтинг удовлетворенности для заказов, отгруженных с этого склада несколько ниже. Отличия не являются статистически значимыми, поэтому можно подождать сбора бОльшего количества данных или же, при наличии ресурсов, провести ревью его работы."
   ]
  },
  {
   "cell_type": "code",
   "execution_count": 201,
   "id": "3b9f9ef3",
   "metadata": {},
   "outputs": [],
   "source": [
    "a = np.random.binomial(1, 0.65, 1000)"
   ]
  },
  {
   "cell_type": "code",
   "execution_count": 202,
   "id": "8b5938ad",
   "metadata": {},
   "outputs": [],
   "source": [
    "a1 = ['high'] * 1000"
   ]
  },
  {
   "cell_type": "code",
   "execution_count": 210,
   "id": "5f11787b",
   "metadata": {},
   "outputs": [
    {
     "data": {
      "text/html": [
       "<div>\n",
       "<style scoped>\n",
       "    .dataframe tbody tr th:only-of-type {\n",
       "        vertical-align: middle;\n",
       "    }\n",
       "\n",
       "    .dataframe tbody tr th {\n",
       "        vertical-align: top;\n",
       "    }\n",
       "\n",
       "    .dataframe thead th {\n",
       "        text-align: right;\n",
       "    }\n",
       "</style>\n",
       "<table border=\"1\" class=\"dataframe\">\n",
       "  <thead>\n",
       "    <tr style=\"text-align: right;\">\n",
       "      <th></th>\n",
       "      <th>importance</th>\n",
       "      <th>class</th>\n",
       "    </tr>\n",
       "  </thead>\n",
       "  <tbody>\n",
       "    <tr>\n",
       "      <th>0</th>\n",
       "      <td>high</td>\n",
       "      <td>0</td>\n",
       "    </tr>\n",
       "    <tr>\n",
       "      <th>1</th>\n",
       "      <td>high</td>\n",
       "      <td>1</td>\n",
       "    </tr>\n",
       "    <tr>\n",
       "      <th>2</th>\n",
       "      <td>high</td>\n",
       "      <td>1</td>\n",
       "    </tr>\n",
       "    <tr>\n",
       "      <th>3</th>\n",
       "      <td>high</td>\n",
       "      <td>0</td>\n",
       "    </tr>\n",
       "    <tr>\n",
       "      <th>4</th>\n",
       "      <td>high</td>\n",
       "      <td>0</td>\n",
       "    </tr>\n",
       "    <tr>\n",
       "      <th>...</th>\n",
       "      <td>...</td>\n",
       "      <td>...</td>\n",
       "    </tr>\n",
       "    <tr>\n",
       "      <th>995</th>\n",
       "      <td>high</td>\n",
       "      <td>0</td>\n",
       "    </tr>\n",
       "    <tr>\n",
       "      <th>996</th>\n",
       "      <td>high</td>\n",
       "      <td>0</td>\n",
       "    </tr>\n",
       "    <tr>\n",
       "      <th>997</th>\n",
       "      <td>high</td>\n",
       "      <td>1</td>\n",
       "    </tr>\n",
       "    <tr>\n",
       "      <th>998</th>\n",
       "      <td>high</td>\n",
       "      <td>0</td>\n",
       "    </tr>\n",
       "    <tr>\n",
       "      <th>999</th>\n",
       "      <td>high</td>\n",
       "      <td>1</td>\n",
       "    </tr>\n",
       "  </tbody>\n",
       "</table>\n",
       "<p>1000 rows × 2 columns</p>\n",
       "</div>"
      ],
      "text/plain": [
       "    importance  class\n",
       "0         high      0\n",
       "1         high      1\n",
       "2         high      1\n",
       "3         high      0\n",
       "4         high      0\n",
       "..         ...    ...\n",
       "995       high      0\n",
       "996       high      0\n",
       "997       high      1\n",
       "998       high      0\n",
       "999       high      1\n",
       "\n",
       "[1000 rows x 2 columns]"
      ]
     },
     "execution_count": 210,
     "metadata": {},
     "output_type": "execute_result"
    }
   ],
   "source": [
    "pd.DataFrame({'importance': a1, 'class': a})"
   ]
  },
  {
   "cell_type": "code",
   "execution_count": 190,
   "id": "6fda8596",
   "metadata": {},
   "outputs": [],
   "source": [
    "b = np.random.binomial(1, 0.59, 1000)"
   ]
  },
  {
   "cell_type": "code",
   "execution_count": 191,
   "id": "60587b9e",
   "metadata": {},
   "outputs": [
    {
     "data": {
      "text/plain": [
       "0.619"
      ]
     },
     "execution_count": 191,
     "metadata": {},
     "output_type": "execute_result"
    }
   ],
   "source": [
    "b.mean()"
   ]
  },
  {
   "cell_type": "code",
   "execution_count": 192,
   "id": "fc8317c7",
   "metadata": {
    "scrolled": true
   },
   "outputs": [
    {
     "data": {
      "text/html": [
       "<div>\n",
       "<style scoped>\n",
       "    .dataframe tbody tr th:only-of-type {\n",
       "        vertical-align: middle;\n",
       "    }\n",
       "\n",
       "    .dataframe tbody tr th {\n",
       "        vertical-align: top;\n",
       "    }\n",
       "\n",
       "    .dataframe thead th {\n",
       "        text-align: right;\n",
       "    }\n",
       "</style>\n",
       "<table border=\"1\" class=\"dataframe\">\n",
       "  <thead>\n",
       "    <tr style=\"text-align: right;\">\n",
       "      <th>col_0</th>\n",
       "      <th>0</th>\n",
       "      <th>1</th>\n",
       "    </tr>\n",
       "    <tr>\n",
       "      <th>row_0</th>\n",
       "      <th></th>\n",
       "      <th></th>\n",
       "    </tr>\n",
       "  </thead>\n",
       "  <tbody>\n",
       "    <tr>\n",
       "      <th>0</th>\n",
       "      <td>133</td>\n",
       "      <td>192</td>\n",
       "    </tr>\n",
       "    <tr>\n",
       "      <th>1</th>\n",
       "      <td>248</td>\n",
       "      <td>427</td>\n",
       "    </tr>\n",
       "  </tbody>\n",
       "</table>\n",
       "</div>"
      ],
      "text/plain": [
       "col_0    0    1\n",
       "row_0          \n",
       "0      133  192\n",
       "1      248  427"
      ]
     },
     "execution_count": 192,
     "metadata": {},
     "output_type": "execute_result"
    }
   ],
   "source": [
    "pd.crosstab(a, b)"
   ]
  },
  {
   "cell_type": "code",
   "execution_count": null,
   "id": "2b1e9a71",
   "metadata": {},
   "outputs": [],
   "source": []
  }
 ],
 "metadata": {
  "kernelspec": {
   "display_name": "Python 3 (ipykernel)",
   "language": "python",
   "name": "python3"
  },
  "language_info": {
   "codemirror_mode": {
    "name": "ipython",
    "version": 3
   },
   "file_extension": ".py",
   "mimetype": "text/x-python",
   "name": "python",
   "nbconvert_exporter": "python",
   "pygments_lexer": "ipython3",
   "version": "3.9.13"
  }
 },
 "nbformat": 4,
 "nbformat_minor": 5
}
